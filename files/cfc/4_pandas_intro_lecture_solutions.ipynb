{
  "cells": [
    {
      "cell_type": "markdown",
      "id": "4c9b8eeb",
      "metadata": {
        "id": "4c9b8eeb"
      },
      "source": [
        "\n",
        "[![Open In Colab](https://colab.research.google.com/assets/colab-badge.svg)](https://colab.research.google.com/github/zjelveh/zjelveh.github.io/blob/master/files/cfc/4_pandas_intro_lecture.ipynb)\n",
        "\n",
        "**IMPORTANT**: Save your own copy!\n",
        "1. Click File → Save a copy in Drive\n",
        "2. Rename it\n",
        "3. Work in YOUR copy, not the original\n",
        "\n",
        "\n",
        "---\n",
        "\n",
        "\n",
        "# 4. Introduction to Pandas - From Lists to DataFrames\n",
        "## CCJS 418E: Coding for Criminology\n",
        "\n",
        "Today's Goals:\n",
        "- Understand why we need DataFrames instead of lists\n",
        "- Load and explore real crime data with pandas\n",
        "- Select columns to focus on what matters\n",
        "- Calculate basic statistics on crime data\n",
        "- Get comfortable with pandas fundamentals before we do more complex analysis\n",
        "\n",
        "Note: Today we're learning the basics. Next class we'll learn filtering and more advanced operations!\n"
      ]
    },
    {
      "cell_type": "markdown",
      "id": "babd630c",
      "metadata": {
        "cell_marker": "\"\"\"",
        "id": "babd630c"
      },
      "source": [
        "## Part 1: The Problem with Lists\n",
        "\n",
        "### When Lists Become a Nightmare\n",
        "\n",
        "Let's say you're analyzing crime data for three states. You need to track the state name, property crime rate, and burglary rate for each.\n",
        "\n",
        "**Connection to Computational Thinking: ABSTRACTION - hiding complexity behind simple, organized structures**"
      ]
    },
    {
      "cell_type": "code",
      "execution_count": 1,
      "id": "9d1345e9",
      "metadata": {
        "id": "9d1345e9"
      },
      "outputs": [
        {
          "name": "stdout",
          "output_type": "stream",
          "text": [
            "Virginia property crime rate: 1687.7\n"
          ]
        }
      ],
      "source": [
        "# Managing related data in separate lists - this gets messy fast!\n",
        "states = [\"Maryland\", \"Virginia\", \"Pennsylvania\"]\n",
        "property_rates = [2023.6, 1687.7, 1744.2]  # per 100,000\n",
        "burglary_rates = [472.0, 212.7, 306.0]  # per 100,000\n",
        "\n",
        "# To find Virginia's property crime rate, we need to:\n",
        "# 1. Find Virginia's position in the states list\n",
        "virginia_index = states.index(\"Virginia\")\n",
        "# 2. Use that position to get the rate from another list\n",
        "print(f\"Virginia property crime rate: {property_rates[virginia_index]}\")"
      ]
    },
    {
      "cell_type": "markdown",
      "id": "3302350e",
      "metadata": {
        "cell_marker": "\"\"\"",
        "id": "3302350e"
      },
      "source": [
        "### What Goes Wrong?\n",
        "\n",
        "1. **Lists can get out of sync** - What if you sort one list but forget the others?\n",
        "2. **Inserting/deleting is risky** - Remove Maryland from states, but forget to remove its rates\n",
        "3. **No built-in relationship** - Python doesn't know these lists are connected\n",
        "4. **Hard to scale** - Imagine doing this for 50 states over 20 years!"
      ]
    },
    {
      "cell_type": "code",
      "execution_count": 2,
      "id": "8781b933",
      "metadata": {
        "id": "8781b933"
      },
      "outputs": [
        {
          "name": "stdout",
          "output_type": "stream",
          "text": [
            "States (sorted): ['Maryland', 'Pennsylvania', 'Virginia']\n",
            "Property rates (not sorted): [2023.6, 1687.7, 1744.2]\n",
            "\n",
            "Now Maryland appears to have rate 2023.6 - WRONG!\n"
          ]
        }
      ],
      "source": [
        "# The nightmare scenario - lists get out of sync\n",
        "states_copy = states.copy()\n",
        "property_rates_copy = property_rates.copy()\n",
        "\n",
        "# Someone sorts the states alphabetically but forgets the rates!\n",
        "states_copy.sort()\n",
        "print(\"States (sorted):\", states_copy)\n",
        "print(\"Property rates (not sorted):\", property_rates_copy)\n",
        "print(f\"\\nNow {states_copy[0]} appears to have rate {property_rates_copy[0]} - WRONG!\")"
      ]
    },
    {
      "cell_type": "markdown",
      "id": "cd4ce476",
      "metadata": {
        "cell_marker": "\"\"\"",
        "id": "cd4ce476"
      },
      "source": [
        "## Part 2: Enter Pandas DataFrames\n",
        "\n",
        "### The Solution: Keeping Related Data Together\n",
        "\n",
        "Pandas solves this problem with **DataFrames** - think of them as spreadsheets in Python where:\n",
        "- Each row stays together (no more sync issues!)\n",
        "- Columns have names (access by meaning, not position)\n",
        "- Built-in tools for sorting, filtering, and calculating\n",
        "\n",
        "**Think of it as**: Excel or Google Sheets, but programmable\n",
        "\n",
        "Instead of juggling separate lists, a DataFrame would organize our data like this:\n",
        "```\n",
        "  state         property_all  property_burglary\n",
        "0 Maryland      2023.6        472.0        \n",
        "1 Virginia      1687.7        212.7        \n",
        "2 Pennsylvania  1744.2        306.0        \n",
        "```\n",
        "\n",
        "Let's see this in action with real crime data!"
      ]
    },
    {
      "cell_type": "markdown",
      "id": "c6dd5d8b",
      "metadata": {
        "cell_marker": "\"\"\"",
        "id": "c6dd5d8b"
      },
      "source": [
        "## Part 3: Loading Real Crime Data\n",
        "\n",
        "### Reading Data from CSV Files\n",
        "\n",
        "Most real data comes in CSV (Comma-Separated Values) files. Pandas makes loading them simple."
      ]
    },
    {
      "cell_type": "code",
      "execution_count": 3,
      "id": "3c8cd490",
      "metadata": {
        "id": "3c8cd490"
      },
      "outputs": [
        {
          "name": "stdout",
          "output_type": "stream",
          "text": [
            "Data loaded successfully!\n",
            "Dataset has 20 rows\n"
          ]
        }
      ],
      "source": [
        "# First, import pandas (conventionally abbreviated as pd)\n",
        "import pandas as pd\n",
        "\n",
        "# Load actual state crime data\n",
        "df = pd.read_csv(filepath_or_buffer='https://raw.githubusercontent.com/zjelveh/zjelveh.github.io/refs/heads/master/files/cfc/state_crime.csv')\n",
        "\n",
        "# Cleaning up the column names\n",
        "df.columns = df.columns.str.replace('^Data.', '', regex=True)\n",
        "df.columns = df.columns.str.replace('\\\\.', '_', regex=True).str.lower()\n",
        "\n",
        "# Filter to specific years and states to keep dataset manageable\n",
        "df = df[df.year.isin([2015, 2016, 2017, 2018, 2019])]\n",
        "df = df[df.state.isin(['Maryland', 'Virginia', 'Delaware', 'Pennsylvania'])]\n",
        "\n",
        "# Select just the property crime columns we want to focus on\n",
        "df = df[['state', 'year', 'rates_property_all',\n",
        "       'rates_property_burglary', 'rates_property_larceny',\n",
        "       'rates_property_motor']]\n",
        "\n",
        "# Clean up column names one more time\n",
        "df.columns = df.columns.str.replace('rates_', '')\n",
        "\n",
        "# The variable name 'df' is a common convention for DataFrame\n",
        "print(\"Data loaded successfully!\")\n",
        "print(f\"Dataset has {len(df)} rows\")"
      ]
    },
    {
      "cell_type": "markdown",
      "id": "323c3b9c",
      "metadata": {
        "cell_marker": "\"\"\"",
        "id": "323c3b9c"
      },
      "source": [
        "## Part 4: First Look at Your Data\n",
        "\n",
        "### Always Start by Exploring\n",
        "\n",
        "Before any analysis, always look at what you have. Let's use three essential commands:"
      ]
    },
    {
      "cell_type": "code",
      "execution_count": 4,
      "id": "a6b23db8",
      "metadata": {
        "id": "a6b23db8"
      },
      "outputs": [
        {
          "name": "stdout",
          "output_type": "stream",
          "text": [
            "First 5 rows of our crime data:\n"
          ]
        },
        {
          "data": {
            "text/html": [
              "<div>\n",
              "<style scoped>\n",
              "    .dataframe tbody tr th:only-of-type {\n",
              "        vertical-align: middle;\n",
              "    }\n",
              "\n",
              "    .dataframe tbody tr th {\n",
              "        vertical-align: top;\n",
              "    }\n",
              "\n",
              "    .dataframe thead th {\n",
              "        text-align: right;\n",
              "    }\n",
              "</style>\n",
              "<table border=\"1\" class=\"dataframe\">\n",
              "  <thead>\n",
              "    <tr style=\"text-align: right;\">\n",
              "      <th></th>\n",
              "      <th>state</th>\n",
              "      <th>year</th>\n",
              "      <th>property_all</th>\n",
              "      <th>property_burglary</th>\n",
              "      <th>property_larceny</th>\n",
              "      <th>property_motor</th>\n",
              "    </tr>\n",
              "  </thead>\n",
              "  <tbody>\n",
              "    <tr>\n",
              "      <th>475</th>\n",
              "      <td>Delaware</td>\n",
              "      <td>2015</td>\n",
              "      <td>2691.0</td>\n",
              "      <td>504.6</td>\n",
              "      <td>2061.6</td>\n",
              "      <td>124.9</td>\n",
              "    </tr>\n",
              "    <tr>\n",
              "      <th>476</th>\n",
              "      <td>Delaware</td>\n",
              "      <td>2016</td>\n",
              "      <td>2766.0</td>\n",
              "      <td>527.6</td>\n",
              "      <td>2078.7</td>\n",
              "      <td>159.7</td>\n",
              "    </tr>\n",
              "    <tr>\n",
              "      <th>477</th>\n",
              "      <td>Delaware</td>\n",
              "      <td>2017</td>\n",
              "      <td>2440.6</td>\n",
              "      <td>412.7</td>\n",
              "      <td>1885.6</td>\n",
              "      <td>142.3</td>\n",
              "    </tr>\n",
              "    <tr>\n",
              "      <th>478</th>\n",
              "      <td>Delaware</td>\n",
              "      <td>2018</td>\n",
              "      <td>2324.4</td>\n",
              "      <td>326.5</td>\n",
              "      <td>1845.3</td>\n",
              "      <td>152.6</td>\n",
              "    </tr>\n",
              "    <tr>\n",
              "      <th>479</th>\n",
              "      <td>Delaware</td>\n",
              "      <td>2019</td>\n",
              "      <td>2252.2</td>\n",
              "      <td>304.8</td>\n",
              "      <td>1782.7</td>\n",
              "      <td>164.7</td>\n",
              "    </tr>\n",
              "  </tbody>\n",
              "</table>\n",
              "</div>"
            ],
            "text/plain": [
              "        state  year  property_all  property_burglary  property_larceny  \\\n",
              "475  Delaware  2015        2691.0              504.6            2061.6   \n",
              "476  Delaware  2016        2766.0              527.6            2078.7   \n",
              "477  Delaware  2017        2440.6              412.7            1885.6   \n",
              "478  Delaware  2018        2324.4              326.5            1845.3   \n",
              "479  Delaware  2019        2252.2              304.8            1782.7   \n",
              "\n",
              "     property_motor  \n",
              "475           124.9  \n",
              "476           159.7  \n",
              "477           142.3  \n",
              "478           152.6  \n",
              "479           164.7  "
            ]
          },
          "execution_count": 4,
          "metadata": {},
          "output_type": "execute_result"
        }
      ],
      "source": [
        "# 1. See the first few rows - like peeking at the top of a spreadsheet\n",
        "print(\"First 5 rows of our crime data:\")\n",
        "df.head(n=5)"
      ]
    },
    {
      "cell_type": "code",
      "execution_count": 5,
      "id": "86ecc503",
      "metadata": {
        "id": "86ecc503"
      },
      "outputs": [
        {
          "name": "stdout",
          "output_type": "stream",
          "text": [
            "Dataset shape: (20, 6)\n",
            "  - 20 rows (each row is one state-year)\n",
            "  - 6 columns (different pieces of information)\n"
          ]
        }
      ],
      "source": [
        "# 2. How big is our dataset?\n",
        "print(f\"Dataset shape: {df.shape}\")\n",
        "print(f\"  - {df.shape[0]} rows (each row is one state-year)\")\n",
        "print(f\"  - {df.shape[1]} columns (different pieces of information)\")\n",
        "\n",
        "# Connection to lists: df.shape is like (len(list), number_of_things_we_track)"
      ]
    },
    {
      "cell_type": "code",
      "execution_count": 6,
      "id": "db164d2f",
      "metadata": {
        "id": "db164d2f"
      },
      "outputs": [
        {
          "name": "stdout",
          "output_type": "stream",
          "text": [
            "Basic information about our dataset:\n",
            "<class 'pandas.core.frame.DataFrame'>\n",
            "Index: 20 entries, 475 to 2874\n",
            "Data columns (total 6 columns):\n",
            " #   Column             Non-Null Count  Dtype  \n",
            "---  ------             --------------  -----  \n",
            " 0   state              20 non-null     object \n",
            " 1   year               20 non-null     int64  \n",
            " 2   property_all       20 non-null     float64\n",
            " 3   property_burglary  20 non-null     float64\n",
            " 4   property_larceny   20 non-null     float64\n",
            " 5   property_motor     20 non-null     float64\n",
            "dtypes: float64(4), int64(1), object(1)\n",
            "memory usage: 1.1+ KB\n"
          ]
        }
      ],
      "source": [
        "# 3. What columns do we have and what type of data?\n",
        "print(\"Basic information about our dataset:\")\n",
        "df.info()"
      ]
    },
    {
      "cell_type": "markdown",
      "id": "7b9ef82b",
      "metadata": {
        "cell_marker": "\"\"\"",
        "id": "7b9ef82b"
      },
      "source": [
        "### 🎯 QUICK CHECK #1\n",
        "Try it yourself! Look at the **last** 5 rows instead of the first 5.\n",
        "Hint: If there's a `.head()` method, what do you think shows the bottom?"
      ]
    },
    {
      "cell_type": "code",
      "execution_count": 7,
      "id": "091a7d58",
      "metadata": {
        "id": "091a7d58",
        "lines_to_next_cell": 2
      },
      "outputs": [],
      "source": [
        "# Your code here:"
      ]
    },
    {
      "cell_type": "markdown",
      "id": "185a82e8",
      "metadata": {
        "cell_marker": "\"\"\"",
        "id": "185a82e8"
      },
      "source": [
        "<details>\n",
        "<summary>Click for solution</summary>\n",
        "\n",
        "```python\n",
        "df.tail(n=5)\n",
        "```\n",
        "</details>"
      ]
    },
    {
      "cell_type": "markdown",
      "id": "215a8b4d",
      "metadata": {
        "cell_marker": "\"\"\"",
        "id": "215a8b4d"
      },
      "source": [
        "## Part 5: Selecting Columns\n",
        "\n",
        "### Getting a Single Column\n",
        "\n",
        "Access columns using square brackets - just like accessing items in a dictionary or list!"
      ]
    },
    {
      "cell_type": "code",
      "execution_count": 8,
      "id": "99cafec1",
      "metadata": {
        "id": "99cafec1"
      },
      "outputs": [
        {
          "name": "stdout",
          "output_type": "stream",
          "text": [
            "All states in our dataset:\n",
            "475         Delaware\n",
            "476         Delaware\n",
            "477         Delaware\n",
            "478         Delaware\n",
            "479         Delaware\n",
            "1255        Maryland\n",
            "1256        Maryland\n",
            "1257        Maryland\n",
            "1258        Maryland\n",
            "1259        Maryland\n",
            "2330    Pennsylvania\n",
            "2331    Pennsylvania\n",
            "2332    Pennsylvania\n",
            "2333    Pennsylvania\n",
            "2334    Pennsylvania\n",
            "2870        Virginia\n",
            "2871        Virginia\n",
            "2872        Virginia\n",
            "2873        Virginia\n",
            "2874        Virginia\n",
            "Name: state, dtype: object\n"
          ]
        }
      ],
      "source": [
        "# Select a single column - returns a Series (like a labeled list)\n",
        "states_column = df['state']\n",
        "print(\"All states in our dataset:\")\n",
        "print(states_column)"
      ]
    },
    {
      "cell_type": "code",
      "execution_count": 9,
      "id": "2f3c162a",
      "metadata": {
        "id": "2f3c162a"
      },
      "outputs": [
        {
          "name": "stdout",
          "output_type": "stream",
          "text": [
            "Maximum property crime rate: 2766.0\n",
            "Minimum property crime rate: 1403.4\n",
            "Average property crime rate: 2010.2\n"
          ]
        }
      ],
      "source": [
        "# You can perform operations on columns just like lists!\n",
        "property_crime_rates = df['property_all']\n",
        "\n",
        "# These operations should feel familiar from working with lists:\n",
        "print(f\"Maximum property crime rate: {property_crime_rates.max():.1f}\")\n",
        "print(f\"Minimum property crime rate: {property_crime_rates.min():.1f}\")\n",
        "print(f\"Average property crime rate: {property_crime_rates.mean():.1f}\")\n",
        "\n",
        "# Connection to lists:\n",
        "#   .max() is like max(list)\n",
        "#   .min() is like min(list)\n",
        "#   .mean() is like sum(list)/len(list)"
      ]
    },
    {
      "cell_type": "markdown",
      "id": "e8e1c3a2",
      "metadata": {
        "cell_marker": "\"\"\"",
        "id": "e8e1c3a2"
      },
      "source": [
        "### 🎯 QUICK CHECK #2\n",
        "Calculate the maximum, minimum, and average for the **property_burglary** column."
      ]
    },
    {
      "cell_type": "code",
      "execution_count": 10,
      "id": "007d3f44",
      "metadata": {
        "id": "007d3f44",
        "lines_to_next_cell": 2
      },
      "outputs": [],
      "source": [
        "# Your code here:"
      ]
    },
    {
      "cell_type": "markdown",
      "id": "3d8a59ef",
      "metadata": {
        "cell_marker": "\"\"\"",
        "id": "3d8a59ef"
      },
      "source": [
        "<details>\n",
        "<summary>Click for solution</summary>\n",
        "\n",
        "```python\n",
        "burglary_rates = df['property_burglary']\n",
        "print(f\"Maximum burglary rate: {burglary_rates.max():.1f}\")\n",
        "print(f\"Minimum burglary rate: {burglary_rates.min():.1f}\")\n",
        "print(f\"Average burglary rate: {burglary_rates.mean():.1f}\")\n",
        "```\n",
        "</details>"
      ]
    },
    {
      "cell_type": "markdown",
      "id": "f2d5aa1b",
      "metadata": {
        "cell_marker": "\"\"\"",
        "id": "f2d5aa1b"
      },
      "source": [
        "### Selecting Multiple Columns\n",
        "\n",
        "Sometimes you only want to see a few columns at once:"
      ]
    },
    {
      "cell_type": "code",
      "execution_count": 11,
      "id": "0839bc6e",
      "metadata": {
        "id": "0839bc6e"
      },
      "outputs": [
        {
          "name": "stdout",
          "output_type": "stream",
          "text": [
            "Just state, year, and total property crime rate:\n"
          ]
        },
        {
          "data": {
            "text/html": [
              "<div>\n",
              "<style scoped>\n",
              "    .dataframe tbody tr th:only-of-type {\n",
              "        vertical-align: middle;\n",
              "    }\n",
              "\n",
              "    .dataframe tbody tr th {\n",
              "        vertical-align: top;\n",
              "    }\n",
              "\n",
              "    .dataframe thead th {\n",
              "        text-align: right;\n",
              "    }\n",
              "</style>\n",
              "<table border=\"1\" class=\"dataframe\">\n",
              "  <thead>\n",
              "    <tr style=\"text-align: right;\">\n",
              "      <th></th>\n",
              "      <th>state</th>\n",
              "      <th>year</th>\n",
              "      <th>property_all</th>\n",
              "    </tr>\n",
              "  </thead>\n",
              "  <tbody>\n",
              "    <tr>\n",
              "      <th>475</th>\n",
              "      <td>Delaware</td>\n",
              "      <td>2015</td>\n",
              "      <td>2691.0</td>\n",
              "    </tr>\n",
              "    <tr>\n",
              "      <th>476</th>\n",
              "      <td>Delaware</td>\n",
              "      <td>2016</td>\n",
              "      <td>2766.0</td>\n",
              "    </tr>\n",
              "    <tr>\n",
              "      <th>477</th>\n",
              "      <td>Delaware</td>\n",
              "      <td>2017</td>\n",
              "      <td>2440.6</td>\n",
              "    </tr>\n",
              "    <tr>\n",
              "      <th>478</th>\n",
              "      <td>Delaware</td>\n",
              "      <td>2018</td>\n",
              "      <td>2324.4</td>\n",
              "    </tr>\n",
              "    <tr>\n",
              "      <th>479</th>\n",
              "      <td>Delaware</td>\n",
              "      <td>2019</td>\n",
              "      <td>2252.2</td>\n",
              "    </tr>\n",
              "    <tr>\n",
              "      <th>1255</th>\n",
              "      <td>Maryland</td>\n",
              "      <td>2015</td>\n",
              "      <td>2315.0</td>\n",
              "    </tr>\n",
              "    <tr>\n",
              "      <th>1256</th>\n",
              "      <td>Maryland</td>\n",
              "      <td>2016</td>\n",
              "      <td>2284.5</td>\n",
              "    </tr>\n",
              "    <tr>\n",
              "      <th>1257</th>\n",
              "      <td>Maryland</td>\n",
              "      <td>2017</td>\n",
              "      <td>2222.3</td>\n",
              "    </tr>\n",
              "  </tbody>\n",
              "</table>\n",
              "</div>"
            ],
            "text/plain": [
              "         state  year  property_all\n",
              "475   Delaware  2015        2691.0\n",
              "476   Delaware  2016        2766.0\n",
              "477   Delaware  2017        2440.6\n",
              "478   Delaware  2018        2324.4\n",
              "479   Delaware  2019        2252.2\n",
              "1255  Maryland  2015        2315.0\n",
              "1256  Maryland  2016        2284.5\n",
              "1257  Maryland  2017        2222.3"
            ]
          },
          "execution_count": 11,
          "metadata": {},
          "output_type": "execute_result"
        }
      ],
      "source": [
        "# Select multiple columns - use a list of column names inside brackets\n",
        "subset = df[['state', 'year', 'property_all']]\n",
        "print(\"Just state, year, and total property crime rate:\")\n",
        "subset.head(n=8)"
      ]
    },
    {
      "cell_type": "code",
      "execution_count": 12,
      "id": "06693634",
      "metadata": {
        "id": "06693634"
      },
      "outputs": [
        {
          "name": "stdout",
          "output_type": "stream",
          "text": [
            "Single column (Series):\n",
            "<class 'pandas.core.series.Series'>\n",
            "\n",
            "Multiple columns (DataFrame):\n",
            "<class 'pandas.core.frame.DataFrame'>\n"
          ]
        }
      ],
      "source": [
        "# Why do we use double brackets [[  ]]?\n",
        "# The outer brackets say \"select from df\"\n",
        "# The inner brackets create a list of column names\n",
        "# So: df[ ['col1', 'col2'] ] means \"select these columns from df\"\n",
        "\n",
        "# Compare:\n",
        "print(\"Single column (Series):\")\n",
        "print(type(df['state']))  # Returns a Series\n",
        "\n",
        "print(\"\\nMultiple columns (DataFrame):\")\n",
        "print(type(df[['state', 'year']]))  # Returns a DataFrame"
      ]
    },
    {
      "cell_type": "markdown",
      "id": "cb026365",
      "metadata": {
        "cell_marker": "\"\"\"",
        "id": "cb026365"
      },
      "source": [
        "### 🎯 QUICK CHECK #3\n",
        "Create a subset showing only state, year, and property_larceny. Display the first 10 rows."
      ]
    },
    {
      "cell_type": "code",
      "execution_count": 13,
      "id": "94128a52",
      "metadata": {
        "id": "94128a52",
        "lines_to_next_cell": 2
      },
      "outputs": [],
      "source": [
        "# Your code here:"
      ]
    },
    {
      "cell_type": "markdown",
      "id": "d32e961e",
      "metadata": {
        "cell_marker": "\"\"\"",
        "id": "d32e961e"
      },
      "source": [
        "<details>\n",
        "<summary>Click for solution</summary>\n",
        "\n",
        "```python\n",
        "larceny_subset = df[['state', 'year', 'property_larceny']]\n",
        "larceny_subset.head(n=10)\n",
        "```\n",
        "</details>"
      ]
    },
    {
      "cell_type": "markdown",
      "id": "fa3999c7",
      "metadata": {
        "cell_marker": "\"\"\"",
        "id": "fa3999c7"
      },
      "source": [
        "## Part 6: Understanding Your Data with Methods\n",
        "\n",
        "### Counting Unique Values\n",
        "\n",
        "These methods help you understand what's in your data:"
      ]
    },
    {
      "cell_type": "code",
      "execution_count": 14,
      "id": "28e1647a",
      "metadata": {
        "id": "28e1647a"
      },
      "outputs": [
        {
          "name": "stdout",
          "output_type": "stream",
          "text": [
            "Number of unique states: 4\n",
            "\n",
            "The states: ['Delaware' 'Maryland' 'Pennsylvania' 'Virginia']\n"
          ]
        }
      ],
      "source": [
        "# How many unique states are in our data?\n",
        "n_states = df['state'].nunique()\n",
        "print(f\"Number of unique states: {n_states}\")\n",
        "\n",
        "# What are they?\n",
        "unique_states = df['state'].unique()\n",
        "print(f\"\\nThe states: {unique_states}\")"
      ]
    },
    {
      "cell_type": "code",
      "execution_count": 15,
      "id": "d9b7e2c1",
      "metadata": {
        "id": "d9b7e2c1"
      },
      "outputs": [
        {
          "name": "stdout",
          "output_type": "stream",
          "text": [
            "Number of records per state:\n",
            "state\n",
            "Delaware        5\n",
            "Maryland        5\n",
            "Pennsylvania    5\n",
            "Virginia        5\n",
            "Name: count, dtype: int64\n"
          ]
        }
      ],
      "source": [
        "# How many times does each state appear in our data?\n",
        "state_counts = df['state'].value_counts()\n",
        "print(\"Number of records per state:\")\n",
        "print(state_counts)\n",
        "\n",
        "# Each state appears 5 times because we have 5 years of data (2015-2019)"
      ]
    },
    {
      "cell_type": "code",
      "execution_count": 16,
      "id": "2a4f9d48",
      "metadata": {
        "id": "2a4f9d48"
      },
      "outputs": [
        {
          "name": "stdout",
          "output_type": "stream",
          "text": [
            "Years in dataset: [np.int64(2015), np.int64(2016), np.int64(2017), np.int64(2018), np.int64(2019)]\n"
          ]
        }
      ],
      "source": [
        "# What years do we have?\n",
        "years = df['year'].unique()\n",
        "print(f\"Years in dataset: {sorted(years)}\")"
      ]
    },
    {
      "cell_type": "markdown",
      "id": "c8304279",
      "metadata": {
        "cell_marker": "\"\"\"",
        "id": "c8304279"
      },
      "source": [
        "### Understanding .unique(), .nunique(), and .value_counts()\n",
        "\n",
        "**These three methods are similar but do DIFFERENT things. Let's see exactly what each returns:**"
      ]
    },
    {
      "cell_type": "code",
      "execution_count": 17,
      "id": "44cc65c1",
      "metadata": {
        "id": "44cc65c1"
      },
      "outputs": [
        {
          "name": "stdout",
          "output_type": "stream",
          "text": [
            "============================================================\n",
            "METHOD 1: .unique() - Returns an ARRAY of unique values\n",
            "============================================================\n",
            "['Delaware' 'Maryland' 'Pennsylvania' 'Virginia']\n",
            "Type: <class 'numpy.ndarray'>\n",
            "\n",
            "What you get: The actual state names (each appears once)\n",
            "Use this when: You want to SEE what the unique values are\n",
            "\n",
            "============================================================\n",
            "METHOD 2: .nunique() - Returns a SINGLE NUMBER\n",
            "============================================================\n",
            "4\n",
            "Type: <class 'int'>\n",
            "\n",
            "What you get: Just a count (how many unique states)\n",
            "Use this when: You only care about HOW MANY unique values\n",
            "\n",
            "============================================================\n",
            "METHOD 3: .value_counts() - Returns COUNTS for each value\n",
            "============================================================\n",
            "state\n",
            "Delaware        5\n",
            "Maryland        5\n",
            "Pennsylvania    5\n",
            "Virginia        5\n",
            "Name: count, dtype: int64\n",
            "Type: <class 'pandas.core.series.Series'>\n",
            "\n",
            "What you get: Each state AND how many times it appears\n",
            "Use this when: You want to see BOTH what values exist AND their frequencies\n"
          ]
        }
      ],
      "source": [
        "# Let's use the 'state' column to see the differences clearly\n",
        "\n",
        "print(\"=\" * 60)\n",
        "print(\"METHOD 1: .unique() - Returns an ARRAY of unique values\")\n",
        "print(\"=\" * 60)\n",
        "states_unique = df['state'].unique()\n",
        "print(states_unique)\n",
        "print(f\"Type: {type(states_unique)}\")\n",
        "print(f\"\\nWhat you get: The actual state names (each appears once)\")\n",
        "print(\"Use this when: You want to SEE what the unique values are\")\n",
        "\n",
        "print(\"\\n\" + \"=\" * 60)\n",
        "print(\"METHOD 2: .nunique() - Returns a SINGLE NUMBER\")\n",
        "print(\"=\" * 60)\n",
        "num_states = df['state'].nunique()\n",
        "print(num_states)\n",
        "print(f\"Type: {type(num_states)}\")\n",
        "print(f\"\\nWhat you get: Just a count (how many unique states)\")\n",
        "print(\"Use this when: You only care about HOW MANY unique values\")\n",
        "\n",
        "print(\"\\n\" + \"=\" * 60)\n",
        "print(\"METHOD 3: .value_counts() - Returns COUNTS for each value\")\n",
        "print(\"=\" * 60)\n",
        "state_counts = df['state'].value_counts()\n",
        "print(state_counts)\n",
        "print(f\"Type: {type(state_counts)}\")\n",
        "print(f\"\\nWhat you get: Each state AND how many times it appears\")\n",
        "print(\"Use this when: You want to see BOTH what values exist AND their frequencies\")"
      ]
    },
    {
      "cell_type": "markdown",
      "id": "04f56a20",
      "metadata": {
        "cell_marker": "\"\"\"",
        "id": "04f56a20"
      },
      "source": [
        "### Quick Comparison Table\n",
        "\n",
        "| Method | What it returns | Example output | When to use |\n",
        "|--------|----------------|----------------|-------------|\n",
        "| `.unique()` | Array of unique values | `['Maryland', 'Virginia', ...]` | \"What states are in my data?\" |\n",
        "| `.nunique()` | Single number (count) | `4` | \"How many different states?\" |\n",
        "| `.value_counts()` | Each value + its count | `Maryland: 5, Virginia: 5, ...` | \"How often does each state appear?\" |\n",
        "\n",
        "**Memory trick:**\n",
        "- `.unique()` = \"Show me the unique items\"\n",
        "- `.nunique()` = \"**N**umber of unique items\" (the 'n' stands for number!)\n",
        "- `.value_counts()` = \"**Count** how many times each **value** appears\""
      ]
    },
    {
      "cell_type": "markdown",
      "id": "8188fefb",
      "metadata": {
        "cell_marker": "\"\"\"",
        "id": "8188fefb"
      },
      "source": [
        "### 🎯 QUICK CHECK #4\n",
        "How many unique years are in the dataset? What's the range (min and max year)?"
      ]
    },
    {
      "cell_type": "code",
      "execution_count": 18,
      "id": "3f72271a",
      "metadata": {
        "id": "3f72271a",
        "lines_to_next_cell": 2
      },
      "outputs": [],
      "source": [
        "# Your code here:"
      ]
    },
    {
      "cell_type": "markdown",
      "id": "3358473d",
      "metadata": {
        "cell_marker": "\"\"\"",
        "id": "3358473d"
      },
      "source": [
        "<details>\n",
        "<summary>Click for solution</summary>\n",
        "\n",
        "```python\n",
        "n_years = df['year'].nunique()\n",
        "min_year = df['year'].min()\n",
        "max_year = df['year'].max()\n",
        "print(f\"Number of unique years: {n_years}\")\n",
        "print(f\"Year range: {min_year} to {max_year}\")\n",
        "```\n",
        "</details>"
      ]
    },
    {
      "cell_type": "markdown",
      "id": "98140aa5",
      "metadata": {
        "cell_marker": "\"\"\"",
        "id": "98140aa5"
      },
      "source": [
        "## Part 7: Simple Sorting\n",
        "\n",
        "### Ordering Your Data\n",
        "\n",
        "Sometimes you want to see data in a specific order:"
      ]
    },
    {
      "cell_type": "code",
      "execution_count": 19,
      "id": "97fc6869",
      "metadata": {
        "id": "97fc6869"
      },
      "outputs": [
        {
          "name": "stdout",
          "output_type": "stream",
          "text": [
            "States/years with lowest property crime rates:\n"
          ]
        },
        {
          "data": {
            "text/html": [
              "<div>\n",
              "<style scoped>\n",
              "    .dataframe tbody tr th:only-of-type {\n",
              "        vertical-align: middle;\n",
              "    }\n",
              "\n",
              "    .dataframe tbody tr th {\n",
              "        vertical-align: top;\n",
              "    }\n",
              "\n",
              "    .dataframe thead th {\n",
              "        text-align: right;\n",
              "    }\n",
              "</style>\n",
              "<table border=\"1\" class=\"dataframe\">\n",
              "  <thead>\n",
              "    <tr style=\"text-align: right;\">\n",
              "      <th></th>\n",
              "      <th>state</th>\n",
              "      <th>year</th>\n",
              "      <th>property_all</th>\n",
              "    </tr>\n",
              "  </thead>\n",
              "  <tbody>\n",
              "    <tr>\n",
              "      <th>2334</th>\n",
              "      <td>Pennsylvania</td>\n",
              "      <td>2019</td>\n",
              "      <td>1403.4</td>\n",
              "    </tr>\n",
              "    <tr>\n",
              "      <th>2333</th>\n",
              "      <td>Pennsylvania</td>\n",
              "      <td>2018</td>\n",
              "      <td>1489.9</td>\n",
              "    </tr>\n",
              "    <tr>\n",
              "      <th>2874</th>\n",
              "      <td>Virginia</td>\n",
              "      <td>2019</td>\n",
              "      <td>1642.7</td>\n",
              "    </tr>\n",
              "    <tr>\n",
              "      <th>2332</th>\n",
              "      <td>Pennsylvania</td>\n",
              "      <td>2017</td>\n",
              "      <td>1649.4</td>\n",
              "    </tr>\n",
              "    <tr>\n",
              "      <th>2873</th>\n",
              "      <td>Virginia</td>\n",
              "      <td>2018</td>\n",
              "      <td>1665.8</td>\n",
              "    </tr>\n",
              "    <tr>\n",
              "      <th>2331</th>\n",
              "      <td>Pennsylvania</td>\n",
              "      <td>2016</td>\n",
              "      <td>1742.7</td>\n",
              "    </tr>\n",
              "    <tr>\n",
              "      <th>2872</th>\n",
              "      <td>Virginia</td>\n",
              "      <td>2017</td>\n",
              "      <td>1792.9</td>\n",
              "    </tr>\n",
              "    <tr>\n",
              "      <th>2330</th>\n",
              "      <td>Pennsylvania</td>\n",
              "      <td>2015</td>\n",
              "      <td>1812.8</td>\n",
              "    </tr>\n",
              "  </tbody>\n",
              "</table>\n",
              "</div>"
            ],
            "text/plain": [
              "             state  year  property_all\n",
              "2334  Pennsylvania  2019        1403.4\n",
              "2333  Pennsylvania  2018        1489.9\n",
              "2874      Virginia  2019        1642.7\n",
              "2332  Pennsylvania  2017        1649.4\n",
              "2873      Virginia  2018        1665.8\n",
              "2331  Pennsylvania  2016        1742.7\n",
              "2872      Virginia  2017        1792.9\n",
              "2330  Pennsylvania  2015        1812.8"
            ]
          },
          "execution_count": 19,
          "metadata": {},
          "output_type": "execute_result"
        }
      ],
      "source": [
        "# Sort by property crime rate (lowest to highest)\n",
        "sorted_df = df.sort_values(by='property_all')\n",
        "print(\"States/years with lowest property crime rates:\")\n",
        "sorted_df[['state', 'year', 'property_all']].head(n=8)"
      ]
    },
    {
      "cell_type": "code",
      "execution_count": 20,
      "id": "0dd60e5e",
      "metadata": {
        "id": "0dd60e5e"
      },
      "outputs": [
        {
          "name": "stdout",
          "output_type": "stream",
          "text": [
            "States/years with highest property crime rates:\n"
          ]
        },
        {
          "data": {
            "text/html": [
              "<div>\n",
              "<style scoped>\n",
              "    .dataframe tbody tr th:only-of-type {\n",
              "        vertical-align: middle;\n",
              "    }\n",
              "\n",
              "    .dataframe tbody tr th {\n",
              "        vertical-align: top;\n",
              "    }\n",
              "\n",
              "    .dataframe thead th {\n",
              "        text-align: right;\n",
              "    }\n",
              "</style>\n",
              "<table border=\"1\" class=\"dataframe\">\n",
              "  <thead>\n",
              "    <tr style=\"text-align: right;\">\n",
              "      <th></th>\n",
              "      <th>state</th>\n",
              "      <th>year</th>\n",
              "      <th>property_all</th>\n",
              "    </tr>\n",
              "  </thead>\n",
              "  <tbody>\n",
              "    <tr>\n",
              "      <th>476</th>\n",
              "      <td>Delaware</td>\n",
              "      <td>2016</td>\n",
              "      <td>2766.0</td>\n",
              "    </tr>\n",
              "    <tr>\n",
              "      <th>475</th>\n",
              "      <td>Delaware</td>\n",
              "      <td>2015</td>\n",
              "      <td>2691.0</td>\n",
              "    </tr>\n",
              "    <tr>\n",
              "      <th>477</th>\n",
              "      <td>Delaware</td>\n",
              "      <td>2017</td>\n",
              "      <td>2440.6</td>\n",
              "    </tr>\n",
              "    <tr>\n",
              "      <th>478</th>\n",
              "      <td>Delaware</td>\n",
              "      <td>2018</td>\n",
              "      <td>2324.4</td>\n",
              "    </tr>\n",
              "    <tr>\n",
              "      <th>1255</th>\n",
              "      <td>Maryland</td>\n",
              "      <td>2015</td>\n",
              "      <td>2315.0</td>\n",
              "    </tr>\n",
              "    <tr>\n",
              "      <th>1256</th>\n",
              "      <td>Maryland</td>\n",
              "      <td>2016</td>\n",
              "      <td>2284.5</td>\n",
              "    </tr>\n",
              "    <tr>\n",
              "      <th>479</th>\n",
              "      <td>Delaware</td>\n",
              "      <td>2019</td>\n",
              "      <td>2252.2</td>\n",
              "    </tr>\n",
              "    <tr>\n",
              "      <th>1257</th>\n",
              "      <td>Maryland</td>\n",
              "      <td>2017</td>\n",
              "      <td>2222.3</td>\n",
              "    </tr>\n",
              "  </tbody>\n",
              "</table>\n",
              "</div>"
            ],
            "text/plain": [
              "         state  year  property_all\n",
              "476   Delaware  2016        2766.0\n",
              "475   Delaware  2015        2691.0\n",
              "477   Delaware  2017        2440.6\n",
              "478   Delaware  2018        2324.4\n",
              "1255  Maryland  2015        2315.0\n",
              "1256  Maryland  2016        2284.5\n",
              "479   Delaware  2019        2252.2\n",
              "1257  Maryland  2017        2222.3"
            ]
          },
          "execution_count": 20,
          "metadata": {},
          "output_type": "execute_result"
        }
      ],
      "source": [
        "# Sort by property crime rate (highest to lowest)\n",
        "sorted_df = df.sort_values(by='property_all', ascending=False)\n",
        "print(\"States/years with highest property crime rates:\")\n",
        "sorted_df[['state', 'year', 'property_all']].head(n=8)"
      ]
    },
    {
      "cell_type": "code",
      "execution_count": 21,
      "id": "66802a13",
      "metadata": {
        "id": "66802a13"
      },
      "outputs": [
        {
          "name": "stdout",
          "output_type": "stream",
          "text": [
            "Data sorted by state, then year:\n"
          ]
        },
        {
          "data": {
            "text/html": [
              "<div>\n",
              "<style scoped>\n",
              "    .dataframe tbody tr th:only-of-type {\n",
              "        vertical-align: middle;\n",
              "    }\n",
              "\n",
              "    .dataframe tbody tr th {\n",
              "        vertical-align: top;\n",
              "    }\n",
              "\n",
              "    .dataframe thead th {\n",
              "        text-align: right;\n",
              "    }\n",
              "</style>\n",
              "<table border=\"1\" class=\"dataframe\">\n",
              "  <thead>\n",
              "    <tr style=\"text-align: right;\">\n",
              "      <th></th>\n",
              "      <th>state</th>\n",
              "      <th>year</th>\n",
              "      <th>property_all</th>\n",
              "    </tr>\n",
              "  </thead>\n",
              "  <tbody>\n",
              "    <tr>\n",
              "      <th>475</th>\n",
              "      <td>Delaware</td>\n",
              "      <td>2015</td>\n",
              "      <td>2691.0</td>\n",
              "    </tr>\n",
              "    <tr>\n",
              "      <th>476</th>\n",
              "      <td>Delaware</td>\n",
              "      <td>2016</td>\n",
              "      <td>2766.0</td>\n",
              "    </tr>\n",
              "    <tr>\n",
              "      <th>477</th>\n",
              "      <td>Delaware</td>\n",
              "      <td>2017</td>\n",
              "      <td>2440.6</td>\n",
              "    </tr>\n",
              "    <tr>\n",
              "      <th>478</th>\n",
              "      <td>Delaware</td>\n",
              "      <td>2018</td>\n",
              "      <td>2324.4</td>\n",
              "    </tr>\n",
              "    <tr>\n",
              "      <th>479</th>\n",
              "      <td>Delaware</td>\n",
              "      <td>2019</td>\n",
              "      <td>2252.2</td>\n",
              "    </tr>\n",
              "    <tr>\n",
              "      <th>1255</th>\n",
              "      <td>Maryland</td>\n",
              "      <td>2015</td>\n",
              "      <td>2315.0</td>\n",
              "    </tr>\n",
              "    <tr>\n",
              "      <th>1256</th>\n",
              "      <td>Maryland</td>\n",
              "      <td>2016</td>\n",
              "      <td>2284.5</td>\n",
              "    </tr>\n",
              "    <tr>\n",
              "      <th>1257</th>\n",
              "      <td>Maryland</td>\n",
              "      <td>2017</td>\n",
              "      <td>2222.3</td>\n",
              "    </tr>\n",
              "    <tr>\n",
              "      <th>1258</th>\n",
              "      <td>Maryland</td>\n",
              "      <td>2018</td>\n",
              "      <td>2033.3</td>\n",
              "    </tr>\n",
              "    <tr>\n",
              "      <th>1259</th>\n",
              "      <td>Maryland</td>\n",
              "      <td>2019</td>\n",
              "      <td>1950.2</td>\n",
              "    </tr>\n",
              "  </tbody>\n",
              "</table>\n",
              "</div>"
            ],
            "text/plain": [
              "         state  year  property_all\n",
              "475   Delaware  2015        2691.0\n",
              "476   Delaware  2016        2766.0\n",
              "477   Delaware  2017        2440.6\n",
              "478   Delaware  2018        2324.4\n",
              "479   Delaware  2019        2252.2\n",
              "1255  Maryland  2015        2315.0\n",
              "1256  Maryland  2016        2284.5\n",
              "1257  Maryland  2017        2222.3\n",
              "1258  Maryland  2018        2033.3\n",
              "1259  Maryland  2019        1950.2"
            ]
          },
          "execution_count": 21,
          "metadata": {},
          "output_type": "execute_result"
        }
      ],
      "source": [
        "# You can sort by multiple columns\n",
        "# First by state, then by year\n",
        "sorted_df = df.sort_values(by=['state', 'year'])\n",
        "print(\"Data sorted by state, then year:\")\n",
        "sorted_df[['state', 'year', 'property_all']].head(n=10)"
      ]
    },
    {
      "cell_type": "markdown",
      "id": "2e9e29f2",
      "metadata": {
        "cell_marker": "\"\"\"",
        "id": "2e9e29f2"
      },
      "source": [
        "### 🎯 QUICK CHECK #5\n",
        "Sort the data to find which state-years had the lowest burglary rates. Show the top 5."
      ]
    },
    {
      "cell_type": "code",
      "execution_count": 24,
      "id": "cdeaf6ab",
      "metadata": {
        "id": "cdeaf6ab",
        "lines_to_next_cell": 2
      },
      "outputs": [],
      "source": [
        "# Your code here:\n"
      ]
    },
    {
      "cell_type": "markdown",
      "id": "82e919c8",
      "metadata": {
        "cell_marker": "\"\"\"",
        "id": "82e919c8"
      },
      "source": [
        "<details>\n",
        "<summary>Click for solution</summary>\n",
        "\n",
        "```python\n",
        "sorted_burglary = df.sort_values(by='property_burglary')\n",
        "print(\"Lowest burglary rates:\")\n",
        "sorted_burglary[['state', 'year', 'property_burglary']].head(n=5)\n",
        "```\n",
        "</details>"
      ]
    },
    {
      "cell_type": "markdown",
      "id": "83fd9486",
      "metadata": {
        "cell_marker": "\"\"\"",
        "id": "83fd9486"
      },
      "source": [
        "## Part 8: Putting It Together\n",
        "\n",
        "### A Complete Analysis Workflow\n",
        "\n",
        "Let's answer: \"What was the average property crime rate across all states from 2015-2019?\""
      ]
    },
    {
      "cell_type": "code",
      "execution_count": 25,
      "id": "f32314a8",
      "metadata": {
        "id": "f32314a8"
      },
      "outputs": [
        {
          "name": "stdout",
          "output_type": "stream",
          "text": [
            "Full dataset:\n",
            "         state  year  property_all\n",
            "475   Delaware  2015        2691.0\n",
            "476   Delaware  2016        2766.0\n",
            "477   Delaware  2017        2440.6\n",
            "478   Delaware  2018        2324.4\n",
            "479   Delaware  2019        2252.2\n",
            "1255  Maryland  2015        2315.0\n",
            "1256  Maryland  2016        2284.5\n",
            "1257  Maryland  2017        2222.3\n",
            "1258  Maryland  2018        2033.3\n",
            "1259  Maryland  2019        1950.2\n",
            "\n",
            "Average property crime rate (all states, all years): 2010.2\n",
            "Average burglary rate (all states, all years): 309.1\n"
          ]
        }
      ],
      "source": [
        "# This is a preview of what we can do - we'll learn more next class!\n",
        "# For now, just observe the pattern:\n",
        "\n",
        "# Step 1: Look at all the data\n",
        "print(\"Full dataset:\")\n",
        "print(df[['state', 'year', 'property_all']].head(n=10))\n",
        "\n",
        "# Step 2: Calculate the average across ALL states and years\n",
        "overall_avg = df['property_all'].mean()\n",
        "print(f\"\\nAverage property crime rate (all states, all years): {overall_avg:.1f}\")\n",
        "\n",
        "# Step 3: Let's also look at burglary specifically\n",
        "burglary_avg = df['property_burglary'].mean()\n",
        "print(f\"Average burglary rate (all states, all years): {burglary_avg:.1f}\")"
      ]
    },
    {
      "cell_type": "markdown",
      "id": "532e376b",
      "metadata": {
        "cell_marker": "\"\"\"",
        "id": "532e376b"
      },
      "source": [
        "## Hands-On Exercise: Your Turn to Explore\n",
        "\n",
        "Practice the fundamental operations we learned today:"
      ]
    },
    {
      "cell_type": "code",
      "execution_count": 26,
      "id": "efa05f30",
      "metadata": {
        "id": "efa05f30",
        "lines_to_next_cell": 2
      },
      "outputs": [
        {
          "data": {
            "text/html": [
              "<div>\n",
              "<style scoped>\n",
              "    .dataframe tbody tr th:only-of-type {\n",
              "        vertical-align: middle;\n",
              "    }\n",
              "\n",
              "    .dataframe tbody tr th {\n",
              "        vertical-align: top;\n",
              "    }\n",
              "\n",
              "    .dataframe thead th {\n",
              "        text-align: right;\n",
              "    }\n",
              "</style>\n",
              "<table border=\"1\" class=\"dataframe\">\n",
              "  <thead>\n",
              "    <tr style=\"text-align: right;\">\n",
              "      <th></th>\n",
              "      <th>state</th>\n",
              "      <th>year</th>\n",
              "      <th>property_all</th>\n",
              "      <th>property_burglary</th>\n",
              "      <th>property_larceny</th>\n",
              "      <th>property_motor</th>\n",
              "    </tr>\n",
              "  </thead>\n",
              "  <tbody>\n",
              "    <tr>\n",
              "      <th>475</th>\n",
              "      <td>Delaware</td>\n",
              "      <td>2015</td>\n",
              "      <td>2691.0</td>\n",
              "      <td>504.6</td>\n",
              "      <td>2061.6</td>\n",
              "      <td>124.9</td>\n",
              "    </tr>\n",
              "    <tr>\n",
              "      <th>476</th>\n",
              "      <td>Delaware</td>\n",
              "      <td>2016</td>\n",
              "      <td>2766.0</td>\n",
              "      <td>527.6</td>\n",
              "      <td>2078.7</td>\n",
              "      <td>159.7</td>\n",
              "    </tr>\n",
              "    <tr>\n",
              "      <th>477</th>\n",
              "      <td>Delaware</td>\n",
              "      <td>2017</td>\n",
              "      <td>2440.6</td>\n",
              "      <td>412.7</td>\n",
              "      <td>1885.6</td>\n",
              "      <td>142.3</td>\n",
              "    </tr>\n",
              "    <tr>\n",
              "      <th>478</th>\n",
              "      <td>Delaware</td>\n",
              "      <td>2018</td>\n",
              "      <td>2324.4</td>\n",
              "      <td>326.5</td>\n",
              "      <td>1845.3</td>\n",
              "      <td>152.6</td>\n",
              "    </tr>\n",
              "    <tr>\n",
              "      <th>479</th>\n",
              "      <td>Delaware</td>\n",
              "      <td>2019</td>\n",
              "      <td>2252.2</td>\n",
              "      <td>304.8</td>\n",
              "      <td>1782.7</td>\n",
              "      <td>164.7</td>\n",
              "    </tr>\n",
              "    <tr>\n",
              "      <th>1255</th>\n",
              "      <td>Maryland</td>\n",
              "      <td>2015</td>\n",
              "      <td>2315.0</td>\n",
              "      <td>427.5</td>\n",
              "      <td>1668.5</td>\n",
              "      <td>218.9</td>\n",
              "    </tr>\n",
              "    <tr>\n",
              "      <th>1256</th>\n",
              "      <td>Maryland</td>\n",
              "      <td>2016</td>\n",
              "      <td>2284.5</td>\n",
              "      <td>410.4</td>\n",
              "      <td>1677.4</td>\n",
              "      <td>196.7</td>\n",
              "    </tr>\n",
              "  </tbody>\n",
              "</table>\n",
              "</div>"
            ],
            "text/plain": [
              "         state  year  property_all  property_burglary  property_larceny  \\\n",
              "475   Delaware  2015        2691.0              504.6            2061.6   \n",
              "476   Delaware  2016        2766.0              527.6            2078.7   \n",
              "477   Delaware  2017        2440.6              412.7            1885.6   \n",
              "478   Delaware  2018        2324.4              326.5            1845.3   \n",
              "479   Delaware  2019        2252.2              304.8            1782.7   \n",
              "1255  Maryland  2015        2315.0              427.5            1668.5   \n",
              "1256  Maryland  2016        2284.5              410.4            1677.4   \n",
              "\n",
              "      property_motor  \n",
              "475            124.9  \n",
              "476            159.7  \n",
              "477            142.3  \n",
              "478            152.6  \n",
              "479            164.7  \n",
              "1255           218.9  \n",
              "1256           196.7  "
            ]
          },
          "execution_count": 26,
          "metadata": {},
          "output_type": "execute_result"
        }
      ],
      "source": [
        "# Exercise 1: Display the first 7 rows of the dataset\n",
        "# Your code here:\n",
        "df.head(n=7)\n",
        "\n"
      ]
    },
    {
      "cell_type": "code",
      "execution_count": 28,
      "id": "bf2d3a7b",
      "metadata": {
        "id": "bf2d3a7b"
      },
      "outputs": [
        {
          "name": "stdout",
          "output_type": "stream",
          "text": [
            "Number of rows: 20, Number of columns: 6\n"
          ]
        }
      ],
      "source": [
        "\n",
        "# Exercise 2: How many total rows and columns does the dataset have?\n",
        "# Your code here:\n",
        "print(f\"Number of rows: {df.shape[0]}, Number of columns: {df.shape[1]}\") "
      ]
    },
    {
      "cell_type": "code",
      "execution_count": 30,
      "id": "2ad048b5",
      "metadata": {
        "id": "2ad048b5"
      },
      "outputs": [
        {
          "data": {
            "text/plain": [
              "np.float64(224.2)"
            ]
          },
          "execution_count": 30,
          "metadata": {},
          "output_type": "execute_result"
        }
      ],
      "source": [
        "\n",
        "\n",
        "# Exercise 3: What's the maximum motor vehicle theft rate in the dataset?\n",
        "# Your code here:\n",
        "df.property_motor.max()\n"
      ]
    },
    {
      "cell_type": "code",
      "execution_count": 31,
      "id": "f0a2bc2e",
      "metadata": {
        "id": "f0a2bc2e"
      },
      "outputs": [
        {
          "data": {
            "text/html": [
              "<div>\n",
              "<style scoped>\n",
              "    .dataframe tbody tr th:only-of-type {\n",
              "        vertical-align: middle;\n",
              "    }\n",
              "\n",
              "    .dataframe tbody tr th {\n",
              "        vertical-align: top;\n",
              "    }\n",
              "\n",
              "    .dataframe thead th {\n",
              "        text-align: right;\n",
              "    }\n",
              "</style>\n",
              "<table border=\"1\" class=\"dataframe\">\n",
              "  <thead>\n",
              "    <tr style=\"text-align: right;\">\n",
              "      <th></th>\n",
              "      <th>state</th>\n",
              "      <th>year</th>\n",
              "      <th>property_larceny</th>\n",
              "    </tr>\n",
              "  </thead>\n",
              "  <tbody>\n",
              "    <tr>\n",
              "      <th>476</th>\n",
              "      <td>Delaware</td>\n",
              "      <td>2016</td>\n",
              "      <td>2078.7</td>\n",
              "    </tr>\n",
              "    <tr>\n",
              "      <th>475</th>\n",
              "      <td>Delaware</td>\n",
              "      <td>2015</td>\n",
              "      <td>2061.6</td>\n",
              "    </tr>\n",
              "    <tr>\n",
              "      <th>477</th>\n",
              "      <td>Delaware</td>\n",
              "      <td>2017</td>\n",
              "      <td>1885.6</td>\n",
              "    </tr>\n",
              "    <tr>\n",
              "      <th>478</th>\n",
              "      <td>Delaware</td>\n",
              "      <td>2018</td>\n",
              "      <td>1845.3</td>\n",
              "    </tr>\n",
              "    <tr>\n",
              "      <th>479</th>\n",
              "      <td>Delaware</td>\n",
              "      <td>2019</td>\n",
              "      <td>1782.7</td>\n",
              "    </tr>\n",
              "  </tbody>\n",
              "</table>\n",
              "</div>"
            ],
            "text/plain": [
              "        state  year  property_larceny\n",
              "476  Delaware  2016            2078.7\n",
              "475  Delaware  2015            2061.6\n",
              "477  Delaware  2017            1885.6\n",
              "478  Delaware  2018            1845.3\n",
              "479  Delaware  2019            1782.7"
            ]
          },
          "execution_count": 31,
          "metadata": {},
          "output_type": "execute_result"
        }
      ],
      "source": [
        "\n",
        "\n",
        "# Exercise 4: Show the states sorted by larceny rate (highest first)\n",
        "# Display just state, year, and property_larceny columns for the top 5\n",
        "# Your code here:\n",
        "df[['state', 'year', 'property_larceny']].sort_values(['property_larceny'], ascending=False).head(5)\n",
        "\n"
      ]
    },
    {
      "cell_type": "code",
      "execution_count": 32,
      "id": "a98e9b2e",
      "metadata": {
        "id": "a98e9b2e"
      },
      "outputs": [
        {
          "data": {
            "text/plain": [
              "state\n",
              "Delaware        5\n",
              "Maryland        5\n",
              "Pennsylvania    5\n",
              "Virginia        5\n",
              "Name: count, dtype: int64"
            ]
          },
          "execution_count": 32,
          "metadata": {},
          "output_type": "execute_result"
        }
      ],
      "source": [
        "\n",
        "# Exercise 5: How many times does Delaware appear in the dataset?\n",
        "# Your code here:\n",
        "df['state'].value_counts()\n"
      ]
    },
    {
      "cell_type": "code",
      "execution_count": 33,
      "id": "3e2acf2d",
      "metadata": {
        "id": "3e2acf2d"
      },
      "outputs": [
        {
          "data": {
            "text/plain": [
              "np.float64(364.8)"
            ]
          },
          "execution_count": 33,
          "metadata": {},
          "output_type": "execute_result"
        }
      ],
      "source": [
        "\n",
        "# Exercise 6: What is the range (difference between max and min) of burglary rates?\n",
        "# Your code here:\n",
        "df['property_burglary'].max() - df['property_burglary'].min()\n"
      ]
    },
    {
      "cell_type": "code",
      "execution_count": 34,
      "id": "6ba13c92",
      "metadata": {
        "id": "6ba13c92"
      },
      "outputs": [
        {
          "name": "stdout",
          "output_type": "stream",
          "text": [
            "Burglary > mvt: 309.1 > 142.4\n"
          ]
        }
      ],
      "source": [
        "\n",
        "# Exercise 7: Which crime type has a higher average rate: burglary or motor vehicle theft?\n",
        "# Your code here:\n",
        "burg_rate = df['property_burglary'].mean()\n",
        "mvt_rate = df['property_motor'].mean()\n",
        "\n",
        "if burg_rate > mvt_rate:\n",
        "    print(f\"Burglary > mvt: {burg_rate:.1f} > {mvt_rate:.1f}\")\n",
        "elif burg_rate < mvt_rate:\n",
        "    print(f\"Burglary < mvt: {burg_rate:.1f} < {mvt_rate:.1f}\")\n",
        "else:\n",
        "    print(\"They have the same rate\")"
      ]
    },
    {
      "cell_type": "code",
      "execution_count": 37,
      "id": "e5e3c0e8",
      "metadata": {
        "id": "e5e3c0e8"
      },
      "outputs": [
        {
          "data": {
            "text/html": [
              "<div>\n",
              "<style scoped>\n",
              "    .dataframe tbody tr th:only-of-type {\n",
              "        vertical-align: middle;\n",
              "    }\n",
              "\n",
              "    .dataframe tbody tr th {\n",
              "        vertical-align: top;\n",
              "    }\n",
              "\n",
              "    .dataframe thead th {\n",
              "        text-align: right;\n",
              "    }\n",
              "</style>\n",
              "<table border=\"1\" class=\"dataframe\">\n",
              "  <thead>\n",
              "    <tr style=\"text-align: right;\">\n",
              "      <th></th>\n",
              "      <th>year</th>\n",
              "      <th>property_all</th>\n",
              "      <th>property_burglary</th>\n",
              "      <th>property_larceny</th>\n",
              "      <th>property_motor</th>\n",
              "    </tr>\n",
              "  </thead>\n",
              "  <tbody>\n",
              "    <tr>\n",
              "      <th>475</th>\n",
              "      <td>2015</td>\n",
              "      <td>2691.0</td>\n",
              "      <td>504.6</td>\n",
              "      <td>2061.6</td>\n",
              "      <td>124.9</td>\n",
              "    </tr>\n",
              "    <tr>\n",
              "      <th>1255</th>\n",
              "      <td>2015</td>\n",
              "      <td>2315.0</td>\n",
              "      <td>427.5</td>\n",
              "      <td>1668.5</td>\n",
              "      <td>218.9</td>\n",
              "    </tr>\n",
              "    <tr>\n",
              "      <th>2870</th>\n",
              "      <td>2015</td>\n",
              "      <td>1866.5</td>\n",
              "      <td>254.6</td>\n",
              "      <td>1515.2</td>\n",
              "      <td>96.8</td>\n",
              "    </tr>\n",
              "    <tr>\n",
              "      <th>2330</th>\n",
              "      <td>2015</td>\n",
              "      <td>1812.8</td>\n",
              "      <td>309.8</td>\n",
              "      <td>1408.2</td>\n",
              "      <td>94.8</td>\n",
              "    </tr>\n",
              "    <tr>\n",
              "      <th>1256</th>\n",
              "      <td>2016</td>\n",
              "      <td>2284.5</td>\n",
              "      <td>410.4</td>\n",
              "      <td>1677.4</td>\n",
              "      <td>196.7</td>\n",
              "    </tr>\n",
              "    <tr>\n",
              "      <th>2331</th>\n",
              "      <td>2016</td>\n",
              "      <td>1742.7</td>\n",
              "      <td>277.8</td>\n",
              "      <td>1362.8</td>\n",
              "      <td>102.1</td>\n",
              "    </tr>\n",
              "    <tr>\n",
              "      <th>476</th>\n",
              "      <td>2016</td>\n",
              "      <td>2766.0</td>\n",
              "      <td>527.6</td>\n",
              "      <td>2078.7</td>\n",
              "      <td>159.7</td>\n",
              "    </tr>\n",
              "    <tr>\n",
              "      <th>2871</th>\n",
              "      <td>2016</td>\n",
              "      <td>1859.4</td>\n",
              "      <td>238.0</td>\n",
              "      <td>1505.1</td>\n",
              "      <td>116.4</td>\n",
              "    </tr>\n",
              "  </tbody>\n",
              "</table>\n",
              "</div>"
            ],
            "text/plain": [
              "      year  property_all  property_burglary  property_larceny  property_motor\n",
              "475   2015        2691.0              504.6            2061.6           124.9\n",
              "1255  2015        2315.0              427.5            1668.5           218.9\n",
              "2870  2015        1866.5              254.6            1515.2            96.8\n",
              "2330  2015        1812.8              309.8            1408.2            94.8\n",
              "1256  2016        2284.5              410.4            1677.4           196.7\n",
              "2331  2016        1742.7              277.8            1362.8           102.1\n",
              "476   2016        2766.0              527.6            2078.7           159.7\n",
              "2871  2016        1859.4              238.0            1505.1           116.4"
            ]
          },
          "execution_count": 37,
          "metadata": {},
          "output_type": "execute_result"
        }
      ],
      "source": [
        "\n",
        "# Exercise 8: Create a subset with ONLY the year and all four crime rate columns\n",
        "# Then display the first 8 rows sorted by year\n",
        "# Your code here:\n",
        "df_new = df[['year', 'property_all', 'property_burglary',\n",
        "       'property_larceny', 'property_motor']]\n",
        "\n",
        "df_new.sort_values(by='year').head(n=8)"
      ]
    },
    {
      "cell_type": "markdown",
      "id": "cef09492",
      "metadata": {
        "cell_marker": "\"\"\"",
        "id": "cef09492"
      },
      "source": [
        "## Using AI Tools for Pandas Help\n",
        "\n",
        "### Effective Prompts for Pandas Problems:\n",
        "\n",
        "Example prompt:\n",
        "```\n",
        "I'm a criminology student learning pandas. I have a DataFrame called 'df' with columns:\n",
        "- state (string)\n",
        "- year (integer)  \n",
        "- property_all (float) - total property crime rate\n",
        "- property_burglary (float) - burglary rate\n",
        "- property_larceny (float) - larceny rate\n",
        "- property_motor (float) - motor vehicle theft rate\n",
        "\n",
        "How do I find the maximum property crime rate in my data?\n",
        "```\n",
        "\n",
        "### Good Questions to Ask AI:\n",
        "- \"How do I see the first 10 rows of my DataFrame?\"\n",
        "- \"What's the difference between .head() and .tail()?\"\n",
        "- \"How do I calculate the average of a column?\"\n",
        "- \"How do I sort my data by a specific column?\""
      ]
    },
    {
      "cell_type": "markdown",
      "id": "893d1d25",
      "metadata": {
        "cell_marker": "\"\"\"",
        "id": "893d1d25"
      },
      "source": [
        "## Wrap-Up: Key Takeaways\n",
        "\n",
        "Today you learned the **fundamental pandas operations** you'll use constantly:\n",
        "\n",
        "1. **DataFrames** keep related data together (like a spreadsheet)\n",
        "2. **pd.read_csv()** loads data from files\n",
        "3. **df.head()** and **df.tail()** preview your data\n",
        "4. **df.shape** tells you the size (rows, columns)\n",
        "5. **df.info()** shows column types and basic information\n",
        "6. **df['column']** selects a single column\n",
        "7. **df[['col1', 'col2']]** selects multiple columns\n",
        "8. **df['column'].mean()**, **.max()**, **.min()** calculate statistics\n",
        "9. **df.sort_values()** orders your data\n",
        "\n",
        "### The Pandas-to-Lists Connection:\n",
        "- `df['column']` is like accessing a named list\n",
        "- `df['column'].mean()` is like `sum(list)/len(list)`\n",
        "- `df.shape[0]` is like `len(list)`\n",
        "- `.max()` is like `max(list)`, `.min()` is like `min(list)`\n",
        "\n",
        "## Before Next Class\n",
        "\n",
        "1. **Practice the basics:**\n",
        "   - Load the CSV file\n",
        "   - Try `.head()`, `.tail()`, `.shape`, `.info()`\n",
        "   - Select different columns\n",
        "   - Calculate `.mean()`, `.max()`, `.min()` on different columns\n",
        "   - Sort by different columns\n",
        "\n",
        "2. **Experiment:**\n",
        "   - What happens if you try `df.head(n=100)` on our 20-row dataset?\n",
        "   - What happens if you ask for a column that doesn't exist?\n",
        "   - Can you display the entire dataset without using `.head()` or `.tail()`?\n",
        "\n",
        "3. **Use AI to learn:**\n",
        "   - Pick any operation from today and ask ChatGPT/Claude to explain it\n",
        "   - If you get confused, paste your code and ask what's wrong\n",
        "\n",
        "## Quick Reference Card\n",
        "\n",
        "### Essential Operations Learned Today:\n",
        "```python\n",
        "# Loading data\n",
        "df = pd.read_csv(filepath_or_buffer='file.csv')\n",
        "\n",
        "# Exploring data\n",
        "df.head(n=5)           # First 5 rows\n",
        "df.tail(n=5)           # Last 5 rows\n",
        "df.shape               # (rows, columns)\n",
        "df.info()              # Column information\n",
        "df.describe()          # Statistical summary\n",
        "\n",
        "# Selecting columns\n",
        "df['column']                    # Single column\n",
        "df[['col1', 'col2']]           # Multiple columns\n",
        "\n",
        "# Statistics on columns\n",
        "df['column'].max()              # Maximum value\n",
        "df['column'].min()              # Minimum value\n",
        "df['column'].mean()             # Average\n",
        "df['column'].sum()              # Total\n",
        "df['column'].nunique()          # Count unique values\n",
        "df['column'].unique()           # Array of unique values\n",
        "df['column'].value_counts()     # Frequency of each value\n",
        "\n",
        "# Sorting\n",
        "df.sort_values(by='column')                    # Ascending\n",
        "df.sort_values(by='column', ascending=False)   # Descending\n",
        "df.sort_values(by=['col1', 'col2'])           # Multiple columns\n",
        "```\n",
        "\n",
        "### Common Errors to Watch For:\n",
        "- **KeyError**: Column name doesn't exist - check spelling and capitalization\n",
        "- **Forgetting quotes**: Column names need quotes: `df['state']` not `df[state]`\n",
        "- **Single vs double brackets**: `df['col']` vs `df[['col']]` - one returns Series, two returns DataFrame"
      ]
    }
  ],
  "metadata": {
    "colab": {
      "provenance": []
    },
    "jupytext": {
      "cell_metadata_filter": "-all",
      "main_language": "python",
      "notebook_metadata_filter": "-all"
    },
    "kernelspec": {
      "display_name": "base",
      "language": "python",
      "name": "python3"
    },
    "language_info": {
      "codemirror_mode": {
        "name": "ipython",
        "version": 3
      },
      "file_extension": ".py",
      "mimetype": "text/x-python",
      "name": "python",
      "nbconvert_exporter": "python",
      "pygments_lexer": "ipython3",
      "version": "3.13.2"
    }
  },
  "nbformat": 4,
  "nbformat_minor": 5
}
