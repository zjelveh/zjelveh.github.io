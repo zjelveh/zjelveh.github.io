{
  "cells": [
    {
      "cell_type": "markdown",
      "id": "17e140a6",
      "metadata": {
        "id": "17e140a6"
      },
      "source": [
        "\n",
        "[![Open In Colab](https://colab.research.google.com/assets/colab-badge.svg)](https://colab.research.google.com/github/zjelveh/zjelveh.github.io/blob/master/files/cfc/5_pandas_filtering_lecture.ipynb)\n",
        "\n",
        "**IMPORTANT**: Save your own copy!\n",
        "1. Click File → Save a copy in Drive\n",
        "2. Rename it\n",
        "3. Work in YOUR copy, not the original\n",
        "\n",
        "\n",
        "---\n",
        "\n",
        "\n",
        "# 5. Filtering and Analyzing Data with Pandas\n",
        "## CCJS 418E: Coding for Criminology\n",
        "\n",
        "Today's Goals:\n",
        "- Filter DataFrames to find specific rows (like using if statements on entire datasets)\n",
        "- Combine multiple conditions to answer complex questions\n",
        "- Create new columns from existing data\n",
        "- Answer real criminological questions with pandas\n",
        "\n",
        "Last class: We learned to load, explore, select columns, and sort data\n",
        "Today: We learn to ask specific questions and get specific answers\n"
      ]
    },
    {
      "cell_type": "markdown",
      "id": "443c6893",
      "metadata": {
        "cell_marker": "\"\"\"",
        "id": "443c6893"
      },
      "source": [
        "## Quick Review: What We Know So Far\n",
        "\n",
        "Let's reload our data and remind ourselves of the basics:"
      ]
    },
    {
      "cell_type": "code",
      "execution_count": null,
      "id": "67bd7dcc",
      "metadata": {
        "id": "67bd7dcc"
      },
      "outputs": [],
      "source": [
        "# First, import pandas (conventionally abbreviated as pd)\n",
        "import pandas as pd\n",
        "\n",
        "# Load actual state crime data\n",
        "df = pd.read_csv(filepath_or_buffer='https://raw.githubusercontent.com/zjelveh/zjelveh.github.io/refs/heads/master/files/cfc/state_crime.csv')\n",
        "\n",
        "# Cleaning up the column names\n",
        "df.columns = df.columns.str.replace('^Data.', '', regex=True)\n",
        "df.columns = df.columns.str.replace('\\\\.', '_', regex=True).str.lower()\n",
        "\n",
        "# Filter to specific years and states to keep dataset manageable\n",
        "df = df[df.year.isin([2015, 2016, 2017, 2018, 2019])]\n",
        "df = df[df.state.isin(['Maryland', 'Virginia', 'Delaware', 'Pennsylvania'])]\n",
        "\n",
        "# Select just the property crime columns\n",
        "df = df[['state', 'year', 'rates_property_all',\n",
        "       'rates_property_burglary', 'rates_property_larceny',\n",
        "       'rates_property_motor']]\n",
        "\n",
        "# Clean up column names one more time\n",
        "df.columns = df.columns.str.replace('rates_', '')\n",
        "\n",
        "# The variable name 'df' is a common convention for DataFrame\n",
        "print(\"Data loaded successfully!\")\n",
        "print(f\"Dataset: {df.shape[0]} rows, {df.shape[1]} columns\")"
      ]
    },
    {
      "cell_type": "code",
      "execution_count": null,
      "id": "1878c01a",
      "metadata": {
        "id": "1878c01a"
      },
      "outputs": [],
      "source": [
        "# Quick look at what we have\n",
        "df.head(n=5)"
      ]
    },
    {
      "cell_type": "code",
      "execution_count": null,
      "id": "91ac5740",
      "metadata": {
        "id": "91ac5740"
      },
      "outputs": [],
      "source": [
        "# Last class we learned to:\n",
        "# 1. Select columns\n",
        "print(\"Average property crime rate:\", df['property_all'].mean())\n",
        "\n",
        "# 2. Sort data\n",
        "print(\"\\nHighest property crime rates:\")\n",
        "df.sort_values(by='property_all', ascending=False)"
      ]
    },
    {
      "cell_type": "markdown",
      "id": "e6f60276",
      "metadata": {
        "cell_marker": "\"\"\"",
        "id": "e6f60276"
      },
      "source": [
        "**But what if we want to answer questions like:**\n",
        "- \"Show me ONLY Maryland's data\"\n",
        "- \"Which state-years had property crime rates above 2500?\"\n",
        "- \"What was Virginia's crime trend from 2015-2019?\"\n",
        "\n",
        "That's what filtering lets us do!"
      ]
    },
    {
      "cell_type": "markdown",
      "id": "77971d18",
      "metadata": {
        "cell_marker": "\"\"\"",
        "id": "77971d18"
      },
      "source": [
        "## Part 1: Boolean Indexing - Finding Specific Rows\n",
        "\n",
        "### The Concept: True/False for Every Row\n",
        "\n",
        "**Connection to Computational Thinking: This is ALGORITHMIC THINKING - creating decision rules**\n",
        "\n",
        "Think of filtering like using an if statement on every single row at once."
      ]
    },
    {
      "cell_type": "code",
      "execution_count": null,
      "id": "a44d76e6",
      "metadata": {
        "id": "a44d76e6"
      },
      "outputs": [],
      "source": [
        "# Let's start simple: find all rows where the state is Maryland\n",
        "# Step 1: Create a True/False test for each row\n",
        "is_maryland = df['state'] == 'Maryland'\n",
        "\n",
        "print(\"True/False for each row:\")\n",
        "print(is_maryland)\n",
        "\n",
        "# Count how many are True\n",
        "print(f\"\\nNumber of Maryland rows: {is_maryland.sum()}\")  # True=1, False=0"
      ]
    },
    {
      "cell_type": "code",
      "execution_count": null,
      "id": "e0d9038f",
      "metadata": {
        "id": "e0d9038f"
      },
      "outputs": [],
      "source": [
        "# Step 2: Use those True/False values to filter the DataFrame\n",
        "maryland_data = df[is_maryland]\n",
        "\n",
        "print(\"Just Maryland's data:\")\n",
        "maryland_data"
      ]
    },
    {
      "cell_type": "markdown",
      "id": "ab9bf008",
      "metadata": {
        "cell_marker": "\"\"\"",
        "id": "ab9bf008"
      },
      "source": [
        "### The Shortcut: Combine the Steps\n",
        "\n",
        "Usually we don't create the True/False column separately - we do it in one line:"
      ]
    },
    {
      "cell_type": "code",
      "execution_count": null,
      "id": "39b3b6d5",
      "metadata": {
        "id": "39b3b6d5"
      },
      "outputs": [],
      "source": [
        "# Find all Maryland data in one line\n",
        "maryland_data = df[df['state'] == 'Maryland']\n",
        "\n",
        "print(\"Maryland's crime data (2015-2019):\")\n",
        "maryland_data"
      ]
    },
    {
      "cell_type": "code",
      "execution_count": null,
      "id": "2bb40da4",
      "metadata": {
        "id": "2bb40da4"
      },
      "outputs": [],
      "source": [
        "# The pattern: df[df['column'] COMPARISON value]\n",
        "# Read it as: \"Give me rows from df where column meets this condition\"\n",
        "\n",
        "# Examples:\n",
        "print(\"States with total property crime rate above 2500:\")\n",
        "high_crime = df[df['property_all'] > 2500]\n",
        "print(high_crime[['state', 'year', 'property_all']])"
      ]
    },
    {
      "cell_type": "markdown",
      "id": "805e5946",
      "metadata": {
        "cell_marker": "\"\"\"",
        "id": "805e5946"
      },
      "source": [
        "### 🎯 QUICK CHECK #1\n",
        "Filter the data to show only rows where the year is 2019. How many rows should you get?"
      ]
    },
    {
      "cell_type": "code",
      "execution_count": null,
      "id": "82336c23",
      "metadata": {
        "lines_to_next_cell": 2,
        "id": "82336c23"
      },
      "outputs": [],
      "source": [
        "# Your code here:"
      ]
    },
    {
      "cell_type": "markdown",
      "id": "a5674d5b",
      "metadata": {
        "cell_marker": "\"\"\"",
        "id": "a5674d5b"
      },
      "source": [
        "<details>\n",
        "<summary>Click for solution</summary>\n",
        "\n",
        "```python\n",
        "data_2019 = df[df['year'] == 2019]\n",
        "print(f\"Number of rows in 2019: {len(data_2019)}\")\n",
        "data_2019\n",
        "# Should get 4 rows (one for each state)\n",
        "```\n",
        "</details>"
      ]
    },
    {
      "cell_type": "markdown",
      "id": "b1add932",
      "metadata": {
        "cell_marker": "\"\"\"",
        "id": "b1add932"
      },
      "source": [
        "## Part 2: Different Types of Comparisons\n",
        "\n",
        "### Comparison Operators You Can Use"
      ]
    },
    {
      "cell_type": "code",
      "execution_count": null,
      "id": "1f452a3f",
      "metadata": {
        "id": "1f452a3f"
      },
      "outputs": [],
      "source": [
        "# == : Equal to\n",
        "delaware = df[df['state'] == 'Delaware']\n",
        "print(\"Delaware data:\")\n",
        "print(delaware[['state', 'year', 'property_all']])"
      ]
    },
    {
      "cell_type": "code",
      "execution_count": null,
      "id": "9f09825f",
      "metadata": {
        "id": "9f09825f"
      },
      "outputs": [],
      "source": [
        "# > : Greater than\n",
        "high_burglary = df[df['property_burglary'] > 400]\n",
        "print(\"\\nHigh burglary rates (>400):\")\n",
        "print(high_burglary[['state', 'year', 'property_burglary']])"
      ]
    },
    {
      "cell_type": "code",
      "execution_count": null,
      "id": "819e1d42",
      "metadata": {
        "id": "819e1d42"
      },
      "outputs": [],
      "source": [
        "# < : Less than\n",
        "low_motor = df[df['property_motor'] < 200]\n",
        "print(\"\\nLow motor vehicle theft rates (<200):\")\n",
        "print(low_motor[['state', 'year', 'property_motor']])"
      ]
    },
    {
      "cell_type": "code",
      "execution_count": null,
      "id": "4f786448",
      "metadata": {
        "id": "4f786448"
      },
      "outputs": [],
      "source": [
        "# >= : Greater than or equal to\n",
        "recent = df[df['year'] >= 2017]\n",
        "print(\"\\nRecent data (2017 or later):\")\n",
        "print(recent[['state', 'year', 'property_all']])"
      ]
    },
    {
      "cell_type": "code",
      "execution_count": null,
      "id": "3a63bdbd",
      "metadata": {
        "id": "3a63bdbd"
      },
      "outputs": [],
      "source": [
        "# != : Not equal to\n",
        "not_virginia = df[df['state'] != 'Virginia']\n",
        "print(\"\\nAll states except Virginia:\")\n",
        "print(not_virginia['state'].value_counts())"
      ]
    },
    {
      "cell_type": "markdown",
      "id": "f73f51f2",
      "metadata": {
        "cell_marker": "\"\"\"",
        "id": "f73f51f2"
      },
      "source": [
        "### 🎯 QUICK CHECK #2\n",
        "Find all rows where the larceny rate is less than or equal to 1500.\n",
        "Which states and years have such low larceny rates?"
      ]
    },
    {
      "cell_type": "code",
      "execution_count": null,
      "id": "e322805d",
      "metadata": {
        "lines_to_next_cell": 2,
        "id": "e322805d"
      },
      "outputs": [],
      "source": [
        "# Your code here:"
      ]
    },
    {
      "cell_type": "markdown",
      "id": "b6c7b0bf",
      "metadata": {
        "cell_marker": "\"\"\"",
        "id": "b6c7b0bf"
      },
      "source": [
        "<details>\n",
        "<summary>Click for solution</summary>\n",
        "\n",
        "```python\n",
        "low_larceny = df[df['property_larceny'] <= 1500]\n",
        "print(f\"Number of rows with larceny rate <= 1500: {len(low_larceny)}\")\n",
        "low_larceny[['state', 'year', 'property_larceny']]\n",
        "```\n",
        "</details>"
      ]
    },
    {
      "cell_type": "markdown",
      "id": "443a2c9c",
      "metadata": {
        "cell_marker": "\"\"\"",
        "id": "443a2c9c"
      },
      "source": [
        "## Part 3: Combining Multiple Conditions\n",
        "\n",
        "### Using AND (&) - Both conditions must be True\n",
        "\n",
        "Sometimes you need multiple conditions to be true at once."
      ]
    },
    {
      "cell_type": "code",
      "execution_count": null,
      "id": "8b05029f",
      "metadata": {
        "id": "8b05029f"
      },
      "outputs": [],
      "source": [
        "# Find Maryland data from 2018 or later\n",
        "# Use & for AND - both conditions must be True\n",
        "# IMPORTANT: Put parentheses around EACH condition!\n",
        "\n",
        "maryland_recent = df[(df['state'] == 'Maryland') & (df['year'] >= 2018)]\n",
        "\n",
        "print(\"Maryland data from 2018 onwards:\")\n",
        "maryland_recent"
      ]
    },
    {
      "cell_type": "code",
      "execution_count": null,
      "id": "40e78ced",
      "metadata": {
        "id": "40e78ced"
      },
      "outputs": [],
      "source": [
        "# Find states with BOTH high total property crime (>2500) AND high burglary (>400)\n",
        "high_both = df[(df['property_all'] > 2500) & (df['property_burglary'] > 400)]\n",
        "\n",
        "print(\"High rates in both categories:\")\n",
        "high_both[['state', 'year', 'property_all', 'property_burglary']]"
      ]
    },
    {
      "cell_type": "markdown",
      "id": "bb222576",
      "metadata": {
        "cell_marker": "\"\"\"",
        "id": "bb222576"
      },
      "source": [
        "### Common Mistake: Forgetting Parentheses"
      ]
    },
    {
      "cell_type": "code",
      "execution_count": null,
      "id": "929a7188",
      "metadata": {
        "id": "929a7188"
      },
      "outputs": [],
      "source": [
        "# This will cause an error - missing parentheses:\n",
        "# maryland_recent = df[df['state'] == 'Maryland' & df['year'] >= 2018]  # ERROR!\n",
        "\n",
        "# Correct version - each condition needs its own parentheses:\n",
        "maryland_recent = df[(df['state'] == 'Maryland') & (df['year'] >= 2018)]\n",
        "\n",
        "print(\"This works because we used parentheses correctly!\")"
      ]
    },
    {
      "cell_type": "markdown",
      "id": "912c9a92",
      "metadata": {
        "cell_marker": "\"\"\"",
        "id": "912c9a92"
      },
      "source": [
        "### 🎯 QUICK CHECK #3\n",
        "Find all rows where:\n",
        "- The year is 2019 AND\n",
        "- The total property crime rate is less than 2000\n",
        "\n",
        "How many state-years meet both criteria?"
      ]
    },
    {
      "cell_type": "code",
      "execution_count": null,
      "id": "f72d7c59",
      "metadata": {
        "lines_to_next_cell": 2,
        "id": "f72d7c59"
      },
      "outputs": [],
      "source": [
        "# Your code here:"
      ]
    },
    {
      "cell_type": "markdown",
      "id": "478354bb",
      "metadata": {
        "cell_marker": "\"\"\"",
        "id": "478354bb"
      },
      "source": [
        "<details>\n",
        "<summary>Click for solution</summary>\n",
        "\n",
        "```python\n",
        "safe_2019 = df[(df['year'] == 2019) & (df['property_all'] < 2000)]\n",
        "print(f\"States with property crime < 2000 in 2019: {len(safe_2019)}\")\n",
        "safe_2019[['state', 'property_all']]\n",
        "```\n",
        "</details>"
      ]
    },
    {
      "cell_type": "markdown",
      "id": "d5abb262",
      "metadata": {
        "cell_marker": "\"\"\"",
        "id": "d5abb262"
      },
      "source": [
        "### Using OR (|) - At least one condition must be True"
      ]
    },
    {
      "cell_type": "code",
      "execution_count": null,
      "id": "75158834",
      "metadata": {
        "id": "75158834"
      },
      "outputs": [],
      "source": [
        "# Find data that's EITHER from 2015 OR from 2019\n",
        "endpoints = df[(df['year'] == 2015) | (df['year'] == 2019)]\n",
        "\n",
        "print(\"Data from first and last year in dataset:\")\n",
        "print(endpoints[['state', 'year', 'property_all']])\n",
        "print(f\"\\nTotal rows: {len(endpoints)}\")  # Should be 8 (4 states × 2 years)"
      ]
    },
    {
      "cell_type": "code",
      "execution_count": null,
      "id": "2ebf6181",
      "metadata": {
        "id": "2ebf6181"
      },
      "outputs": [],
      "source": [
        "# Find states that are EITHER Maryland OR Pennsylvania\n",
        "mid_atlantic = df[(df['state'] == 'Maryland') | (df['state'] == 'Pennsylvania')]\n",
        "\n",
        "print(\"Just Maryland and Pennsylvania:\")\n",
        "print(mid_atlantic[['state', 'year', 'property_all']])"
      ]
    },
    {
      "cell_type": "markdown",
      "id": "38a680ed",
      "metadata": {
        "cell_marker": "\"\"\"",
        "id": "38a680ed"
      },
      "source": [
        "### Using NOT (~) - Flip the condition"
      ]
    },
    {
      "cell_type": "code",
      "execution_count": null,
      "id": "60efcc6d",
      "metadata": {
        "id": "60efcc6d"
      },
      "outputs": [],
      "source": [
        "# Find all rows that are NOT from Maryland\n",
        "not_maryland = df[~(df['state'] == 'Maryland')]\n",
        "\n",
        "print(\"All states except Maryland:\")\n",
        "print(not_maryland['state'].value_counts())"
      ]
    },
    {
      "cell_type": "markdown",
      "id": "b303afd8",
      "metadata": {
        "cell_marker": "\"\"\"",
        "id": "b303afd8"
      },
      "source": [
        "### 🎯 QUICK CHECK #4\n",
        "Find all rows where the state is EITHER Delaware OR Virginia.\n",
        "Calculate the average total property crime rate for these two states combined."
      ]
    },
    {
      "cell_type": "code",
      "execution_count": null,
      "id": "2d6fd95e",
      "metadata": {
        "lines_to_next_cell": 2,
        "id": "2d6fd95e"
      },
      "outputs": [],
      "source": [
        "# Your code here:"
      ]
    },
    {
      "cell_type": "markdown",
      "id": "19a89e4f",
      "metadata": {
        "cell_marker": "\"\"\"",
        "id": "19a89e4f"
      },
      "source": [
        "<details>\n",
        "<summary>Click for solution</summary>\n",
        "\n",
        "```python\n",
        "de_va = df[(df['state'] == 'Delaware') | (df['state'] == 'Virginia')]\n",
        "print(\"Delaware and Virginia data:\")\n",
        "print(de_va[['state', 'year', 'property_all']])\n",
        "\n",
        "avg_property = de_va['property_all'].mean()\n",
        "print(f\"\\nAverage property crime rate (DE + VA): {avg_property:.1f}\")\n",
        "```\n",
        "</details>"
      ]
    },
    {
      "cell_type": "markdown",
      "id": "59c9faef",
      "metadata": {
        "cell_marker": "\"\"\"",
        "id": "59c9faef"
      },
      "source": [
        "## Part 4: The .isin() Method - Checking Multiple Values\n",
        "\n",
        "### When You Have Many Values to Check\n",
        "\n",
        "Instead of writing `(state == 'A') | (state == 'B') | (state == 'C')`, use `.isin()`:"
      ]
    },
    {
      "cell_type": "code",
      "execution_count": null,
      "id": "cdbad18c",
      "metadata": {
        "id": "cdbad18c"
      },
      "outputs": [],
      "source": [
        "# Find data for specific states using a list\n",
        "border_states = ['Maryland', 'Virginia', 'Delaware']\n",
        "border_data = df[df['state'].isin(border_states)]\n",
        "\n",
        "print(\"Border states data:\")\n",
        "print(border_data[['state', 'year', 'property_all']])"
      ]
    },
    {
      "cell_type": "code",
      "execution_count": null,
      "id": "c1aaf2df",
      "metadata": {
        "id": "c1aaf2df"
      },
      "outputs": [],
      "source": [
        "# Check multiple years\n",
        "recent_years = [2018, 2019]\n",
        "recent_data = df[df['year'].isin(recent_years)]\n",
        "\n",
        "print(f\"\\nData from {recent_years}:\")\n",
        "print(recent_data[['state', 'year', 'property_all']])"
      ]
    },
    {
      "cell_type": "markdown",
      "id": "a33d6341",
      "metadata": {
        "cell_marker": "\"\"\"",
        "id": "a33d6341"
      },
      "source": [
        "### 🎯 QUICK CHECK #5\n",
        "Create a list of years [2015, 2016, 2017] and filter for Pennsylvania data in those years only.\n",
        "What was Pennsylvania's average motor vehicle theft rate during this period?"
      ]
    },
    {
      "cell_type": "code",
      "execution_count": null,
      "id": "981ec998",
      "metadata": {
        "lines_to_next_cell": 2,
        "id": "981ec998"
      },
      "outputs": [],
      "source": [
        "# Your code here:"
      ]
    },
    {
      "cell_type": "markdown",
      "id": "039a13f0",
      "metadata": {
        "cell_marker": "\"\"\"",
        "id": "039a13f0"
      },
      "source": [
        "<details>\n",
        "<summary>Click for solution</summary>\n",
        "\n",
        "```python\n",
        "early_years = [2015, 2016, 2017]\n",
        "pa_early = df[(df['state'] == 'Pennsylvania') & (df['year'].isin(early_years))]\n",
        "\n",
        "print(\"Pennsylvania 2015-2017:\")\n",
        "print(pa_early[['year', 'property_motor']])\n",
        "\n",
        "avg_motor = pa_early['property_motor'].mean()\n",
        "print(f\"\\nAverage motor vehicle theft rate: {avg_motor:.2f}\")\n",
        "```\n",
        "</details>"
      ]
    },
    {
      "cell_type": "markdown",
      "id": "19ce10c3",
      "metadata": {
        "cell_marker": "\"\"\"",
        "id": "19ce10c3"
      },
      "source": [
        "## Part 5: Creating New Columns\n",
        "\n",
        "### Calculating New Information from Existing Columns\n",
        "\n",
        "Sometimes you need to create new variables based on what you have:"
      ]
    },
    {
      "cell_type": "code",
      "execution_count": null,
      "id": "b0c72020",
      "metadata": {
        "id": "b0c72020"
      },
      "outputs": [],
      "source": [
        "# Calculate what percentage of property crime is burglary\n",
        "df['pct_burglary'] = (df['property_burglary'] / df['property_all']) * 100\n",
        "\n",
        "print(\"Original columns plus our new one:\")\n",
        "df[['state', 'year', 'property_all', 'property_burglary', 'pct_burglary']].head(n=5)"
      ]
    },
    {
      "cell_type": "code",
      "execution_count": null,
      "id": "9c9b68cc",
      "metadata": {
        "id": "9c9b68cc"
      },
      "outputs": [],
      "source": [
        "# Now we can use this new column like any other\n",
        "print(\"Where is burglary the highest percentage of property crime?\")\n",
        "df.sort_values(by='pct_burglary', ascending=False)[['state', 'year', 'pct_burglary']].head(n=5)"
      ]
    },
    {
      "cell_type": "code",
      "execution_count": null,
      "id": "6fb76aec",
      "metadata": {
        "id": "6fb76aec"
      },
      "outputs": [],
      "source": [
        "# Calculate what percentage of property crime is larceny\n",
        "df['pct_larceny'] = (df['property_larceny'] / df['property_all']) * 100\n",
        "\n",
        "print(\"\\nWhere is larceny the highest percentage of property crime?\")\n",
        "df.sort_values(by='pct_larceny', ascending=False)[['state', 'year', 'pct_larceny']].head(n=5)"
      ]
    },
    {
      "cell_type": "markdown",
      "id": "bfec355c",
      "metadata": {
        "cell_marker": "\"\"\"",
        "id": "bfec355c"
      },
      "source": [
        "### 🎯 QUICK CHECK #6\n",
        "Create a new column called 'pct_motor' that shows what percentage of property crime is motor vehicle theft.\n",
        "Formula: (property_motor / property_all) * 100\n",
        "\n",
        "Which state-year has the highest percentage?"
      ]
    },
    {
      "cell_type": "code",
      "execution_count": null,
      "id": "082bab6e",
      "metadata": {
        "lines_to_next_cell": 2,
        "id": "082bab6e"
      },
      "outputs": [],
      "source": [
        "# Your code here:"
      ]
    },
    {
      "cell_type": "markdown",
      "id": "e7b631b4",
      "metadata": {
        "cell_marker": "\"\"\"",
        "id": "e7b631b4"
      },
      "source": [
        "<details>\n",
        "<summary>Click for solution</summary>\n",
        "\n",
        "```python\n",
        "df['pct_motor'] = (df['property_motor'] / df['property_all']) * 100\n",
        "\n",
        "print(\"Motor vehicle theft as percentage of property crime:\")\n",
        "df.sort_values(by='pct_motor', ascending=False)[['state', 'year', 'pct_motor']].head(n=5)\n",
        "```\n",
        "</details>"
      ]
    },
    {
      "cell_type": "markdown",
      "id": "b6c08173",
      "metadata": {
        "cell_marker": "\"\"\"",
        "id": "b6c08173"
      },
      "source": [
        "## Part 6: Putting It All Together - Real Analysis\n",
        "\n",
        "### Answering Complex Criminological Questions\n",
        "\n",
        "Let's use all our skills to answer real questions:"
      ]
    },
    {
      "cell_type": "code",
      "execution_count": null,
      "id": "3aabc067",
      "metadata": {
        "id": "3aabc067"
      },
      "outputs": [],
      "source": [
        "# Question 1: How did Maryland's property crime change from 2015 to 2019?\n",
        "\n",
        "# Filter for just Maryland\n",
        "md = df[df['state'] == 'Maryland'].sort_values(by='year')\n",
        "\n",
        "# Look at the trend\n",
        "print(\"Maryland property crime trend:\")\n",
        "print(md[['year', 'property_all']])\n",
        "\n",
        ""
      ]
    },
    {
      "cell_type": "code",
      "execution_count": null,
      "id": "f76216c2",
      "metadata": {
        "id": "f76216c2"
      },
      "outputs": [],
      "source": [
        "# Question 2: Compare burglary rates across all states in 2019\n",
        "\n",
        "data_2019 = df[df['year'] == 2019].sort_values(by='property_burglary', ascending=False)\n",
        "\n",
        "print(\"Burglary rates by state (2019):\")\n",
        "print(data_2019[['state', 'property_burglary']])"
      ]
    },
    {
      "cell_type": "markdown",
      "id": "30eb0830",
      "metadata": {
        "cell_marker": "\"\"\"",
        "id": "30eb0830"
      },
      "source": [
        "### Pattern Recognition: Filter + Calculate\n",
        "\n",
        "Most analyses follow this pattern:\n",
        "1. **Filter** to get the subset you care about\n",
        "2. **Calculate** statistics on that subset\n",
        "3. **Compare** to other subsets or overall averages\n",
        "\n",
        "Let's practice this pattern:"
      ]
    },
    {
      "cell_type": "code",
      "execution_count": null,
      "id": "483383c4",
      "metadata": {
        "id": "483383c4"
      },
      "outputs": [],
      "source": [
        "# Compare states with high vs low larceny rates in 2019\n",
        "# Define \"low\" as larceny rate < 1400 in 2019\n",
        "\n",
        "data_2019 = df[df['year'] == 2019]\n",
        "\n",
        "low_larceny_states = data_2019[data_2019['property_larceny'] < 1400]\n",
        "high_larceny_states = data_2019[data_2019['property_larceny'] >= 1400]\n",
        "\n",
        "print(\"Low larceny states (2019):\")\n",
        "print(low_larceny_states[['state', 'property_larceny']])\n",
        "\n",
        "print(\"\\nHigh larceny states (2019):\")\n",
        "print(high_larceny_states[['state', 'property_larceny']])\n",
        "\n",
        "print(f\"\\nAverage motor vehicle theft in low-larceny states: {low_larceny_states['property_motor'].mean():.1f}\")\n",
        "print(f\"Average motor vehicle theft in high-larceny states: {high_larceny_states['property_motor'].mean():.1f}\")"
      ]
    },
    {
      "cell_type": "markdown",
      "id": "7368ce95",
      "metadata": {
        "cell_marker": "\"\"\"",
        "id": "7368ce95"
      },
      "source": [
        "## Hands-On Exercise: Your Turn to Analyze\n",
        "\n",
        "Use everything you learned today to answer these questions:"
      ]
    },
    {
      "cell_type": "code",
      "execution_count": null,
      "id": "91c8f710",
      "metadata": {
        "lines_to_next_cell": 2,
        "id": "91c8f710"
      },
      "outputs": [],
      "source": [
        "# Exercise 1: How many state-years had burglary rates above 450?\n",
        "# Your code here:\n",
        "\n",
        "\n"
      ]
    },
    {
      "cell_type": "code",
      "execution_count": null,
      "id": "c07fbb01",
      "metadata": {
        "id": "c07fbb01"
      },
      "outputs": [],
      "source": [
        "# Exercise 2: What was Delaware's average larceny rate across all 5 years?\n",
        "# Your code here:\n",
        "\n",
        "\n"
      ]
    },
    {
      "cell_type": "code",
      "execution_count": null,
      "id": "b73a3353",
      "metadata": {
        "id": "b73a3353"
      },
      "outputs": [],
      "source": [
        "# Exercise 3: Filter for years 2017-2019 only.\n",
        "# Which state had the lowest average total property crime during this period?\n",
        "# Your code here:\n",
        "\n",
        "\n"
      ]
    },
    {
      "cell_type": "code",
      "execution_count": null,
      "id": "28955678",
      "metadata": {
        "id": "28955678"
      },
      "outputs": [],
      "source": [
        "# Exercise 4: Create a new column called 'burglary_per_motor' (property_burglary / property_motor)\n",
        "# Which state-year has the highest ratio?\n",
        "# Your code here:\n",
        "\n",
        "\n"
      ]
    },
    {
      "cell_type": "code",
      "execution_count": null,
      "id": "cdfac61b",
      "metadata": {
        "id": "cdfac61b"
      },
      "outputs": [],
      "source": [
        "# Exercise 5: Compare Maryland and Pennsylvania in 2019.\n",
        "# Which had higher burglary? Which had higher motor vehicle theft?\n",
        "# Your code here:"
      ]
    },
    {
      "cell_type": "markdown",
      "id": "ef73b99c",
      "metadata": {
        "cell_marker": "\"\"\"",
        "id": "ef73b99c"
      },
      "source": [
        "## Using AI for Filtering Questions\n",
        "\n",
        "### Effective Prompts:\n",
        "\n",
        "```\n",
        "I have a pandas DataFrame with columns: state, year, property_all,\n",
        "property_burglary, property_larceny, property_motor\n",
        "\n",
        "How do I filter for:\n",
        "1. Rows where state is Maryland AND year is after 2016\n",
        "2. Rows where property_all is between 2000 and 2500\n",
        "\n",
        "Please explain the syntax with parentheses.\n",
        "```\n",
        "\n",
        "### Common AI Questions:\n",
        "- \"Why do I need parentheses when combining conditions?\"\n",
        "- \"What's the difference between & and 'and'?\" (Answer: use & for pandas!)\n",
        "- \"How do I filter for multiple values in a column?\"\n",
        "- \"How do I create a new column based on a calculation?\""
      ]
    },
    {
      "cell_type": "markdown",
      "id": "8e800657",
      "metadata": {
        "cell_marker": "\"\"\"",
        "id": "8e800657"
      },
      "source": [
        "## Wrap-Up: Key Takeaways\n",
        "\n",
        "Today you learned how to **ask specific questions of your data**:\n",
        "\n",
        "### Filtering Basics:\n",
        "- `df[df['column'] == value]` - find exact matches\n",
        "- `df[df['column'] > value]` - greater than\n",
        "- `df[df['column'] < value]` - less than\n",
        "- `df[df['column'] >= value]` - greater than or equal\n",
        "- `df[df['column'] != value]` - not equal\n",
        "\n",
        "### Combining Conditions:\n",
        "- `&` for AND (both must be True)\n",
        "- `|` for OR (at least one must be True)\n",
        "- `~` for NOT (flip the condition)\n",
        "- **Always use parentheses around each condition!**\n",
        "- `.isin([list])` for checking multiple values\n",
        "\n",
        "### Creating New Columns:\n",
        "- `df['new_col'] = df['col1'] + df['col2']` - calculations\n",
        "- Can use any math: `+`, `-`, `*`, `/`, `**`\n",
        "- Can calculate percentages, ratios, differences\n",
        "\n",
        "### The Analysis Pattern:\n",
        "1. **Filter** for your subset\n",
        "2. **Calculate** statistics  \n",
        "3. **Compare** or **sort** results\n",
        "\n",
        "## Before Next Class\n",
        "\n",
        "1. **Practice filtering:**\n",
        "   - Try different comparison operators\n",
        "   - Combine multiple conditions\n",
        "   - Use `.isin()` with different lists\n",
        "\n",
        "2. **Experiment with new columns:**\n",
        "   - Create ratios between existing columns\n",
        "   - Calculate differences\n",
        "   - Make percentage calculations\n",
        "\n",
        "3. **Answer your own questions:**\n",
        "   - Think of a question about the data\n",
        "   - Use filtering to find the answer\n",
        "   - Calculate relevant statistics\n",
        "\n",
        "4. **Use AI when stuck:**\n",
        "   - Copy your code and the error\n",
        "   - Ask AI to explain the problem\n",
        "   - Ask for alternative approaches\n",
        "\n",
        "## Quick Reference Card\n",
        "\n",
        "```python\n",
        "# Filtering - Single Condition\n",
        "df[df['column'] == value]     # Equal to\n",
        "df[df['column'] > value]      # Greater than\n",
        "df[df['column'] < value]      # Less than\n",
        "df[df['column'] >= value]     # Greater/equal\n",
        "df[df['column'] <= value]     # Less/equal\n",
        "df[df['column'] != value]     # Not equal\n",
        "\n",
        "# Filtering - Multiple Conditions (USE PARENTHESES!)\n",
        "df[(df['col1'] == val1) & (df['col2'] > val2)]   # AND\n",
        "df[(df['col1'] == val1) | (df['col2'] > val2)]   # OR\n",
        "df[~(df['col1'] == val1)]                         # NOT\n",
        "\n",
        "# Multiple values\n",
        "df[df['column'].isin([val1, val2, val3])]\n",
        "\n",
        "# Creating new columns\n",
        "df['new_col'] = df['col1'] + df['col2']          # Add\n",
        "df['new_col'] = df['col1'] - df['col2']          # Subtract\n",
        "df['new_col'] = df['col1'] / df['col2']          # Divide\n",
        "df['new_col'] = (df['col1'] / df['col2']) * 100  # Percentage\n",
        "\n",
        "# Filter + Calculate pattern\n",
        "subset = df[df['condition']]\n",
        "result = subset['column'].mean()\n",
        "```"
      ]
    }
  ],
  "metadata": {
    "jupytext": {
      "cell_metadata_filter": "-all",
      "main_language": "python",
      "notebook_metadata_filter": "-all"
    },
    "kernelspec": {
      "display_name": "base",
      "language": "python",
      "name": "python3"
    },
    "language_info": {
      "codemirror_mode": {
        "name": "ipython",
        "version": 3
      },
      "file_extension": ".py",
      "mimetype": "text/x-python",
      "name": "python",
      "nbconvert_exporter": "python",
      "pygments_lexer": "ipython3",
      "version": "3.13.2"
    },
    "colab": {
      "provenance": []
    }
  },
  "nbformat": 4,
  "nbformat_minor": 5
}