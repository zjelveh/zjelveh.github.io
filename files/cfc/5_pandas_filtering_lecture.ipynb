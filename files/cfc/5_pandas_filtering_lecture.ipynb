{
 "cells": [
  {
   "cell_type": "markdown",
   "id": "17e140a6",
   "metadata": {},
   "source": [
    "\n",
    "[![Open In Colab](https://colab.research.google.com/assets/colab-badge.svg)](https://colab.research.google.com/github/zjelveh/zjelveh.github.io/blob/master/files/cfc/5_pandas_filtering_lecture.ipynb)\n",
    "\n",
    "**IMPORTANT**: Save your own copy!\n",
    "1. Click File → Save a copy in Drive\n",
    "2. Rename it \n",
    "3. Work in YOUR copy, not the original\n",
    "\n",
    "\n",
    "---\n",
    "\n",
    "\n",
    "# 5. Filtering and Analyzing Data with Pandas\n",
    "## CCJS 418E: Coding for Criminology\n",
    "\n",
    "Today's Goals:\n",
    "- Filter DataFrames to find specific rows (like using if statements on entire datasets)\n",
    "- Combine multiple conditions to answer complex questions\n",
    "- Create new columns from existing data\n",
    "- Answer real criminological questions with pandas\n",
    "\n",
    "Last class: We learned to load, explore, select columns, and sort data\n",
    "Today: We learn to ask specific questions and get specific answers\n"
   ]
  },
  {
   "cell_type": "markdown",
   "id": "443c6893",
   "metadata": {
    "cell_marker": "\"\"\""
   },
   "source": [
    "## Quick Review: What We Know So Far\n",
    "\n",
    "Let's reload our data and remind ourselves of the basics:"
   ]
  },
  {
   "cell_type": "code",
   "execution_count": 1,
   "id": "67bd7dcc",
   "metadata": {},
   "outputs": [
    {
     "name": "stdout",
     "output_type": "stream",
     "text": [
      "Data loaded successfully!\n",
      "Dataset: 20 rows, 6 columns\n"
     ]
    }
   ],
   "source": [
    "# First, import pandas (conventionally abbreviated as pd)\n",
    "import pandas as pd\n",
    "\n",
    "# Load actual state crime data\n",
    "df = pd.read_csv(filepath_or_buffer='https://raw.githubusercontent.com/zjelveh/zjelveh.github.io/refs/heads/master/files/cfc/state_crime.csv')\n",
    "\n",
    "# Cleaning up the column names\n",
    "df.columns = df.columns.str.replace('^Data.', '', regex=True)\n",
    "df.columns = df.columns.str.replace('\\\\.', '_', regex=True).str.lower()\n",
    "\n",
    "# Filter to specific years and states to keep dataset manageable\n",
    "df = df[df.year.isin([2015, 2016, 2017, 2018, 2019])]\n",
    "df = df[df.state.isin(['Maryland', 'Virginia', 'Delaware', 'Pennsylvania'])]\n",
    "\n",
    "# Select just the property crime columns\n",
    "df = df[['state', 'year', 'rates_property_all',\n",
    "       'rates_property_burglary', 'rates_property_larceny',\n",
    "       'rates_property_motor']]\n",
    "\n",
    "# Clean up column names one more time\n",
    "df.columns = df.columns.str.replace('rates_', '')\n",
    "\n",
    "# The variable name 'df' is a common convention for DataFrame\n",
    "print(\"Data loaded successfully!\")\n",
    "print(f\"Dataset: {df.shape[0]} rows, {df.shape[1]} columns\")"
   ]
  },
  {
   "cell_type": "code",
   "execution_count": 2,
   "id": "1878c01a",
   "metadata": {},
   "outputs": [
    {
     "data": {
      "text/html": [
       "<div>\n",
       "<style scoped>\n",
       "    .dataframe tbody tr th:only-of-type {\n",
       "        vertical-align: middle;\n",
       "    }\n",
       "\n",
       "    .dataframe tbody tr th {\n",
       "        vertical-align: top;\n",
       "    }\n",
       "\n",
       "    .dataframe thead th {\n",
       "        text-align: right;\n",
       "    }\n",
       "</style>\n",
       "<table border=\"1\" class=\"dataframe\">\n",
       "  <thead>\n",
       "    <tr style=\"text-align: right;\">\n",
       "      <th></th>\n",
       "      <th>state</th>\n",
       "      <th>year</th>\n",
       "      <th>property_all</th>\n",
       "      <th>property_burglary</th>\n",
       "      <th>property_larceny</th>\n",
       "      <th>property_motor</th>\n",
       "    </tr>\n",
       "  </thead>\n",
       "  <tbody>\n",
       "    <tr>\n",
       "      <th>475</th>\n",
       "      <td>Delaware</td>\n",
       "      <td>2015</td>\n",
       "      <td>2691.0</td>\n",
       "      <td>504.6</td>\n",
       "      <td>2061.6</td>\n",
       "      <td>124.9</td>\n",
       "    </tr>\n",
       "    <tr>\n",
       "      <th>476</th>\n",
       "      <td>Delaware</td>\n",
       "      <td>2016</td>\n",
       "      <td>2766.0</td>\n",
       "      <td>527.6</td>\n",
       "      <td>2078.7</td>\n",
       "      <td>159.7</td>\n",
       "    </tr>\n",
       "    <tr>\n",
       "      <th>477</th>\n",
       "      <td>Delaware</td>\n",
       "      <td>2017</td>\n",
       "      <td>2440.6</td>\n",
       "      <td>412.7</td>\n",
       "      <td>1885.6</td>\n",
       "      <td>142.3</td>\n",
       "    </tr>\n",
       "    <tr>\n",
       "      <th>478</th>\n",
       "      <td>Delaware</td>\n",
       "      <td>2018</td>\n",
       "      <td>2324.4</td>\n",
       "      <td>326.5</td>\n",
       "      <td>1845.3</td>\n",
       "      <td>152.6</td>\n",
       "    </tr>\n",
       "    <tr>\n",
       "      <th>479</th>\n",
       "      <td>Delaware</td>\n",
       "      <td>2019</td>\n",
       "      <td>2252.2</td>\n",
       "      <td>304.8</td>\n",
       "      <td>1782.7</td>\n",
       "      <td>164.7</td>\n",
       "    </tr>\n",
       "  </tbody>\n",
       "</table>\n",
       "</div>"
      ],
      "text/plain": [
       "        state  year  property_all  property_burglary  property_larceny  \\\n",
       "475  Delaware  2015        2691.0              504.6            2061.6   \n",
       "476  Delaware  2016        2766.0              527.6            2078.7   \n",
       "477  Delaware  2017        2440.6              412.7            1885.6   \n",
       "478  Delaware  2018        2324.4              326.5            1845.3   \n",
       "479  Delaware  2019        2252.2              304.8            1782.7   \n",
       "\n",
       "     property_motor  \n",
       "475           124.9  \n",
       "476           159.7  \n",
       "477           142.3  \n",
       "478           152.6  \n",
       "479           164.7  "
      ]
     },
     "execution_count": 2,
     "metadata": {},
     "output_type": "execute_result"
    }
   ],
   "source": [
    "# Quick look at what we have\n",
    "df.head(n=5)"
   ]
  },
  {
   "cell_type": "code",
   "execution_count": 4,
   "id": "91ac5740",
   "metadata": {},
   "outputs": [
    {
     "name": "stdout",
     "output_type": "stream",
     "text": [
      "Average property crime rate: 2010.25\n",
      "\n",
      "Highest property crime rates:\n"
     ]
    },
    {
     "data": {
      "text/html": [
       "<div>\n",
       "<style scoped>\n",
       "    .dataframe tbody tr th:only-of-type {\n",
       "        vertical-align: middle;\n",
       "    }\n",
       "\n",
       "    .dataframe tbody tr th {\n",
       "        vertical-align: top;\n",
       "    }\n",
       "\n",
       "    .dataframe thead th {\n",
       "        text-align: right;\n",
       "    }\n",
       "</style>\n",
       "<table border=\"1\" class=\"dataframe\">\n",
       "  <thead>\n",
       "    <tr style=\"text-align: right;\">\n",
       "      <th></th>\n",
       "      <th>state</th>\n",
       "      <th>year</th>\n",
       "      <th>property_all</th>\n",
       "      <th>property_burglary</th>\n",
       "      <th>property_larceny</th>\n",
       "      <th>property_motor</th>\n",
       "    </tr>\n",
       "  </thead>\n",
       "  <tbody>\n",
       "    <tr>\n",
       "      <th>476</th>\n",
       "      <td>Delaware</td>\n",
       "      <td>2016</td>\n",
       "      <td>2766.0</td>\n",
       "      <td>527.6</td>\n",
       "      <td>2078.7</td>\n",
       "      <td>159.7</td>\n",
       "    </tr>\n",
       "    <tr>\n",
       "      <th>475</th>\n",
       "      <td>Delaware</td>\n",
       "      <td>2015</td>\n",
       "      <td>2691.0</td>\n",
       "      <td>504.6</td>\n",
       "      <td>2061.6</td>\n",
       "      <td>124.9</td>\n",
       "    </tr>\n",
       "    <tr>\n",
       "      <th>477</th>\n",
       "      <td>Delaware</td>\n",
       "      <td>2017</td>\n",
       "      <td>2440.6</td>\n",
       "      <td>412.7</td>\n",
       "      <td>1885.6</td>\n",
       "      <td>142.3</td>\n",
       "    </tr>\n",
       "    <tr>\n",
       "      <th>478</th>\n",
       "      <td>Delaware</td>\n",
       "      <td>2018</td>\n",
       "      <td>2324.4</td>\n",
       "      <td>326.5</td>\n",
       "      <td>1845.3</td>\n",
       "      <td>152.6</td>\n",
       "    </tr>\n",
       "    <tr>\n",
       "      <th>1255</th>\n",
       "      <td>Maryland</td>\n",
       "      <td>2015</td>\n",
       "      <td>2315.0</td>\n",
       "      <td>427.5</td>\n",
       "      <td>1668.5</td>\n",
       "      <td>218.9</td>\n",
       "    </tr>\n",
       "    <tr>\n",
       "      <th>1256</th>\n",
       "      <td>Maryland</td>\n",
       "      <td>2016</td>\n",
       "      <td>2284.5</td>\n",
       "      <td>410.4</td>\n",
       "      <td>1677.4</td>\n",
       "      <td>196.7</td>\n",
       "    </tr>\n",
       "    <tr>\n",
       "      <th>479</th>\n",
       "      <td>Delaware</td>\n",
       "      <td>2019</td>\n",
       "      <td>2252.2</td>\n",
       "      <td>304.8</td>\n",
       "      <td>1782.7</td>\n",
       "      <td>164.7</td>\n",
       "    </tr>\n",
       "    <tr>\n",
       "      <th>1257</th>\n",
       "      <td>Maryland</td>\n",
       "      <td>2017</td>\n",
       "      <td>2222.3</td>\n",
       "      <td>388.4</td>\n",
       "      <td>1609.7</td>\n",
       "      <td>224.2</td>\n",
       "    </tr>\n",
       "    <tr>\n",
       "      <th>1258</th>\n",
       "      <td>Maryland</td>\n",
       "      <td>2018</td>\n",
       "      <td>2033.3</td>\n",
       "      <td>312.6</td>\n",
       "      <td>1519.8</td>\n",
       "      <td>200.9</td>\n",
       "    </tr>\n",
       "    <tr>\n",
       "      <th>1259</th>\n",
       "      <td>Maryland</td>\n",
       "      <td>2019</td>\n",
       "      <td>1950.2</td>\n",
       "      <td>278.9</td>\n",
       "      <td>1485.0</td>\n",
       "      <td>186.2</td>\n",
       "    </tr>\n",
       "    <tr>\n",
       "      <th>2870</th>\n",
       "      <td>Virginia</td>\n",
       "      <td>2015</td>\n",
       "      <td>1866.5</td>\n",
       "      <td>254.6</td>\n",
       "      <td>1515.2</td>\n",
       "      <td>96.8</td>\n",
       "    </tr>\n",
       "    <tr>\n",
       "      <th>2871</th>\n",
       "      <td>Virginia</td>\n",
       "      <td>2016</td>\n",
       "      <td>1859.4</td>\n",
       "      <td>238.0</td>\n",
       "      <td>1505.1</td>\n",
       "      <td>116.4</td>\n",
       "    </tr>\n",
       "    <tr>\n",
       "      <th>2330</th>\n",
       "      <td>Pennsylvania</td>\n",
       "      <td>2015</td>\n",
       "      <td>1812.8</td>\n",
       "      <td>309.8</td>\n",
       "      <td>1408.2</td>\n",
       "      <td>94.8</td>\n",
       "    </tr>\n",
       "    <tr>\n",
       "      <th>2872</th>\n",
       "      <td>Virginia</td>\n",
       "      <td>2017</td>\n",
       "      <td>1792.9</td>\n",
       "      <td>218.0</td>\n",
       "      <td>1454.7</td>\n",
       "      <td>120.1</td>\n",
       "    </tr>\n",
       "    <tr>\n",
       "      <th>2331</th>\n",
       "      <td>Pennsylvania</td>\n",
       "      <td>2016</td>\n",
       "      <td>1742.7</td>\n",
       "      <td>277.8</td>\n",
       "      <td>1362.8</td>\n",
       "      <td>102.1</td>\n",
       "    </tr>\n",
       "    <tr>\n",
       "      <th>2873</th>\n",
       "      <td>Virginia</td>\n",
       "      <td>2018</td>\n",
       "      <td>1665.8</td>\n",
       "      <td>182.8</td>\n",
       "      <td>1356.4</td>\n",
       "      <td>126.5</td>\n",
       "    </tr>\n",
       "    <tr>\n",
       "      <th>2332</th>\n",
       "      <td>Pennsylvania</td>\n",
       "      <td>2017</td>\n",
       "      <td>1649.4</td>\n",
       "      <td>250.3</td>\n",
       "      <td>1297.7</td>\n",
       "      <td>101.4</td>\n",
       "    </tr>\n",
       "    <tr>\n",
       "      <th>2874</th>\n",
       "      <td>Virginia</td>\n",
       "      <td>2019</td>\n",
       "      <td>1642.7</td>\n",
       "      <td>162.8</td>\n",
       "      <td>1359.5</td>\n",
       "      <td>120.3</td>\n",
       "    </tr>\n",
       "    <tr>\n",
       "      <th>2333</th>\n",
       "      <td>Pennsylvania</td>\n",
       "      <td>2018</td>\n",
       "      <td>1489.9</td>\n",
       "      <td>211.6</td>\n",
       "      <td>1175.9</td>\n",
       "      <td>102.4</td>\n",
       "    </tr>\n",
       "    <tr>\n",
       "      <th>2334</th>\n",
       "      <td>Pennsylvania</td>\n",
       "      <td>2019</td>\n",
       "      <td>1403.4</td>\n",
       "      <td>182.4</td>\n",
       "      <td>1124.2</td>\n",
       "      <td>96.8</td>\n",
       "    </tr>\n",
       "  </tbody>\n",
       "</table>\n",
       "</div>"
      ],
      "text/plain": [
       "             state  year  property_all  property_burglary  property_larceny  \\\n",
       "476       Delaware  2016        2766.0              527.6            2078.7   \n",
       "475       Delaware  2015        2691.0              504.6            2061.6   \n",
       "477       Delaware  2017        2440.6              412.7            1885.6   \n",
       "478       Delaware  2018        2324.4              326.5            1845.3   \n",
       "1255      Maryland  2015        2315.0              427.5            1668.5   \n",
       "1256      Maryland  2016        2284.5              410.4            1677.4   \n",
       "479       Delaware  2019        2252.2              304.8            1782.7   \n",
       "1257      Maryland  2017        2222.3              388.4            1609.7   \n",
       "1258      Maryland  2018        2033.3              312.6            1519.8   \n",
       "1259      Maryland  2019        1950.2              278.9            1485.0   \n",
       "2870      Virginia  2015        1866.5              254.6            1515.2   \n",
       "2871      Virginia  2016        1859.4              238.0            1505.1   \n",
       "2330  Pennsylvania  2015        1812.8              309.8            1408.2   \n",
       "2872      Virginia  2017        1792.9              218.0            1454.7   \n",
       "2331  Pennsylvania  2016        1742.7              277.8            1362.8   \n",
       "2873      Virginia  2018        1665.8              182.8            1356.4   \n",
       "2332  Pennsylvania  2017        1649.4              250.3            1297.7   \n",
       "2874      Virginia  2019        1642.7              162.8            1359.5   \n",
       "2333  Pennsylvania  2018        1489.9              211.6            1175.9   \n",
       "2334  Pennsylvania  2019        1403.4              182.4            1124.2   \n",
       "\n",
       "      property_motor  \n",
       "476            159.7  \n",
       "475            124.9  \n",
       "477            142.3  \n",
       "478            152.6  \n",
       "1255           218.9  \n",
       "1256           196.7  \n",
       "479            164.7  \n",
       "1257           224.2  \n",
       "1258           200.9  \n",
       "1259           186.2  \n",
       "2870            96.8  \n",
       "2871           116.4  \n",
       "2330            94.8  \n",
       "2872           120.1  \n",
       "2331           102.1  \n",
       "2873           126.5  \n",
       "2332           101.4  \n",
       "2874           120.3  \n",
       "2333           102.4  \n",
       "2334            96.8  "
      ]
     },
     "execution_count": 4,
     "metadata": {},
     "output_type": "execute_result"
    }
   ],
   "source": [
    "# Last class we learned to:\n",
    "# 1. Select columns\n",
    "print(\"Average property crime rate:\", df['property_all'].mean())\n",
    "\n",
    "# 2. Sort data\n",
    "print(\"\\nHighest property crime rates:\")\n",
    "df.sort_values(by='property_all', ascending=False)"
   ]
  },
  {
   "cell_type": "markdown",
   "id": "e6f60276",
   "metadata": {
    "cell_marker": "\"\"\""
   },
   "source": [
    "**But what if we want to answer questions like:**\n",
    "- \"Show me ONLY Maryland's data\"\n",
    "- \"Which state-years had property crime rates above 2500?\"\n",
    "- \"What was Virginia's crime trend from 2015-2019?\"\n",
    "\n",
    "That's what filtering lets us do!"
   ]
  },
  {
   "cell_type": "markdown",
   "id": "77971d18",
   "metadata": {
    "cell_marker": "\"\"\""
   },
   "source": [
    "## Part 1: Boolean Indexing - Finding Specific Rows\n",
    "\n",
    "### The Concept: True/False for Every Row\n",
    "\n",
    "**Connection to Computational Thinking: This is ALGORITHMIC THINKING - creating decision rules**\n",
    "\n",
    "Think of filtering like using an if statement on every single row at once."
   ]
  },
  {
   "cell_type": "code",
   "execution_count": 5,
   "id": "a44d76e6",
   "metadata": {},
   "outputs": [
    {
     "name": "stdout",
     "output_type": "stream",
     "text": [
      "True/False for each row:\n",
      "475     False\n",
      "476     False\n",
      "477     False\n",
      "478     False\n",
      "479     False\n",
      "1255     True\n",
      "1256     True\n",
      "1257     True\n",
      "1258     True\n",
      "1259     True\n",
      "2330    False\n",
      "2331    False\n",
      "2332    False\n",
      "2333    False\n",
      "2334    False\n",
      "2870    False\n",
      "2871    False\n",
      "2872    False\n",
      "2873    False\n",
      "2874    False\n",
      "Name: state, dtype: bool\n",
      "\n",
      "Number of Maryland rows: 5\n"
     ]
    }
   ],
   "source": [
    "# Let's start simple: find all rows where the state is Maryland\n",
    "# Step 1: Create a True/False test for each row\n",
    "is_maryland = df['state'] == 'Maryland'\n",
    "\n",
    "print(\"True/False for each row:\")\n",
    "print(is_maryland)\n",
    "\n",
    "# Count how many are True\n",
    "print(f\"\\nNumber of Maryland rows: {is_maryland.sum()}\")  # True=1, False=0"
   ]
  },
  {
   "cell_type": "code",
   "execution_count": 6,
   "id": "e0d9038f",
   "metadata": {},
   "outputs": [
    {
     "name": "stdout",
     "output_type": "stream",
     "text": [
      "Just Maryland's data:\n"
     ]
    },
    {
     "data": {
      "text/html": [
       "<div>\n",
       "<style scoped>\n",
       "    .dataframe tbody tr th:only-of-type {\n",
       "        vertical-align: middle;\n",
       "    }\n",
       "\n",
       "    .dataframe tbody tr th {\n",
       "        vertical-align: top;\n",
       "    }\n",
       "\n",
       "    .dataframe thead th {\n",
       "        text-align: right;\n",
       "    }\n",
       "</style>\n",
       "<table border=\"1\" class=\"dataframe\">\n",
       "  <thead>\n",
       "    <tr style=\"text-align: right;\">\n",
       "      <th></th>\n",
       "      <th>state</th>\n",
       "      <th>year</th>\n",
       "      <th>property_all</th>\n",
       "      <th>property_burglary</th>\n",
       "      <th>property_larceny</th>\n",
       "      <th>property_motor</th>\n",
       "    </tr>\n",
       "  </thead>\n",
       "  <tbody>\n",
       "    <tr>\n",
       "      <th>1255</th>\n",
       "      <td>Maryland</td>\n",
       "      <td>2015</td>\n",
       "      <td>2315.0</td>\n",
       "      <td>427.5</td>\n",
       "      <td>1668.5</td>\n",
       "      <td>218.9</td>\n",
       "    </tr>\n",
       "    <tr>\n",
       "      <th>1256</th>\n",
       "      <td>Maryland</td>\n",
       "      <td>2016</td>\n",
       "      <td>2284.5</td>\n",
       "      <td>410.4</td>\n",
       "      <td>1677.4</td>\n",
       "      <td>196.7</td>\n",
       "    </tr>\n",
       "    <tr>\n",
       "      <th>1257</th>\n",
       "      <td>Maryland</td>\n",
       "      <td>2017</td>\n",
       "      <td>2222.3</td>\n",
       "      <td>388.4</td>\n",
       "      <td>1609.7</td>\n",
       "      <td>224.2</td>\n",
       "    </tr>\n",
       "    <tr>\n",
       "      <th>1258</th>\n",
       "      <td>Maryland</td>\n",
       "      <td>2018</td>\n",
       "      <td>2033.3</td>\n",
       "      <td>312.6</td>\n",
       "      <td>1519.8</td>\n",
       "      <td>200.9</td>\n",
       "    </tr>\n",
       "    <tr>\n",
       "      <th>1259</th>\n",
       "      <td>Maryland</td>\n",
       "      <td>2019</td>\n",
       "      <td>1950.2</td>\n",
       "      <td>278.9</td>\n",
       "      <td>1485.0</td>\n",
       "      <td>186.2</td>\n",
       "    </tr>\n",
       "  </tbody>\n",
       "</table>\n",
       "</div>"
      ],
      "text/plain": [
       "         state  year  property_all  property_burglary  property_larceny  \\\n",
       "1255  Maryland  2015        2315.0              427.5            1668.5   \n",
       "1256  Maryland  2016        2284.5              410.4            1677.4   \n",
       "1257  Maryland  2017        2222.3              388.4            1609.7   \n",
       "1258  Maryland  2018        2033.3              312.6            1519.8   \n",
       "1259  Maryland  2019        1950.2              278.9            1485.0   \n",
       "\n",
       "      property_motor  \n",
       "1255           218.9  \n",
       "1256           196.7  \n",
       "1257           224.2  \n",
       "1258           200.9  \n",
       "1259           186.2  "
      ]
     },
     "execution_count": 6,
     "metadata": {},
     "output_type": "execute_result"
    }
   ],
   "source": [
    "# Step 2: Use those True/False values to filter the DataFrame\n",
    "maryland_data = df[is_maryland]\n",
    "\n",
    "print(\"Just Maryland's data:\")\n",
    "maryland_data"
   ]
  },
  {
   "cell_type": "markdown",
   "id": "ab9bf008",
   "metadata": {
    "cell_marker": "\"\"\""
   },
   "source": [
    "### The Shortcut: Combine the Steps\n",
    "\n",
    "Usually we don't create the True/False column separately - we do it in one line:"
   ]
  },
  {
   "cell_type": "code",
   "execution_count": 7,
   "id": "39b3b6d5",
   "metadata": {},
   "outputs": [
    {
     "name": "stdout",
     "output_type": "stream",
     "text": [
      "Maryland's crime data (2015-2019):\n"
     ]
    },
    {
     "data": {
      "text/html": [
       "<div>\n",
       "<style scoped>\n",
       "    .dataframe tbody tr th:only-of-type {\n",
       "        vertical-align: middle;\n",
       "    }\n",
       "\n",
       "    .dataframe tbody tr th {\n",
       "        vertical-align: top;\n",
       "    }\n",
       "\n",
       "    .dataframe thead th {\n",
       "        text-align: right;\n",
       "    }\n",
       "</style>\n",
       "<table border=\"1\" class=\"dataframe\">\n",
       "  <thead>\n",
       "    <tr style=\"text-align: right;\">\n",
       "      <th></th>\n",
       "      <th>state</th>\n",
       "      <th>year</th>\n",
       "      <th>property_all</th>\n",
       "      <th>property_burglary</th>\n",
       "      <th>property_larceny</th>\n",
       "      <th>property_motor</th>\n",
       "    </tr>\n",
       "  </thead>\n",
       "  <tbody>\n",
       "    <tr>\n",
       "      <th>1255</th>\n",
       "      <td>Maryland</td>\n",
       "      <td>2015</td>\n",
       "      <td>2315.0</td>\n",
       "      <td>427.5</td>\n",
       "      <td>1668.5</td>\n",
       "      <td>218.9</td>\n",
       "    </tr>\n",
       "    <tr>\n",
       "      <th>1256</th>\n",
       "      <td>Maryland</td>\n",
       "      <td>2016</td>\n",
       "      <td>2284.5</td>\n",
       "      <td>410.4</td>\n",
       "      <td>1677.4</td>\n",
       "      <td>196.7</td>\n",
       "    </tr>\n",
       "    <tr>\n",
       "      <th>1257</th>\n",
       "      <td>Maryland</td>\n",
       "      <td>2017</td>\n",
       "      <td>2222.3</td>\n",
       "      <td>388.4</td>\n",
       "      <td>1609.7</td>\n",
       "      <td>224.2</td>\n",
       "    </tr>\n",
       "    <tr>\n",
       "      <th>1258</th>\n",
       "      <td>Maryland</td>\n",
       "      <td>2018</td>\n",
       "      <td>2033.3</td>\n",
       "      <td>312.6</td>\n",
       "      <td>1519.8</td>\n",
       "      <td>200.9</td>\n",
       "    </tr>\n",
       "    <tr>\n",
       "      <th>1259</th>\n",
       "      <td>Maryland</td>\n",
       "      <td>2019</td>\n",
       "      <td>1950.2</td>\n",
       "      <td>278.9</td>\n",
       "      <td>1485.0</td>\n",
       "      <td>186.2</td>\n",
       "    </tr>\n",
       "  </tbody>\n",
       "</table>\n",
       "</div>"
      ],
      "text/plain": [
       "         state  year  property_all  property_burglary  property_larceny  \\\n",
       "1255  Maryland  2015        2315.0              427.5            1668.5   \n",
       "1256  Maryland  2016        2284.5              410.4            1677.4   \n",
       "1257  Maryland  2017        2222.3              388.4            1609.7   \n",
       "1258  Maryland  2018        2033.3              312.6            1519.8   \n",
       "1259  Maryland  2019        1950.2              278.9            1485.0   \n",
       "\n",
       "      property_motor  \n",
       "1255           218.9  \n",
       "1256           196.7  \n",
       "1257           224.2  \n",
       "1258           200.9  \n",
       "1259           186.2  "
      ]
     },
     "execution_count": 7,
     "metadata": {},
     "output_type": "execute_result"
    }
   ],
   "source": [
    "# Find all Maryland data in one line\n",
    "maryland_data = df[df['state'] == 'Maryland']\n",
    "\n",
    "print(\"Maryland's crime data (2015-2019):\")\n",
    "maryland_data"
   ]
  },
  {
   "cell_type": "code",
   "execution_count": 8,
   "id": "2bb40da4",
   "metadata": {},
   "outputs": [
    {
     "name": "stdout",
     "output_type": "stream",
     "text": [
      "States with total property crime rate above 2500:\n",
      "        state  year  property_all\n",
      "475  Delaware  2015        2691.0\n",
      "476  Delaware  2016        2766.0\n"
     ]
    }
   ],
   "source": [
    "# The pattern: df[df['column'] COMPARISON value]\n",
    "# Read it as: \"Give me rows from df where column meets this condition\"\n",
    "\n",
    "# Examples:\n",
    "print(\"States with total property crime rate above 2500:\")\n",
    "high_crime = df[df['property_all'] > 2500]\n",
    "print(high_crime[['state', 'year', 'property_all']])"
   ]
  },
  {
   "cell_type": "markdown",
   "id": "805e5946",
   "metadata": {
    "cell_marker": "\"\"\""
   },
   "source": [
    "### 🎯 QUICK CHECK #1\n",
    "Filter the data to show only rows where the year is 2019. How many rows should you get?"
   ]
  },
  {
   "cell_type": "code",
   "execution_count": null,
   "id": "82336c23",
   "metadata": {
    "lines_to_next_cell": 2
   },
   "outputs": [],
   "source": [
    "# Your code here:"
   ]
  },
  {
   "cell_type": "markdown",
   "id": "a5674d5b",
   "metadata": {
    "cell_marker": "\"\"\""
   },
   "source": [
    "<details>\n",
    "<summary>Click for solution</summary>\n",
    "\n",
    "```python\n",
    "data_2019 = df[df['year'] == 2019]\n",
    "print(f\"Number of rows in 2019: {len(data_2019)}\")\n",
    "data_2019\n",
    "# Should get 4 rows (one for each state)\n",
    "```\n",
    "</details>"
   ]
  },
  {
   "cell_type": "markdown",
   "id": "b1add932",
   "metadata": {
    "cell_marker": "\"\"\""
   },
   "source": [
    "## Part 2: Different Types of Comparisons\n",
    "\n",
    "### Comparison Operators You Can Use"
   ]
  },
  {
   "cell_type": "code",
   "execution_count": 10,
   "id": "1f452a3f",
   "metadata": {},
   "outputs": [
    {
     "name": "stdout",
     "output_type": "stream",
     "text": [
      "Delaware data:\n",
      "        state  year  property_all\n",
      "475  Delaware  2015        2691.0\n",
      "476  Delaware  2016        2766.0\n",
      "477  Delaware  2017        2440.6\n",
      "478  Delaware  2018        2324.4\n",
      "479  Delaware  2019        2252.2\n"
     ]
    }
   ],
   "source": [
    "# == : Equal to\n",
    "delaware = df[df['state'] == 'Delaware']\n",
    "print(\"Delaware data:\")\n",
    "print(delaware[['state', 'year', 'property_all']])"
   ]
  },
  {
   "cell_type": "code",
   "execution_count": 11,
   "id": "9f09825f",
   "metadata": {},
   "outputs": [
    {
     "name": "stdout",
     "output_type": "stream",
     "text": [
      "\n",
      "High burglary rates (>400):\n",
      "         state  year  property_burglary\n",
      "475   Delaware  2015              504.6\n",
      "476   Delaware  2016              527.6\n",
      "477   Delaware  2017              412.7\n",
      "1255  Maryland  2015              427.5\n",
      "1256  Maryland  2016              410.4\n"
     ]
    }
   ],
   "source": [
    "# > : Greater than\n",
    "high_burglary = df[df['property_burglary'] > 400]\n",
    "print(\"\\nHigh burglary rates (>400):\")\n",
    "print(high_burglary[['state', 'year', 'property_burglary']])"
   ]
  },
  {
   "cell_type": "code",
   "execution_count": 12,
   "id": "819e1d42",
   "metadata": {},
   "outputs": [
    {
     "name": "stdout",
     "output_type": "stream",
     "text": [
      "\n",
      "Low motor vehicle theft rates (<200):\n",
      "             state  year  property_motor\n",
      "475       Delaware  2015           124.9\n",
      "476       Delaware  2016           159.7\n",
      "477       Delaware  2017           142.3\n",
      "478       Delaware  2018           152.6\n",
      "479       Delaware  2019           164.7\n",
      "1256      Maryland  2016           196.7\n",
      "1259      Maryland  2019           186.2\n",
      "2330  Pennsylvania  2015            94.8\n",
      "2331  Pennsylvania  2016           102.1\n",
      "2332  Pennsylvania  2017           101.4\n",
      "2333  Pennsylvania  2018           102.4\n",
      "2334  Pennsylvania  2019            96.8\n",
      "2870      Virginia  2015            96.8\n",
      "2871      Virginia  2016           116.4\n",
      "2872      Virginia  2017           120.1\n",
      "2873      Virginia  2018           126.5\n",
      "2874      Virginia  2019           120.3\n"
     ]
    }
   ],
   "source": [
    "# < : Less than  \n",
    "low_motor = df[df['property_motor'] < 200]\n",
    "print(\"\\nLow motor vehicle theft rates (<200):\")\n",
    "print(low_motor[['state', 'year', 'property_motor']])"
   ]
  },
  {
   "cell_type": "code",
   "execution_count": 13,
   "id": "4f786448",
   "metadata": {},
   "outputs": [
    {
     "name": "stdout",
     "output_type": "stream",
     "text": [
      "\n",
      "Recent data (2017 or later):\n",
      "             state  year  property_all\n",
      "477       Delaware  2017        2440.6\n",
      "478       Delaware  2018        2324.4\n",
      "479       Delaware  2019        2252.2\n",
      "1257      Maryland  2017        2222.3\n",
      "1258      Maryland  2018        2033.3\n",
      "1259      Maryland  2019        1950.2\n",
      "2332  Pennsylvania  2017        1649.4\n",
      "2333  Pennsylvania  2018        1489.9\n",
      "2334  Pennsylvania  2019        1403.4\n",
      "2872      Virginia  2017        1792.9\n",
      "2873      Virginia  2018        1665.8\n",
      "2874      Virginia  2019        1642.7\n"
     ]
    }
   ],
   "source": [
    "# >= : Greater than or equal to\n",
    "recent = df[df['year'] >= 2017]\n",
    "print(\"\\nRecent data (2017 or later):\")\n",
    "print(recent[['state', 'year', 'property_all']])"
   ]
  },
  {
   "cell_type": "code",
   "execution_count": 14,
   "id": "3a63bdbd",
   "metadata": {},
   "outputs": [
    {
     "name": "stdout",
     "output_type": "stream",
     "text": [
      "\n",
      "All states except Virginia:\n",
      "state\n",
      "Delaware        5\n",
      "Maryland        5\n",
      "Pennsylvania    5\n",
      "Name: count, dtype: int64\n"
     ]
    }
   ],
   "source": [
    "# != : Not equal to\n",
    "not_virginia = df[df['state'] != 'Virginia']\n",
    "print(\"\\nAll states except Virginia:\")\n",
    "print(not_virginia['state'].value_counts())"
   ]
  },
  {
   "cell_type": "markdown",
   "id": "f73f51f2",
   "metadata": {
    "cell_marker": "\"\"\""
   },
   "source": [
    "### 🎯 QUICK CHECK #2\n",
    "Find all rows where the larceny rate is less than or equal to 1500.\n",
    "Which states and years have such low larceny rates?"
   ]
  },
  {
   "cell_type": "code",
   "execution_count": null,
   "id": "e322805d",
   "metadata": {
    "lines_to_next_cell": 2
   },
   "outputs": [],
   "source": [
    "# Your code here:"
   ]
  },
  {
   "cell_type": "markdown",
   "id": "b6c7b0bf",
   "metadata": {
    "cell_marker": "\"\"\""
   },
   "source": [
    "<details>\n",
    "<summary>Click for solution</summary>\n",
    "\n",
    "```python\n",
    "low_larceny = df[df['property_larceny'] <= 1500]\n",
    "print(f\"Number of rows with larceny rate <= 1500: {len(low_larceny)}\")\n",
    "low_larceny[['state', 'year', 'property_larceny']]\n",
    "```\n",
    "</details>"
   ]
  },
  {
   "cell_type": "markdown",
   "id": "443a2c9c",
   "metadata": {
    "cell_marker": "\"\"\""
   },
   "source": [
    "## Part 3: Combining Multiple Conditions\n",
    "\n",
    "### Using AND (&) - Both conditions must be True\n",
    "\n",
    "Sometimes you need multiple conditions to be true at once."
   ]
  },
  {
   "cell_type": "code",
   "execution_count": null,
   "id": "8b05029f",
   "metadata": {},
   "outputs": [],
   "source": [
    "# Find Maryland data from 2018 or later\n",
    "# Use & for AND - both conditions must be True\n",
    "# IMPORTANT: Put parentheses around EACH condition!\n",
    "\n",
    "maryland_recent = df[(df['state'] == 'Maryland') & (df['year'] >= 2018)]\n",
    "\n",
    "print(\"Maryland data from 2018 onwards:\")\n",
    "maryland_recent"
   ]
  },
  {
   "cell_type": "code",
   "execution_count": null,
   "id": "40e78ced",
   "metadata": {},
   "outputs": [],
   "source": [
    "# Find states with BOTH high total property crime (>2500) AND high burglary (>400)\n",
    "high_both = df[(df['property_all'] > 2500) & (df['property_burglary'] > 400)]\n",
    "\n",
    "print(\"High rates in both categories:\")\n",
    "high_both[['state', 'year', 'property_all', 'property_burglary']]"
   ]
  },
  {
   "cell_type": "markdown",
   "id": "bb222576",
   "metadata": {
    "cell_marker": "\"\"\""
   },
   "source": [
    "### Common Mistake: Forgetting Parentheses"
   ]
  },
  {
   "cell_type": "code",
   "execution_count": null,
   "id": "929a7188",
   "metadata": {},
   "outputs": [],
   "source": [
    "# This will cause an error - missing parentheses:\n",
    "# maryland_recent = df[df['state'] == 'Maryland' & df['year'] >= 2018]  # ERROR!\n",
    "\n",
    "# Correct version - each condition needs its own parentheses:\n",
    "maryland_recent = df[(df['state'] == 'Maryland') & (df['year'] >= 2018)]\n",
    "\n",
    "print(\"This works because we used parentheses correctly!\")"
   ]
  },
  {
   "cell_type": "markdown",
   "id": "912c9a92",
   "metadata": {
    "cell_marker": "\"\"\""
   },
   "source": [
    "### 🎯 QUICK CHECK #3\n",
    "Find all rows where:\n",
    "- The year is 2019 AND\n",
    "- The total property crime rate is less than 2000\n",
    "\n",
    "How many state-years meet both criteria?"
   ]
  },
  {
   "cell_type": "code",
   "execution_count": null,
   "id": "f72d7c59",
   "metadata": {
    "lines_to_next_cell": 2
   },
   "outputs": [],
   "source": [
    "# Your code here:"
   ]
  },
  {
   "cell_type": "markdown",
   "id": "478354bb",
   "metadata": {
    "cell_marker": "\"\"\""
   },
   "source": [
    "<details>\n",
    "<summary>Click for solution</summary>\n",
    "\n",
    "```python\n",
    "safe_2019 = df[(df['year'] == 2019) & (df['property_all'] < 2000)]\n",
    "print(f\"States with property crime < 2000 in 2019: {len(safe_2019)}\")\n",
    "safe_2019[['state', 'property_all']]\n",
    "```\n",
    "</details>"
   ]
  },
  {
   "cell_type": "markdown",
   "id": "d5abb262",
   "metadata": {
    "cell_marker": "\"\"\""
   },
   "source": [
    "### Using OR (|) - At least one condition must be True"
   ]
  },
  {
   "cell_type": "code",
   "execution_count": 15,
   "id": "75158834",
   "metadata": {},
   "outputs": [
    {
     "name": "stdout",
     "output_type": "stream",
     "text": [
      "Data from first and last year in dataset:\n",
      "             state  year  property_all\n",
      "475       Delaware  2015        2691.0\n",
      "479       Delaware  2019        2252.2\n",
      "1255      Maryland  2015        2315.0\n",
      "1259      Maryland  2019        1950.2\n",
      "2330  Pennsylvania  2015        1812.8\n",
      "2334  Pennsylvania  2019        1403.4\n",
      "2870      Virginia  2015        1866.5\n",
      "2874      Virginia  2019        1642.7\n",
      "\n",
      "Total rows: 8\n"
     ]
    }
   ],
   "source": [
    "# Find data that's EITHER from 2015 OR from 2019\n",
    "endpoints = df[(df['year'] == 2015) | (df['year'] == 2019)]\n",
    "\n",
    "print(\"Data from first and last year in dataset:\")\n",
    "print(endpoints[['state', 'year', 'property_all']])\n",
    "print(f\"\\nTotal rows: {len(endpoints)}\")  # Should be 8 (4 states × 2 years)"
   ]
  },
  {
   "cell_type": "code",
   "execution_count": 16,
   "id": "2ebf6181",
   "metadata": {},
   "outputs": [
    {
     "name": "stdout",
     "output_type": "stream",
     "text": [
      "Just Maryland and Pennsylvania:\n",
      "             state  year  property_all\n",
      "1255      Maryland  2015        2315.0\n",
      "1256      Maryland  2016        2284.5\n",
      "1257      Maryland  2017        2222.3\n",
      "1258      Maryland  2018        2033.3\n",
      "1259      Maryland  2019        1950.2\n",
      "2330  Pennsylvania  2015        1812.8\n",
      "2331  Pennsylvania  2016        1742.7\n",
      "2332  Pennsylvania  2017        1649.4\n",
      "2333  Pennsylvania  2018        1489.9\n",
      "2334  Pennsylvania  2019        1403.4\n"
     ]
    }
   ],
   "source": [
    "# Find states that are EITHER Maryland OR Pennsylvania\n",
    "mid_atlantic = df[(df['state'] == 'Maryland') | (df['state'] == 'Pennsylvania')]\n",
    "\n",
    "print(\"Just Maryland and Pennsylvania:\")\n",
    "print(mid_atlantic[['state', 'year', 'property_all']])"
   ]
  },
  {
   "cell_type": "markdown",
   "id": "38a680ed",
   "metadata": {
    "cell_marker": "\"\"\""
   },
   "source": [
    "### Using NOT (~) - Flip the condition"
   ]
  },
  {
   "cell_type": "code",
   "execution_count": null,
   "id": "60efcc6d",
   "metadata": {},
   "outputs": [],
   "source": [
    "# Find all rows that are NOT from Maryland\n",
    "not_maryland = df[~(df['state'] == 'Maryland')]\n",
    "\n",
    "print(\"All states except Maryland:\")\n",
    "print(not_maryland['state'].value_counts())"
   ]
  },
  {
   "cell_type": "markdown",
   "id": "b303afd8",
   "metadata": {
    "cell_marker": "\"\"\""
   },
   "source": [
    "### 🎯 QUICK CHECK #4\n",
    "Find all rows where the state is EITHER Delaware OR Virginia.\n",
    "Calculate the average total property crime rate for these two states combined."
   ]
  },
  {
   "cell_type": "code",
   "execution_count": null,
   "id": "2d6fd95e",
   "metadata": {
    "lines_to_next_cell": 2
   },
   "outputs": [],
   "source": [
    "# Your code here:"
   ]
  },
  {
   "cell_type": "markdown",
   "id": "19a89e4f",
   "metadata": {
    "cell_marker": "\"\"\""
   },
   "source": [
    "<details>\n",
    "<summary>Click for solution</summary>\n",
    "\n",
    "```python\n",
    "de_va = df[(df['state'] == 'Delaware') | (df['state'] == 'Virginia')]\n",
    "print(\"Delaware and Virginia data:\")\n",
    "print(de_va[['state', 'year', 'property_all']])\n",
    "\n",
    "avg_property = de_va['property_all'].mean()\n",
    "print(f\"\\nAverage property crime rate (DE + VA): {avg_property:.1f}\")\n",
    "```\n",
    "</details>"
   ]
  },
  {
   "cell_type": "markdown",
   "id": "59c9faef",
   "metadata": {
    "cell_marker": "\"\"\""
   },
   "source": [
    "## Part 4: The .isin() Method - Checking Multiple Values\n",
    "\n",
    "### When You Have Many Values to Check\n",
    "\n",
    "Instead of writing `(state == 'A') | (state == 'B') | (state == 'C')`, use `.isin()`:"
   ]
  },
  {
   "cell_type": "code",
   "execution_count": null,
   "id": "cdbad18c",
   "metadata": {},
   "outputs": [],
   "source": [
    "# Find data for specific states using a list\n",
    "border_states = ['Maryland', 'Virginia', 'Delaware']\n",
    "border_data = df[df['state'].isin(border_states)]\n",
    "\n",
    "print(\"Border states data:\")\n",
    "print(border_data[['state', 'year', 'property_all']])"
   ]
  },
  {
   "cell_type": "code",
   "execution_count": null,
   "id": "c1aaf2df",
   "metadata": {},
   "outputs": [],
   "source": [
    "# Check multiple years\n",
    "recent_years = [2018, 2019]\n",
    "recent_data = df[df['year'].isin(recent_years)]\n",
    "\n",
    "print(f\"\\nData from {recent_years}:\")\n",
    "print(recent_data[['state', 'year', 'property_all']])"
   ]
  },
  {
   "cell_type": "markdown",
   "id": "a33d6341",
   "metadata": {
    "cell_marker": "\"\"\""
   },
   "source": [
    "### 🎯 QUICK CHECK #5\n",
    "Create a list of years [2015, 2016, 2017] and filter for Pennsylvania data in those years only.\n",
    "What was Pennsylvania's average motor vehicle theft rate during this period?"
   ]
  },
  {
   "cell_type": "code",
   "execution_count": null,
   "id": "981ec998",
   "metadata": {
    "lines_to_next_cell": 2
   },
   "outputs": [],
   "source": [
    "# Your code here:"
   ]
  },
  {
   "cell_type": "markdown",
   "id": "039a13f0",
   "metadata": {
    "cell_marker": "\"\"\""
   },
   "source": [
    "<details>\n",
    "<summary>Click for solution</summary>\n",
    "\n",
    "```python\n",
    "early_years = [2015, 2016, 2017]\n",
    "pa_early = df[(df['state'] == 'Pennsylvania') & (df['year'].isin(early_years))]\n",
    "\n",
    "print(\"Pennsylvania 2015-2017:\")\n",
    "print(pa_early[['year', 'property_motor']])\n",
    "\n",
    "avg_motor = pa_early['property_motor'].mean()\n",
    "print(f\"\\nAverage motor vehicle theft rate: {avg_motor:.2f}\")\n",
    "```\n",
    "</details>"
   ]
  },
  {
   "cell_type": "markdown",
   "id": "19ce10c3",
   "metadata": {
    "cell_marker": "\"\"\""
   },
   "source": [
    "## Part 5: Creating New Columns\n",
    "\n",
    "### Calculating New Information from Existing Columns\n",
    "\n",
    "Sometimes you need to create new variables based on what you have:"
   ]
  },
  {
   "cell_type": "code",
   "execution_count": null,
   "id": "b0c72020",
   "metadata": {},
   "outputs": [],
   "source": [
    "# Calculate what percentage of property crime is burglary\n",
    "df['pct_burglary'] = (df['property_burglary'] / df['property_all']) * 100\n",
    "\n",
    "print(\"Original columns plus our new one:\")\n",
    "df[['state', 'year', 'property_all', 'property_burglary', 'pct_burglary']].head(n=5)"
   ]
  },
  {
   "cell_type": "code",
   "execution_count": null,
   "id": "9c9b68cc",
   "metadata": {},
   "outputs": [],
   "source": [
    "# Now we can use this new column like any other\n",
    "print(\"Where is burglary the highest percentage of property crime?\")\n",
    "df.sort_values(by='pct_burglary', ascending=False)[['state', 'year', 'pct_burglary']].head(n=5)"
   ]
  },
  {
   "cell_type": "code",
   "execution_count": null,
   "id": "6fb76aec",
   "metadata": {},
   "outputs": [],
   "source": [
    "# Calculate what percentage of property crime is larceny\n",
    "df['pct_larceny'] = (df['property_larceny'] / df['property_all']) * 100\n",
    "\n",
    "print(\"\\nWhere is larceny the highest percentage of property crime?\")\n",
    "df.sort_values(by='pct_larceny', ascending=False)[['state', 'year', 'pct_larceny']].head(n=5)"
   ]
  },
  {
   "cell_type": "markdown",
   "id": "bfec355c",
   "metadata": {
    "cell_marker": "\"\"\""
   },
   "source": [
    "### 🎯 QUICK CHECK #6\n",
    "Create a new column called 'pct_motor' that shows what percentage of property crime is motor vehicle theft.\n",
    "Formula: (property_motor / property_all) * 100\n",
    "\n",
    "Which state-year has the highest percentage?"
   ]
  },
  {
   "cell_type": "code",
   "execution_count": null,
   "id": "082bab6e",
   "metadata": {
    "lines_to_next_cell": 2
   },
   "outputs": [],
   "source": [
    "# Your code here:"
   ]
  },
  {
   "cell_type": "markdown",
   "id": "e7b631b4",
   "metadata": {
    "cell_marker": "\"\"\""
   },
   "source": [
    "<details>\n",
    "<summary>Click for solution</summary>\n",
    "\n",
    "```python\n",
    "df['pct_motor'] = (df['property_motor'] / df['property_all']) * 100\n",
    "\n",
    "print(\"Motor vehicle theft as percentage of property crime:\")\n",
    "df.sort_values(by='pct_motor', ascending=False)[['state', 'year', 'pct_motor']].head(n=5)\n",
    "```\n",
    "</details>"
   ]
  },
  {
   "cell_type": "markdown",
   "id": "b6c08173",
   "metadata": {
    "cell_marker": "\"\"\""
   },
   "source": [
    "## Part 6: Putting It All Together - Real Analysis\n",
    "\n",
    "### Answering Complex Criminological Questions\n",
    "\n",
    "Let's use all our skills to answer real questions:"
   ]
  },
  {
   "cell_type": "code",
   "execution_count": null,
   "id": "3aabc067",
   "metadata": {},
   "outputs": [],
   "source": [
    "# Question 1: How did Maryland's property crime change from 2015 to 2019?\n",
    "\n",
    "# Filter for just Maryland\n",
    "md = df[df['state'] == 'Maryland'].sort_values(by='year')\n",
    "\n",
    "# Look at the trend\n",
    "print(\"Maryland property crime trend:\")\n",
    "print(md[['year', 'property_all']])\n",
    "\n",
    "    "
   ]
  },
  {
   "cell_type": "code",
   "execution_count": null,
   "id": "f76216c2",
   "metadata": {},
   "outputs": [],
   "source": [
    "# Question 2: Compare burglary rates across all states in 2019\n",
    "\n",
    "data_2019 = df[df['year'] == 2019].sort_values(by='property_burglary', ascending=False)\n",
    "\n",
    "print(\"Burglary rates by state (2019):\")\n",
    "print(data_2019[['state', 'property_burglary']])"
   ]
  },
  {
   "cell_type": "markdown",
   "id": "30eb0830",
   "metadata": {
    "cell_marker": "\"\"\""
   },
   "source": [
    "### Pattern Recognition: Filter + Calculate\n",
    "\n",
    "Most analyses follow this pattern:\n",
    "1. **Filter** to get the subset you care about\n",
    "2. **Calculate** statistics on that subset\n",
    "3. **Compare** to other subsets or overall averages\n",
    "\n",
    "Let's practice this pattern:"
   ]
  },
  {
   "cell_type": "code",
   "execution_count": null,
   "id": "483383c4",
   "metadata": {},
   "outputs": [],
   "source": [
    "# Compare states with high vs low larceny rates in 2019\n",
    "# Define \"low\" as larceny rate < 1400 in 2019\n",
    "\n",
    "data_2019 = df[df['year'] == 2019]\n",
    "\n",
    "low_larceny_states = data_2019[data_2019['property_larceny'] < 1400]\n",
    "high_larceny_states = data_2019[data_2019['property_larceny'] >= 1400]\n",
    "\n",
    "print(\"Low larceny states (2019):\")\n",
    "print(low_larceny_states[['state', 'property_larceny']])\n",
    "\n",
    "print(\"\\nHigh larceny states (2019):\")\n",
    "print(high_larceny_states[['state', 'property_larceny']])\n",
    "\n",
    "print(f\"\\nAverage motor vehicle theft in low-larceny states: {low_larceny_states['property_motor'].mean():.1f}\")\n",
    "print(f\"Average motor vehicle theft in high-larceny states: {high_larceny_states['property_motor'].mean():.1f}\")"
   ]
  },
  {
   "cell_type": "markdown",
   "id": "7368ce95",
   "metadata": {
    "cell_marker": "\"\"\""
   },
   "source": [
    "## Hands-On Exercise: Your Turn to Analyze\n",
    "\n",
    "Use everything you learned today to answer these questions:"
   ]
  },
  {
   "cell_type": "code",
   "execution_count": null,
   "id": "91c8f710",
   "metadata": {
    "lines_to_next_cell": 2
   },
   "outputs": [],
   "source": [
    "# Exercise 1: How many state-years had burglary rates above 450?\n",
    "# Your code here:\n",
    "\n",
    "\n"
   ]
  },
  {
   "cell_type": "code",
   "execution_count": null,
   "id": "c07fbb01",
   "metadata": {},
   "outputs": [],
   "source": [
    "# Exercise 2: What was Delaware's average larceny rate across all 5 years?\n",
    "# Your code here:\n",
    "\n",
    "\n"
   ]
  },
  {
   "cell_type": "code",
   "execution_count": null,
   "id": "b73a3353",
   "metadata": {},
   "outputs": [],
   "source": [
    "# Exercise 3: Filter for years 2017-2019 only. \n",
    "# Which state had the lowest average total property crime during this period?\n",
    "# Your code here:\n",
    "\n",
    "\n"
   ]
  },
  {
   "cell_type": "code",
   "execution_count": null,
   "id": "28955678",
   "metadata": {},
   "outputs": [],
   "source": [
    "# Exercise 4: Create a new column called 'burglary_per_motor' (property_burglary / property_motor)\n",
    "# Which state-year has the highest ratio?\n",
    "# Your code here:\n",
    "\n",
    "\n"
   ]
  },
  {
   "cell_type": "code",
   "execution_count": null,
   "id": "cdfac61b",
   "metadata": {},
   "outputs": [],
   "source": [
    "# Exercise 5: Compare Maryland and Pennsylvania in 2019.\n",
    "# Which had higher burglary? Which had higher motor vehicle theft?\n",
    "# Your code here:"
   ]
  },
  {
   "cell_type": "markdown",
   "id": "ef73b99c",
   "metadata": {
    "cell_marker": "\"\"\""
   },
   "source": [
    "## Using AI for Filtering Questions\n",
    "\n",
    "### Effective Prompts:\n",
    "\n",
    "```\n",
    "I have a pandas DataFrame with columns: state, year, property_all, \n",
    "property_burglary, property_larceny, property_motor\n",
    "\n",
    "How do I filter for:\n",
    "1. Rows where state is Maryland AND year is after 2016\n",
    "2. Rows where property_all is between 2000 and 2500\n",
    "\n",
    "Please explain the syntax with parentheses.\n",
    "```\n",
    "\n",
    "### Common AI Questions:\n",
    "- \"Why do I need parentheses when combining conditions?\"\n",
    "- \"What's the difference between & and 'and'?\" (Answer: use & for pandas!)\n",
    "- \"How do I filter for multiple values in a column?\"\n",
    "- \"How do I create a new column based on a calculation?\""
   ]
  },
  {
   "cell_type": "markdown",
   "id": "8e800657",
   "metadata": {
    "cell_marker": "\"\"\""
   },
   "source": [
    "## Wrap-Up: Key Takeaways\n",
    "\n",
    "Today you learned how to **ask specific questions of your data**:\n",
    "\n",
    "### Filtering Basics:\n",
    "- `df[df['column'] == value]` - find exact matches\n",
    "- `df[df['column'] > value]` - greater than\n",
    "- `df[df['column'] < value]` - less than\n",
    "- `df[df['column'] >= value]` - greater than or equal\n",
    "- `df[df['column'] != value]` - not equal\n",
    "\n",
    "### Combining Conditions:\n",
    "- `&` for AND (both must be True)\n",
    "- `|` for OR (at least one must be True)\n",
    "- `~` for NOT (flip the condition)\n",
    "- **Always use parentheses around each condition!**\n",
    "- `.isin([list])` for checking multiple values\n",
    "\n",
    "### Creating New Columns:\n",
    "- `df['new_col'] = df['col1'] + df['col2']` - calculations\n",
    "- Can use any math: `+`, `-`, `*`, `/`, `**`\n",
    "- Can calculate percentages, ratios, differences\n",
    "\n",
    "### The Analysis Pattern:\n",
    "1. **Filter** for your subset\n",
    "2. **Calculate** statistics  \n",
    "3. **Compare** or **sort** results\n",
    "\n",
    "## Before Next Class\n",
    "\n",
    "1. **Practice filtering:**\n",
    "   - Try different comparison operators\n",
    "   - Combine multiple conditions\n",
    "   - Use `.isin()` with different lists\n",
    "\n",
    "2. **Experiment with new columns:**\n",
    "   - Create ratios between existing columns\n",
    "   - Calculate differences\n",
    "   - Make percentage calculations\n",
    "\n",
    "3. **Answer your own questions:**\n",
    "   - Think of a question about the data\n",
    "   - Use filtering to find the answer\n",
    "   - Calculate relevant statistics\n",
    "\n",
    "4. **Use AI when stuck:**\n",
    "   - Copy your code and the error\n",
    "   - Ask AI to explain the problem\n",
    "   - Ask for alternative approaches\n",
    "\n",
    "## Quick Reference Card\n",
    "\n",
    "```python\n",
    "# Filtering - Single Condition\n",
    "df[df['column'] == value]     # Equal to\n",
    "df[df['column'] > value]      # Greater than\n",
    "df[df['column'] < value]      # Less than\n",
    "df[df['column'] >= value]     # Greater/equal\n",
    "df[df['column'] <= value]     # Less/equal\n",
    "df[df['column'] != value]     # Not equal\n",
    "\n",
    "# Filtering - Multiple Conditions (USE PARENTHESES!)\n",
    "df[(df['col1'] == val1) & (df['col2'] > val2)]   # AND\n",
    "df[(df['col1'] == val1) | (df['col2'] > val2)]   # OR\n",
    "df[~(df['col1'] == val1)]                         # NOT\n",
    "\n",
    "# Multiple values\n",
    "df[df['column'].isin([val1, val2, val3])]\n",
    "\n",
    "# Creating new columns\n",
    "df['new_col'] = df['col1'] + df['col2']          # Add\n",
    "df['new_col'] = df['col1'] - df['col2']          # Subtract\n",
    "df['new_col'] = df['col1'] / df['col2']          # Divide\n",
    "df['new_col'] = (df['col1'] / df['col2']) * 100  # Percentage\n",
    "\n",
    "# Filter + Calculate pattern\n",
    "subset = df[df['condition']]\n",
    "result = subset['column'].mean()\n",
    "```"
   ]
  }
 ],
 "metadata": {
  "jupytext": {
   "cell_metadata_filter": "-all",
   "main_language": "python",
   "notebook_metadata_filter": "-all"
  },
  "kernelspec": {
   "display_name": "base",
   "language": "python",
   "name": "python3"
  },
  "language_info": {
   "codemirror_mode": {
    "name": "ipython",
    "version": 3
   },
   "file_extension": ".py",
   "mimetype": "text/x-python",
   "name": "python",
   "nbconvert_exporter": "python",
   "pygments_lexer": "ipython3",
   "version": "3.13.2"
  }
 },
 "nbformat": 4,
 "nbformat_minor": 5
}
