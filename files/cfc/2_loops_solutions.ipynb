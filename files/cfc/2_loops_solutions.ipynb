{
  "cells": [
    {
      "cell_type": "markdown",
      "id": "9dec4526",
      "metadata": {
        "id": "9dec4526"
      },
      "source": [
        "\n",
        "[![Open In Colab](https://colab.research.google.com/assets/colab-badge.svg)](https://colab.research.google.com/github/zjelveh/zjelveh.github.io/blob/master/files/cfc/2_loops.ipynb)\n",
        "\n",
        "**IMPORTANT**: Save your own copy!\n",
        "1. Click File → Save a copy in Drive\n",
        "2. Rename it with your name: \"Lecture2_YourName\"\n",
        "3. Work in YOUR copy, not the original\n",
        "\n",
        "\n",
        "---\n",
        "\n",
        "\n",
        "# 2. Loops - Analyzing Many Things at Once\n",
        "## CCJS 418E: Coding for Criminology\n",
        "\n",
        "Today's Goals:\n",
        "- Learn to process multiple data points efficiently with loops\n",
        "- Master the for loop - your main tool for data analysis\n",
        "- Understand common loop patterns (counting, accumulating, filtering)\n",
        "- Practice debugging loop errors"
      ]
    },
    {
      "cell_type": "markdown",
      "id": "50170c79",
      "metadata": {
        "cell_marker": "\"\"\"",
        "id": "50170c79"
      },
      "source": [
        "## Part 1: The Need for Loops\n",
        "\n",
        "So far, we've analyzed individual data points or used built-in functions like `sum()` and `max()`.\n",
        "But what if you need to:\n",
        "- Check each of 1,000 arrest records for a specific charge?\n",
        "- Count how many crimes happened on weekends vs weekdays?\n",
        "- Flag all response times over 10 minutes?\n",
        "\n",
        "You need loops - code that repeats actions for each item in your data.\n",
        "\n",
        "**Connection to Computational Thinking: AUTOMATION - replacing repetitive manual tasks with systematic processing**"
      ]
    },
    {
      "cell_type": "code",
      "execution_count": 1,
      "id": "67fef710",
      "metadata": {
        "id": "67fef710"
      },
      "outputs": [
        {
          "name": "stdout",
          "output_type": "stream",
          "text": [
            "Monday: 45\n",
            "Tuesday: 52\n",
            "Wednesday: 48\n",
            "Thursday: 61\n",
            "Friday: 73\n"
          ]
        }
      ],
      "source": [
        "# Without loops - inefficient and error-prone\n",
        "monday_crimes = 45\n",
        "tuesday_crimes = 52\n",
        "wednesday_crimes = 48\n",
        "thursday_crimes = 61\n",
        "friday_crimes = 73\n",
        "\n",
        "print(f\"Monday: {monday_crimes}\")\n",
        "print(f\"Tuesday: {tuesday_crimes}\")\n",
        "print(f\"Wednesday: {wednesday_crimes}\")\n",
        "print(f\"Thursday: {thursday_crimes}\")\n",
        "print(f\"Friday: {friday_crimes}\")"
      ]
    },
    {
      "cell_type": "code",
      "execution_count": 2,
      "id": "65b6bb8a",
      "metadata": {
        "id": "65b6bb8a"
      },
      "outputs": [
        {
          "name": "stdout",
          "output_type": "stream",
          "text": [
            "Monday: 45\n",
            "Tuesday: 52\n",
            "Wednesday: 48\n",
            "Thursday: 61\n",
            "Friday: 73\n"
          ]
        }
      ],
      "source": [
        "# With loops - efficient and scalable\n",
        "daily_crimes = [45, 52, 48, 61, 73]\n",
        "days = [\"Monday\", \"Tuesday\", \"Wednesday\", \"Thursday\", \"Friday\"]\n",
        "\n",
        "for i in range(len(days)):\n",
        "    print(f\"{days[i]}: {daily_crimes[i]}\")"
      ]
    },
    {
      "cell_type": "markdown",
      "id": "5053603c",
      "metadata": {
        "cell_marker": "\"\"\"",
        "id": "5053603c"
      },
      "source": [
        "## Part 2: For Loops with Lists\n",
        "\n",
        "### Basic Syntax\n",
        "\n",
        "The for loop processes each item in a list, one at a time:"
      ]
    },
    {
      "cell_type": "code",
      "execution_count": 3,
      "id": "a83e2a5b",
      "metadata": {
        "id": "a83e2a5b"
      },
      "outputs": [
        {
          "name": "stdout",
          "output_type": "stream",
          "text": [
            "Processing: theft\n",
            "Processing: assault\n",
            "Processing: burglary\n",
            "Processing: vandalism\n"
          ]
        }
      ],
      "source": [
        "# Basic for loop structure\n",
        "crimes = [\"theft\", \"assault\", \"burglary\", \"vandalism\"]\n",
        "\n",
        "for crime in crimes:\n",
        "    print(f\"Processing: {crime}\")"
      ]
    },
    {
      "cell_type": "markdown",
      "id": "5d109ceb",
      "metadata": {
        "cell_marker": "\"\"\"",
        "id": "5d109ceb"
      },
      "source": [
        "### How It Works:\n",
        "1. `for` tells Python we're starting a loop\n",
        "2. `crime` is a variable that takes each value from the list (one at a time)\n",
        "3. `in` is a python keyword that tells python that it should look *in* the variable to the right of the `in`.\n",
        "4.  `crimes` is the list to loop through\n",
        "5. The indented code runs once for each item"
      ]
    },
    {
      "cell_type": "code",
      "execution_count": 4,
      "id": "c2465df3",
      "metadata": {
        "id": "c2465df3"
      },
      "outputs": [
        {
          "name": "stdout",
          "output_type": "stream",
          "text": [
            "Response time: 4 minutes\n",
            "Response time: 7 minutes\n",
            "Response time: 12 minutes\n",
            "Response time: 5 minutes\n",
            "Response time: 8 minutes\n",
            "Response time: 15 minutes\n"
          ]
        }
      ],
      "source": [
        "# The loop variable can be named anything\n",
        "response_times = [4, 7, 12, 5, 8, 15]\n",
        "\n",
        "for time in response_times:\n",
        "    print(f\"Response time: {time} minutes\")"
      ]
    },
    {
      "cell_type": "markdown",
      "id": "0c3b1941",
      "metadata": {
        "cell_marker": "\"\"\"",
        "id": "0c3b1941"
      },
      "source": [
        "### Common Mistake: Forgetting the Colon"
      ]
    },
    {
      "cell_type": "code",
      "execution_count": 5,
      "id": "9c1e43b3",
      "metadata": {
        "id": "9c1e43b3"
      },
      "outputs": [
        {
          "ename": "SyntaxError",
          "evalue": "expected ':' (2048977495.py, line 2)",
          "output_type": "error",
          "traceback": [
            "  \u001b[36mCell\u001b[39m\u001b[36m \u001b[39m\u001b[32mIn[5]\u001b[39m\u001b[32m, line 2\u001b[39m\n\u001b[31m    \u001b[39m\u001b[31mfor crime in crimes\u001b[39m\n                       ^\n\u001b[31mSyntaxError\u001b[39m\u001b[31m:\u001b[39m expected ':'\n"
          ]
        }
      ],
      "source": [
        "# This will cause a SyntaxError\n",
        "for crime in crimes\n",
        "    print(crime)\n",
        "\n"
      ]
    },
    {
      "cell_type": "code",
      "execution_count": 6,
      "id": "hJ4o_9VkGoQz",
      "metadata": {
        "id": "hJ4o_9VkGoQz"
      },
      "outputs": [
        {
          "name": "stdout",
          "output_type": "stream",
          "text": [
            "theft\n",
            "assault\n",
            "burglary\n",
            "vandalism\n"
          ]
        }
      ],
      "source": [
        "# Correct version:\n",
        "for crime in crimes:\n",
        "    print(crime)"
      ]
    },
    {
      "cell_type": "markdown",
      "id": "3ebe426b",
      "metadata": {
        "cell_marker": "\"\"\"",
        "id": "3ebe426b"
      },
      "source": [
        "## Part 3: Loop Pattern 1 - Filtering\n",
        "\n",
        "**Finding items that meet certain criteria**"
      ]
    },
    {
      "cell_type": "code",
      "execution_count": 7,
      "id": "a7425802",
      "metadata": {
        "id": "a7425802"
      },
      "outputs": [
        {
          "name": "stdout",
          "output_type": "stream",
          "text": [
            "Slow responses (over 10 minutes):\n",
            "  - 12 minutes\n",
            "  - 15 minutes\n",
            "  - 11 minutes\n"
          ]
        }
      ],
      "source": [
        "# Find all slow response times\n",
        "response_times = [4, 7, 12, 5, 8, 15, 3, 11, 9]\n",
        "threshold = 10\n",
        "\n",
        "print(\"Slow responses (over 10 minutes):\")\n",
        "for time in response_times:\n",
        "    if time > threshold:\n",
        "        print(f\"  - {time} minutes\")"
      ]
    },
    {
      "cell_type": "code",
      "execution_count": 8,
      "id": "cad0c225",
      "metadata": {
        "id": "cad0c225"
      },
      "outputs": [
        {
          "name": "stdout",
          "output_type": "stream",
          "text": [
            "Property crimes:\n",
            "  - theft\n",
            "  - burglary\n",
            "  - theft\n",
            "  - robbery\n",
            "  - theft\n"
          ]
        }
      ],
      "source": [
        "# Filter crime types\n",
        "all_crimes = [\"theft\", \"assault\", \"burglary\", \"theft\", \"vandalism\", \"robbery\", \"theft\"]\n",
        "\n",
        "print(\"Property crimes:\")\n",
        "for crime in all_crimes:\n",
        "    if crime in [\"theft\", \"burglary\", \"robbery\"]:\n",
        "        print(f\"  - {crime}\")"
      ]
    },
    {
      "cell_type": "markdown",
      "id": "9f3d98ff",
      "metadata": {
        "cell_marker": "\"\"\"",
        "id": "9f3d98ff"
      },
      "source": [
        "## Part 4: Loop Pattern 2 - Counting\n",
        "\n",
        "**Counting occurrences of specific items**"
      ]
    },
    {
      "cell_type": "code",
      "execution_count": 9,
      "id": "860f8b8d",
      "metadata": {
        "id": "860f8b8d"
      },
      "outputs": [
        {
          "name": "stdout",
          "output_type": "stream",
          "text": [
            "Total thefts: 3\n"
          ]
        }
      ],
      "source": [
        "# Count specific crime type\n",
        "crimes_reported = [\"theft\", \"assault\", \"theft\", \"vandalism\", \"theft\", \"burglary\"]\n",
        "theft_count = 0\n",
        "\n",
        "for crime in crimes_reported:\n",
        "    if crime == \"theft\":\n",
        "        theft_count = theft_count + 1\n",
        "\n",
        "print(f\"Total thefts: {theft_count}\")"
      ]
    },
    {
      "cell_type": "code",
      "execution_count": 10,
      "id": "dbeba845",
      "metadata": {
        "id": "dbeba845"
      },
      "outputs": [
        {
          "name": "stdout",
          "output_type": "stream",
          "text": [
            "Property crimes: 5\n",
            "Violent crimes: 2\n"
          ]
        }
      ],
      "source": [
        "# Count multiple categories\n",
        "crimes_reported = [\"theft\", \"assault\", \"theft\", \"vandalism\", \"theft\", \"burglary\", \"assault\"]\n",
        "property_crimes = 0\n",
        "violent_crimes = 0\n",
        "\n",
        "for crime in crimes_reported:\n",
        "    if crime in [\"theft\", \"burglary\", \"vandalism\"]:\n",
        "        property_crimes = property_crimes + 1\n",
        "    elif crime in [\"assault\", \"robbery\"]:\n",
        "        violent_crimes = violent_crimes + 1\n",
        "\n",
        "print(f\"Property crimes: {property_crimes}\")\n",
        "print(f\"Violent crimes: {violent_crimes}\")"
      ]
    },
    {
      "cell_type": "markdown",
      "id": "fda2baf0",
      "metadata": {
        "cell_marker": "\"\"\"",
        "id": "fda2baf0"
      },
      "source": [
        "### Common Mistake: Forgetting to Initialize the Counter"
      ]
    },
    {
      "cell_type": "code",
      "execution_count": 11,
      "id": "fc447cab",
      "metadata": {
        "id": "fc447cab"
      },
      "outputs": [
        {
          "ename": "NameError",
          "evalue": "name 'count' is not defined",
          "output_type": "error",
          "traceback": [
            "\u001b[31m---------------------------------------------------------------------------\u001b[39m",
            "\u001b[31mNameError\u001b[39m                                 Traceback (most recent call last)",
            "\u001b[36mCell\u001b[39m\u001b[36m \u001b[39m\u001b[32mIn[11]\u001b[39m\u001b[32m, line 4\u001b[39m\n\u001b[32m      2\u001b[39m \u001b[38;5;28;01mfor\u001b[39;00m crime \u001b[38;5;129;01min\u001b[39;00m crimes_reported:\n\u001b[32m      3\u001b[39m     \u001b[38;5;28;01mif\u001b[39;00m crime == \u001b[33m\"\u001b[39m\u001b[33mtheft\u001b[39m\u001b[33m\"\u001b[39m:\n\u001b[32m----> \u001b[39m\u001b[32m4\u001b[39m         count = \u001b[43mcount\u001b[49m + \u001b[32m1\u001b[39m  \u001b[38;5;66;03m# Error: 'count' not defined\u001b[39;00m\n",
            "\u001b[31mNameError\u001b[39m: name 'count' is not defined"
          ]
        }
      ],
      "source": [
        "# This will cause a NameError\n",
        "for crime in crimes_reported:\n",
        "    if crime == \"theft\":\n",
        "        count = count + 1  # Error: 'count' not defined\n"
      ]
    },
    {
      "cell_type": "code",
      "execution_count": 12,
      "id": "OXcR3ZeQHeb1",
      "metadata": {
        "id": "OXcR3ZeQHeb1"
      },
      "outputs": [],
      "source": [
        "\n",
        "# Correct version:\n",
        "count = 0  # Initialize first!\n",
        "for crime in crimes_reported:\n",
        "    if crime == \"theft\":\n",
        "        count = count + 1"
      ]
    },
    {
      "cell_type": "markdown",
      "id": "07a4dea3",
      "metadata": {
        "cell_marker": "\"\"\"",
        "id": "07a4dea3"
      },
      "source": [
        "## Part 5: Loop Pattern 3 - Accumulating\n",
        "\n",
        "**Building up a total or collecting results**"
      ]
    },
    {
      "cell_type": "code",
      "execution_count": 13,
      "id": "cb2e453c",
      "metadata": {
        "id": "cb2e453c"
      },
      "outputs": [
        {
          "name": "stdout",
          "output_type": "stream",
          "text": [
            "Total response time: 51 minutes\n",
            "Average response time: 8.5 minutes\n"
          ]
        }
      ],
      "source": [
        "# Calculate total response time\n",
        "response_times = [4, 7, 12, 5, 8, 15]\n",
        "total_time = 0\n",
        "\n",
        "for time in response_times:\n",
        "    total_time = total_time + time\n",
        "\n",
        "average_time = total_time / len(response_times)\n",
        "print(f\"Total response time: {total_time} minutes\")\n",
        "print(f\"Average response time: {average_time:.1f} minutes\")"
      ]
    },
    {
      "cell_type": "code",
      "execution_count": 14,
      "id": "7ce360a8",
      "metadata": {
        "id": "7ce360a8"
      },
      "outputs": [
        {
          "name": "stdout",
          "output_type": "stream",
          "text": [
            "Slow responses: [12, 15, 11]\n"
          ]
        }
      ],
      "source": [
        "# Collect filtered results in a new list\n",
        "all_times = [4, 7, 12, 5, 8, 15, 3, 11, 9]\n",
        "slow_responses = []\n",
        "\n",
        "for time in all_times:\n",
        "    if time > 10:\n",
        "        slow_responses.append(time)\n",
        "\n",
        "print(f\"Slow responses: {slow_responses}\")"
      ]
    },
    {
      "cell_type": "markdown",
      "id": "7a74ab3f",
      "metadata": {
        "cell_marker": "\"\"\"",
        "id": "7a74ab3f"
      },
      "source": [
        "## Part 6: Working with Strings in Loops\n",
        "\n",
        "**Analyzing text data like crime descriptions**"
      ]
    },
    {
      "cell_type": "code",
      "execution_count": 15,
      "id": "34faee1b",
      "metadata": {
        "id": "34faee1b"
      },
      "outputs": [
        {
          "name": "stdout",
          "output_type": "stream",
          "text": [
            "Standardized reports:\n",
            "theft on main st\n",
            "assault - downtown\n",
            "burglary at 5th ave\n",
            "assault near park\n"
          ]
        }
      ],
      "source": [
        "# Standardizing crime reports\n",
        "crime_reports = [\"THEFT on Main St\", \"assault - downtown\", \"Burglary at 5th Ave\", \"ASSAULT near park\"]\n",
        "\n",
        "print(\"Standardized reports:\")\n",
        "for report in crime_reports:\n",
        "    # Convert to lowercase for consistent analysis\n",
        "    standardized = report.lower()\n",
        "    print(standardized)"
      ]
    },
    {
      "cell_type": "code",
      "execution_count": 16,
      "id": "85410519",
      "metadata": {
        "id": "85410519"
      },
      "outputs": [
        {
          "name": "stdout",
          "output_type": "stream",
          "text": [
            "Property crime: theft from vehicle on main street\n",
            "Violent crime: assault with weapon downtown\n",
            "Property crime: residential burglary on 5th avenue\n",
            "Property crime: theft of bicycle at park\n",
            "\n",
            "Totals - Property: 3, Violent: 1\n"
          ]
        }
      ],
      "source": [
        "# Categorizing crimes from descriptions\n",
        "descriptions = [\n",
        "    \"theft from vehicle on main street\",\n",
        "    \"assault with weapon downtown\",\n",
        "    \"residential burglary on 5th avenue\",\n",
        "    \"theft of bicycle at park\"\n",
        "]\n",
        "\n",
        "property_count = 0\n",
        "violent_count = 0\n",
        "\n",
        "for description in descriptions:\n",
        "    # Convert to lowercase for reliable checking\n",
        "    desc_lower = description.lower()\n",
        "\n",
        "    if \"theft\" in desc_lower or \"burglary\" in desc_lower:\n",
        "        property_count = property_count + 1\n",
        "        print(f\"Property crime: {description}\")\n",
        "    elif \"assault\" in desc_lower:\n",
        "        violent_count = violent_count + 1\n",
        "        print(f\"Violent crime: {description}\")\n",
        "\n",
        "print(f\"\\nTotals - Property: {property_count}, Violent: {violent_count}\")"
      ]
    },
    {
      "cell_type": "markdown",
      "id": "32d04abe",
      "metadata": {
        "cell_marker": "\"\"\"",
        "id": "32d04abe"
      },
      "source": [
        "## Part 7: Range and Counting\n",
        "\n",
        "**Using range() to generate numbers**"
      ]
    },
    {
      "cell_type": "code",
      "execution_count": 17,
      "id": "72987196",
      "metadata": {
        "id": "72987196"
      },
      "outputs": [
        {
          "name": "stdout",
          "output_type": "stream",
          "text": [
            "First 5 days:\n",
            "Day 0\n",
            "Day 1\n",
            "Day 2\n",
            "Day 3\n",
            "Day 4\n"
          ]
        }
      ],
      "source": [
        "# range(n) generates numbers from 0 to n-1\n",
        "print(\"First 5 days:\")\n",
        "for day in range(5):\n",
        "    print(f\"Day {day}\")"
      ]
    },
    {
      "cell_type": "code",
      "execution_count": 18,
      "id": "6138c752",
      "metadata": {
        "id": "6138c752"
      },
      "outputs": [
        {
          "name": "stdout",
          "output_type": "stream",
          "text": [
            "\n",
            "Week 2 (days 7-13):\n",
            "Day 7\n",
            "Day 8\n",
            "Day 9\n",
            "Day 10\n",
            "Day 11\n",
            "Day 12\n",
            "Day 13\n"
          ]
        }
      ],
      "source": [
        "# range(start, stop) generates from start to stop-1\n",
        "print(\"\\nWeek 2 (days 7-13):\")\n",
        "for day in range(7, 14):\n",
        "    print(f\"Day {day}\")"
      ]
    },
    {
      "cell_type": "code",
      "execution_count": 19,
      "id": "242d650b",
      "metadata": {
        "id": "242d650b"
      },
      "outputs": [
        {
          "name": "stdout",
          "output_type": "stream",
          "text": [
            "Warning #1 issued\n",
            "Warning #2 issued\n",
            "Warning #3 issued\n"
          ]
        }
      ],
      "source": [
        "# Using range to repeat actions\n",
        "warnings_to_issue = 3\n",
        "\n",
        "for warning_number in range(warnings_to_issue):\n",
        "    print(f\"Warning #{warning_number + 1} issued\")"
      ]
    },
    {
      "cell_type": "markdown",
      "id": "ccdb0845",
      "metadata": {
        "cell_marker": "\"\"\"",
        "id": "ccdb0845"
      },
      "source": [
        "## Part 8: Loops with Indices\n",
        "\n",
        "**Sometimes you need both the position AND the value**"
      ]
    },
    {
      "cell_type": "code",
      "execution_count": 20,
      "id": "2b553e08",
      "metadata": {
        "id": "2b553e08"
      },
      "outputs": [
        {
          "name": "stdout",
          "output_type": "stream",
          "text": [
            "Crime #1: theft\n",
            "Crime #2: assault\n",
            "Crime #3: burglary\n",
            "Crime #4: vandalism\n"
          ]
        }
      ],
      "source": [
        "# Using range(len()) to get positions\n",
        "crimes = [\"theft\", \"assault\", \"burglary\", \"vandalism\"]\n",
        "\n",
        "for i in range(len(crimes)):\n",
        "    print(f\"Crime #{i + 1}: {crimes[i]}\")"
      ]
    },
    {
      "cell_type": "code",
      "execution_count": 21,
      "id": "804e509e",
      "metadata": {
        "id": "804e509e"
      },
      "outputs": [
        {
          "name": "stdout",
          "output_type": "stream",
          "text": [
            "Crime #1: theft\n",
            "Crime #2: assault\n",
            "Crime #3: burglary\n",
            "Crime #4: vandalism\n"
          ]
        }
      ],
      "source": [
        "# Using enumerate() - a better way to get position and value\n",
        "crimes = [\"theft\", \"assault\", \"burglary\", \"vandalism\"]\n",
        "\n",
        "for position, crime in enumerate(crimes):\n",
        "    print(f\"Crime #{position + 1}: {crime}\")"
      ]
    },
    {
      "cell_type": "code",
      "execution_count": 22,
      "id": "4319fca9",
      "metadata": {
        "id": "4319fca9"
      },
      "outputs": [
        {
          "name": "stdout",
          "output_type": "stream",
          "text": [
            "Day 4: 41 crimes (exceeded threshold)\n",
            "Day 5: 45 crimes (exceeded threshold)\n",
            "Day 6: 52 crimes (exceeded threshold)\n",
            "Day 7: 48 crimes (exceeded threshold)\n"
          ]
        }
      ],
      "source": [
        "# Practical example: Finding when threshold was exceeded\n",
        "daily_crimes = [32, 28, 35, 41, 45, 52, 48]\n",
        "threshold = 40\n",
        "\n",
        "for day, count in enumerate(daily_crimes):\n",
        "    if count > threshold:\n",
        "        print(f\"Day {day + 1}: {count} crimes (exceeded threshold)\")"
      ]
    },
    {
      "cell_type": "markdown",
      "id": "10c1f197",
      "metadata": {
        "cell_marker": "\"\"\"",
        "id": "10c1f197"
      },
      "source": [
        "## Part 9: While Loops\n",
        "\n",
        "**For when you don't know how many iterations you need**\n",
        "\n",
        "While loops are less common in data analysis but useful for certain scenarios."
      ]
    },
    {
      "cell_type": "code",
      "execution_count": 23,
      "id": "2695db8c",
      "metadata": {
        "id": "2695db8c"
      },
      "outputs": [
        {
          "name": "stdout",
          "output_type": "stream",
          "text": [
            "Day 1: 17 cases remaining\n",
            "Day 2: 14 cases remaining\n",
            "Day 3: 11 cases remaining\n",
            "Day 4: 8 cases remaining\n",
            "Day 5: 5 cases remaining\n",
            "Day 6: 2 cases remaining\n",
            "Day 7: -1 cases remaining\n",
            "\n",
            "All cases cleared in 7 days\n"
          ]
        }
      ],
      "source": [
        "# Tracking case clearance\n",
        "unsolved_cases = 20\n",
        "days = 0\n",
        "daily_clearance_rate = 3\n",
        "\n",
        "while unsolved_cases > 0:\n",
        "    unsolved_cases = unsolved_cases - daily_clearance_rate\n",
        "    days = days + 1\n",
        "    print(f\"Day {days}: {unsolved_cases} cases remaining\")\n",
        "\n",
        "print(f\"\\nAll cases cleared in {days} days\")"
      ]
    },
    {
      "cell_type": "markdown",
      "id": "f9ab4793",
      "metadata": {
        "cell_marker": "\"\"\"",
        "id": "f9ab4793"
      },
      "source": [
        "### When to Use While vs For:\n",
        "- **For loop**: When you have a collection to iterate through (most common)\n",
        "- **While loop**: When you're waiting for a condition to be met"
      ]
    },
    {
      "cell_type": "markdown",
      "id": "be331646",
      "metadata": {
        "cell_marker": "\"\"\"",
        "id": "be331646"
      },
      "source": [
        "## Part 10: Common Loop Errors and Debugging\n",
        "\n",
        "### Error 1: Modifying a List While Looping"
      ]
    },
    {
      "cell_type": "code",
      "execution_count": 24,
      "id": "01cb22f2",
      "metadata": {
        "id": "01cb22f2"
      },
      "outputs": [
        {
          "name": "stdout",
          "output_type": "stream",
          "text": [
            "['assault', 'burglary']\n"
          ]
        }
      ],
      "source": [
        "# Don't do this - it causes unexpected behavior\n",
        "crimes = [\"theft\", \"assault\", \"theft\", \"burglary\"]\n",
        "for crime in crimes:\n",
        "    if crime == \"theft\":\n",
        "        crimes.remove(crime)  # DON'T modify the list you're looping through\n",
        "\n",
        "# Instead, create a new list:\n",
        "crimes = [\"theft\", \"assault\", \"theft\", \"burglary\"]\n",
        "non_theft_crimes = []\n",
        "for crime in crimes:\n",
        "    if crime != \"theft\":\n",
        "        non_theft_crimes.append(crime)\n",
        "print(non_theft_crimes)"
      ]
    },
    {
      "cell_type": "markdown",
      "id": "c2f28339",
      "metadata": {
        "cell_marker": "\"\"\"",
        "id": "c2f28339"
      },
      "source": [
        "### Error 2: Off-by-One Errors with Range"
      ]
    },
    {
      "cell_type": "code",
      "execution_count": 25,
      "id": "06031211",
      "metadata": {
        "id": "06031211"
      },
      "outputs": [
        {
          "name": "stdout",
          "output_type": "stream",
          "text": [
            "Attempting to print days 1-7:\n",
            "Day 1\n",
            "Day 2\n",
            "Day 3\n",
            "Day 4\n",
            "Day 5\n",
            "Day 6\n"
          ]
        }
      ],
      "source": [
        "# Common mistake - forgetting that range stops BEFORE the end value\n",
        "print(\"Attempting to print days 1-7:\")\n",
        "for day in range(1, 7):  # This only goes to 6!\n",
        "    print(f\"Day {day}\")\n",
        "\n"
      ]
    },
    {
      "cell_type": "code",
      "execution_count": 26,
      "id": "Ela7BEB7HwQY",
      "metadata": {
        "id": "Ela7BEB7HwQY"
      },
      "outputs": [
        {
          "name": "stdout",
          "output_type": "stream",
          "text": [
            "\n",
            "Correct version for days 1-7:\n",
            "Day 1\n",
            "Day 2\n",
            "Day 3\n",
            "Day 4\n",
            "Day 5\n",
            "Day 6\n",
            "Day 7\n"
          ]
        }
      ],
      "source": [
        "print(\"\\nCorrect version for days 1-7:\")\n",
        "for day in range(1, 8):  # Need 8 to include 7\n",
        "    print(f\"Day {day}\")"
      ]
    },
    {
      "cell_type": "markdown",
      "id": "576354f8",
      "metadata": {
        "cell_marker": "\"\"\"",
        "id": "576354f8"
      },
      "source": [
        "## Part 11: Using AI Tools for Loop Help\n",
        "\n",
        "### Effective Prompts for Loop Problems:\n",
        "\n",
        "Example prompt:\n",
        "```\n",
        "I'm a criminology student who has never programmed before. I have this loop:\n",
        "\n",
        "[paste your code]\n",
        "\n",
        "Can you:\n",
        "1. Explain what each iteration does\n",
        "2. Show me the output step by step\n",
        "3. Help me understand why it's not working (if there's an error)\n",
        "```\n",
        "\n",
        "### Good Questions to Ask AI:\n",
        "- \"How do I count occurrences in a list using a loop?\"\n",
        "- \"What's the difference between for and while loops?\"\n",
        "- \"Why does my loop only process some items?\"\n",
        "- \"How do I loop through two lists at the same time?\""
      ]
    },
    {
      "cell_type": "markdown",
      "id": "0c7dff96",
      "metadata": {
        "cell_marker": "\"\"\"",
        "id": "0c7dff96"
      },
      "source": [
        "## Hands-On Exercise: Crime Analysis System\n",
        "\n",
        "Complete each step to build a crime analysis program:"
      ]
    },
    {
      "cell_type": "code",
      "execution_count": 27,
      "id": "fbc969ad",
      "metadata": {
        "id": "fbc969ad",
        "lines_to_next_cell": 2
      },
      "outputs": [
        {
          "name": "stdout",
          "output_type": "stream",
          "text": [
            "Total thefts: 6\n"
          ]
        }
      ],
      "source": [
        "# Given data\n",
        "weekly_crimes = [\n",
        "    \"theft\", \"assault\", \"theft\", \"burglary\", \"vandalism\",\n",
        "    \"theft\", \"assault\", \"robbery\", \"theft\", \"burglary\",\n",
        "    \"assault\", \"theft\", \"vandalism\", \"assault\", \"theft\"\n",
        "]\n",
        "\n",
        "response_times = [5, 12, 7, 15, 8, 6, 18, 14, 4, 11, 13, 9, 7, 16, 10]\n",
        "\n",
        "# Step 1: Count total thefts\n",
        "total_thefts = 0\n",
        "for crime in weekly_crimes:\n",
        "    if crime == 'theft':\n",
        "        total_thefts = total_thefts + 1\n",
        "\n",
        "print(f\"Total thefts: {total_thefts}\")\n"
      ]
    },
    {
      "cell_type": "code",
      "execution_count": 28,
      "id": "Rv8DNYp9H23J",
      "metadata": {
        "id": "Rv8DNYp9H23J"
      },
      "outputs": [
        {
          "name": "stdout",
          "output_type": "stream",
          "text": [
            "Total assaults: 4\n"
          ]
        }
      ],
      "source": [
        "# Step 2: Count total assaults\n",
        "total_assaults = 0\n",
        "for crime in weekly_crimes:\n",
        "    if crime == 'assault':\n",
        "        total_assaults = total_assaults + 1\n",
        "\n",
        "print(f\"Total assaults: {total_assaults}\")\n"
      ]
    },
    {
      "cell_type": "code",
      "execution_count": 30,
      "id": "ZxYmvXopIPLV",
      "metadata": {
        "id": "ZxYmvXopIPLV"
      },
      "outputs": [
        {
          "name": "stdout",
          "output_type": "stream",
          "text": [
            "Average response time: 10.333333333333334\n"
          ]
        }
      ],
      "source": [
        "# Step 3: Calculate average response time\n",
        "total_response_time = 0\n",
        "for rt in response_times:\n",
        "    total_response_time = total_response_time + rt\n",
        "\n",
        "ave_response_time = total_response_time / len(response_times)\n",
        "\n",
        "print(f\"Average response time: {ave_response_time}\")\n"
      ]
    },
    {
      "cell_type": "code",
      "execution_count": 31,
      "id": "P5C7hAL1IPzD",
      "metadata": {
        "id": "P5C7hAL1IPzD"
      },
      "outputs": [
        {
          "name": "stdout",
          "output_type": "stream",
          "text": [
            "Number of long response times (more than 10 minutes): 7\n"
          ]
        }
      ],
      "source": [
        "# Step 4: Count how many responses were over 10 minutes\n",
        "long_response_times = 0\n",
        "for rt in response_times:\n",
        "    if rt > 10:\n",
        "        long_response_times = long_response_times + 1\n",
        "\n",
        "print(f\"Number of long response times (more than 10 minutes): {long_response_times}\")\n"
      ]
    },
    {
      "cell_type": "code",
      "execution_count": 33,
      "id": "7U1oGNjPIQed",
      "metadata": {
        "id": "7U1oGNjPIQed"
      },
      "outputs": [
        {
          "name": "stdout",
          "output_type": "stream",
          "text": [
            "List of all violent crimes: ['assault', 'assault', 'robbery', 'assault', 'assault']\n"
          ]
        }
      ],
      "source": [
        "# Step 5: Create a list of all violent crimes (assault and robbery)\n",
        "violent_crimes = []\n",
        "\n",
        "for crime in weekly_crimes:\n",
        "    if crime in ['assault', 'robbery']:\n",
        "        violent_crimes.append(crime)\n",
        "\n",
        "print(f\"List of all violent crimes: {violent_crimes}\")"
      ]
    },
    {
      "cell_type": "markdown",
      "id": "2c6ecc84",
      "metadata": {
        "cell_marker": "\"\"\"",
        "id": "2c6ecc84"
      },
      "source": [
        "## Challenge Exercise: Pattern Detection\n",
        "\n",
        "Try this more complex analysis:"
      ]
    },
    {
      "cell_type": "code",
      "execution_count": 34,
      "id": "cf08ccc6",
      "metadata": {
        "id": "cf08ccc6",
        "lines_to_next_cell": 2
      },
      "outputs": [
        {
          "name": "stdout",
          "output_type": "stream",
          "text": [
            "Weekly average: 62.142857142857146\n",
            "Days exceeding the weekly average: ['Fri', 'Sat', 'Sun']\n"
          ]
        }
      ],
      "source": [
        "# Analyze crime patterns by day of week\n",
        "daily_counts = [45, 52, 48, 61, 73, 89, 67]  # Mon-Sun\n",
        "days = [\"Mon\", \"Tue\", \"Wed\", \"Thu\", \"Fri\", \"Sat\", \"Sun\"]\n",
        "\n",
        "# Find which days exceeded the weekly average\n",
        "weekly_average = sum(daily_counts) / len(daily_counts)\n",
        "\n",
        "days_exceeding_average = []\n",
        "tracker = 0 # we haven't learned range yet, so this is to keep track of the list position\n",
        "for daily_count in daily_counts:\n",
        "    if daily_count > weekly_average:\n",
        "        days_exceeding_average.append(days[tracker])\n",
        "    tracker = tracker + 1\n",
        "\n",
        "print(f\"Weekly average: {weekly_average}\")\n",
        "print(f\"Days exceeding the weekly average: {days_exceeding_average}\")"
      ]
    },
    {
      "cell_type": "markdown",
      "id": "a1cdf1ab",
      "metadata": {
        "cell_marker": "\"\"\"",
        "id": "a1cdf1ab"
      },
      "source": [
        "## Wrap-Up: Key Takeaways\n",
        "\n",
        "Today you learned:\n",
        "1. **For loops** process each item in a collection\n",
        "2. **Three essential patterns**: filtering, counting, accumulating\n",
        "3. **Range()** generates number sequences for counting\n",
        "4. **While loops** repeat until a condition is met\n",
        "5. **String operations** work inside loops for text analysis\n",
        "\n",
        "Remember:\n",
        "- Always initialize counters and accumulators before the loop\n",
        "- Don't modify a list while looping through it\n",
        "- Indentation matters - it defines what's inside the loop\n",
        "- Most data analysis uses for loops, not while loops\n",
        "\n",
        "## Before Next Class\n",
        "\n",
        "1. **Practice the three patterns:**\n",
        "   - Filter a list for items meeting criteria\n",
        "   - Count occurrences of something\n",
        "   - Build up a total or new list\n",
        "\n",
        "2. **Debug intentionally:**\n",
        "   - Remove a colon and see the error\n",
        "   - Forget to initialize a counter\n",
        "   - Try to modify a list while looping\n",
        "\n",
        "3. **Prepare for Problem Set 1:**\n",
        "   - We will cover if/else statements and functions in the next class\n",
        "   - After that, we will have covered the material for the first problem set\n",
        "   - Review: variables, lists, if statements, loops\n",
        "   - Practice combining these concepts\n",
        "\n",
        "## Quick Reference\n",
        "\n",
        "### Loop Patterns:\n",
        "```python\n",
        "# Filtering\n",
        "for item in list:\n",
        "    if condition:\n",
        "        # process item\n",
        "\n",
        "# Counting\n",
        "count = 0\n",
        "for item in list:\n",
        "    if condition:\n",
        "        count = count + 1\n",
        "\n",
        "# Accumulating\n",
        "total = 0\n",
        "for number in numbers:\n",
        "    total = total + number\n",
        "\n",
        "# Collecting\n",
        "results = []\n",
        "for item in list:\n",
        "    if condition:\n",
        "        results.append(item)\n",
        "```\n",
        "\n",
        "### Common Functions with Loops:\n",
        "- `range(n)` - numbers from 0 to n-1\n",
        "- `range(start, stop)` - numbers from start to stop-1\n",
        "- `len(list)` - get list length for range\n",
        "- `enumerate(list)` - get both position and value"
      ]
    }
  ],
  "metadata": {
    "colab": {
      "provenance": []
    },
    "jupytext": {
      "cell_metadata_filter": "-all",
      "main_language": "python",
      "notebook_metadata_filter": "-all"
    },
    "kernelspec": {
      "display_name": "base",
      "language": "python",
      "name": "python3"
    },
    "language_info": {
      "codemirror_mode": {
        "name": "ipython",
        "version": 3
      },
      "file_extension": ".py",
      "mimetype": "text/x-python",
      "name": "python",
      "nbconvert_exporter": "python",
      "pygments_lexer": "ipython3",
      "version": "3.13.2"
    }
  },
  "nbformat": 4,
  "nbformat_minor": 5
}
