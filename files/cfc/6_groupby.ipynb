{
 "cells": [
  {
   "cell_type": "markdown",
   "id": "5f75513f",
   "metadata": {},
   "source": [
    "\n",
    "[![Open In Colab](https://colab.research.google.com/assets/colab-badge.svg)](https://colab.research.google.com/github/zjelveh/zjelveh.github.io/blob/master/files/cfc/6_groupby.ipynb)\n",
    "\n",
    "**IMPORTANT**: Save your own copy!\n",
    "1. Click File → Save a copy in Drive\n",
    "2. Rename it\n",
    "3. Work in YOUR copy, not the original\n",
    "\n",
    "\n",
    "---\n",
    "\n",
    "# 6. Groupby and Aggregation - Finding Crime Patterns Across States and Years\n",
    "## CCJS 418E: Coding for Criminology\n",
    "\n",
    "Today's Goals:\n",
    "- Understand when filtering isn't enough and you need groupby\n",
    "- Master the \"split-apply-combine\" mental model for groupby operations\n",
    "- Use groupby to find patterns across states and years in crime data\n",
    "- Combine filtering with groupby for complex comparisons\n",
    "- Calculate multiple statistics at once with .agg()\n",
    "- Apply groupby to answer real criminological policy questions\n",
    "\n",
    "Note: This builds directly on filtering from last class. We're adding a powerful new tool!\n",
    "\"\"\""
   ]
  },
  {
   "cell_type": "markdown",
   "id": "ccd004d0",
   "metadata": {
    "cell_marker": "\"\"\""
   },
   "source": [
    "## Part 1: The Problem We Can't Answer Yet\n",
    "\n",
    "### When Filtering Isn't Enough\n",
    "\n",
    "Imagine you're working for the Department of Justice. They need to know:\n",
    "- Which 5 states have the highest average violent crime rates over the past decade?\n",
    "- Are crime rates increasing or decreasing in each state?\n",
    "- Which regions of the country have different crime patterns?\n",
    "\n",
    "We know how to filter for specific states or years, but how do we calculate statistics for EACH state or EACH year separately? This is where **groupby** becomes essential.\n",
    "\n",
    "**Connection to Computational Thinking: PATTERN RECOGNITION - finding patterns within categories of data**\n",
    "\n",
    "Let's start by loading our familiar state crime data and seeing why filtering alone isn't sufficient."
   ]
  },
  {
   "cell_type": "code",
   "execution_count": null,
   "id": "57cd8529",
   "metadata": {},
   "outputs": [],
   "source": [
    "# Import pandas as always\n",
    "import pandas as pd\n",
    "\n",
    "pd.options.display.max_columns=None\n",
    "\n",
    "# Load the state crime data we've been using\n",
    "url = 'https://raw.githubusercontent.com/zjelveh/zjelveh.github.io/refs/heads/master/files/cfc/state_crime.csv'\n",
    "df = pd.read_csv(filepath_or_buffer=url)\n",
    "\n",
    "# Clean column names like before - making them easier to work with\n",
    "df.columns = df.columns.str.replace('^Data.', '', regex=True)\n",
    "df.columns = df.columns.str.replace('\\\\.', '_', regex=True).str.lower()\n",
    "# Clean up column names one more time\n",
    "df.columns = df.columns.str.replace('rates_', '')\n",
    "\n",
    "print(\"Dataset loaded!\")\n",
    "print(f\"We have {len(df)} records covering {df['year'].min()} to {df['year'].max()}\")\n",
    "print(f\"Number of states: {df['state'].nunique()}\")\n"
   ]
  },
  {
   "cell_type": "code",
   "execution_count": null,
   "id": "4042d9bc",
   "metadata": {},
   "outputs": [],
   "source": [
    "df\n",
    "\n",
    "# Columns that start with \"totals\" are the counts for each state and year\n",
    "# Columns that DON'T start with \"totals\" are the rate columns"
   ]
  },
  {
   "cell_type": "code",
   "execution_count": null,
   "id": "8ff8d390",
   "metadata": {},
   "outputs": [],
   "source": [
    "# Here's what we CAN do with filtering:\n",
    "# We can look at one state at a time\n",
    "maryland_crimes = df[df['state'] == 'Maryland']\n",
    "maryland_avg = maryland_crimes['violent_all'].mean()\n",
    "print(f\"Maryland's average violent crime rate: {maryland_avg:.1f}\")\n"
   ]
  },
  {
   "cell_type": "code",
   "execution_count": null,
   "id": "5058c927",
   "metadata": {},
   "outputs": [],
   "source": [
    "virginia_crimes = df[df['state'] == 'Virginia']\n",
    "virginia_avg = virginia_crimes['violent_all'].mean()\n",
    "print(f\"Virginia's average violent crime rate: {virginia_avg:.1f}\")\n"
   ]
  },
  {
   "cell_type": "markdown",
   "id": "3d002110",
   "metadata": {
    "cell_marker": "\"\"\""
   },
   "source": [
    "### The Tedious Alternative\n",
    "\n",
    "Without groupby, to get every state's average, we'd need to:\n",
    "1. Filter for each state individually (50+ times!)\n",
    "2. Calculate the average for each filtered dataset\n",
    "3. Manually combine all the results\n",
    "\n",
    "This would take hundreds of lines of repetitive code. Instead, groupby can do this in a single line! Let's learn how."
   ]
  },
  {
   "cell_type": "markdown",
   "id": "cf13defc",
   "metadata": {
    "cell_marker": "\"\"\""
   },
   "source": [
    "## Part 2: The Groupby Mental Model\n",
    "\n",
    "### Understanding \"Split-Apply-Combine\"\n",
    "\n",
    "Groupby works in three steps that we call \"split-apply-combine\":\n",
    "1. **SPLIT** the data into groups (like splitting a deck of cards by suit)\n",
    "2. **APPLY** a calculation to each group (count the cards in each suit)\n",
    "3. **COMBINE** the results back together (report how many of each suit)\n",
    "\n",
    "Let's see this with a simplified example first, then apply it to our crime data."
   ]
  },
  {
   "cell_type": "code",
   "execution_count": null,
   "id": "4fa7c87f",
   "metadata": {},
   "outputs": [],
   "source": [
    "# Create a small example dataset to visualize the concept\n",
    "# Just 3 states, 2 years each \n",
    "demo_df = df[(df['state'].isin(['Maryland', 'Virginia', 'Delaware'])) & \n",
    "             (df['year'].isin([2018, 2019]))]\n",
    "\n",
    "print(\"Our mini demonstration dataset:\")\n",
    "print(demo_df[['state', 'year', 'violent_all']].sort_values(by=['state', 'year']))"
   ]
  },
  {
   "cell_type": "code",
   "execution_count": null,
   "id": "e9ab9951",
   "metadata": {},
   "outputs": [],
   "source": [
    "# Now let's see the three steps in action:\n",
    "\n",
    "# STEP 1: SPLIT - Python internally separates the data by state\n",
    "# (We don't see this happening, but imagine three separate piles)\n",
    "\n",
    "# STEP 2: APPLY - Calculate mean for each state's pile\n",
    "# Maryland: (454.0 + 453.6) / 2\n",
    "# Virginia: (200.0 + 208.1) / 2  \n",
    "# Delaware: (423.6 + 422.6) / 2\n",
    "\n",
    "# STEP 3: COMBINE - Put results into a new structure\n",
    "avg_violent = demo_df.groupby(by='state')['violent_all'].mean()\n",
    "\n",
    "print(\"Average violent crime rate by state (2018-2019):\")\n",
    "print(avg_violent)\n",
    "print(\"\\nNotice: We got one result per state, not per row!\")"
   ]
  },
  {
   "cell_type": "markdown",
   "id": "904f5b60",
   "metadata": {
    "cell_marker": "\"\"\""
   },
   "source": [
    "### Quick Check 1\n",
    "\n",
    "Look at the output above. If a state had violent crime rates of 400 in 2018 and 500 in 2019, what would its average be? Think about it before moving on!"
   ]
  },
  {
   "cell_type": "markdown",
   "id": "f354d763",
   "metadata": {
    "cell_marker": "\"\"\""
   },
   "source": [
    "## Part 3: Core Groupby Operations\n",
    "\n",
    "### The Essential Methods: size(), mean(), sum(), max(), min()\n",
    "\n",
    "Different methods answer different questions. Let's explore each one using our full dataset, focusing on recent years for cleaner analysis."
   ]
  },
  {
   "cell_type": "code",
   "execution_count": null,
   "id": "bbded51c",
   "metadata": {},
   "outputs": [],
   "source": [
    "# Focus on recent decade for most examples\n",
    "recent_df = df[df['year'] >= 2010]\n",
    "print(f\"Working with {len(recent_df)} records from 2010 onwards\")"
   ]
  },
  {
   "cell_type": "code",
   "execution_count": null,
   "id": "ad78424a",
   "metadata": {},
   "outputs": [],
   "source": [
    "# METHOD 1: .size() - How many records in each group?\n",
    "# This counts rows, regardless of what's in them\n",
    "records_per_state = recent_df.groupby(by='state').size()\n",
    "\n",
    "print(\"Number of records per state:\")\n",
    "print(records_per_state.head(n=5))\n"
   ]
  },
  {
   "cell_type": "code",
   "execution_count": null,
   "id": "8877c780",
   "metadata": {},
   "outputs": [],
   "source": [
    "# METHOD 2: .mean() - Calculate averages for each group\n",
    "# This is perfect for finding typical crime rates\n",
    "avg_property_by_state = recent_df.groupby(by='state')['property_all'].mean()\n",
    "\n",
    "print(\"Average property crime rate by state (2010-2019):\")\n",
    "print(avg_property_by_state.nlargest(n=5))\n",
    "print(\"\\nThese states have the highest property crime on average\")"
   ]
  },
  {
   "cell_type": "code",
   "execution_count": null,
   "id": "4ed44eef",
   "metadata": {},
   "outputs": [],
   "source": [
    "# METHOD 3: .sum() - Add up values in each group\n",
    "# Use this with TOTALS not RATES (rates don't add meaningfully)\n",
    "total_violent_by_state = recent_df.groupby(by='state')['totals_violent_all'].sum()\n",
    "\n",
    "print(\"Total violent crimes by state (2010-2019 combined):\")\n",
    "print(total_violent_by_state.nlargest(n=5))\n",
    "print(\"\\nNote: Larger states have more total crimes (population effect)\")"
   ]
  },
  {
   "cell_type": "code",
   "execution_count": null,
   "id": "4632a74a",
   "metadata": {},
   "outputs": [],
   "source": [
    "# METHOD 4: .max() and .min() - Find extremes in each group\n",
    "# Useful for finding best/worst years\n",
    "worst_year_by_state = recent_df.groupby(by='state')['violent_all'].max()\n",
    "best_year_by_state = recent_df.groupby(by='state')['violent_all'].min()\n",
    "\n",
    "print(\"Each state's WORST violent crime rate (2010-2019):\")\n",
    "print(worst_year_by_state.nlargest(n=5))\n",
    "\n",
    "print(\"\\nEach state's BEST violent crime rate (2010-2019):\")\n",
    "print(best_year_by_state.nsmallest(n=5))"
   ]
  },
  {
   "cell_type": "markdown",
   "id": "48684cdc",
   "metadata": {
    "cell_marker": "\"\"\""
   },
   "source": [
    "### Quick Check 2\n",
    "\n",
    "You want to find which states have seen the most murders total over the past decade. \n",
    "Would you use:\n",
    "- `groupby('state')['violent_murder'].sum()` \n",
    "- `groupby('state')['totals_violent_murder'].sum()`\n",
    "\n",
    "Think about the difference between rates and totals!"
   ]
  },
  {
   "cell_type": "markdown",
   "id": "f7c69194",
   "metadata": {
    "cell_marker": "\"\"\""
   },
   "source": [
    "## Part 4: The Power of Filter-Then-Group\n",
    "\n",
    "### Combining What You Know\n",
    "\n",
    "One of the most powerful patterns in data analysis is filtering your data first, then grouping. This lets you compare different time periods, crime types, or any other subset.\n",
    "\n",
    "Let's answer a real policy question: \"How has violent crime changed between the 2000s and 2010s?\""
   ]
  },
  {
   "cell_type": "code",
   "execution_count": null,
   "id": "b67d9703",
   "metadata": {},
   "outputs": [],
   "source": [
    "# PATTERN: Filter for time period, then group by state\n",
    "\n",
    "# First, get crime rates for the 2000s\n",
    "decade_2000s = df[(df['year'] >= 2000) & (df['year'] <= 2009)]\n",
    "crime_2000s = decade_2000s.groupby(by='state')['violent_all'].mean()\n"
   ]
  },
  {
   "cell_type": "code",
   "execution_count": null,
   "id": "1916d872",
   "metadata": {},
   "outputs": [],
   "source": [
    "\n",
    "# Then, get crime rates for the 2010s\n",
    "decade_2010s = df[(df['year'] >= 2010) & (df['year'] <= 2019)]\n",
    "crime_2010s = decade_2010s.groupby(by='state')['violent_all'].mean()\n"
   ]
  },
  {
   "cell_type": "code",
   "execution_count": null,
   "id": "174f67b8",
   "metadata": {},
   "outputs": [],
   "source": [
    "\n",
    "# Calculate improvement (positive = crime went down)\n",
    "improvement = crime_2000s - crime_2010s\n"
   ]
  },
  {
   "cell_type": "code",
   "execution_count": null,
   "id": "793132b2",
   "metadata": {},
   "outputs": [],
   "source": [
    "\n",
    "print(\"States with BIGGEST DECREASE in violent crime (2000s → 2010s):\")\n",
    "print(improvement.nlargest(n=5))\n",
    "print(\"\\nThese states have made the most progress!\")"
   ]
  },
  {
   "cell_type": "code",
   "execution_count": null,
   "id": "ad5ca271",
   "metadata": {},
   "outputs": [],
   "source": [
    "# Which states got worse?\n",
    "worsened = improvement[improvement < 0].sort_values()\n",
    "\n",
    "if len(worsened) > 0:\n",
    "    print(\"States where violent crime INCREASED:\")\n",
    "    print(worsened)\n",
    "else:\n",
    "    print(\"Good news: No states saw increases in violent crime!\")"
   ]
  },
  {
   "cell_type": "markdown",
   "id": "241c1e6e",
   "metadata": {
    "cell_marker": "\"\"\""
   },
   "source": [
    "### Quick Check 3\n",
    "\n",
    "How would you find the 5 states with the highest burglary rates specifically in 2019? \n",
    "Write the filter and groupby operations in your head before looking at the solution below.\n",
    "\n",
    "<details>\n",
    "<summary>Click for answer</summary>\n",
    "\n",
    "```python\n",
    "# Filter for 2019 first\n",
    "df_2019 = df[df['year'] == 2019]\n",
    "# Then group by state and get the mean (though there's only one 2019 per state)\n",
    "# Or just sort the filtered data directly!\n",
    "top_burglary_2019 = df_2019.nlargest(5, 'property_burglary')[['state', 'property_burglary']]\n",
    "```\n",
    "</details>"
   ]
  },
  {
   "cell_type": "markdown",
   "id": "cb791a53",
   "metadata": {
    "cell_marker": "\"\"\""
   },
   "source": [
    "## Part 5: Grouping by Multiple Categories\n",
    "\n",
    "### When One Group Isn't Enough\n",
    "\n",
    "Sometimes we need to group by multiple things at once. For example, to see crime trends over time for each state, we need to group by BOTH state AND year."
   ]
  },
  {
   "cell_type": "code",
   "execution_count": null,
   "id": "dc044f9f",
   "metadata": {},
   "outputs": [],
   "source": [
    "# Group by both state and year to see trends\n",
    "state_year_crime = recent_df.groupby(by=['state', 'year'])['property_all'].mean()\n",
    "\n",
    "# This creates a \"MultiIndex\" - let's look at one state's trend\n",
    "print(\"Maryland's property crime trend:\")\n",
    "print(state_year_crime['Maryland'])\n",
    "print(\"\\nNotice how crime has generally decreased over the decade!\")"
   ]
  },
  {
   "cell_type": "code",
   "execution_count": null,
   "id": "754fa062",
   "metadata": {},
   "outputs": [],
   "source": [
    "# For easier manipulation, we can reset the index to make it a regular DataFrame\n",
    "crime_by_state_year = recent_df.groupby(by=['state', 'year'])['violent_all'].mean().reset_index()\n",
    "crime_by_state_year\n"
   ]
  },
  {
   "cell_type": "code",
   "execution_count": null,
   "id": "1a8fce10",
   "metadata": {},
   "outputs": [],
   "source": [
    "\n",
    "# Now we can easily find extremes\n",
    "worst_state_years = crime_by_state_year.nlargest(n=5, columns='violent_all')\n",
    "print(\"The 5 worst state-years for violent crime (2010-2019):\")\n",
    "print(worst_state_years)\n"
   ]
  },
  {
   "cell_type": "code",
   "execution_count": null,
   "id": "6236153f",
   "metadata": {},
   "outputs": [],
   "source": [
    "\n",
    "best_state_years = crime_by_state_year.nsmallest(n=5, columns='violent_all')\n",
    "print(\"\\nThe 5 best state-years for violent crime (2010-2019):\")\n",
    "print(best_state_years)"
   ]
  },
  {
   "cell_type": "markdown",
   "id": "b121b41f",
   "metadata": {
    "cell_marker": "\"\"\""
   },
   "source": [
    "## Part 7: Hands-On Exercise - Regional Crime Analysis\n",
    "\n",
    "Let's apply everything we've learned to compare crime across different regions of the United States. This is the kind of analysis that informs federal policy and resource allocation."
   ]
  },
  {
   "cell_type": "code",
   "execution_count": null,
   "id": "81a8975a",
   "metadata": {},
   "outputs": [],
   "source": [
    "# Define regions (simplified - you could improve these groupings!)\n",
    "northeast = ['Connecticut', 'Maine', 'Massachusetts', 'New Hampshire', \n",
    "             'Rhode Island', 'Vermont', 'New Jersey', 'New York', 'Pennsylvania']\n",
    "south = ['Delaware', 'Florida', 'Georgia', 'Maryland', 'North Carolina', \n",
    "         'South Carolina', 'Virginia', 'District of Columbia', 'West Virginia',\n",
    "         'Kentucky', 'Tennessee', 'Alabama', 'Mississippi', 'Arkansas', \n",
    "         'Louisiana', 'Oklahoma', 'Texas']\n",
    "midwest = ['Illinois', 'Indiana', 'Michigan', 'Ohio', 'Wisconsin',\n",
    "           'Iowa', 'Kansas', 'Minnesota', 'Missouri', 'Nebraska', \n",
    "           'North Dakota', 'South Dakota']\n",
    "west = ['Arizona', 'Colorado', 'Idaho', 'Montana', 'Nevada', 'New Mexico', \n",
    "        'Utah', 'Wyoming', 'Alaska', 'California', 'Hawaii', 'Oregon', 'Washington']\n",
    "\n",
    "# Function to assign region based on state name\n",
    "def assign_region(state):\n",
    "    if state in northeast:\n",
    "        return 'Northeast'\n",
    "    elif state in south:\n",
    "        return 'South'  \n",
    "    elif state in midwest:\n",
    "        return 'Midwest'\n",
    "    elif state in west:\n",
    "        return 'West'\n",
    "    else:\n",
    "        return 'Other'\n",
    "\n",
    "# Add region column to our recent data\n",
    "recent_df['region'] = recent_df['state'].apply(assign_region)\n",
    "\n",
    "print(\"Regions assigned! First few rows:\")\n",
    "print(recent_df[['state', 'region']].head(n=10))"
   ]
  },
  {
   "cell_type": "code",
   "execution_count": null,
   "id": "912283a4",
   "metadata": {},
   "outputs": [],
   "source": [
    "# Exercise 1: Which region has the highest average violent crime rate?\n",
    "regional_violent = None  # YOUR CODE HERE - group by region, get mean of violent_all\n",
    "\n",
    "print(\"Average violent crime rate by region:\")\n",
    "# YOUR PRINT STATEMENT HERE"
   ]
  },
  {
   "cell_type": "code",
   "execution_count": null,
   "id": "e71d5c60",
   "metadata": {},
   "outputs": [],
   "source": [
    "# Exercise 2: How do property crime rates compare across regions?\n",
    "regional_property = None  # YOUR CODE HERE\n",
    "\n",
    "print(\"Average property crime rate by region:\")\n",
    "# YOUR PRINT STATEMENT HERE"
   ]
  },
  {
   "cell_type": "code",
   "execution_count": null,
   "id": "a4f39166",
   "metadata": {},
   "outputs": [],
   "source": [
    "# Exercise 3: Which region has seen the biggest decrease from 2010 to 2019?\n",
    "# Hint: Filter for 2010, group by region, then filter for 2019, group by region, then compare\n",
    "\n",
    "crime_2010 = None  # YOUR CODE HERE - filter for 2010, group by region\n",
    "crime_2019 = None  # YOUR CODE HERE - filter for 2019, group by region\n",
    "regional_change = None  # YOUR CODE HERE - calculate the difference\n",
    "\n",
    "print(\"Change in violent crime by region (2010 to 2019):\")\n",
    "# YOUR PRINT STATEMENT HERE"
   ]
  },
  {
   "cell_type": "code",
   "execution_count": null,
   "id": "d89c6b45",
   "metadata": {},
   "outputs": [],
   "source": [
    "# Exercise 4: Which specific violent crime type varies most by region?\n",
    "# Look at murder, rape, robbery, and assault separately\n",
    "\n",
    "regional_murder = None  # YOUR CODE HERE\n",
    "regional_rape = None  # YOUR CODE HERE\n",
    "regional_robbery = None  # YOUR CODE HERE\n",
    "regional_assault = None  # YOUR CODE HERE\n",
    "\n",
    "# Calculate the range (max - min) for each crime type\n",
    "murder_range = None  # YOUR CODE HERE\n",
    "rape_range = None  # YOUR CODE HERE\n",
    "robbery_range = None  # YOUR CODE HERE\n",
    "assault_range = None  # YOUR CODE HERE\n",
    "\n",
    "print(f\"Range by crime type across regions:\")\n",
    "print(f\"Murder: {murder_range:.1f}\")\n",
    "print(f\"Rape: {rape_range:.1f}\")\n",
    "print(f\"Robbery: {robbery_range:.1f}\")\n",
    "print(f\"Assault: {assault_range:.1f}\")"
   ]
  },
  {
   "cell_type": "markdown",
   "id": "a77d41f2",
   "metadata": {
    "cell_marker": "\"\"\""
   },
   "source": [
    "## Quick Reference Card\n",
    "\n",
    "### Essential Groupby Patterns\n",
    "\n",
    "```python\n",
    "# BASIC GROUPBY OPERATIONS\n",
    "\n",
    "# Count records in each group\n",
    "df.groupby('column').size()\n",
    "\n",
    "# Average of a column for each group\n",
    "df.groupby('column')['numeric_column'].mean()\n",
    "\n",
    "# Sum totals for each group (use with counts, not rates!)\n",
    "df.groupby('column')['totals_column'].sum()\n",
    "\n",
    "# Find maximum/minimum in each group\n",
    "df.groupby('column')['numeric_column'].max()\n",
    "df.groupby('column')['numeric_column'].min()\n",
    "\n",
    "# FILTER THEN GROUP\n",
    "\n",
    "# First filter your data\n",
    "filtered = df[df['year'] >= 2015]\n",
    "# Then group the filtered data\n",
    "filtered.groupby('state')['column'].mean()\n",
    "\n",
    "# MULTIPLE GROUPING\n",
    "\n",
    "# Group by two or more columns\n",
    "df.groupby(['column1', 'column2']).size()\n",
    "# Reset index to make it easier to work with\n",
    "df.groupby(['column1', 'column2']).mean().reset_index()\n",
    "\n",
    "\n",
    "# TOP N IN EACH GROUP\n",
    "\n",
    "# Find top 5 in each group\n",
    "df.groupby('column')['value'].nlargest(5)\n",
    "```"
   ]
  },
  {
   "cell_type": "markdown",
   "id": "da7c0e88",
   "metadata": {
    "cell_marker": "\"\"\""
   },
   "source": [
    "## Summary: Why Groupby Matters\n",
    "\n",
    "Today you learned to:\n",
    "- Use groupby to calculate statistics for each category separately\n",
    "- Apply the \"split-apply-combine\" mental model\n",
    "- Combine filtering with groupby for complex comparisons\n",
    "- Group by multiple columns to find detailed patterns\n",
    "- Use .agg() to get multiple statistics at once\n",
    "\n",
    "These skills let you answer questions like:\n",
    "- Which states have the highest crime rates?\n",
    "- How has crime changed over time?\n",
    "- Which regions show different patterns?\n",
    "- Are certain crimes increasing while others decrease?\n",
    "\n",
    "### Next Class\n",
    "We'll learn to visualize these patterns, turning our groupby results into compelling charts that tell the story of crime in America.\n",
    "\n",
    "### AI Prompting Tips for Groupby\n",
    "\n",
    "When asking AI for help with groupby:\n",
    "\n",
    "```\n",
    "\"I have a DataFrame with columns: state, year, violent_all, totals_violent_all\n",
    "I want to find the average violent crime rate for each state.\n",
    "Should I use groupby with mean() on the rates column or sum() on the totals column?\"\n",
    "```\n",
    "\n",
    "Be specific about:\n",
    "- What columns you have\n",
    "- What you're grouping by\n",
    "- Whether you want averages, totals, counts, etc.\n",
    "- Whether you're working with rates or raw counts\n",
    "```"
   ]
  },
  {
   "cell_type": "markdown",
   "id": "fa49ef6c",
   "metadata": {
    "cell_marker": "\"\"\""
   },
   "source": [
    "## Practice Problems\n",
    "\n",
    "Try these on your own:\n",
    "\n",
    "1. Find the 3 states with the highest murder rates in 2019\n",
    "2. Which state has seen the biggest decrease in property crime from 1990 to 2019?\n",
    "3. Calculate the correlation between violent and property crime rates by state\n",
    "4. Find which day of the dataset had the highest total murders nationwide (hint: group by year, sum totals)\n",
    "5. Which state has the most consistent crime rate (smallest difference between min and max)?\n",
    "\n",
    "Remember: You're encouraged to use AI tools to help, but make sure you understand what each line does!"
   ]
  }
 ],
 "metadata": {
  "jupytext": {
   "cell_metadata_filter": "-all",
   "main_language": "python",
   "notebook_metadata_filter": "-all"
  },
  "kernelspec": {
   "display_name": "base",
   "language": "python",
   "name": "python3"
  },
  "language_info": {
   "codemirror_mode": {
    "name": "ipython",
    "version": 3
   },
   "file_extension": ".py",
   "mimetype": "text/x-python",
   "name": "python",
   "nbconvert_exporter": "python",
   "pygments_lexer": "ipython3",
   "version": "3.13.2"
  }
 },
 "nbformat": 4,
 "nbformat_minor": 5
}
