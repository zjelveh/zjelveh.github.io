{
 "cells": [
  {
   "cell_type": "markdown",
   "id": "9dec4526",
   "metadata": {},
   "source": [
    "\n",
    "[![Open In Colab](https://colab.research.google.com/assets/colab-badge.svg)](https://colab.research.google.com/github/YOUR_USERNAME/CCJS418E-Fall2025/blob/main/lectures/lecture2_intro_python.ipynb)\n",
    "\n",
    "\n",
    "Lecture 3: Loops - Analyzing Many Things at Once\n",
    "CCJS 418E: Coding for Criminology\n",
    "\n",
    "Today's Goals:\n",
    "- Learn to process multiple data points efficiently with loops\n",
    "- Master the for loop - your main tool for data analysis\n",
    "- Understand common loop patterns (counting, accumulating, filtering)\n",
    "- Practice debugging loop errors"
   ]
  },
  {
   "cell_type": "markdown",
   "id": "50170c79",
   "metadata": {
    "cell_marker": "\"\"\""
   },
   "source": [
    "## Part 1: The Need for Loops\n",
    "\n",
    "So far, we've analyzed individual data points or used built-in functions like `sum()` and `max()`. \n",
    "But what if you need to:\n",
    "- Check each of 1,000 arrest records for a specific charge?\n",
    "- Count how many crimes happened on weekends vs weekdays?\n",
    "- Flag all response times over 10 minutes?\n",
    "\n",
    "You need loops - code that repeats actions for each item in your data.\n",
    "\n",
    "**Connection to Computational Thinking: AUTOMATION - replacing repetitive manual tasks with systematic processing**"
   ]
  },
  {
   "cell_type": "code",
   "execution_count": null,
   "id": "67fef710",
   "metadata": {},
   "outputs": [],
   "source": [
    "# Without loops - inefficient and error-prone\n",
    "monday_crimes = 45\n",
    "tuesday_crimes = 52\n",
    "wednesday_crimes = 48\n",
    "thursday_crimes = 61\n",
    "friday_crimes = 73\n",
    "\n",
    "print(f\"Monday: {monday_crimes}\")\n",
    "print(f\"Tuesday: {tuesday_crimes}\")\n",
    "print(f\"Wednesday: {wednesday_crimes}\")\n",
    "print(f\"Thursday: {thursday_crimes}\")\n",
    "print(f\"Friday: {friday_crimes}\")"
   ]
  },
  {
   "cell_type": "code",
   "execution_count": null,
   "id": "65b6bb8a",
   "metadata": {},
   "outputs": [],
   "source": [
    "# With loops - efficient and scalable\n",
    "daily_crimes = [45, 52, 48, 61, 73]\n",
    "days = [\"Monday\", \"Tuesday\", \"Wednesday\", \"Thursday\", \"Friday\"]\n",
    "\n",
    "for i in range(len(days)):\n",
    "    print(f\"{days[i]}: {daily_crimes[i]}\")"
   ]
  },
  {
   "cell_type": "markdown",
   "id": "5053603c",
   "metadata": {
    "cell_marker": "\"\"\""
   },
   "source": [
    "## Part 2: For Loops with Lists\n",
    "\n",
    "### Basic Syntax\n",
    "\n",
    "The for loop processes each item in a list, one at a time:"
   ]
  },
  {
   "cell_type": "code",
   "execution_count": null,
   "id": "a83e2a5b",
   "metadata": {},
   "outputs": [],
   "source": [
    "# Basic for loop structure\n",
    "crimes = [\"theft\", \"assault\", \"burglary\", \"vandalism\"]\n",
    "\n",
    "for crime in crimes:\n",
    "    print(f\"Processing: {crime}\")"
   ]
  },
  {
   "cell_type": "markdown",
   "id": "5d109ceb",
   "metadata": {
    "cell_marker": "\"\"\""
   },
   "source": [
    "### How It Works:\n",
    "1. `for` tells Python we're starting a loop\n",
    "2. `crime` is a variable that takes each value from the list (one at a time)\n",
    "3. `in crimes` specifies which list to loop through\n",
    "4. The indented code runs once for each item"
   ]
  },
  {
   "cell_type": "code",
   "execution_count": null,
   "id": "c2465df3",
   "metadata": {},
   "outputs": [],
   "source": [
    "# The loop variable can be named anything\n",
    "response_times = [4, 7, 12, 5, 8, 15]\n",
    "\n",
    "for time in response_times:\n",
    "    print(f\"Response time: {time} minutes\")"
   ]
  },
  {
   "cell_type": "markdown",
   "id": "0c3b1941",
   "metadata": {
    "cell_marker": "\"\"\""
   },
   "source": [
    "### Common Mistake: Forgetting the Colon"
   ]
  },
  {
   "cell_type": "code",
   "execution_count": null,
   "id": "9c1e43b3",
   "metadata": {},
   "outputs": [],
   "source": [
    "# This will cause a SyntaxError\n",
    "# for crime in crimes\n",
    "#     print(crime)\n",
    "\n",
    "# Correct version:\n",
    "for crime in crimes:\n",
    "    print(crime)"
   ]
  },
  {
   "cell_type": "markdown",
   "id": "3ebe426b",
   "metadata": {
    "cell_marker": "\"\"\""
   },
   "source": [
    "## Part 3: Loop Pattern 1 - Filtering\n",
    "\n",
    "**Finding items that meet certain criteria**"
   ]
  },
  {
   "cell_type": "code",
   "execution_count": null,
   "id": "a7425802",
   "metadata": {},
   "outputs": [],
   "source": [
    "# Find all slow response times\n",
    "response_times = [4, 7, 12, 5, 8, 15, 3, 11, 9]\n",
    "threshold = 10\n",
    "\n",
    "print(\"Slow responses (over 10 minutes):\")\n",
    "for time in response_times:\n",
    "    if time > threshold:\n",
    "        print(f\"  - {time} minutes\")"
   ]
  },
  {
   "cell_type": "code",
   "execution_count": null,
   "id": "cad0c225",
   "metadata": {},
   "outputs": [],
   "source": [
    "# Filter crime types\n",
    "all_crimes = [\"theft\", \"assault\", \"burglary\", \"theft\", \"vandalism\", \"robbery\", \"theft\"]\n",
    "\n",
    "print(\"Property crimes:\")\n",
    "for crime in all_crimes:\n",
    "    if crime in [\"theft\", \"burglary\", \"robbery\"]:\n",
    "        print(f\"  - {crime}\")"
   ]
  },
  {
   "cell_type": "markdown",
   "id": "9f3d98ff",
   "metadata": {
    "cell_marker": "\"\"\""
   },
   "source": [
    "## Part 4: Loop Pattern 2 - Counting\n",
    "\n",
    "**Counting occurrences of specific items**"
   ]
  },
  {
   "cell_type": "code",
   "execution_count": null,
   "id": "860f8b8d",
   "metadata": {},
   "outputs": [],
   "source": [
    "# Count specific crime type\n",
    "crimes_reported = [\"theft\", \"assault\", \"theft\", \"vandalism\", \"theft\", \"burglary\"]\n",
    "theft_count = 0\n",
    "\n",
    "for crime in crimes_reported:\n",
    "    if crime == \"theft\":\n",
    "        theft_count = theft_count + 1\n",
    "\n",
    "print(f\"Total thefts: {theft_count}\")"
   ]
  },
  {
   "cell_type": "code",
   "execution_count": null,
   "id": "dbeba845",
   "metadata": {},
   "outputs": [],
   "source": [
    "# Count multiple categories\n",
    "crimes_reported = [\"theft\", \"assault\", \"theft\", \"vandalism\", \"theft\", \"burglary\", \"assault\"]\n",
    "property_crimes = 0\n",
    "violent_crimes = 0\n",
    "\n",
    "for crime in crimes_reported:\n",
    "    if crime in [\"theft\", \"burglary\", \"vandalism\"]:\n",
    "        property_crimes = property_crimes + 1\n",
    "    elif crime in [\"assault\", \"robbery\"]:\n",
    "        violent_crimes = violent_crimes + 1\n",
    "\n",
    "print(f\"Property crimes: {property_crimes}\")\n",
    "print(f\"Violent crimes: {violent_crimes}\")"
   ]
  },
  {
   "cell_type": "markdown",
   "id": "fda2baf0",
   "metadata": {
    "cell_marker": "\"\"\""
   },
   "source": [
    "### Common Mistake: Forgetting to Initialize the Counter"
   ]
  },
  {
   "cell_type": "code",
   "execution_count": null,
   "id": "fc447cab",
   "metadata": {},
   "outputs": [],
   "source": [
    "# This will cause a NameError\n",
    "# for crime in crimes_reported:\n",
    "#     if crime == \"theft\":\n",
    "#         count = count + 1  # Error: 'count' not defined\n",
    "\n",
    "# Correct version:\n",
    "count = 0  # Initialize first!\n",
    "for crime in crimes_reported:\n",
    "    if crime == \"theft\":\n",
    "        count = count + 1"
   ]
  },
  {
   "cell_type": "markdown",
   "id": "07a4dea3",
   "metadata": {
    "cell_marker": "\"\"\""
   },
   "source": [
    "## Part 5: Loop Pattern 3 - Accumulating\n",
    "\n",
    "**Building up a total or collecting results**"
   ]
  },
  {
   "cell_type": "code",
   "execution_count": null,
   "id": "cb2e453c",
   "metadata": {},
   "outputs": [],
   "source": [
    "# Calculate total response time\n",
    "response_times = [4, 7, 12, 5, 8, 15]\n",
    "total_time = 0\n",
    "\n",
    "for time in response_times:\n",
    "    total_time = total_time + time\n",
    "\n",
    "average_time = total_time / len(response_times)\n",
    "print(f\"Total response time: {total_time} minutes\")\n",
    "print(f\"Average response time: {average_time:.1f} minutes\")"
   ]
  },
  {
   "cell_type": "code",
   "execution_count": null,
   "id": "7ce360a8",
   "metadata": {},
   "outputs": [],
   "source": [
    "# Collect filtered results in a new list\n",
    "all_times = [4, 7, 12, 5, 8, 15, 3, 11, 9]\n",
    "slow_responses = []\n",
    "\n",
    "for time in all_times:\n",
    "    if time > 10:\n",
    "        slow_responses.append(time)\n",
    "\n",
    "print(f\"Slow responses: {slow_responses}\")"
   ]
  },
  {
   "cell_type": "markdown",
   "id": "7a74ab3f",
   "metadata": {
    "cell_marker": "\"\"\""
   },
   "source": [
    "## Part 6: Working with Strings in Loops\n",
    "\n",
    "**Analyzing text data like crime descriptions**"
   ]
  },
  {
   "cell_type": "code",
   "execution_count": null,
   "id": "34faee1b",
   "metadata": {},
   "outputs": [],
   "source": [
    "# Standardizing crime reports\n",
    "crime_reports = [\"THEFT on Main St\", \"assault - downtown\", \"Burglary at 5th Ave\", \"ASSAULT near park\"]\n",
    "\n",
    "print(\"Standardized reports:\")\n",
    "for report in crime_reports:\n",
    "    # Convert to lowercase for consistent analysis\n",
    "    standardized = report.lower()\n",
    "    print(standardized)"
   ]
  },
  {
   "cell_type": "code",
   "execution_count": null,
   "id": "85410519",
   "metadata": {},
   "outputs": [],
   "source": [
    "# Categorizing crimes from descriptions\n",
    "descriptions = [\n",
    "    \"theft from vehicle on main street\",\n",
    "    \"assault with weapon downtown\",\n",
    "    \"residential burglary on 5th avenue\",\n",
    "    \"theft of bicycle at park\"\n",
    "]\n",
    "\n",
    "property_count = 0\n",
    "violent_count = 0\n",
    "\n",
    "for description in descriptions:\n",
    "    # Convert to lowercase for reliable checking\n",
    "    desc_lower = description.lower()\n",
    "    \n",
    "    if \"theft\" in desc_lower or \"burglary\" in desc_lower:\n",
    "        property_count = property_count + 1\n",
    "        print(f\"Property crime: {description}\")\n",
    "    elif \"assault\" in desc_lower:\n",
    "        violent_count = violent_count + 1\n",
    "        print(f\"Violent crime: {description}\")\n",
    "\n",
    "print(f\"\\nTotals - Property: {property_count}, Violent: {violent_count}\")"
   ]
  },
  {
   "cell_type": "markdown",
   "id": "32d04abe",
   "metadata": {
    "cell_marker": "\"\"\""
   },
   "source": [
    "## Part 7: Range and Counting\n",
    "\n",
    "**Using range() to generate numbers**"
   ]
  },
  {
   "cell_type": "code",
   "execution_count": null,
   "id": "72987196",
   "metadata": {},
   "outputs": [],
   "source": [
    "# range(n) generates numbers from 0 to n-1\n",
    "print(\"First 5 days:\")\n",
    "for day in range(5):\n",
    "    print(f\"Day {day}\")"
   ]
  },
  {
   "cell_type": "code",
   "execution_count": null,
   "id": "6138c752",
   "metadata": {},
   "outputs": [],
   "source": [
    "# range(start, stop) generates from start to stop-1\n",
    "print(\"\\nWeek 2 (days 7-13):\")\n",
    "for day in range(7, 14):\n",
    "    print(f\"Day {day}\")"
   ]
  },
  {
   "cell_type": "code",
   "execution_count": null,
   "id": "242d650b",
   "metadata": {},
   "outputs": [],
   "source": [
    "# Using range to repeat actions\n",
    "warnings_to_issue = 3\n",
    "\n",
    "for warning_number in range(warnings_to_issue):\n",
    "    print(f\"Warning #{warning_number + 1} issued\")"
   ]
  },
  {
   "cell_type": "markdown",
   "id": "ccdb0845",
   "metadata": {
    "cell_marker": "\"\"\""
   },
   "source": [
    "## Part 8: Loops with Indices\n",
    "\n",
    "**Sometimes you need both the position AND the value**"
   ]
  },
  {
   "cell_type": "code",
   "execution_count": null,
   "id": "2b553e08",
   "metadata": {},
   "outputs": [],
   "source": [
    "# Using range(len()) to get positions\n",
    "crimes = [\"theft\", \"assault\", \"burglary\", \"vandalism\"]\n",
    "\n",
    "for i in range(len(crimes)):\n",
    "    print(f\"Crime #{i + 1}: {crimes[i]}\")"
   ]
  },
  {
   "cell_type": "code",
   "execution_count": null,
   "id": "804e509e",
   "metadata": {},
   "outputs": [],
   "source": [
    "# Using enumerate() - a better way to get position and value\n",
    "crimes = [\"theft\", \"assault\", \"burglary\", \"vandalism\"]\n",
    "\n",
    "for position, crime in enumerate(crimes):\n",
    "    print(f\"Crime #{position + 1}: {crime}\")"
   ]
  },
  {
   "cell_type": "code",
   "execution_count": null,
   "id": "4319fca9",
   "metadata": {},
   "outputs": [],
   "source": [
    "# Practical example: Finding when threshold was exceeded\n",
    "daily_crimes = [32, 28, 35, 41, 45, 52, 48]\n",
    "threshold = 40\n",
    "\n",
    "for day, count in enumerate(daily_crimes):\n",
    "    if count > threshold:\n",
    "        print(f\"Day {day + 1}: {count} crimes (exceeded threshold)\")"
   ]
  },
  {
   "cell_type": "markdown",
   "id": "10c1f197",
   "metadata": {
    "cell_marker": "\"\"\""
   },
   "source": [
    "## Part 9: While Loops\n",
    "\n",
    "**For when you don't know how many iterations you need**\n",
    "\n",
    "While loops are less common in data analysis but useful for certain scenarios."
   ]
  },
  {
   "cell_type": "code",
   "execution_count": null,
   "id": "2695db8c",
   "metadata": {},
   "outputs": [],
   "source": [
    "# Tracking case clearance\n",
    "unsolved_cases = 20\n",
    "days = 0\n",
    "daily_clearance_rate = 3\n",
    "\n",
    "while unsolved_cases > 0:\n",
    "    unsolved_cases = unsolved_cases - daily_clearance_rate\n",
    "    days = days + 1\n",
    "    print(f\"Day {days}: {unsolved_cases} cases remaining\")\n",
    "\n",
    "print(f\"\\nAll cases cleared in {days} days\")"
   ]
  },
  {
   "cell_type": "markdown",
   "id": "f9ab4793",
   "metadata": {
    "cell_marker": "\"\"\""
   },
   "source": [
    "### When to Use While vs For:\n",
    "- **For loop**: When you have a collection to iterate through (most common)\n",
    "- **While loop**: When you're waiting for a condition to be met"
   ]
  },
  {
   "cell_type": "markdown",
   "id": "be331646",
   "metadata": {
    "cell_marker": "\"\"\""
   },
   "source": [
    "## Part 10: Common Loop Errors and Debugging\n",
    "\n",
    "### Error 1: Modifying a List While Looping"
   ]
  },
  {
   "cell_type": "code",
   "execution_count": null,
   "id": "01cb22f2",
   "metadata": {},
   "outputs": [],
   "source": [
    "# Don't do this - it causes unexpected behavior\n",
    "crimes = [\"theft\", \"assault\", \"theft\", \"burglary\"]\n",
    "# for crime in crimes:\n",
    "#     if crime == \"theft\":\n",
    "#         crimes.remove(crime)  # DON'T modify the list you're looping through\n",
    "\n",
    "# Instead, create a new list:\n",
    "crimes = [\"theft\", \"assault\", \"theft\", \"burglary\"]\n",
    "non_theft_crimes = []\n",
    "for crime in crimes:\n",
    "    if crime != \"theft\":\n",
    "        non_theft_crimes.append(crime)\n",
    "print(non_theft_crimes)"
   ]
  },
  {
   "cell_type": "markdown",
   "id": "c2f28339",
   "metadata": {
    "cell_marker": "\"\"\""
   },
   "source": [
    "### Error 2: Off-by-One Errors with Range"
   ]
  },
  {
   "cell_type": "code",
   "execution_count": null,
   "id": "06031211",
   "metadata": {},
   "outputs": [],
   "source": [
    "# Common mistake - forgetting that range stops BEFORE the end value\n",
    "print(\"Attempting to print days 1-7:\")\n",
    "for day in range(1, 7):  # This only goes to 6!\n",
    "    print(f\"Day {day}\")\n",
    "\n",
    "print(\"\\nCorrect version for days 1-7:\")\n",
    "for day in range(1, 8):  # Need 8 to include 7\n",
    "    print(f\"Day {day}\")"
   ]
  },
  {
   "cell_type": "markdown",
   "id": "576354f8",
   "metadata": {
    "cell_marker": "\"\"\""
   },
   "source": [
    "## Part 11: Using AI Tools for Loop Help\n",
    "\n",
    "### Effective Prompts for Loop Problems:\n",
    "\n",
    "Example prompt:\n",
    "```\n",
    "I'm a criminology student who has never programmed before. I have this loop:\n",
    "\n",
    "[paste your code]\n",
    "\n",
    "Can you:\n",
    "1. Explain what each iteration does\n",
    "2. Show me the output step by step\n",
    "3. Help me understand why it's not working (if there's an error)\n",
    "```\n",
    "\n",
    "### Good Questions to Ask AI:\n",
    "- \"How do I count occurrences in a list using a loop?\"\n",
    "- \"What's the difference between for and while loops?\"\n",
    "- \"Why does my loop only process some items?\"\n",
    "- \"How do I loop through two lists at the same time?\""
   ]
  },
  {
   "cell_type": "markdown",
   "id": "0c7dff96",
   "metadata": {
    "cell_marker": "\"\"\""
   },
   "source": [
    "## Hands-On Exercise: Crime Analysis System\n",
    "\n",
    "Complete each step to build a crime analysis program:"
   ]
  },
  {
   "cell_type": "code",
   "execution_count": null,
   "id": "fbc969ad",
   "metadata": {
    "lines_to_next_cell": 2
   },
   "outputs": [],
   "source": [
    "# Given data\n",
    "weekly_crimes = [\n",
    "    \"theft\", \"assault\", \"theft\", \"burglary\", \"vandalism\",\n",
    "    \"theft\", \"assault\", \"robbery\", \"theft\", \"burglary\",\n",
    "    \"assault\", \"theft\", \"vandalism\", \"assault\", \"theft\"\n",
    "]\n",
    "\n",
    "response_times = [5, 12, 7, 15, 8, 6, 18, 14, 4, 11, 13, 9, 7, 16, 10]\n",
    "\n",
    "# Step 1: Count total thefts\n",
    "# Your code here\n",
    "\n",
    "\n",
    "# Step 2: Count total assaults\n",
    "# Your code here\n",
    "\n",
    "\n",
    "# Step 3: Calculate average response time\n",
    "# Your code here\n",
    "\n",
    "\n",
    "# Step 4: Count how many responses were over 10 minutes\n",
    "# Your code here\n",
    "\n",
    "\n",
    "# Step 5: Create a list of all violent crimes (assault and robbery)\n",
    "# Your code here"
   ]
  },
  {
   "cell_type": "markdown",
   "id": "8217eba7",
   "metadata": {
    "cell_marker": "\"\"\""
   },
   "source": [
    "<details>\n",
    "<summary><b>Click for Solution</b></summary>\n",
    "\n",
    "```python\n",
    "# Step 1: Count total thefts\n",
    "theft_count = 0\n",
    "for crime in weekly_crimes:\n",
    "    if crime == \"theft\":\n",
    "        theft_count = theft_count + 1\n",
    "print(f\"Total thefts: {theft_count}\")\n",
    "\n",
    "# Step 2: Count total assaults\n",
    "assault_count = 0\n",
    "for crime in weekly_crimes:\n",
    "    if crime == \"assault\":\n",
    "        assault_count = assault_count + 1\n",
    "print(f\"Total assaults: {assault_count}\")\n",
    "\n",
    "# Step 3: Calculate average response time\n",
    "total_time = 0\n",
    "for time in response_times:\n",
    "    total_time = total_time + time\n",
    "average = total_time / len(response_times)\n",
    "print(f\"Average response time: {average:.1f} minutes\")\n",
    "\n",
    "# Step 4: Count how many responses were over 10 minutes\n",
    "slow_count = 0\n",
    "for time in response_times:\n",
    "    if time > 10:\n",
    "        slow_count = slow_count + 1\n",
    "print(f\"Slow responses: {slow_count}\")\n",
    "\n",
    "# Step 5: Create a list of all violent crimes\n",
    "violent_crimes = []\n",
    "for crime in weekly_crimes:\n",
    "    if crime in [\"assault\", \"robbery\"]:\n",
    "        violent_crimes.append(crime)\n",
    "print(f\"Violent crimes: {violent_crimes}\")\n",
    "```\n",
    "</details>"
   ]
  },
  {
   "cell_type": "markdown",
   "id": "2c6ecc84",
   "metadata": {
    "cell_marker": "\"\"\""
   },
   "source": [
    "## Challenge Exercise: Pattern Detection\n",
    "\n",
    "Try this more complex analysis:"
   ]
  },
  {
   "cell_type": "code",
   "execution_count": null,
   "id": "cf08ccc6",
   "metadata": {
    "lines_to_next_cell": 2
   },
   "outputs": [],
   "source": [
    "# Analyze crime patterns by day of week\n",
    "daily_counts = [45, 52, 48, 61, 73, 89, 67]  # Mon-Sun\n",
    "days = [\"Mon\", \"Tue\", \"Wed\", \"Thu\", \"Fri\", \"Sat\", \"Sun\"]\n",
    "\n",
    "# Find which days exceeded the weekly average\n",
    "# Your code here:"
   ]
  },
  {
   "cell_type": "markdown",
   "id": "a1cdf1ab",
   "metadata": {
    "cell_marker": "\"\"\""
   },
   "source": [
    "## Wrap-Up: Key Takeaways\n",
    "\n",
    "Today you learned:\n",
    "1. **For loops** process each item in a collection\n",
    "2. **Three essential patterns**: filtering, counting, accumulating\n",
    "3. **Range()** generates number sequences for counting\n",
    "4. **While loops** repeat until a condition is met\n",
    "5. **String operations** work inside loops for text analysis\n",
    "\n",
    "Remember:\n",
    "- Always initialize counters and accumulators before the loop\n",
    "- Don't modify a list while looping through it\n",
    "- Indentation matters - it defines what's inside the loop\n",
    "- Most data analysis uses for loops, not while loops\n",
    "\n",
    "## Before Next Class\n",
    "\n",
    "1. **Practice the three patterns:**\n",
    "   - Filter a list for items meeting criteria\n",
    "   - Count occurrences of something\n",
    "   - Build up a total or new list\n",
    "\n",
    "2. **Debug intentionally:**\n",
    "   - Remove a colon and see the error\n",
    "   - Forget to initialize a counter\n",
    "   - Try to modify a list while looping\n",
    "\n",
    "3. **Prepare for Problem Set 1:**\n",
    "   - You now have all the tools needed\n",
    "   - Review: variables, lists, if statements, loops\n",
    "   - Practice combining these concepts\n",
    "\n",
    "## Quick Reference\n",
    "\n",
    "### Loop Patterns:\n",
    "```python\n",
    "# Filtering\n",
    "for item in list:\n",
    "    if condition:\n",
    "        # process item\n",
    "\n",
    "# Counting\n",
    "count = 0\n",
    "for item in list:\n",
    "    if condition:\n",
    "        count = count + 1\n",
    "\n",
    "# Accumulating\n",
    "total = 0\n",
    "for number in numbers:\n",
    "    total = total + number\n",
    "\n",
    "# Collecting\n",
    "results = []\n",
    "for item in list:\n",
    "    if condition:\n",
    "        results.append(item)\n",
    "```\n",
    "\n",
    "### Common Functions with Loops:\n",
    "- `range(n)` - numbers from 0 to n-1\n",
    "- `range(start, stop)` - numbers from start to stop-1\n",
    "- `len(list)` - get list length for range\n",
    "- `enumerate(list)` - get both position and value"
   ]
  }
 ],
 "metadata": {
  "jupytext": {
   "cell_metadata_filter": "-all",
   "main_language": "python",
   "notebook_metadata_filter": "-all"
  },
  "language_info": {
   "name": "python"
  }
 },
 "nbformat": 4,
 "nbformat_minor": 5
}
