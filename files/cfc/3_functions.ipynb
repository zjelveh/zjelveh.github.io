{
 "cells": [
  {
   "cell_type": "markdown",
   "id": "e84cf617",
   "metadata": {},
   "source": [
    "\n",
    "[![Open In Colab](https://colab.research.google.com/assets/colab-badge.svg)](https://colab.research.google.com/github/zjelveh/zjelveh.github.io/blob/master/files/cfc/3_functions.ipynb)\n",
    "\n",
    "**IMPORTANT**: Save your own copy!\n",
    "1. Click File → Save a copy in Drive\n",
    "2. Rename it \n",
    "3. Work in YOUR copy, not the original\n",
    "\n",
    "\n",
    "---\n",
    "\n",
    "\n",
    "# 3. Functions - Writing Reusable Code\n",
    "## CCJS 418E: Coding for Criminology\n",
    "\n",
    "Today's Goals:\n",
    "- Learn to write functions that can be reused\n",
    "- Understand parameters and return values\n",
    "- Know the difference between return and print\n",
    "- Apply the DRY principle (Don't Repeat Yourself)\n",
    "- Build complex analysis from simple functions\n"
   ]
  },
  {
   "cell_type": "markdown",
   "id": "0cb0da40",
   "metadata": {
    "cell_marker": "\"\"\""
   },
   "source": [
    "## Part 1: The Problem with Repetitive Code\n",
    "\n",
    "### Why Functions Matter\n",
    "\n",
    "Look at this repetitive analysis:\n",
    "\n",
    "**Note** Clearance rate means the share of crimes that have been solved (or more commonly in reality, the number of reported crimes with an associated arrest)"
   ]
  },
  {
   "cell_type": "code",
   "execution_count": null,
   "id": "c23e393c",
   "metadata": {},
   "outputs": [],
   "source": [
    "# Calculating clearance rates for multiple precincts - repetitive approach\n",
    "# Downtown precinct\n",
    "downtown_solved = 45\n",
    "downtown_total = 120\n",
    "downtown_rate = (downtown_solved / downtown_total) * 100\n",
    "print(f\"Downtown clearance rate: {downtown_rate}%\")\n",
    "\n",
    "# Northside precinct\n",
    "northside_solved = 38\n",
    "northside_total = 95\n",
    "northside_rate = (northside_solved / northside_total) * 100\n",
    "print(f\"Northside clearance rate: {northside_rate}%\")\n",
    "\n",
    "# Southside precinct\n",
    "southside_solved = 52\n",
    "southside_total = 118\n",
    "southside_rate = (southside_solved / southside_total) * 100\n",
    "print(f\"Southside clearance rate: {southside_rate}%\")\n"
   ]
  },
  {
   "cell_type": "markdown",
   "id": "4aacac41",
   "metadata": {},
   "source": [
    "### Another way to round\n",
    "Previously we showed that we could round using the `round()` function.\n",
    "\n",
    "We can also round using `f` strings:\n",
    "\n",
    "`print(f\"Southside clearance rate, 1 sig digit rounding: {southside_rate:.1f}%\")`\n",
    "\n",
    "The format is:\n",
    "- `:` - starts the format specification\n",
    "- `.1` - show 1 decimal place\n",
    "- `f` - for\n",
    "\n"
   ]
  },
  {
   "cell_type": "code",
   "execution_count": null,
   "id": "a233f196",
   "metadata": {},
   "outputs": [],
   "source": [
    "print(f\"Southside clearance rate, 1 sig digit rounding: {southside_rate:.1f}%\")\n",
    "print(f\"Southside clearance rate, 2 sig digit rounding: {southside_rate:.2f}%\")\n",
    "print(f\"Southside clearance rate, 3 sig digit rounding: {southside_rate:.3f}%\")\n"
   ]
  },
  {
   "cell_type": "markdown",
   "id": "0780ae36",
   "metadata": {
    "cell_marker": "\"\"\""
   },
   "source": [
    "### Problems with This Approach:\n",
    "1. We wrote the same formula three times\n",
    "2. If we need to change the calculation, we must update it everywhere\n",
    "3. Easy to make inconsistent changes or typos\n",
    "4. Hard to maintain as code grows\n",
    "\n",
    "**Connection to Computational Thinking: ABSTRACTION - packaging complexity into reusable components**"
   ]
  },
  {
   "cell_type": "markdown",
   "id": "ee90d1fd",
   "metadata": {
    "cell_marker": "\"\"\"",
    "lines_to_next_cell": 1
   },
   "source": [
    "## Part 2: Your First Function\n",
    "\n",
    "### Basic Function Structure"
   ]
  },
  {
   "cell_type": "code",
   "execution_count": null,
   "id": "3e52780f",
   "metadata": {},
   "outputs": [],
   "source": [
    "# Define a reusable function\n",
    "def calculate_clearance_rate(cases_solved, total_cases):\n",
    "    rate = (cases_solved / total_cases) * 100\n",
    "    return rate\n"
   ]
  },
  {
   "cell_type": "code",
   "execution_count": null,
   "id": "f859758b",
   "metadata": {},
   "outputs": [],
   "source": [
    "\n",
    "# Use the function multiple times\n",
    "downtown_rate = calculate_clearance_rate(45, 120)\n",
    "northside_rate = calculate_clearance_rate(38, 95)\n",
    "southside_rate = calculate_clearance_rate(52, 118)\n",
    "\n",
    "print(f\"Downtown: {downtown_rate:.1f}%\")\n",
    "print(f\"Northside: {northside_rate:.1f}%\")\n",
    "print(f\"Southside: {southside_rate:.1f}%\")"
   ]
  },
  {
   "cell_type": "markdown",
   "id": "4aa58c7d",
   "metadata": {
    "cell_marker": "\"\"\"",
    "lines_to_next_cell": 1
   },
   "source": [
    "### Anatomy of a Function:\n",
    "1. `def` - keyword that starts a function definition\n",
    "2. `calculate_clearance_rate` - the function name (you choose this)\n",
    "3. `(cases_solved, total_cases)` - parameters (inputs the function expects)\n",
    "4. `:` - colon (required, like with if statements and loops)\n",
    "5. Indented block - the function body (what it does)\n",
    "6. `return` - sends a value back to whoever called the function"
   ]
  },
  {
   "cell_type": "code",
   "execution_count": null,
   "id": "09eefa07",
   "metadata": {},
   "outputs": [],
   "source": [
    "# Functions can have simpler calculations too\n",
    "def crimes_per_officer(total_crimes, num_officers):\n",
    "    workload = total_crimes / num_officers\n",
    "    return workload\n",
    "\n",
    "# Using the function\n",
    "precinct_workload = crimes_per_officer(156, 12)\n",
    "print(f\"Each officer handles approximately {precinct_workload:.1f} cases\")"
   ]
  },
  {
   "cell_type": "markdown",
   "id": "d844327c",
   "metadata": {
    "cell_marker": "\"\"\"",
    "lines_to_next_cell": 1
   },
   "source": [
    "### Common Mistake: Forgetting the Return"
   ]
  },
  {
   "cell_type": "code",
   "execution_count": null,
   "id": "f678729d",
   "metadata": {
    "lines_to_next_cell": 1
   },
   "outputs": [],
   "source": [
    "# This function calculates but doesn't return anything\n",
    "def bad_clearance_rate(solved, total):\n",
    "    rate = (solved / total) * 100\n",
    "    # Forgot to return!\n",
    "\n",
    "result = bad_clearance_rate(45, 120)\n",
    "print(result)  # Prints: None"
   ]
  },
  {
   "cell_type": "code",
   "execution_count": null,
   "id": "8ac6877f",
   "metadata": {},
   "outputs": [],
   "source": [
    "# Fixed version\n",
    "def good_clearance_rate(solved, total):\n",
    "    rate = (solved / total) * 100\n",
    "    return rate  # Don't forget this!\n",
    "\n",
    "result = good_clearance_rate(45, 120)\n",
    "print(result)  # Prints: 37.5"
   ]
  },
  {
   "cell_type": "markdown",
   "id": "0cbd04f1",
   "metadata": {
    "cell_marker": "\"\"\"",
    "lines_to_next_cell": 1
   },
   "source": [
    "## Part 3: Parameters and Arguments\n",
    "\n",
    "### Understanding Function Inputs"
   ]
  },
  {
   "cell_type": "code",
   "execution_count": null,
   "id": "63b1b583",
   "metadata": {},
   "outputs": [],
   "source": [
    "# Parameters are the names in the function definition\n",
    "def analyze_response_time(response_minutes, acceptable_threshold):\n",
    "    if response_minutes <= acceptable_threshold:\n",
    "        return \"Within standard\"\n",
    "    else:\n",
    "        return \"Exceeded standard\"\n",
    "\n",
    "# Arguments are the actual values you pass in\n",
    "status = analyze_response_time(8, 10)  # 8 and 10 are arguments\n",
    "print(status)"
   ]
  },
  {
   "cell_type": "markdown",
   "id": "3b5b748a",
   "metadata": {
    "cell_marker": "\"\"\"",
    "lines_to_next_cell": 1
   },
   "source": [
    "### Order Matters (Unless You Use Keywords)"
   ]
  },
  {
   "cell_type": "code",
   "execution_count": null,
   "id": "66b6ca34",
   "metadata": {},
   "outputs": [],
   "source": [
    "# Order matters when calling functions\n",
    "def calculate_rate(numerator, denominator):\n",
    "    return (numerator / denominator) * 100\n",
    "\n",
    "# These give different results\n",
    "rate1 = calculate_rate(20, 50)  # 20/50 = 40%\n",
    "rate2 = calculate_rate(50, 20)  # 50/20 = 250%\n",
    "\n",
    "print(f\"Rate 1: {rate1}%\")\n",
    "print(f\"Rate 2: {rate2}%\")"
   ]
  },
  {
   "cell_type": "code",
   "execution_count": null,
   "id": "a3c277e2",
   "metadata": {},
   "outputs": [],
   "source": [
    "# You can use keyword arguments to be explicit\n",
    "rate3 = calculate_rate(numerator=20, denominator=50)\n",
    "rate4 = calculate_rate(denominator=50, numerator=20)  # Same as rate3\n",
    "\n",
    "print(f\"Rate 3: {rate3}%\")\n",
    "print(f\"Rate 4: {rate4}%\")"
   ]
  },
  {
   "cell_type": "markdown",
   "id": "0aa0a7a3",
   "metadata": {
    "cell_marker": "\"\"\"",
    "lines_to_next_cell": 1
   },
   "source": [
    "## Part 4: Return vs Print\n",
    "\n",
    "### Critical Distinction\n",
    "\n",
    "This is one of the most important concepts to understand about functions."
   ]
  },
  {
   "cell_type": "code",
   "execution_count": null,
   "id": "2e16838a",
   "metadata": {
    "lines_to_next_cell": 1
   },
   "outputs": [],
   "source": [
    "# Function that PRINTS (displays but doesn't give back a value)\n",
    "def print_crime_rate(crimes, population):\n",
    "    rate = (crimes / population) * 100000\n",
    "    print(f\"Crime rate: {rate:.1f} per 100,000\")\n",
    "    # No return statement\n",
    "\n",
    "# Function that RETURNS (gives back a value you can use)\n",
    "def calculate_crime_rate(crimes, population):\n",
    "    rate = (crimes / population) * 100000\n",
    "    return rate"
   ]
  },
  {
   "cell_type": "code",
   "execution_count": null,
   "id": "4d578701",
   "metadata": {},
   "outputs": [],
   "source": [
    "# With print function - can't use the result\n",
    "print_crime_rate(262, 565239)  # Shows output\n",
    "# result = print_crime_rate(262, 565239)  # result would be None\n",
    "\n",
    "# With return function - can use the result\n",
    "baltimore_rate = calculate_crime_rate(262, 565239)\n",
    "national_average = 380.7\n",
    "\n",
    "if baltimore_rate > national_average:\n",
    "    print(f\"Baltimore rate ({baltimore_rate:.1f}) exceeds national average\")"
   ]
  },
  {
   "cell_type": "markdown",
   "id": "e1af0585",
   "metadata": {
    "cell_marker": "\"\"\"",
    "lines_to_next_cell": 1
   },
   "source": [
    "### When to Use Each:\n",
    "- **Return**: When you need to use the result for further calculations\n",
    "- **Print**: When you just want to display information to the user\n",
    "- **Both**: Sometimes you want to calculate AND display"
   ]
  },
  {
   "cell_type": "code",
   "execution_count": null,
   "id": "9ae05120",
   "metadata": {},
   "outputs": [],
   "source": [
    "# Function that does both\n",
    "def analyze_crime_trend(current_year, previous_year):\n",
    "    change = current_year - previous_year\n",
    "    percent_change = (change / previous_year) * 100\n",
    "    \n",
    "    # Print for immediate feedback\n",
    "    print(f\"Change: {change} crimes\")\n",
    "    print(f\"Percent change: {percent_change:.1f}%\")\n",
    "    \n",
    "    # Return for further use\n",
    "    return percent_change\n",
    "\n",
    "# Can use the returned value\n",
    "trend = analyze_crime_trend(4250, 4100)\n",
    "if trend > 5:\n",
    "    print(\"Significant increase detected\")"
   ]
  },
  {
   "cell_type": "markdown",
   "id": "664534da",
   "metadata": {
    "cell_marker": "\"\"\"",
    "lines_to_next_cell": 1
   },
   "source": [
    "## Part 5: Functions That Process Lists\n",
    "\n",
    "### Combining Functions with Loops"
   ]
  },
  {
   "cell_type": "code",
   "execution_count": null,
   "id": "65296dde",
   "metadata": {
    "lines_to_next_cell": 1
   },
   "outputs": [],
   "source": [
    "def count_crime_type(crime_list, target_crime):\n",
    "    \"\"\"Count occurrences of a specific crime type\"\"\"\n",
    "    count = 0\n",
    "    for crime in crime_list:\n",
    "        if crime == target_crime:\n",
    "            count = count + 1\n",
    "    return count\n",
    "\n",
    "# Test the function\n",
    "weekly_crimes = [\"theft\", \"assault\", \"theft\", \"burglary\", \"theft\", \"assault\"]\n",
    "theft_count = count_crime_type(crime_list=weekly_crimes, target_crime=\"theft\")\n",
    "assault_count = count_crime_type(crime_list=weekly_crimes, target_crime=\"assault\")\n",
    "\n",
    "print(f\"Thefts: {theft_count}\")\n",
    "print(f\"Assaults: {assault_count}\")"
   ]
  },
  {
   "cell_type": "code",
   "execution_count": null,
   "id": "1720286b",
   "metadata": {
    "lines_to_next_cell": 1
   },
   "outputs": [],
   "source": [
    "def find_slow_responses(response_times, threshold):\n",
    "    \"\"\"Find all response times over the threshold\"\"\"\n",
    "    slow_responses = []\n",
    "    for time in response_times:\n",
    "        if time > threshold:\n",
    "            slow_responses.append(time)\n",
    "    return slow_responses\n",
    "\n",
    "# Use the function\n",
    "all_responses = [4, 7, 12, 5, 8, 15, 3, 11, 9]\n",
    "slow = find_slow_responses(response_times=all_responses, threshold=10)\n",
    "print(f\"Slow responses: {slow}\")"
   ]
  },
  {
   "cell_type": "code",
   "execution_count": null,
   "id": "187495c0",
   "metadata": {},
   "outputs": [],
   "source": [
    "def calculate_crime_stats(crime_list):\n",
    "    \"\"\"Calculate multiple statistics about crimes\"\"\"\n",
    "    total = len(crime_list)\n",
    "    thefts = count_crime_type(crime_list, \"theft\")\n",
    "    assaults = count_crime_type(crime_list, \"assault\")\n",
    "    \n",
    "    # Calculate percentages\n",
    "    theft_percent = (thefts / total) * 100\n",
    "    assault_percent = (assaults / total) * 100\n",
    "    \n",
    "    return total, theft_percent, assault_percent\n",
    "\n",
    "# Use the function\n",
    "crimes = [\"theft\", \"assault\", \"theft\", \"burglary\", \"theft\", \"assault\", \"vandalism\"]\n",
    "total_crimes, theft_pct, assault_pct = calculate_crime_stats(crimes)\n",
    "\n",
    "print(f\"Total crimes: {total_crimes}\")\n",
    "print(f\"Theft percentage: {theft_pct:.1f}%\")\n",
    "print(f\"Assault percentage: {assault_pct:.1f}%\")"
   ]
  },
  {
   "cell_type": "markdown",
   "id": "e6bd0918",
   "metadata": {
    "cell_marker": "\"\"\"",
    "lines_to_next_cell": 1
   },
   "source": [
    "## Part 6: Building Complex Functions from Simple Ones\n",
    "\n",
    "### Functions Calling Other Functions"
   ]
  },
  {
   "cell_type": "code",
   "execution_count": null,
   "id": "702cffc2",
   "metadata": {
    "lines_to_next_cell": 1
   },
   "outputs": [],
   "source": [
    "# Simple building block functions\n",
    "def is_violent_crime(crime):\n",
    "    \"\"\"Check if a crime is violent\"\"\"\n",
    "    violent_types = [\"assault\", \"robbery\", \"homicide\"]\n",
    "    return crime in violent_types\n",
    "\n",
    "def is_property_crime(crime):\n",
    "    \"\"\"Check if a crime is property-related\"\"\"\n",
    "    property_types = [\"theft\", \"burglary\", \"vandalism\"]\n",
    "    return crime in property_types\n",
    "\n",
    "# More complex function using the simple ones\n",
    "def categorize_crimes(crime_list):\n",
    "    \"\"\"Categorize all crimes into violent, property, or other\"\"\"\n",
    "    violent = []\n",
    "    property = []\n",
    "    other = []\n",
    "    \n",
    "    for crime in crime_list:\n",
    "        if is_violent_crime(crime):\n",
    "            violent.append(crime)\n",
    "        elif is_property_crime(crime):\n",
    "            property.append(crime)\n",
    "        else:\n",
    "            other.append(crime)\n",
    "    \n",
    "    return violent, property, other"
   ]
  },
  {
   "cell_type": "code",
   "execution_count": null,
   "id": "ea643b91",
   "metadata": {
    "lines_to_next_cell": 1
   },
   "outputs": [],
   "source": [
    "# Use the categorization function\n",
    "all_crimes = [\"theft\", \"assault\", \"fraud\", \"burglary\", \"robbery\", \"vandalism\", \"homicide\"]\n",
    "violent_crimes, property_crimes, other_crimes = categorize_crimes(all_crimes)\n",
    "\n",
    "print(f\"Violent crimes: {violent_crimes}\")\n",
    "print(f\"Property crimes: {property_crimes}\")\n",
    "print(f\"Other crimes: {other_crimes}\")"
   ]
  },
  {
   "cell_type": "markdown",
   "id": "5d425524",
   "metadata": {
    "cell_marker": "\"\"\"",
    "lines_to_next_cell": 1
   },
   "source": [
    "### Common Mistake: Trying to Use Function Variables Outside"
   ]
  },
  {
   "cell_type": "code",
   "execution_count": null,
   "id": "daec720d",
   "metadata": {},
   "outputs": [],
   "source": [
    "def analyze_data(data):\n",
    "    result = len(data) * 2\n",
    "    return result\n",
    "\n",
    "output = analyze_data([1, 2, 3])\n",
    "# print(result)  # This would cause NameError - 'result' only exists inside the function\n",
    "print(output)  # This works - we stored the returned value"
   ]
  },
  {
   "cell_type": "markdown",
   "id": "ef9f359b",
   "metadata": {
    "cell_marker": "\"\"\"",
    "lines_to_next_cell": 1
   },
   "source": [
    "## Part 7: Documenting Your Functions\n",
    "\n",
    "### Adding Docstrings (Documentation Strings)"
   ]
  },
  {
   "cell_type": "code",
   "execution_count": null,
   "id": "3d544e29",
   "metadata": {},
   "outputs": [],
   "source": [
    "def calculate_recidivism_rate(repeat_offenders, total_released):\n",
    "    \"\"\"\n",
    "    Calculate the recidivism rate as a percentage.\n",
    "    \n",
    "    Parameters:\n",
    "    - repeat_offenders: number of people who reoffended\n",
    "    - total_released: total number of people released\n",
    "    \n",
    "    Returns:\n",
    "    - Float representing the recidivism rate as a percentage\n",
    "    \"\"\"\n",
    "    if total_released == 0:\n",
    "        return 0\n",
    "    rate = (repeat_offenders / total_released) * 100\n",
    "    return rate\n",
    "\n",
    "# The docstring helps others (and future you) understand the function\n",
    "help(calculate_recidivism_rate)"
   ]
  },
  {
   "cell_type": "markdown",
   "id": "ddcda20c",
   "metadata": {
    "cell_marker": "\"\"\"",
    "lines_to_next_cell": 1
   },
   "source": [
    "## Part 8: Common Function Errors and Debugging\n",
    "\n",
    "### Error 1: Wrong Number of Arguments"
   ]
  },
  {
   "cell_type": "code",
   "execution_count": null,
   "id": "355879d7",
   "metadata": {},
   "outputs": [],
   "source": [
    "def process_crime(crime_type, location):\n",
    "    return f\"{crime_type} reported at {location}\"\n",
    "\n",
    "# This causes TypeError - missing argument\n",
    "# process_crime(\"theft\")\n",
    "\n",
    "# This also causes TypeError - too many arguments\n",
    "# process_crime(\"theft\", \"downtown\", \"noon\")\n",
    "\n",
    "# Correct usage\n",
    "process_crime(\"theft\", \"downtown\")"
   ]
  },
  {
   "cell_type": "markdown",
   "id": "e82fb7a8",
   "metadata": {
    "cell_marker": "\"\"\"",
    "lines_to_next_cell": 1
   },
   "source": [
    "### Error 2: Forgetting Parentheses When Calling"
   ]
  },
  {
   "cell_type": "code",
   "execution_count": null,
   "id": "ee556e91",
   "metadata": {},
   "outputs": [],
   "source": [
    "def get_crime_count():\n",
    "    return 42\n",
    "\n",
    "# Wrong - this doesn't call the function\n",
    "# count = get_crime_count\n",
    "# print(count)  # Prints: <function get_crime_count at ...>\n",
    "\n",
    "# Right - parentheses actually call the function\n",
    "count = get_crime_count()\n",
    "print(count)  # Prints: 42"
   ]
  },
  {
   "cell_type": "markdown",
   "id": "6363dfe2",
   "metadata": {
    "cell_marker": "\"\"\"",
    "lines_to_next_cell": 1
   },
   "source": [
    "### Error 3: Indentation Errors"
   ]
  },
  {
   "cell_type": "code",
   "execution_count": null,
   "id": "20b5b542",
   "metadata": {
    "lines_to_next_cell": 1
   },
   "outputs": [],
   "source": [
    "# Wrong indentation\n",
    "# def bad_function(x):\n",
    "# return x * 2  # IndentationError\n",
    "\n",
    "# Correct indentation\n",
    "def good_function(x):\n",
    "    return x * 2  # Must be indented"
   ]
  },
  {
   "cell_type": "markdown",
   "id": "a809d1ac",
   "metadata": {
    "cell_marker": "\"\"\""
   },
   "source": [
    "## Hands-On Exercise: Crime Statistics Calculator\n",
    "\n",
    "Build a set of functions to analyze crime data:"
   ]
  },
  {
   "cell_type": "code",
   "execution_count": null,
   "id": "7a556e60",
   "metadata": {
    "lines_to_next_cell": 2
   },
   "outputs": [],
   "source": [
    "# Given data\n",
    "monthly_crimes = [\n",
    "    \"theft\", \"assault\", \"burglary\", \"theft\", \"robbery\",\n",
    "    \"vandalism\", \"assault\", \"theft\", \"fraud\", \"assault\",\n",
    "    \"burglary\", \"theft\", \"assault\", \"theft\", \"robbery\"\n",
    "]\n",
    "\n",
    "response_times = [5, 12, 7, 9, 15, 8, 11, 6, 14, 10, 7, 9, 13, 8, 16]\n",
    "\n",
    "# Step 1: Write a function to calculate the average of a list of numbers\n",
    "# Your code here\n",
    "\n"
   ]
  },
  {
   "cell_type": "code",
   "execution_count": null,
   "id": "60189066",
   "metadata": {},
   "outputs": [],
   "source": [
    "\n",
    "# Step 2: Write a function to count crimes by category (violent vs property)\n",
    "violent = [\"assault\", \"robbery\"]\n",
    "property = [\"theft\", \"burglary\", \"vandalism\"]\n",
    "# Your code here\n"
   ]
  },
  {
   "cell_type": "code",
   "execution_count": null,
   "id": "19ff66fa",
   "metadata": {},
   "outputs": [],
   "source": [
    "\n",
    "\n",
    "# Step 3: Write a function to find the percentage of slow responses (>10 minutes)\n",
    "# Your code here\n",
    "\n"
   ]
  },
  {
   "cell_type": "code",
   "execution_count": null,
   "id": "4ab39145",
   "metadata": {},
   "outputs": [],
   "source": [
    "\n",
    "# Step 4: Write a main analysis function that uses your other functions\n",
    "# It should print a summary report\n",
    "# Your code here\n"
   ]
  },
  {
   "cell_type": "code",
   "execution_count": null,
   "id": "e318bfff",
   "metadata": {},
   "outputs": [],
   "source": [
    "# Step 5: Call your main analysis function with the provided data\n",
    "# Your code here\n"
   ]
  },
  {
   "cell_type": "markdown",
   "id": "5202a90f",
   "metadata": {
    "cell_marker": "\"\"\""
   },
   "source": [
    "## Challenge Exercise: Comparative Analysis\n",
    "\n",
    "Create a function that compares two precincts:"
   ]
  },
  {
   "cell_type": "code",
   "execution_count": null,
   "id": "0ad207db",
   "metadata": {
    "lines_to_next_cell": 2
   },
   "outputs": [],
   "source": [
    "# Data for two precincts\n",
    "precinct_a_crimes = [\"theft\", \"assault\", \"theft\", \"burglary\", \"theft\"]\n",
    "precinct_b_crimes = [\"assault\", \"assault\", \"robbery\", \"assault\", \"vandalism\"]\n",
    "\n",
    "# Write a function that:\n",
    "# 1. Takes two crime lists as input\n",
    "# 2. Calculates violent crime percentage for each\n",
    "# 3. Returns which precinct has a higher violent crime rate\n",
    "# Your code here:\n",
    "\n",
    "\n"
   ]
  },
  {
   "cell_type": "markdown",
   "id": "dcb24069",
   "metadata": {
    "cell_marker": "\"\"\""
   },
   "source": [
    "## Wrap-Up: Key Takeaways\n",
    "\n",
    "Today you learned:\n",
    "1. **Functions** package reusable code\n",
    "2. **Parameters** are inputs; **return** values are outputs\n",
    "3. **Return vs print**: return gives back values, print just displays\n",
    "4. **DRY principle**: Don't Repeat Yourself - use functions instead\n",
    "5. **Building blocks**: Complex functions can use simpler ones\n",
    "\n",
    "Remember:\n",
    "- Always include `return` if you need to use the result\n",
    "- Function variables are separate from outside variables (scope)\n",
    "- Order matters for arguments (unless using keywords)\n",
    "- Test functions with simple inputs first\n",
    "- Document your functions so others understand them\n",
    "\n",
    "## Before Next Class\n",
    "\n",
    "1. **Practice writing functions for:**\n",
    "   - Tasks you've done repeatedly\n",
    "   - Calculations you use often\n",
    "   - Any multi-step process\n",
    "\n",
    "2. **Debug these common errors:**\n",
    "   - Call a function without parentheses\n",
    "   - Forget to return a value\n",
    "   - Pass wrong number of arguments\n",
    "\n",
    "3. **Prepare for Problem Set 1:**\n",
    "   - You now have all core concepts\n",
    "   - Functions will make your code cleaner\n",
    "   - Think about organizing your solution with functions\n",
    "\n",
    "## Quick Reference\n",
    "\n",
    "### Function Template:\n",
    "```python\n",
    "def function_name(parameter1, parameter2):\n",
    "    \\\"\\\"\\\"Brief description of what function does\\\"\\\"\\\"\n",
    "    # Do something with parameters\n",
    "    result = parameter1 + parameter2\n",
    "    return result\n",
    "\n",
    "# Using the function\n",
    "output = function_name(value1, value2)\n",
    "```\n",
    "\n",
    "### Common Patterns:\n",
    "```python\n",
    "# Counter function\n",
    "def count_items(item_list, target):\n",
    "    count = 0\n",
    "    for item in item_list:\n",
    "        if item == target:\n",
    "            count = count + 1\n",
    "    return count\n",
    "\n",
    "# Filter function\n",
    "def filter_items(item_list, condition_value):\n",
    "    filtered = []\n",
    "    for item in item_list:\n",
    "        if item > condition_value:\n",
    "            filtered.append(item)\n",
    "    return filtered\n",
    "\n",
    "# Calculator function\n",
    "def calculate_rate(numerator, denominator):\n",
    "    if denominator == 0:\n",
    "        return 0\n",
    "    return (numerator / denominator) * 100\n",
    "```"
   ]
  }
 ],
 "metadata": {
  "jupytext": {
   "cell_metadata_filter": "-all",
   "main_language": "python",
   "notebook_metadata_filter": "-all"
  },
  "kernelspec": {
   "display_name": "base",
   "language": "python",
   "name": "python3"
  },
  "language_info": {
   "codemirror_mode": {
    "name": "ipython",
    "version": 3
   },
   "file_extension": ".py",
   "mimetype": "text/x-python",
   "name": "python",
   "nbconvert_exporter": "python",
   "pygments_lexer": "ipython3",
   "version": "3.13.2"
  }
 },
 "nbformat": 4,
 "nbformat_minor": 5
}
