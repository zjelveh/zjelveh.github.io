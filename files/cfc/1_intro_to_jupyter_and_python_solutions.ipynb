{
  "cells": [
    {
      "cell_type": "markdown",
      "id": "8c531d61",
      "metadata": {
        "id": "8c531d61"
      },
      "source": [
        "[![Open In Colab](https://colab.research.google.com/assets/colab-badge.svg)](https://colab.research.google.com/github/zjelveh/zjelveh.github.io/blob/master/files/cfc/1_intro_to_jupyter_and_python.ipynb)\n",
        "\n",
        "**IMPORTANT**: Save your own copy!\n",
        "1. Click File → Save a copy in Drive\n",
        "2. Rename it with your name: \"Lecture2_YourName\"\n",
        "3. Work in YOUR copy, not the original\n",
        "\n",
        "\n",
        "---\n",
        "\n",
        "# 1. Introduction to Jupyter and Python\n",
        "## CCJS 418E: Coding for Criminology\n",
        "\n",
        "**Today's Goals:**\n",
        "- Write actual Python code to analyze crime data\n",
        "- Get comfortable with Jupyter/Colab environment\n",
        "- Learn variables, lists, and basic operations\n",
        "- Use AI tools to help understand code\n",
        "\n"
      ]
    },
    {
      "cell_type": "markdown",
      "id": "3d713f6e",
      "metadata": {
        "id": "3d713f6e"
      },
      "source": [
        "## Part 1: Welcome to Google Colab\n",
        "\n",
        "\n",
        "### What is Google Colab?\n",
        "- A free, cloud-based environment for writing Python code\n",
        "- No installation needed - runs in your browser\n",
        "- Saves automatically to your Google Drive\n",
        "\n",
        "### Two Types of Cells:\n",
        "1. **Text cells** (like this one) - for notes and explanations\n",
        "2. **Code cells** - for writing and running Python code\n",
        "\n",
        "To run a code cell: Press `Shift + Enter` or click the play button"
      ]
    },
    {
      "cell_type": "markdown",
      "id": "4dae5bdc",
      "metadata": {
        "id": "4dae5bdc"
      },
      "source": [
        "### Your First Code\n",
        "Run the cell below to see your first Python output!"
      ]
    },
    {
      "cell_type": "code",
      "execution_count": 1,
      "id": "22ce38a2",
      "metadata": {
        "id": "22ce38a2"
      },
      "outputs": [
        {
          "name": "stdout",
          "output_type": "stream",
          "text": [
            "Welcome to Python for Criminology\n"
          ]
        }
      ],
      "source": [
        "print(\"Welcome to Python for Criminology\")"
      ]
    },
    {
      "cell_type": "markdown",
      "id": "86b7bab9",
      "metadata": {
        "id": "86b7bab9"
      },
      "source": [
        "\n",
        "### Common Mistakes are Learning Opportunities!\n",
        "Let's make a mistake on purpose to see what happens:"
      ]
    },
    {
      "cell_type": "code",
      "execution_count": 2,
      "id": "0fa0f835",
      "metadata": {
        "id": "0fa0f835"
      },
      "outputs": [
        {
          "ename": "SyntaxError",
          "evalue": "unterminated string literal (detected at line 2) (957943680.py, line 2)",
          "output_type": "error",
          "traceback": [
            "  \u001b[36mCell\u001b[39m\u001b[36m \u001b[39m\u001b[32mIn[2]\u001b[39m\u001b[32m, line 2\u001b[39m\n\u001b[31m    \u001b[39m\u001b[31mprint(\"Welcome to Python for Criminology)\u001b[39m\n          ^\n\u001b[31mSyntaxError\u001b[39m\u001b[31m:\u001b[39m unterminated string literal (detected at line 2)\n"
          ]
        }
      ],
      "source": [
        "# This will cause an error - missing closing quotation mark\n",
        "print(\"Welcome to Python for Criminology)"
      ]
    },
    {
      "cell_type": "code",
      "execution_count": 3,
      "id": "ede67d64",
      "metadata": {
        "id": "ede67d64"
      },
      "outputs": [
        {
          "name": "stdout",
          "output_type": "stream",
          "text": [
            "Welcome to Python for Criminology\n"
          ]
        }
      ],
      "source": [
        "# Fixed version:\n",
        "print(\"Welcome to Python for Criminology\")"
      ]
    },
    {
      "cell_type": "markdown",
      "id": "229ca39d",
      "metadata": {
        "id": "229ca39d"
      },
      "source": [
        "**Important:** Error messages are helpful! They tell you:\n",
        "- What went wrong\n",
        "- Which line has the problem\n",
        "- Often, how to fix it"
      ]
    },
    {
      "cell_type": "markdown",
      "id": "bfeebd8e",
      "metadata": {
        "id": "bfeebd8e"
      },
      "source": [
        "## Part 2: Variables and Basic Operations\n",
        "\n",
        "### Variables as Containers\n",
        "**Connection to Computational Thinking: This is ABSTRACTION - hiding complexity behind a simple name**\n",
        "\n",
        "Variables store information that we can use and update later."
      ]
    },
    {
      "cell_type": "code",
      "execution_count": 4,
      "id": "77441ea9",
      "metadata": {
        "id": "77441ea9"
      },
      "outputs": [
        {
          "name": "stdout",
          "output_type": "stream",
          "text": [
            "46.3520740783987\n"
          ]
        }
      ],
      "source": [
        "# Baltimore crime statistics\n",
        "murders_2023 = 262\n",
        "population = 565239\n",
        "\n",
        "# Calculate murder rate per 100,000\n",
        "murder_rate = (murders_2023 / population) * 100000\n",
        "print(murder_rate)"
      ]
    },
    {
      "cell_type": "markdown",
      "id": "6c002199",
      "metadata": {
        "id": "6c002199"
      },
      "source": [
        "### Different Types of Data\n",
        "Python can store different kinds of information:"
      ]
    },
    {
      "cell_type": "code",
      "execution_count": 5,
      "id": "973eb407",
      "metadata": {
        "id": "973eb407"
      },
      "outputs": [
        {
          "name": "stdout",
          "output_type": "stream",
          "text": [
            "Detective Johnson\n",
            "15\n",
            "0.45\n"
          ]
        }
      ],
      "source": [
        "# Different types of crime data\n",
        "officer_name = \"Detective Johnson\"  # text (string)\n",
        "years_on_force = 15                  # whole number (integer)\n",
        "clearance_rate = 0.45                # decimal (float)\n",
        "\n",
        "print(officer_name)\n",
        "print(years_on_force)\n",
        "print(clearance_rate)"
      ]
    },
    {
      "cell_type": "markdown",
      "id": "76cf545a",
      "metadata": {
        "id": "76cf545a"
      },
      "source": [
        "### Basic Math Operations\n",
        "Let's analyze weekly crime reports:"
      ]
    },
    {
      "cell_type": "code",
      "execution_count": 6,
      "id": "8280a9c8",
      "metadata": {
        "id": "8280a9c8"
      },
      "outputs": [
        {
          "name": "stdout",
          "output_type": "stream",
          "text": [
            "Total thefts this month: 107\n",
            "Weekly average: 26.75\n"
          ]
        }
      ],
      "source": [
        "# Analyzing weekly crime reports\n",
        "week1_thefts = 23\n",
        "week2_thefts = 31\n",
        "week3_thefts = 28\n",
        "week4_thefts = 25\n",
        "\n",
        "total = week1_thefts + week2_thefts + week3_thefts + week4_thefts\n",
        "average = total / 4\n",
        "\n",
        "# Old way to print (harder to read)\n",
        "print(\"Total thefts this month: \" + str(total))\n",
        "print(\"Weekly average: \" + str(average))"
      ]
    },
    {
      "cell_type": "code",
      "execution_count": 7,
      "id": "f2df2504",
      "metadata": {
        "id": "f2df2504"
      },
      "outputs": [
        {
          "name": "stdout",
          "output_type": "stream",
          "text": [
            "Total thefts this month: 107\n",
            "Weekly average: 26.75\n"
          ]
        }
      ],
      "source": [
        "# New way with f-strings (easier!)\n",
        "# The 'f' stands for 'format' - it formats our output nicely\n",
        "print(f\"Total thefts this month: {total}\")\n",
        "print(f\"Weekly average: {average}\")"
      ]
    },
    {
      "cell_type": "markdown",
      "id": "45351a93",
      "metadata": {
        "id": "45351a93"
      },
      "source": [
        "## Part 3: Lists and Basic Operations\n",
        "\n",
        "### Creating Lists\n",
        "**Connection to Computational Thinking: This is PATTERN RECOGNITION - grouping similar data together**\n",
        "\n",
        "Lists let us store multiple values in one variable:"
      ]
    },
    {
      "cell_type": "code",
      "execution_count": 8,
      "id": "adc59f00",
      "metadata": {
        "id": "adc59f00"
      },
      "outputs": [
        {
          "name": "stdout",
          "output_type": "stream",
          "text": [
            "Crimes: ['theft', 'assault', 'burglary', 'theft', 'vandalism', 'theft']\n",
            "Response times: [4, 7, 12, 5, 8, 15]\n"
          ]
        }
      ],
      "source": [
        "# Crime types reported today\n",
        "crimes_today = [\"theft\", \"assault\", \"burglary\", \"theft\", \"vandalism\", \"theft\"]\n",
        "\n",
        "# Response times in minutes\n",
        "response_times = [4, 7, 12, 5, 8, 15]\n",
        "\n",
        "print(\"Crimes:\", crimes_today)\n",
        "print(\"Response times:\", response_times)"
      ]
    },
    {
      "cell_type": "markdown",
      "id": "8c074271",
      "metadata": {
        "id": "8c074271"
      },
      "source": [
        "### Working with Lists\n",
        "We can analyze lists in many ways:"
      ]
    },
    {
      "cell_type": "code",
      "execution_count": 9,
      "id": "1fe29cee",
      "metadata": {
        "id": "1fe29cee"
      },
      "outputs": [
        {
          "name": "stdout",
          "output_type": "stream",
          "text": [
            "Total crimes: 6\n"
          ]
        }
      ],
      "source": [
        "# How many crimes?\n",
        "total_crimes = len(crimes_today)\n",
        "print(f\"Total crimes: {total_crimes}\")"
      ]
    },
    {
      "cell_type": "code",
      "execution_count": 10,
      "id": "26e13c2f",
      "metadata": {
        "id": "26e13c2f"
      },
      "outputs": [
        {
          "name": "stdout",
          "output_type": "stream",
          "text": [
            "First crime reported: theft\n",
            "Second crime reported: assault\n"
          ]
        }
      ],
      "source": [
        "# Access specific crimes\n",
        "# Think of list positions like apartment numbers:\n",
        "# Ground floor = 0, First floor = 1, Second floor = 2, etc.\n",
        "first_crime = crimes_today[0]  # Ground floor apartment\n",
        "second_crime = crimes_today[1]  # First floor apartment\n",
        "print(f\"First crime reported: {first_crime}\")\n",
        "print(f\"Second crime reported: {second_crime}\")"
      ]
    },
    {
      "cell_type": "code",
      "execution_count": 11,
      "id": "a375b72e",
      "metadata": {
        "id": "a375b72e"
      },
      "outputs": [
        {
          "name": "stdout",
          "output_type": "stream",
          "text": [
            "Updated list: ['theft', 'assault', 'burglary', 'theft', 'vandalism', 'theft', 'robbery']\n",
            "Number of thefts: 3\n"
          ]
        }
      ],
      "source": [
        "# Add new crime report\n",
        "crimes_today.append(\"robbery\")\n",
        "print(\"Updated list:\", crimes_today)\n",
        "\n",
        "# Count specific crime type\n",
        "theft_count = crimes_today.count(\"theft\")\n",
        "print(f\"Number of thefts: {theft_count}\")\n"
      ]
    },
    {
      "cell_type": "markdown",
      "id": "1650c574",
      "metadata": {
        "id": "1650c574"
      },
      "source": [
        "### Lists Have Special Abilities\n",
        "Lists in Python come with built-in abilities. We activate these powers using a dot (.):\n",
        "\n",
        "- `my_list.append(item)` - add something to the end\n",
        "- `my_list.count(item)` - count how many times something appears\n",
        "\n",
        "Think of the dot as saying \"Hey list, use your power to...\"\n",
        "- `crimes_today.append(\"robbery\")` means \"Hey crimes_today, use your power to add robbery\"\n",
        "\n",
        "Some operations like `len()` and `sum()` work ON lists from the outside. These operations are called *functions*.\n",
        "\n",
        "Others like `.append()` and `.count()` are abilities that lists have inside them. These operations are called *methods*.\n"
      ]
    },
    {
      "cell_type": "code",
      "execution_count": 12,
      "id": "99a8ce41",
      "metadata": {
        "id": "99a8ce41"
      },
      "outputs": [],
      "source": [
        "# Some operations work ON lists from the outside\n",
        "# These are called FUNCTIONS\n",
        "len(crimes_today)     # function: measure the list from outside\n",
        "sum(response_times)   # function: add up the list from outside\n",
        "max(response_times)   # function: find biggest in list from outside\n",
        "min(response_times)   # function: find smallest in list from outside\n",
        "\n",
        "# Others are abilities that lists have inside them\n",
        "# These are called METHODS\n",
        "crimes_today.append(\"robbery\")  # method: list adds to itself\n",
        "crimes_today.count(\"theft\")     # method: list counts its own items\n",
        "crimes_today.remove(\"vandalism\") # method: list removes from itself\n",
        "\n",
        "# The dot (.) connects a list to its methods\n",
        "# Think: \"list.do_something()\""
      ]
    },
    {
      "cell_type": "markdown",
      "id": "6336a389",
      "metadata": {
        "id": "6336a389"
      },
      "source": [
        "### Common List Mistake\n",
        "Let's see what happens when we try to access an item that doesn't exist:"
      ]
    },
    {
      "cell_type": "code",
      "execution_count": 13,
      "id": "65b23071",
      "metadata": {
        "id": "65b23071"
      },
      "outputs": [
        {
          "name": "stdout",
          "output_type": "stream",
          "text": [
            "Last response time: 6 minutes\n"
          ]
        }
      ],
      "source": [
        "response_times = [4, 7, 12, 5, 8, 15, 6]\n",
        "# This will error - we only have 7 items (indices 0-6)\n",
        "# eighth_response = response_times[7]  # IndexError!\n",
        "\n",
        "# Always remember: if you have 7 items, the last index is 6\n",
        "last_response = response_times[6]  # This works!\n",
        "print(f\"Last response time: {last_response} minutes\")"
      ]
    },
    {
      "cell_type": "markdown",
      "id": "12fa39f3",
      "metadata": {
        "id": "12fa39f3"
      },
      "source": [
        "### Analyzing Lists with Built-in Functions"
      ]
    },
    {
      "cell_type": "code",
      "execution_count": 14,
      "id": "5871ec6d",
      "metadata": {
        "id": "5871ec6d"
      },
      "outputs": [
        {
          "name": "stdout",
          "output_type": "stream",
          "text": [
            "Fastest response: 4 minutes\n",
            "Slowest response: 15 minutes\n",
            "Average response: 8.1 minutes\n"
          ]
        }
      ],
      "source": [
        "# Analyze response times\n",
        "response_times = [4, 7, 12, 5, 8, 15, 6]\n",
        "\n",
        "fastest = min(response_times)\n",
        "slowest = max(response_times)\n",
        "total_time = sum(response_times)\n",
        "average_time = total_time / len(response_times)\n",
        "\n",
        "print(f\"Fastest response: {fastest} minutes\")\n",
        "print(f\"Slowest response: {slowest} minutes\")\n",
        "print(f\"Average response: {average_time:.1f} minutes\")"
      ]
    },
    {
      "cell_type": "markdown",
      "id": "bf9b35a8",
      "metadata": {
        "id": "bf9b35a8"
      },
      "source": [
        "## Part 4: Making Decisions with If Statements\n",
        "\n",
        "### Simple If Statements\n",
        "**Connection to Computational Thinking: This is ALGORITHMIC THINKING - creating decision rules**"
      ]
    },
    {
      "cell_type": "code",
      "execution_count": 15,
      "id": "841d9911",
      "metadata": {
        "id": "841d9911"
      },
      "outputs": [
        {
          "name": "stdout",
          "output_type": "stream",
          "text": [
            "Response within acceptable time\n"
          ]
        }
      ],
      "source": [
        "# Check if response time meets standard\n",
        "response_time = 8\n",
        "standard = 10\n",
        "\n",
        "if response_time <= standard:\n",
        "    print(\"Response within acceptable time\")\n",
        "else:\n",
        "    print(\"Response time exceeded standard\")"
      ]
    },
    {
      "cell_type": "markdown",
      "id": "496cf0f2",
      "metadata": {
        "id": "496cf0f2"
      },
      "source": [
        "### Common If Statement Mistakes\n",
        "Let's see some typical errors:"
      ]
    },
    {
      "cell_type": "code",
      "execution_count": 16,
      "id": "3b0b85bf",
      "metadata": {
        "id": "3b0b85bf"
      },
      "outputs": [
        {
          "ename": "SyntaxError",
          "evalue": "expected ':' (148695893.py, line 2)",
          "output_type": "error",
          "traceback": [
            "  \u001b[36mCell\u001b[39m\u001b[36m \u001b[39m\u001b[32mIn[16]\u001b[39m\u001b[32m, line 2\u001b[39m\n\u001b[31m    \u001b[39m\u001b[31mif response_time <= standard  # SyntaxError!\u001b[39m\n                                  ^\n\u001b[31mSyntaxError\u001b[39m\u001b[31m:\u001b[39m expected ':'\n"
          ]
        }
      ],
      "source": [
        "# Mistake 1: Forgetting the colon\n",
        "if response_time <= standard  # SyntaxError!\n",
        "    print(\"Response within acceptable time\")\n"
      ]
    },
    {
      "cell_type": "code",
      "execution_count": 17,
      "id": "Hziuz8qf26A5",
      "metadata": {
        "id": "Hziuz8qf26A5"
      },
      "outputs": [
        {
          "ename": "IndentationError",
          "evalue": "expected an indented block after 'if' statement on line 2 (3699197971.py, line 3)",
          "output_type": "error",
          "traceback": [
            "  \u001b[36mCell\u001b[39m\u001b[36m \u001b[39m\u001b[32mIn[17]\u001b[39m\u001b[32m, line 3\u001b[39m\n\u001b[31m    \u001b[39m\u001b[31mprint(\"Response within acceptable time\")  # IndentationError!\u001b[39m\n    ^\n\u001b[31mIndentationError\u001b[39m\u001b[31m:\u001b[39m expected an indented block after 'if' statement on line 2\n"
          ]
        }
      ],
      "source": [
        "# Mistake 2: Forgetting indentation\n",
        "if response_time <= standard:\n",
        "print(\"Response within acceptable time\")  # IndentationError!\n"
      ]
    },
    {
      "cell_type": "code",
      "execution_count": 18,
      "id": "ISdGOXZS26gq",
      "metadata": {
        "id": "ISdGOXZS26gq"
      },
      "outputs": [
        {
          "name": "stdout",
          "output_type": "stream",
          "text": [
            "Response within acceptable time\n"
          ]
        }
      ],
      "source": [
        "# Correct version:\n",
        "if response_time <= standard:\n",
        "    print(\"Response within acceptable time\")  # Note the indent!"
      ]
    },
    {
      "cell_type": "markdown",
      "id": "df4372fe",
      "metadata": {
        "id": "df4372fe"
      },
      "source": [
        "Python uses indentation to understand what's inside the if statement.\n",
        "Think of indentation like an outline - sub-points are indented."
      ]
    },
    {
      "cell_type": "code",
      "execution_count": 19,
      "id": "7c73cd16",
      "metadata": {
        "id": "7c73cd16"
      },
      "outputs": [
        {
          "name": "stdout",
          "output_type": "stream",
          "text": [
            "High crime day: 7 above average\n"
          ]
        }
      ],
      "source": [
        "# Flag high crime days\n",
        "crimes_today = 45\n",
        "daily_average = 38\n",
        "\n",
        "if crimes_today > daily_average:\n",
        "    difference = crimes_today - daily_average\n",
        "    print(f\"High crime day: {difference} above average\")\n",
        "else:\n",
        "    print(\"Normal crime levels\")"
      ]
    },
    {
      "cell_type": "markdown",
      "id": "34d48b0c",
      "metadata": {
        "id": "34d48b0c"
      },
      "source": [
        "## Part 5: Using AI Tools for Understanding\n",
        "\n",
        "### AI as Your Learning Assistant\n",
        "\n",
        "Example prompt template to use:\n",
        "```\n",
        "I'm a criminology student and I've never programmed before. Here's my code:\n",
        "\n",
        "[paste your code here]\n",
        "\n",
        "Can you:\n",
        "1. Explain what each line does in simple terms\n",
        "2. Tell me what the output will be\n",
        "3. Help me understand any errors if it's not working\n",
        "```\n",
        "\n",
        "### Good AI Habits:\n",
        "- Always verify AI explanations by running the code\n",
        "- If AI gives you code, ask it to explain before using it\n",
        "- Use AI to understand, not to replace learning"
      ]
    },
    {
      "cell_type": "markdown",
      "id": "162b59ce",
      "metadata": {
        "id": "162b59ce"
      },
      "source": [
        "## Hands-On Exercise: Precinct Comparison\n",
        "\n",
        "Let's compare arrest data from two precincts.\n",
        "Complete each step below:"
      ]
    },
    {
      "cell_type": "code",
      "execution_count": 20,
      "id": "9171478f",
      "metadata": {
        "id": "9171478f"
      },
      "outputs": [
        {
          "name": "stdout",
          "output_type": "stream",
          "text": [
            "Precinct 1 arrests, total: 99\n",
            "Precinct 2 arrests, total: 64\n"
          ]
        }
      ],
      "source": [
        "# Given data\n",
        "precinct_1_arrests = [12, 15, 9, 18, 14, 20, 11]\n",
        "precinct_2_arrests = [8, 10, 7, 9, 12, 8, 10]\n",
        "\n",
        "# Step 1: Calculate total arrests for each precinct\n",
        "total_arrests_p1 = sum(precinct_1_arrests)\n",
        "total_arrests_p2 = sum(precinct_2_arrests)\n",
        "\n",
        "print(f\"Precinct 1 arrests, total: {total_arrests_p1}\")\n",
        "print(f\"Precinct 2 arrests, total: {total_arrests_p2}\")\n"
      ]
    },
    {
      "cell_type": "code",
      "execution_count": 21,
      "id": "vToKAzjDFPA_",
      "metadata": {
        "id": "vToKAzjDFPA_"
      },
      "outputs": [
        {
          "name": "stdout",
          "output_type": "stream",
          "text": [
            "Precinct 1 arrests, average: 14.142857142857142\n"
          ]
        }
      ],
      "source": [
        "\n",
        "# Step 2: Calculate average daily arrests for precinct 1\n",
        "total_arrests_p1 = sum(precinct_1_arrests)\n",
        "ave_arrests_p1 = total_arrests_p1 / len(precinct_1_arrests)\n",
        "\n",
        "print(f\"Precinct 1 arrests, average: {ave_arrests_p1}\")\n",
        "\n"
      ]
    },
    {
      "cell_type": "code",
      "execution_count": 22,
      "id": "hz8sbbNtFPvE",
      "metadata": {
        "id": "hz8sbbNtFPvE"
      },
      "outputs": [
        {
          "name": "stdout",
          "output_type": "stream",
          "text": [
            "Precinct 1 arrests, average: 9.142857142857142\n"
          ]
        }
      ],
      "source": [
        "\n",
        "# Step 3: Calculate average daily arrests for precinct 2\n",
        "total_arrests_p2 = sum(precinct_2_arrests)\n",
        "ave_arrests_p2 = total_arrests_p2 / len(precinct_2_arrests)\n",
        "\n",
        "print(f\"Precinct 1 arrests, average: {ave_arrests_p2}\")\n",
        "\n"
      ]
    },
    {
      "cell_type": "code",
      "execution_count": 23,
      "id": "kTr1Xru-FQTo",
      "metadata": {
        "id": "kTr1Xru-FQTo"
      },
      "outputs": [
        {
          "name": "stdout",
          "output_type": "stream",
          "text": [
            "Precinct 1 has more arrests\n"
          ]
        }
      ],
      "source": [
        "\n",
        "# Step 4: Determine which precinct had more arrests\n",
        "if total_arrests_p1 > total_arrests_p2:\n",
        "    print(\"Precinct 1 has more arrests\")\n",
        "elif total_arrests_p1 < total_arrests_p2:\n",
        "    print(\"Precinct 2 has more arrests\")\n",
        "else:\n",
        "    print(\"They have the same number of arrests\")\n",
        "\n"
      ]
    },
    {
      "cell_type": "code",
      "execution_count": 24,
      "id": "3UTxxWh7FQwg",
      "metadata": {
        "id": "3UTxxWh7FQwg"
      },
      "outputs": [
        {
          "name": "stdout",
          "output_type": "stream",
          "text": [
            "The difference between the total arrests in precinct 1 and precinct 2 is 35\n"
          ]
        }
      ],
      "source": [
        "\n",
        "# Step 5: Calculate the difference between precincts\n",
        "difference = total_arrests_p1 - total_arrests_p2\n",
        "\n",
        "print(f\"The difference between the total arrests in precinct 1 and precinct 2 is {difference}\")\n"
      ]
    },
    {
      "cell_type": "markdown",
      "id": "fcf1c55a",
      "metadata": {
        "id": "fcf1c55a"
      },
      "source": [
        "## Independent Practice\n",
        "\n",
        "Now modify the code above to analyze different data:"
      ]
    },
    {
      "cell_type": "code",
      "execution_count": null,
      "id": "1d98fc2a",
      "metadata": {
        "id": "1d98fc2a",
        "lines_to_next_cell": 2
      },
      "outputs": [],
      "source": [
        "# Try with your own data\n",
        "# Change these numbers to represent crime data from your hometown\n",
        "# or make up realistic numbers\n",
        "my_area_crimes_week1 = [5, 3, 7, 4, 6, 8, 3]\n",
        "my_area_crimes_week2 = [4, 5, 6, 3, 7, 5, 4]\n",
        "\n",
        "# Your analysis here:"
      ]
    },
    {
      "cell_type": "markdown",
      "id": "12a0ae10",
      "metadata": {
        "id": "12a0ae10"
      },
      "source": [
        "## Wrap-Up: Key Takeaways\n",
        "\n",
        "Today you learned:\n",
        "1. **Variables** store data we can use and update\n",
        "2. **Lists** hold multiple values together\n",
        "3. **If** statements let Python make decisions\n",
        "4. **F-strings** make printing easier\n",
        "5. **Built-in functions** like `sum()`, `len()`, `min()`, `max()` analyze data\n",
        "\n",
        "Every complex analysis builds from these basics!"
      ]
    },
    {
      "cell_type": "markdown",
      "id": "d63504a6",
      "metadata": {
        "id": "d63504a6"
      },
      "source": [
        "## Before Next Class\n",
        "\n",
        "1. **Practice in Colab:**\n",
        "   - Modify today's examples with different numbers\n",
        "   - Try to break the code and fix it\n",
        "\n",
        "2. **Use AI to Learn:**\n",
        "   - Copy any confusing code into ChatGPT/Claude\n",
        "   - Use the prompt template from today\n",
        "\n",
        "3. **Come with Questions:**\n",
        "   - What confused you?\n",
        "   - What do you want to learn more about?\n",
        "\n",
        "4. **Preview Next Class:**\n",
        "   - We'll learn loops to automate repetitive tasks\n",
        "   - Touch on functions"
      ]
    },
    {
      "cell_type": "markdown",
      "id": "b7282100",
      "metadata": {
        "id": "b7282100"
      },
      "source": [
        "## Quick Reference\n",
        "\n",
        "### Common Functions We Learned:\n",
        "- `print()` - display output\n",
        "- `len()` - count items in a list\n",
        "- `sum()` - add up all numbers in a list\n",
        "- `min()` - find smallest value\n",
        "- `max()` - find largest value\n",
        "- `append()` - add item to end of list\n",
        "- `count()` - count occurrences in a list\n",
        "\n",
        "### Common Errors and Fixes:\n",
        "- **SyntaxError**: Check for missing colons, quotes, or parentheses\n",
        "- **IndentationError**: Make sure code inside if/else is indented\n",
        "- **IndexError**: Remember lists start at 0, not 1\n",
        "- **NameError**: Check variable names are spelled correctly"
      ]
    }
  ],
  "metadata": {
    "colab": {
      "provenance": []
    },
    "jupytext": {
      "cell_metadata_filter": "-all",
      "main_language": "python",
      "notebook_metadata_filter": "-all"
    },
    "kernelspec": {
      "display_name": "base",
      "language": "python",
      "name": "python3"
    },
    "language_info": {
      "codemirror_mode": {
        "name": "ipython",
        "version": 3
      },
      "file_extension": ".py",
      "mimetype": "text/x-python",
      "name": "python",
      "nbconvert_exporter": "python",
      "pygments_lexer": "ipython3",
      "version": "3.13.2"
    }
  },
  "nbformat": 4,
  "nbformat_minor": 5
}
