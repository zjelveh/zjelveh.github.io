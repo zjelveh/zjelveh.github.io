{
 "cells": [
  {
   "cell_type": "markdown",
   "id": "cell-0",
   "metadata": {},
   "source": [
    "[![Open In Colab](https://colab.research.google.com/assets/colab-badge.svg)](https://colab.research.google.com/github/zjelveh/zjelveh.github.io/blob/master/files/cfc/7_visualization_simplified.ipynb)\n",
    "\n",
    "**IMPORTANT**: Save your own copy!\n",
    "1. Click File → Save a copy in Drive\n",
    "2. Rename it\n",
    "3. Work in YOUR copy, not the original\n",
    "\n",
    "---\n",
    "\n",
    "# Data Visualization with Seaborn\n",
    "## CCJS 418E: Coding for Criminology\n",
    "\n",
    "**Learning Goals:**\n",
    "- Master four essential plot types: line plots, bar charts, histograms, and scatter plots\n",
    "- Understand when to use each plot type\n",
    "- Use pandas to prepare data for visualization\n",
    "- Tell stories with Maryland's pretrial reform data\n",
    "\n",
    "**The Question:** Did Maryland's 2016 pretrial reform change how judges make bail decisions?\n",
    "\n",
    "**Context:** In November 2016, Maryland implemented pretrial reform. Before: judges could set cash bail (HWOB). After: judges pushed toward either releasing people (ROR - Release on Recognizance) or detaining them (HDOB - Held Detained on Bail). We'll visualize whether judicial behavior actually changed."
   ]
  },
  {
   "cell_type": "code",
   "execution_count": null,
   "id": "cell-1",
   "metadata": {},
   "outputs": [],
   "source": [
    "import pandas as pd\n",
    "import seaborn as sns\n",
    "\n",
    "# Load the pretrial decisions data\n",
    "df = pd.read_csv('https://raw.githubusercontent.com/zjelveh/zjelveh.github.io/refs/heads/master/files/cfc/bail_decisions_monthly.csv')\n",
    "df.drop(columns=['pct_felony'], inplace=True)\n",
    "df = df[df.county != 'STATEWIDE']\n",
    "\n",
    "# Quick look\n",
    "df.head()"
   ]
  },
  {
   "cell_type": "markdown",
   "id": "cell-2",
   "metadata": {},
   "source": [
    "**Key Variables:**\n",
    "- `county` - Which Maryland county (24 total)\n",
    "- `year`, `month` - When this data is from\n",
    "- `months_from_reform` - Negative = before reform, 0 = reform month, positive = after\n",
    "- `n_ror`, `n_hdob`, `n_hwob` - Counts of each decision type\n",
    "- `pct_ror`, `pct_hdob`, `pct_hwob` - Percentages (what we'll visualize)"
   ]
  },
  {
   "cell_type": "markdown",
   "id": "cell-3",
   "metadata": {},
   "source": [
    "## Part 1: Line Plots - Showing Trends Over Time\n",
    "\n",
    "Line plots show how values change over time or across sequential categories. Use them when you want to see trends, trajectories, or patterns across ordered data. The connecting lines help your eye follow the flow of change.\n",
    "\n",
    "**When to use:** Your x-axis is time or another ordered sequence, and you want to emphasize the continuous trend."
   ]
  },
  {
   "cell_type": "markdown",
   "id": "cell-4",
   "metadata": {},
   "source": [
    "**Line Plot Parameters:**\n",
    "\n",
    "| Parameter | What It Does |\n",
    "|-----------|--------------|\n",
    "| `data` | Your DataFrame |\n",
    "| `x` | Column name for x-axis (usually time or sequence) |\n",
    "| `y` | Column name for y-axis (the value being measured) |\n",
    "| `hue` | Column to split data into colored groups |\n",
    "| `errorbar` | Set to `None` to turn off confidence intervals |\n",
    "| `marker` | Add dots at data points (e.g., `'o'` for circles) |\n",
    "| `palette` | Color scheme (e.g., `'Set2'`, `'colorblind'`) |"
   ]
  },
  {
   "cell_type": "markdown",
   "id": "cell-5",
   "metadata": {},
   "source": [
    "**Example 1: Single County**\n",
    "\n",
    "Let's start simple - one county, one variable over time."
   ]
  },
  {
   "cell_type": "code",
   "execution_count": null,
   "id": "cell-6",
   "metadata": {},
   "outputs": [],
   "source": [
    "# Filter to just Prince George County\n",
    "pg_data = df[df['county'] == 'Prince George']\n",
    "\n",
    "# Create line plot\n",
    "sns.lineplot(data=pg_data,\n",
    "             x='months_from_reform',\n",
    "             y='pct_ror',\n",
    "             marker='o')"
   ]
  },
  {
   "cell_type": "markdown",
   "id": "cell-9",
   "metadata": {},
   "source": [
    "**Example 2: Multiple Lines with Hue**\n",
    "\n",
    "Now plot all three outcomes on one chart using multiple `lineplot` calls."
   ]
  },
  {
   "cell_type": "code",
   "execution_count": null,
   "id": "cell-10",
   "metadata": {},
   "outputs": [],
   "source": [
    "# Plot all three outcomes\n",
    "sns.lineplot(data=statewide, x='months_from_reform', y='pct_ror',\n",
    "             marker='o',  label='Released (ROR)', color='green')\n",
    "sns.lineplot(data=statewide, x='months_from_reform', y='pct_hdob',\n",
    "             marker='s', label='Detained (HDOB)', color='red')\n",
    "sns.lineplot(data=statewide, x='months_from_reform', y='pct_hwob',\n",
    "             marker='^', label='Bail Set (HWOB)', color='orange')"
   ]
  },
  {
   "cell_type": "markdown",
   "id": "cell-11",
   "metadata": {},
   "source": [
    "**Example 3: Comparing Groups**\n",
    "\n",
    "Create a county size category and compare large vs small counties using `hue`."
   ]
  },
  {
   "cell_type": "code",
   "execution_count": null,
   "id": "cell-12",
   "metadata": {},
   "outputs": [],
   "source": [
    "# Create large county indicator\n",
    "df['large_county'] = df.county.isin(['Baltimore City', 'Prince George',\n",
    "                                      'Baltimore', 'Anne Arundel', 'Montgomery'])\n",
    "\n",
    "# Plot with hue\n",
    "sns.lineplot(data=df,\n",
    "             x='months_from_reform',\n",
    "             y='pct_ror',\n",
    "             hue='large_county',\n",
    "             errorbar=None,\n",
    "             palette='Set2')"
   ]
  },
  {
   "cell_type": "markdown",
   "id": "cell-13",
   "metadata": {},
   "source": [
    "## Part 2: Bar Charts - Comparing Categories\n",
    "\n",
    "Bar charts compare discrete categories side-by-side. Each bar shows the magnitude of a value for one category. Use them when you want to see which groups are larger/smaller or how groups differ.\n",
    "\n",
    "**Key Distinction:** Bar charts show discrete categories (counties, crime types). Histograms (next section) show continuous distributions. If your x-axis could have infinite values in between (like age, income), use a histogram. If it's distinct groups, use a bar chart.\n",
    "\n",
    "**When to use:** Comparing specific groups or categories, especially with pre/post comparisons."
   ]
  },
  {
   "cell_type": "markdown",
   "id": "cell-14",
   "metadata": {},
   "source": [
    "**Bar Chart Parameters:**\n",
    "\n",
    "| Parameter | What It Does |\n",
    "|-----------|--------------|\n",
    "| `data` | Your DataFrame |\n",
    "| `x` | Column name for categories on x-axis |\n",
    "| `y` | Column name for values (bar heights) |\n",
    "| `hue` | Column to create grouped bars (shows multiple bars per category) |\n",
    "| `errorbar` | Set to `None` to turn off confidence intervals |\n",
    "| `palette` | Color scheme for bars |\n",
    "| `order` | List specifying order of categories on x-axis |"
   ]
  },
  {
   "cell_type": "markdown",
   "id": "cell-15",
   "metadata": {},
   "source": [
    "**Pandas Practice: Group by Multiple Columns**\n",
    "\n",
    "To compare counties before and after reform, we need to group by both `county` AND `period`."
   ]
  },
  {
   "cell_type": "code",
   "execution_count": null,
   "id": "cell-16",
   "metadata": {},
   "outputs": [],
   "source": [
    "# First, create period column using simple comparison\n",
    "df['post_reform'] = df['months_from_reform'] > 0\n",
    "\n",
    "# Group by county AND period\n",
    "county_period = df.groupby(['county', 'post_reform'])['pct_ror'].mean().reset_index()\n",
    "\n",
    "county_period.head(10)"
   ]
  },
  {
   "cell_type": "markdown",
   "id": "cell-17",
   "metadata": {},
   "source": [
    "**Example 1: Comparing Counties Before and After**\n",
    "\n",
    "Create a bar chart where each county gets two bars: pre-reform and post-reform."
   ]
  },
  {
   "cell_type": "code",
   "execution_count": null,
   "id": "cell-18",
   "metadata": {},
   "outputs": [],
   "source": [
    "sns.barplot(data=county_period,\n",
    "            x='county',\n",
    "            y='pct_ror',\n",
    "            hue='post_reform',\n",
    "            errorbar=None,\n",
    "            palette='Set2', )"
   ]
  },
  {
   "cell_type": "markdown",
   "id": "cell-23",
   "metadata": {},
   "source": [
    "## Part 3: Histograms - Understanding Distributions\n",
    "\n",
    "Histograms show how values are distributed across a continuous range. Unlike bar charts that compare distinct categories, histograms bin continuous data to reveal patterns like skewness, clustering, or outliers.\n",
    "\n",
    "**Key Distinction:** Bar charts compare categories (which county had more?). Histograms show distributions (how spread out are the values?).\n",
    "\n",
    "**When to use:** Understanding the spread, shape, or concentration of continuous data like percentages, ages, or amounts."
   ]
  },
  {
   "cell_type": "markdown",
   "id": "cell-24",
   "metadata": {},
   "source": [
    "**Histogram Parameters:**\n",
    "\n",
    "| Parameter | What It Does |\n",
    "|-----------|--------------|\n",
    "| `data` | Your DataFrame |\n",
    "| `x` | Column name with continuous values to bin |\n",
    "| `bins` | Number of bins to divide data into (default is automatic) |\n",
    "| `hue` | Column to create separate distributions by group |\n",
    "| `stat` | What to show on y-axis: `'count'` (default), `'density'`, `'percent'` |\n",
    "| `kde` | Set to `True` to overlay a smooth density curve |\n",
    "| `palette` | Color scheme for groups |"
   ]
  },
  {
   "cell_type": "markdown",
   "id": "cell-25",
   "metadata": {},
   "source": [
    "**Example 1: Basic Distribution**\n",
    "\n",
    "How are ROR percentages distributed across all county-months?"
   ]
  },
  {
   "cell_type": "code",
   "execution_count": null,
   "id": "cell-26",
   "metadata": {},
   "outputs": [],
   "source": [
    "# Plot distribution of ROR percentages\n",
    "sns.histplot(data=df,\n",
    "             x='pct_ror',\n",
    "             bins=20)"
   ]
  },
  {
   "cell_type": "markdown",
   "id": "cell-27",
   "metadata": {},
   "source": [
    "**Example 2: Comparing Distributions with Hue**\n",
    "\n",
    "Did the distribution of ROR percentages change after reform?"
   ]
  },
  {
   "cell_type": "code",
   "execution_count": null,
   "id": "cell-28",
   "metadata": {},
   "outputs": [],
   "source": [
    "# Compare pre and post distributions\n",
    "sns.histplot(data=df,\n",
    "             x='pct_ror',\n",
    "             hue='post_reform',\n",
    "             bins=20,\n",
    "             palette='Set2')"
   ]
  },
  {
   "cell_type": "markdown",
   "id": "cell-29",
   "metadata": {},
   "source": [
    "**Example 3: Normalized Comparison**\n",
    "\n",
    "Use `stat='density'` to compare shapes when groups have different sizes."
   ]
  },
  {
   "cell_type": "code",
   "execution_count": null,
   "id": "cell-30",
   "metadata": {},
   "outputs": [],
   "source": [
    "# Use density to normalize for different group sizes\n",
    "sns.histplot(data=df,\n",
    "             x='pct_ror',\n",
    "             hue='post_reform',\n",
    "             bins=20,\n",
    "             stat='density',\n",
    "             palette='Set2')"
   ]
  },
  {
   "cell_type": "markdown",
   "id": "cell-31",
   "metadata": {},
   "source": [
    "## Part 4: Scatter Plots - Exploring Relationships\n",
    "\n",
    "Scatter plots reveal relationships between two continuous variables. Each point represents one observation, positioned by its x and y values. Use them to see correlations, clusters, or outliers in the relationship between variables.\n",
    "\n",
    "**When to use:** Exploring whether two continuous variables are related, and if so, what kind of relationship (positive, negative, none)."
   ]
  },
  {
   "cell_type": "markdown",
   "id": "cell-32",
   "metadata": {},
   "source": [
    "**Scatter Plot Parameters:**\n",
    "\n",
    "| Parameter | What It Does |\n",
    "|-----------|--------------|\n",
    "| `data` | Your DataFrame |\n",
    "| `x` | Column name for x-axis variable |\n",
    "| `y` | Column name for y-axis variable |\n",
    "| `hue` | Column to color points by group |\n",
    "| `size` | Column to size points by value |\n",
    "| `alpha` | Point transparency (0-1, lower = more transparent) |\n",
    "| `palette` | Color scheme for groups |"
   ]
  },
  {
   "cell_type": "markdown",
   "id": "cell-33",
   "metadata": {},
   "source": [
    "**Example 1: Basic Relationship**\n",
    "\n",
    "Is there a relationship between ROR rates and detention rates?"
   ]
  },
  {
   "cell_type": "code",
   "execution_count": null,
   "id": "cell-34",
   "metadata": {},
   "outputs": [],
   "source": [
    "# Plot relationship between ROR and detention\n",
    "sns.scatterplot(data=df,\n",
    "                x='pct_ror',\n",
    "                y='pct_hdob',\n",
    "                alpha=0.5)"
   ]
  },
  {
   "cell_type": "markdown",
   "id": "cell-35",
   "metadata": {},
   "source": [
    "**Example 2: Grouping with Hue**\n",
    "\n",
    "Did this relationship differ before and after reform?"
   ]
  },
  {
   "cell_type": "code",
   "execution_count": null,
   "id": "cell-36",
   "metadata": {},
   "outputs": [],
   "source": [
    "# Add hue to show periods\n",
    "sns.scatterplot(data=df,\n",
    "                x='pct_ror',\n",
    "                y='pct_hdob',\n",
    "                hue='post_reform',\n",
    "                alpha=0.5,\n",
    "                palette='Set2')"
   ]
  },
  {
   "cell_type": "code",
   "execution_count": null,
   "id": "f6ede17a",
   "metadata": {},
   "outputs": [],
   "source": [
    "# create a percent felony columns\n",
    "df['pct_felony'] = df['n_felony_hearings'] / df['n_total_hearings']\n",
    "\n",
    "# Add hue to show periods\n",
    "sns.scatterplot(data=df,\n",
    "                x='pct_felony',\n",
    "                y='pct_hwob',\n",
    "                hue='post_reform',\n",
    "                alpha=0.5,\n",
    "                palette='Set2')\n"
   ]
  },
  {
   "cell_type": "code",
   "execution_count": null,
   "id": "71fa5a57",
   "metadata": {},
   "outputs": [],
   "source": [
    "\n",
    "# Add hue to show periods\n",
    "sns.scatterplot(data=df,\n",
    "                x='n_total_hearings',\n",
    "                y='n_felony_hearings',\n",
    "                hue='post_reform',\n",
    "                alpha=0.5,\n",
    "                palette='Set2')\n"
   ]
  },
  {
   "cell_type": "markdown",
   "id": "cell-37",
   "metadata": {},
   "source": [
    "**Regression Plot Parameters:**\n",
    "\n",
    "| Parameter | What It Does |\n",
    "|-----------|--------------|\n",
    "| `data` | Your DataFrame |\n",
    "| `x` | Column name for x-axis variable |\n",
    "| `y` | Column name for y-axis variable |\n",
    "| `scatter` | Set to `False` to hide points and show only line |\n",
    "| `color` | Color for the trend line |"
   ]
  },
  {
   "cell_type": "markdown",
   "id": "cell-38",
   "metadata": {},
   "source": [
    "**Example 3: Adding Trend Lines**\n",
    "\n",
    "Use `sns.regplot()` to add a trend line showing the overall relationship."
   ]
  },
  {
   "cell_type": "code",
   "execution_count": null,
   "id": "cell-39",
   "metadata": {},
   "outputs": [],
   "source": [
    "# Add regression line\n",
    "sns.regplot(data=df,\n",
    "            x='pct_ror',\n",
    "            y='pct_hdob')"
   ]
  },
  {
   "cell_type": "markdown",
   "id": "cell-40",
   "metadata": {},
   "source": [
    "## Quick Reference\n",
    "\n",
    "**Which Plot Type When?**\n",
    "\n",
    "| Question Type | Plot Type | Example |\n",
    "|---------------|-----------|---------|\n",
    "| How does it change over time? | Line Plot | ROR rates month by month |\n",
    "| Which category is largest? | Bar Chart | Compare counties |\n",
    "| How spread out are the values? | Histogram | Distribution of ROR percentages |\n",
    "| Are two variables related? | Scatter Plot | ROR vs detention rates |\n",
    "\n",
    "**Common Parameters Across All Plots:**\n",
    "\n",
    "| Parameter | What It Does |\n",
    "|-----------|--------------|\n",
    "| `data` | Your DataFrame |\n",
    "| `x` | Column for x-axis |\n",
    "| `y` | Column for y-axis |\n",
    "| `hue` | Column to create groups with different colors |\n",
    "| `palette` | Color scheme (try `'Set2'`, `'colorblind'`, `'pastel'`) |\n",
    "| `errorbar` | Set to `None` to turn off confidence intervals |"
   ]
  },
  {
   "cell_type": "markdown",
   "id": "cell-41",
   "metadata": {},
   "source": [
    "## Exercises\n",
    "\n",
    "**Exercise 1: Line Plot Practice**\n",
    "\n",
    "Filter the data to just Baltimore City and create a line plot showing how `pct_hwob` (detained) changed over time. "
   ]
  },
  {
   "cell_type": "code",
   "execution_count": null,
   "id": "cell-42",
   "metadata": {},
   "outputs": [],
   "source": [
    "# Your code here\n"
   ]
  },
  {
   "cell_type": "markdown",
   "id": "cell-43",
   "metadata": {},
   "source": [
    "**Exercise 2: Grouped Line Plot**\n",
    "\n",
    "Create a line plot comparing `pct_hdob` (detention rates) over time for large vs small counties. Use the `large_county` column we created earlier."
   ]
  },
  {
   "cell_type": "code",
   "execution_count": null,
   "id": "cell-44",
   "metadata": {},
   "outputs": [],
   "source": [
    "# Your code here\n"
   ]
  },
  {
   "cell_type": "markdown",
   "id": "cell-45",
   "metadata": {},
   "source": [
    "**Exercise 3: Bar Chart Comparison**\n",
    "\n",
    "Create a bar chart comparing average `pct_hdob` (detention) across the top 5 largest counties. First filter to just these counties: Baltimore City, Prince George, Baltimore, Anne Arundel, Montgomery."
   ]
  },
  {
   "cell_type": "code",
   "execution_count": null,
   "id": "cell-46",
   "metadata": {},
   "outputs": [],
   "source": [
    "# Your code here\n"
   ]
  },
  {
   "cell_type": "markdown",
   "id": "cell-47",
   "metadata": {},
   "source": [
    "**Exercise 4: Histogram Exploration**\n",
    "\n",
    "Create a histogram of `pct_hwob` with 15 bins. What does the distribution tell you about how often judges used cash bail?"
   ]
  },
  {
   "cell_type": "code",
   "execution_count": null,
   "id": "cell-48",
   "metadata": {},
   "outputs": [],
   "source": [
    "# Your code here\n"
   ]
  },
  {
   "cell_type": "markdown",
   "id": "cell-49",
   "metadata": {},
   "source": [
    "**Exercise 5: Histogram Comparison**\n",
    "\n",
    "Create a histogram comparing the distribution of `pct_hwob` before and after reform. Use `hue='post_reform'` and `stat='density'`. Did cash bail usage become more or less variable after reform?"
   ]
  },
  {
   "cell_type": "code",
   "execution_count": null,
   "id": "cell-50",
   "metadata": {},
   "outputs": [],
   "source": [
    "# Your code here\n"
   ]
  },
  {
   "cell_type": "markdown",
   "id": "cell-51",
   "metadata": {},
   "source": [
    "**Exercise 6: Scatter Plot**\n",
    "\n",
    "Create a scatter plot showing the relationship between `pct_ror` and `pct_hwob`. Is there a pattern? What does it suggest about how judges balance these two options?"
   ]
  },
  {
   "cell_type": "code",
   "execution_count": null,
   "id": "cell-52",
   "metadata": {},
   "outputs": [],
   "source": [
    "# Your code here\n"
   ]
  },
  {
   "cell_type": "markdown",
   "id": "cell-53",
   "metadata": {},
   "source": [
    "**Exercise 7: Advanced Scatter Plot**\n",
    "\n",
    "Create a scatter plot of `pct_ror` vs `pct_hwob` with `hue='post_reform'` to color points by reform period. Add a regression line for each period by creating two separate plots filtered by period."
   ]
  },
  {
   "cell_type": "code",
   "execution_count": null,
   "id": "cell-54",
   "metadata": {},
   "outputs": [],
   "source": [
    "# Your code here\n",
    "\n"
   ]
  },
  {
   "cell_type": "markdown",
   "id": "f185c4b0",
   "metadata": {},
   "source": [
    "**Exercise 8: Scatter Plot II**\n",
    "\n",
    "Create a scatter plot of `month` vs `n_total_hearings` with `hue='year'`. Does a prominent pattern shows up in this plot?"
   ]
  },
  {
   "cell_type": "code",
   "execution_count": null,
   "id": "fdf9e10c",
   "metadata": {},
   "outputs": [],
   "source": []
  }
 ],
 "metadata": {
  "kernelspec": {
   "display_name": "bert",
   "language": "python",
   "name": "bert"
  },
  "language_info": {
   "codemirror_mode": {
    "name": "ipython",
    "version": 3
   },
   "file_extension": ".py",
   "mimetype": "text/x-python",
   "name": "python",
   "nbconvert_exporter": "python",
   "pygments_lexer": "ipython3",
   "version": "3.9.18"
  }
 },
 "nbformat": 4,
 "nbformat_minor": 5
}
