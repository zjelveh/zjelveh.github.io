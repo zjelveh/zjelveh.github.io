{
 "cells": [
  {
   "cell_type": "markdown",
   "id": "da0026be",
   "metadata": {},
   "source": [
    "\n",
    "[![Open In Colab](https://colab.research.google.com/assets/colab-badge.svg)](https://colab.research.google.com/github/zjelveh/zjelveh.github.io/blob/master/files/cfc/4_pandas_intro_lecture.ipynb)\n",
    "\n",
    "**IMPORTANT**: Save your own copy!\n",
    "1. Click File → Save a copy in Drive\n",
    "2. Rename it \n",
    "3. Work in YOUR copy, not the original\n",
    "\n",
    "\n",
    "---\n",
    "\n",
    "\n",
    "# 4. Introduction to Pandas - From Lists to DataFrames\n",
    "## CCJS 418E: Coding for Criminology\n",
    "\n",
    "\n",
    "Today's Goals:\n",
    "- Understand why we need DataFrames instead of lists\n",
    "- Load and explore real crime data with pandas\n",
    "- Select and filter data to answer criminological questions\n",
    "- Calculate statistics on crime data columns\n",
    "- Learn the fundamental pandas operations you'll use constantly\n"
   ]
  },
  {
   "cell_type": "markdown",
   "id": "309ffcc0",
   "metadata": {
    "cell_marker": "\"\"\""
   },
   "source": [
    "## Part 1: The Problem with Lists\n",
    "\n",
    "### When Lists Become a Nightmare\n",
    "\n",
    "Let's say you're analyzing crime data for three states. You need to track the state name, violent crime rate, and property crime rate for each.\n",
    "\n",
    "**Connection to Computational Thinking: ABSTRACTION - hiding complexity behind simple, organized structures**"
   ]
  },
  {
   "cell_type": "code",
   "execution_count": null,
   "id": "facfba22",
   "metadata": {},
   "outputs": [],
   "source": [
    "# Managing related data in separate lists - this gets messy fast!\n",
    "states = [\"Maryland\", \"Virginia\", \"Pennsylvania\"]\n",
    "violent_rates = [472.0, 212.7, 306.0]  # per 100,000\n",
    "property_rates = [2023.6, 1687.7, 1744.2]  # per 100,000\n",
    "years = [2019, 2019, 2019]\n",
    "\n",
    "# To find Virginia's violent crime rate, we need to:\n",
    "# 1. Find Virginia's position in the states list\n",
    "virginia_index = states.index(\"Virginia\")\n",
    "print(f\"This is the index for Virginia: {virginia_index}\")\n",
    "# 2. Use that position to get the rate from another list\n",
    "print(f\"Virginia violent crime rate: {violent_rates[virginia_index]}\")"
   ]
  },
  {
   "cell_type": "markdown",
   "id": "7fa906b2",
   "metadata": {
    "cell_marker": "\"\"\""
   },
   "source": [
    "### What Goes Wrong?\n",
    "\n",
    "1. **Lists can get out of sync** - What if you sort one list but forget the others?\n",
    "2. **Inserting/deleting is risky** - Remove Maryland from states, but forget to remove its rates\n",
    "3. **No built-in relationship** - Python doesn't know these lists are connected\n",
    "4. **Inefficient for large data** - Imagine doing this for all 50 states over 20 years!"
   ]
  },
  {
   "cell_type": "code",
   "execution_count": null,
   "id": "e575ca51",
   "metadata": {},
   "outputs": [],
   "source": [
    "# The nightmare scenario - lists get out of sync\n",
    "# Note: .copy() create a duplicate of the variable in memory\n",
    "states_copy = states.copy()\n",
    "violent_rates_copy = violent_rates.copy()\n",
    "\n",
    "# Someone sorts the states alphabetically but forgets the rates!\n",
    "states_copy.sort()\n",
    "print(\"States (sorted):\", states_copy)\n",
    "print(\"Violent rates (not sorted):\", violent_rates_copy)\n",
    "print(f\"Now {states_copy[0]} appears to have rate {violent_rates_copy[0]} - WRONG!\")"
   ]
  },
  {
   "cell_type": "markdown",
   "id": "25406252",
   "metadata": {
    "cell_marker": "\"\"\""
   },
   "source": [
    "## Part 2: Enter Pandas DataFrames\n",
    "\n",
    "### The Solution: Keeping Related Data Together\n",
    "\n",
    "Pandas solves this problem with **DataFrames** - think of them as spreadsheets in Python where:\n",
    "- Each row stays together (no more sync issues!)\n",
    "- Columns have names (access by meaning, not position)\n",
    "- Built-in tools for sorting, filtering, and calculating\n",
    "\n",
    "**Think of it as**: Excel or Google Sheets, but programmable\n",
    "\n",
    "Instead of juggling separate lists, a DataFrame would organize our data like this:\n",
    "```\n",
    "    state         violent_rate  property_rate  year\n",
    "0   Maryland      472.0         2023.6         2019\n",
    "1   Virginia      212.7         1687.7         2019\n",
    "2   Pennsylvania  306.0         1744.2         2019\n",
    "```\n",
    "\n",
    "Let's see this in action with real crime data!"
   ]
  },
  {
   "cell_type": "markdown",
   "id": "bc4cbd57",
   "metadata": {
    "cell_marker": "\"\"\""
   },
   "source": [
    "## Part 3: Loading Real Crime Data\n",
    "\n",
    "### Reading Data from CSV Files\n",
    "\n",
    "Most real data comes in CSV (Comma-Separated Values) files. Pandas makes loading them simple."
   ]
  },
  {
   "cell_type": "code",
   "execution_count": null,
   "id": "22df179d",
   "metadata": {},
   "outputs": [],
   "source": [
    "# First, import pandas (conventionally abbreviated as pd)\n",
    "import pandas as pd\n",
    "\n",
    "# Load actual state crime data\n",
    "df = pd.read_csv(filepath_or_buffer='https://raw.githubusercontent.com/zjelveh/zjelveh.github.io/refs/heads/master/files/cfc/state_crime.csv')\n",
    "\n",
    "# Cleaning up the columns names\n",
    "df.columns = df.columns.str.replace('^Data.', '', regex=True)\n",
    "df.columns = df.columns.str.replace('\\\\.', '_', regex=True).str.lower()\n",
    "\n",
    "# The variable name 'df' is a common convention for DataFrame\n",
    "print(\"Data loaded successfully!\")"
   ]
  },
  {
   "cell_type": "markdown",
   "id": "fbba5238",
   "metadata": {
    "cell_marker": "\"\"\""
   },
   "source": [
    "## Part 4: Exploring Your Data\n",
    "\n",
    "### First Look at the Data\n",
    "\n",
    "Before any analysis, always explore what you have:"
   ]
  },
  {
   "cell_type": "code",
   "execution_count": null,
   "id": "ecc16c6b",
   "metadata": {},
   "outputs": [],
   "source": [
    "# See the first 5 rows - like peeking at the top of a spreadsheet\n",
    "print(\"First 5 rows of our crime data:\")\n",
    "df.head(n=5)"
   ]
  },
  {
   "cell_type": "code",
   "execution_count": null,
   "id": "4daa20e3",
   "metadata": {},
   "outputs": [],
   "source": [
    "# How big is our dataset?\n",
    "print(f\"Dataset size: {df.shape}\")\n",
    "print(f\"  - {df.shape[0]} rows (observations)\")\n",
    "print(f\"  - {df.shape[1]} columns (variables)\")\n",
    "\n",
    "# Connection: df.shape is like (len(list), number_of_attributes)"
   ]
  },
  {
   "cell_type": "code",
   "execution_count": null,
   "id": "28f8a968",
   "metadata": {},
   "outputs": [],
   "source": [
    "# What columns do we have?\n",
    "print(\"Column names:\")\n",
    "print(df.columns)"
   ]
  },
  {
   "cell_type": "code",
   "execution_count": null,
   "id": "9527168e",
   "metadata": {},
   "outputs": [],
   "source": [
    "# What types of data are in each column?\n",
    "print(\"\\nData types and basic info:\")\n",
    "df.info()"
   ]
  },
  {
   "cell_type": "markdown",
   "id": "06b23910",
   "metadata": {
    "cell_marker": "\"\"\""
   },
   "source": [
    "### Common Mistake: Not Exploring First\n",
    "Always look at your data before analyzing! You might find:\n",
    "- Missing values\n",
    "- Unexpected column names\n",
    "- Wrong data types"
   ]
  },
  {
   "cell_type": "markdown",
   "id": "02328357",
   "metadata": {
    "cell_marker": "\"\"\""
   },
   "source": [
    "## Part 5: Selecting Columns\n",
    "\n",
    "### Getting a Single Column\n",
    "\n",
    "Access columns using square brackets - just like accessing list elements!"
   ]
  },
  {
   "cell_type": "code",
   "execution_count": null,
   "id": "aa325ff6",
   "metadata": {},
   "outputs": [],
   "source": [
    "# Select a single column - returns a Series (like a labeled list)\n",
    "states_column = df['state']\n",
    "print(\"First 10 states:\")\n",
    "print(states_column.head(n=10))"
   ]
  },
  {
   "cell_type": "code",
   "execution_count": null,
   "id": "cc971e20",
   "metadata": {},
   "outputs": [],
   "source": [
    "# You can perform operations on columns just like lists\n",
    "violent_crime_rates = df['rates_violent_all']\n",
    "\n",
    "# These operations should feel familiar from working with lists!\n",
    "print(f\"Maximum violent crime rate: {violent_crime_rates.max()}\")\n",
    "print(f\"Minimum violent crime rate: {violent_crime_rates.min()}\")\n",
    "print(f\"Average violent crime rate: {violent_crime_rates.mean():.1f}\")\n",
    "\n",
    "# Connection: .max() is like max(list), .mean() is like sum(list)/len(list)"
   ]
  },
  {
   "cell_type": "markdown",
   "id": "0621ad55",
   "metadata": {
    "cell_marker": "\"\"\""
   },
   "source": [
    "### Selecting Multiple Columns"
   ]
  },
  {
   "cell_type": "code",
   "execution_count": null,
   "id": "f692ec55",
   "metadata": {},
   "outputs": [],
   "source": [
    "# Select multiple columns - use a list of column names\n",
    "subset = df[['state', 'year', 'rates_violent_all']]\n",
    "print(\"Just state, year, and violent crime rate:\")\n",
    "subset.head(n=5)"
   ]
  },
  {
   "cell_type": "markdown",
   "id": "776f6172",
   "metadata": {
    "cell_marker": "\"\"\""
   },
   "source": [
    "## Part 6: Understanding Your Data with Methods\n",
    "\n",
    "### Counting and Unique Values\n",
    "\n",
    "These methods help you understand what's in your data:"
   ]
  },
  {
   "cell_type": "code",
   "execution_count": null,
   "id": "b7d6a72f",
   "metadata": {},
   "outputs": [],
   "source": [
    "# How many unique states are in our data?\n",
    "n_states = df['state'].nunique()\n",
    "print(f\"Number of unique states: {n_states}\")\n",
    "\n",
    "# What are they?\n",
    "unique_states = df['state'].unique()\n",
    "print(f\"\\nFirst 5 states: {unique_states[:5]}\")"
   ]
  },
  {
   "cell_type": "code",
   "execution_count": null,
   "id": "e6e0dec7",
   "metadata": {},
   "outputs": [],
   "source": [
    "# How many times does each year appear?\n",
    "year_counts = df['year'].value_counts()\n",
    "print(\"Number of records per year:\")\n",
    "print(year_counts.head(n=5))"
   ]
  },
  {
   "cell_type": "code",
   "execution_count": null,
   "id": "9ddcc1ee",
   "metadata": {},
   "outputs": [],
   "source": [
    "# Get proportions instead of counts\n",
    "year_proportions = df['year'].value_counts(normalize=True)\n",
    "print(\"\\nProportion of records per year:\")\n",
    "print(year_proportions.head(n=5))"
   ]
  },
  {
   "cell_type": "markdown",
   "id": "9c7039de",
   "metadata": {
    "cell_marker": "\"\"\""
   },
   "source": [
    "## Part 7: Filtering Data (Boolean Indexing)\n",
    "\n",
    "### Finding Specific Rows\n",
    "\n",
    "This is like using if statements with lists, but more powerful!"
   ]
  },
  {
   "cell_type": "code",
   "execution_count": null,
   "id": "d5c9986a",
   "metadata": {},
   "outputs": [],
   "source": [
    "# Find all records from 2019\n",
    "# This creates a boolean mask - True/False for each row\n",
    "is_2019 = df['year'] == 2019\n",
    "print(f\"Number of 2019 records: {is_2019.sum()}\")  # True = 1, False = 0\n",
    "\n",
    "# Use the mask to filter\n",
    "df_2019 = df[is_2019]\n",
    "print(f\"\\n2019 data shape: {df_2019.shape}\")\n",
    "df_2019.head()"
   ]
  },
  {
   "cell_type": "code",
   "execution_count": null,
   "id": "88ec0cc7",
   "metadata": {},
   "outputs": [],
   "source": [
    "# More intuitive syntax - combine the steps\n",
    "df_2019 = df[df['year'] == 2019]\n",
    "print(\"Maryland's 2019 data:\")\n",
    "df_2019[df_2019['state'] == 'Maryland'].head()"
   ]
  },
  {
   "cell_type": "code",
   "execution_count": null,
   "id": "b96a03a1",
   "metadata": {},
   "outputs": [],
   "source": [
    "# Filter for high violent crime rates\n",
    "high_crime = df[df['rates_violent_all'] > 500]\n",
    "print(f\"Number of state-years with violent crime rate > 500: {len(high_crime)}\")\n",
    "print(\"\\nStates with highest violent crime rates:\")\n",
    "print(high_crime[['state', 'year', 'rates_violent_all']].head())"
   ]
  },
  {
   "cell_type": "markdown",
   "id": "9547c019",
   "metadata": {
    "cell_marker": "\"\"\""
   },
   "source": [
    "### Combining Conditions\n",
    "\n",
    "Use `&` for AND, `|` for OR, `~` for NOT\n",
    "Remember: Use parentheses around each condition!"
   ]
  },
  {
   "cell_type": "code",
   "execution_count": null,
   "id": "6a41866e",
   "metadata": {},
   "outputs": [],
   "source": [
    "# Find Maryland data from 2015 or later\n",
    "maryland_recent = df[(df['state'] == 'Maryland') & (df['year'] >= 2015)]\n",
    "print(\"Maryland crime data, 2015-present:\")\n",
    "print(maryland_recent[['year', 'rates_violent_all', 'rates_property_all']])"
   ]
  },
  {
   "cell_type": "code",
   "execution_count": null,
   "id": "424a3ea8",
   "metadata": {},
   "outputs": [],
   "source": [
    "# Common Mistake: Forgetting parentheses\n",
    "# This will cause an error:\n",
    "# maryland_recent = df[df['state'] == 'Maryland' & df['Year'] >= 2015]  # Error!\n",
    "\n",
    "# Correct: Each condition needs parentheses\n",
    "maryland_recent = df[(df['state'] == 'Maryland') & (df['year'] >= 2015)]\n",
    "maryland_recent.head()"
   ]
  },
  {
   "cell_type": "markdown",
   "id": "547c1909",
   "metadata": {
    "cell_marker": "\"\"\""
   },
   "source": [
    "## Part 8: Calculating with Columns\n",
    "\n",
    "### Creating New Columns from Existing Ones"
   ]
  },
  {
   "cell_type": "code",
   "execution_count": null,
   "id": "2f09a92f",
   "metadata": {},
   "outputs": [],
   "source": [
    "# Calculate total crime rate (violent + property)\n",
    "df_2019['total_crime_rate'] = df_2019['rates_violent_all'] + df_2019['rates_property_all']\n",
    "\n",
    "# Find states with highest total crime\n",
    "print(\"States with highest total crime rates in 2019:\")\n",
    "sorted_2019 = df_2019.sort_values(by='total_crime_rate', ascending=False)\n",
    "sorted_2019[['state', 'total_crime_rate']].head(n=5)"
   ]
  },
  {
   "cell_type": "code",
   "execution_count": null,
   "id": "936d7d7b",
   "metadata": {},
   "outputs": [],
   "source": [
    "# Calculate what percentage of crime is violent\n",
    "df_2019['pct_violent'] = (df_2019['rates_violent_all'] / \n",
    "                          df_2019['total_crime_rate'] * 100)\n",
    "\n",
    "print(\"\\nStates where violent crime is highest percentage of total:\")\n",
    "sorted_by_pct = df_2019.sort_values(by='pct_violent', ascending=False)\n",
    "print(sorted_by_pct[['state', 'pct_violent']].head(n=5))"
   ]
  },
  {
   "cell_type": "markdown",
   "id": "8d37c74d",
   "metadata": {
    "cell_marker": "\"\"\""
   },
   "source": [
    "## Part 9: Common Pandas Patterns\n",
    "\n",
    "### Pattern 1: Filter and Calculate\n",
    "Find a subset of data and calculate statistics on it"
   ]
  },
  {
   "cell_type": "code",
   "execution_count": null,
   "id": "fde80ad9",
   "metadata": {},
   "outputs": [],
   "source": [
    "# What's the average violent crime rate in the Mid-Atlantic states?\n",
    "mid_atlantic = ['Maryland', 'Delaware', 'Pennsylvania', 'New Jersey', 'New York']\n",
    "ma_data = df[df['state'].isin(mid_atlantic)]\n",
    "ma_2019 = ma_data[ma_data['year'] == 2019]\n",
    "\n",
    "avg_violent = ma_2019['rates_violent_all'].mean()\n",
    "print(f\"Average violent crime rate in Mid-Atlantic (2019): {avg_violent:.1f}\")"
   ]
  },
  {
   "cell_type": "markdown",
   "id": "abad4e1e",
   "metadata": {
    "cell_marker": "\"\"\""
   },
   "source": [
    "### Pattern 2: Find Extremes\n",
    "Identify the highest/lowest values"
   ]
  },
  {
   "cell_type": "code",
   "execution_count": null,
   "id": "d861e337",
   "metadata": {},
   "outputs": [],
   "source": [
    "# Which state had the lowest property crime rate in 2019?\n",
    "df_2019 = df[df['year'] == 2019]\n",
    "min_property_idx = df_2019['rates_property_all'].idxmin()\n",
    "safest_state = df_2019.loc[min_property_idx]\n",
    "print(f\"Lowest property crime rate in 2019:\")\n",
    "print(f\"  State: {safest_state['state']}\")\n",
    "print(f\"  Rate: {safest_state['rates_property_all']:.1f} per 100,000\")"
   ]
  },
  {
   "cell_type": "markdown",
   "id": "f864145a",
   "metadata": {
    "cell_marker": "\"\"\""
   },
   "source": [
    "## Part 10: Using AI Tools for Pandas Help\n",
    "\n",
    "### Effective Prompts for Pandas Problems:\n",
    "\n",
    "Example prompt:\n",
    "```\n",
    "I'm a criminology student learning pandas. I have a DataFrame called 'df' with columns:\n",
    "- State (string)\n",
    "- Year (integer)\n",
    "- Data.Rates.Violent.All (float)\n",
    "\n",
    "How do I find the 5 states with the highest violent crime rates in 2019?\n",
    "```\n",
    "\n",
    "### Good Questions to Ask AI:\n",
    "- \"How do I filter a DataFrame for multiple conditions?\"\n",
    "- \"What's the difference between loc and iloc?\"\n",
    "- \"How do I handle missing values in pandas?\"\n",
    "- \"How do I sort a DataFrame by multiple columns?\""
   ]
  },
  {
   "cell_type": "markdown",
   "id": "bebf5a30",
   "metadata": {
    "cell_marker": "\"\"\""
   },
   "source": [
    "## Hands-On Exercise: State Crime Analysis\n",
    "\n",
    "Complete each step to analyze crime patterns:"
   ]
  },
  {
   "cell_type": "code",
   "execution_count": null,
   "id": "c61d7a34",
   "metadata": {
    "lines_to_next_cell": 2
   },
   "outputs": [],
   "source": [
    "# Load the data (already done above, but repeated here for clarity)\n",
    "df = pd.read_csv(filepath_or_buffer='state_crime.csv')\n",
    "df.head()\n",
    "\n"
   ]
  },
  {
   "cell_type": "code",
   "execution_count": null,
   "id": "8fc15dc9",
   "metadata": {},
   "outputs": [],
   "source": [
    "\n",
    "# Step 1: How many years of data do we have?\n",
    "# Your code here:\n",
    "\n",
    "\n"
   ]
  },
  {
   "cell_type": "code",
   "execution_count": null,
   "id": "304f0b81",
   "metadata": {},
   "outputs": [],
   "source": [
    "# Step 2: What's the average property crime rate across all states in 2019?\n",
    "# Your code here:\n",
    "\n",
    "\n"
   ]
  },
  {
   "cell_type": "code",
   "execution_count": null,
   "id": "5b06ce2d",
   "metadata": {},
   "outputs": [],
   "source": [
    "# Step 3: Which state had the highest violent crime rate in 2018?\n",
    "# Your code here:\n",
    "\n",
    "\n"
   ]
  },
  {
   "cell_type": "code",
   "execution_count": null,
   "id": "0aa6385d",
   "metadata": {},
   "outputs": [],
   "source": [
    "# Step 4: How many states had violent crime rates below 200 in 2019?\n",
    "# Your code here:\n",
    "\n",
    "\n"
   ]
  },
  {
   "cell_type": "code",
   "execution_count": null,
   "id": "fdd0e1f2",
   "metadata": {},
   "outputs": [],
   "source": [
    "# Step 5: Create a subset with just California data from 2015-2019\n",
    "# Your code here:"
   ]
  },
  {
   "cell_type": "markdown",
   "id": "33f7fec7",
   "metadata": {
    "cell_marker": "\"\"\""
   },
   "source": [
    "## Challenge Exercise: Regional Analysis\n",
    "\n",
    "Compare crime rates across different regions:"
   ]
  },
  {
   "cell_type": "code",
   "execution_count": null,
   "id": "02855ca2",
   "metadata": {
    "lines_to_next_cell": 2
   },
   "outputs": [],
   "source": [
    "# Define regions\n",
    "northeast = ['Maine', 'New Hampshire', 'Vermont', 'Massachusetts', 'Rhode Island',\n",
    "             'Connecticut', 'New York', 'New Jersey', 'Pennsylvania']\n",
    "south = ['Delaware', 'Maryland', 'Virginia', 'West Virginia', 'North Carolina',\n",
    "         'South Carolina', 'Georgia', 'Florida', 'Kentucky', 'Tennessee',\n",
    "         'Alabama', 'Mississippi', 'Arkansas', 'Louisiana', 'Oklahoma', 'Texas']\n",
    "\n",
    "# For 2019 data, calculate and compare average violent crime rates by region\n",
    "# Your code here:"
   ]
  },
  {
   "cell_type": "markdown",
   "id": "7d90d60f",
   "metadata": {
    "cell_marker": "\"\"\""
   },
   "source": [
    "## Wrap-Up: Key Takeaways\n",
    "\n",
    "Today you learned:\n",
    "1. **DataFrames** keep related data together (like a spreadsheet)\n",
    "2. **pd.read_csv()** loads data from files\n",
    "3. **df.head()**, **df.shape**, **df.info()** help explore data\n",
    "4. **df['column']** selects columns (like list indexing but with names)\n",
    "5. **Boolean indexing** filters rows (like if statements for entire columns)\n",
    "6. **.mean()**, **.max()**, **.min()** calculate statistics (like list operations)\n",
    "7. **Always explore first** - understand your data before analyzing\n",
    "\n",
    "### The Pandas-to-Lists Connection:\n",
    "- `df['column']` is like accessing a named list\n",
    "- `df[df['column'] > value]` is like filtering a list with a condition\n",
    "- `df['column'].mean()` is like `sum(list)/len(list)`\n",
    "- `df.shape[0]` is like `len(list)`\n",
    "\n",
    "## Before Next Class\n",
    "\n",
    "1. **Practice the basics:**\n",
    "   - Load a CSV file\n",
    "   - Explore it with `.head()`, `.shape`, `.info()`\n",
    "   - Select columns and calculate statistics\n",
    "   - Filter for specific conditions\n",
    "\n",
    "2. **Get comfortable with syntax:**\n",
    "   - Remember: square brackets for columns\n",
    "   - Use parentheses around each condition when combining\n",
    "   - Try different methods: `.unique()`, `.value_counts()`, `.describe()`\n",
    "\n",
    "3. **Experiment with errors:**\n",
    "   - Try filtering without parentheses\n",
    "   - Access a column that doesn't exist\n",
    "   - Learn from the error messages\n",
    "\n",
    "## Quick Reference\n",
    "\n",
    "### Essential Pandas Operations:\n",
    "```python\n",
    "# Loading and exploring\n",
    "df = pd.read_csv(filepath_or_buffer='file.csv')\n",
    "df.head(n=5)                  # First 5 rows\n",
    "df.shape                       # (rows, columns)\n",
    "df.info()                      # Column types and non-null counts\n",
    "df.columns                     # Column names\n",
    "\n",
    "# Selecting\n",
    "df['column']                   # Single column\n",
    "df[['col1', 'col2']]          # Multiple columns\n",
    "\n",
    "# Filtering\n",
    "df[df['column'] == value]     # Equal to\n",
    "df[df['column'] > value]      # Greater than\n",
    "df[(cond1) & (cond2)]         # Multiple conditions\n",
    "\n",
    "# Statistics\n",
    "df['column'].mean()           # Average\n",
    "df['column'].max()            # Maximum\n",
    "df['column'].min()            # Minimum\n",
    "df['column'].sum()            # Total\n",
    "df['column'].count()          # Non-null count\n",
    "\n",
    "# Counting\n",
    "df['column'].nunique()        # Number of unique values\n",
    "df['column'].unique()         # Array of unique values\n",
    "df['column'].value_counts()   # Frequency of each value\n",
    "df['column'].value_counts(normalize=True)  # Proportions\n",
    "\n",
    "# Sorting\n",
    "df.sort_values(by='column', ascending=False)  # Sort by column\n",
    "```"
   ]
  }
 ],
 "metadata": {
  "jupytext": {
   "cell_metadata_filter": "-all",
   "main_language": "python",
   "notebook_metadata_filter": "-all"
  },
  "kernelspec": {
   "display_name": "base",
   "language": "python",
   "name": "python3"
  },
  "language_info": {
   "codemirror_mode": {
    "name": "ipython",
    "version": 3
   },
   "file_extension": ".py",
   "mimetype": "text/x-python",
   "name": "python",
   "nbconvert_exporter": "python",
   "pygments_lexer": "ipython3",
   "version": "3.13.2"
  }
 },
 "nbformat": 4,
 "nbformat_minor": 5
}
