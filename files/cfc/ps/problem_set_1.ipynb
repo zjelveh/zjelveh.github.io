{
 "cells": [
  {
   "cell_type": "markdown",
   "id": "ac34bd5b",
   "metadata": {
    "cell_marker": "\"\"\""
   },
   "source": [
    "[![Open In Colab](https://colab.research.google.com/assets/colab-badge.svg)](https://colab.research.google.com/github/zjelveh/zjelveh.github.io/blob/master/files/cfc/ps/problem_set_1.ipynb)\n",
    "\n",
    "**IMPORTANT**: Save your own copy!\n",
    "1. Click File → Save a copy in Drive\n",
    "2. Rename it with your name like: \"PS1\"\n",
    "3. Work in YOUR copy, not the original\n",
    "\n",
    "\n",
    "---\n",
    "\n",
    "\n",
    "# Problem Set 1: Community Safety Data Analysis\n",
    "## CCJS 418E - Fall 2025\n",
    "\n",
    "**Due**: Sunday September 28, 11:59pm\n",
    "\n",
    "**Submit**: .ipynb file to ELMS\n",
    "\n",
    "**Code Review**: Tuesday September 30 in class\n",
    "\n",
    "---\n",
    "\n",
    "## Scenario\n",
    "\n",
    "A community organization in Southwest Baltimore has collected data about incidents and response times in their neighborhood over the past month. They want to understand patterns in the data to better advocate for community needs and resources.\n",
    "\n",
    "**Your task**: Analyze the data step by step, starting with basic calculations and building up to more complex analysis.\n",
    "\n",
    "You may use AI tools to help write and debug your code. During the code review, you'll explain your logic and be able to modify your code when asked.\n",
    "\n",
    "[Link to TerpAI](https://terpai.umd.edu/chat)"
   ]
  },
  {
   "cell_type": "markdown",
   "id": "9654b460",
   "metadata": {
    "cell_marker": "\"\"\""
   },
   "source": [
    "## The Data\n",
    "\n",
    "The community has collected information about 40 incidents from the past month:"
   ]
  },
  {
   "cell_type": "code",
   "execution_count": null,
   "id": "1488d4d6",
   "metadata": {},
   "outputs": [],
   "source": [
    "# DATA FROM PUBLIC RECORDS (do not modify these lists)\n",
    "\n",
    "# Type of each incident (40 total)\n",
    "incident_types = [\n",
    "    \"theft\", \"assault\", \"theft\", \"burglary\", \"theft\", \"assault\", \n",
    "    \"vandalism\", \"theft\", \"assault\", \"theft\", \"burglary\", \"assault\", \n",
    "    \"theft\", \"vandalism\", \"robbery\", \"theft\", \"assault\", \"burglary\",\n",
    "    \"theft\", \"vandalism\", \"assault\", \"theft\", \"theft\", \"burglary\",\n",
    "    \"assault\", \"theft\", \"robbery\", \"vandalism\", \"theft\", \"assault\",\n",
    "    \"burglary\", \"theft\", \"assault\", \"theft\", \"vandalism\", \"assault\",\n",
    "    \"theft\", \"burglary\", \"assault\", \"theft\"\n",
    "]\n",
    "\n",
    "# Response time in minutes for each incident (40 total)\n",
    "response_times = [\n",
    "    8.2, 6.5, 12.1, 7.3, 9.8, 14.2, 5.5, 8.9, 11.3, 6.8,\n",
    "    9.2, 13.5, 7.1, 8.8, 10.2, 9.5, 7.7, 11.8, 6.3, 9.9,\n",
    "    8.5, 12.3, 7.9, 10.1, 9.3, 8.1, 14.5, 7.2, 9.6, 11.2,\n",
    "    6.9, 8.7, 13.1, 7.5, 9.1, 10.8, 8.3, 7.8, 12.7, 9.4\n",
    "]\n",
    "\n",
    "# Day of week when each incident occurred (40 total)\n",
    "day_of_incident = [\n",
    "    \"Mon\", \"Mon\", \"Tue\", \"Wed\", \"Thu\", \"Thu\", \"Fri\", \"Fri\", \"Sat\", \"Sat\",\n",
    "    \"Sun\", \"Sun\", \"Mon\", \"Mon\", \"Tue\", \"Wed\", \"Wed\", \"Thu\", \"Fri\", \"Fri\",\n",
    "    \"Sat\", \"Sat\", \"Sun\", \"Sun\", \"Mon\", \"Tue\", \"Tue\", \"Wed\", \"Thu\", \"Thu\",\n",
    "    \"Fri\", \"Fri\", \"Sat\", \"Sat\", \"Sun\", \"Mon\", \"Tue\", \"Wed\", \"Thu\", \"Fri\"\n",
    "]"
   ]
  },
  {
   "cell_type": "markdown",
   "id": "48b7b92b",
   "metadata": {
    "cell_marker": "\"\"\""
   },
   "source": [
    "## Part 1: Basic Calculations with Variables and Lists\n",
    "*Using concepts from [1. Introduction to Jupyter and Python](https://github.com/zjelveh/zjelveh.github.io/blob/master/files/cfc/1_intro_to_jupyter_and_python.ipynb)*\n",
    "\n",
    "Calculate basic statistics without using loops."
   ]
  },
  {
   "cell_type": "markdown",
   "id": "3b161c79",
   "metadata": {
    "cell_marker": "\"\"\""
   },
   "source": [
    "### Task 1.1: Calculate total number of incidents"
   ]
  },
  {
   "cell_type": "code",
   "execution_count": null,
   "id": "3816eda2",
   "metadata": {},
   "outputs": [],
   "source": [
    "total_incidents = # YOUR CODE HERE\n",
    "\n",
    "print(f\"Total incidents: {total_incidents}\")"
   ]
  },
  {
   "cell_type": "markdown",
   "id": "a80dc1b4",
   "metadata": {
    "cell_marker": "\"\"\""
   },
   "source": [
    "### Task 1.2: Find the fastest and slowest response times"
   ]
  },
  {
   "cell_type": "code",
   "execution_count": null,
   "id": "304bf952",
   "metadata": {},
   "outputs": [],
   "source": [
    "fastest_response = # YOUR CODE HERE\n",
    "slowest_response = # YOUR CODE HERE\n",
    "\n",
    "print(f\"Fastest response: {fastest_response} minutes\")\n",
    "print(f\"Slowest response: {slowest_response} minutes\")"
   ]
  },
  {
   "cell_type": "markdown",
   "id": "6fddd83a",
   "metadata": {
    "cell_marker": "\"\"\""
   },
   "source": [
    "### Task 1.3: Calculate average response time"
   ]
  },
  {
   "cell_type": "code",
   "execution_count": null,
   "id": "5edce50d",
   "metadata": {},
   "outputs": [],
   "source": [
    "total_response_time = # YOUR CODE HERE\n",
    "average_response = # YOUR CODE HERE\n",
    "\n",
    "print(f\"Average response time: {average_response} minutes\")"
   ]
  },
  {
   "cell_type": "markdown",
   "id": "51656d1c",
   "metadata": {
    "cell_marker": "\"\"\""
   },
   "source": [
    "### Task 1.4: Check the first and last incidents"
   ]
  },
  {
   "cell_type": "code",
   "execution_count": null,
   "id": "502ac5a2",
   "metadata": {},
   "outputs": [],
   "source": [
    "# Use list indexing to get first and last elements\n",
    "first_incident_type = # YOUR CODE HERE \n",
    "last_incident_type = # YOUR CODE HERE\n",
    "\n",
    "first_response_time = # YOUR CODE HERE\n",
    "last_response_time = # YOUR CODE HERE\n",
    "\n",
    "print(f\"First incident: {first_incident_type}, responded in {first_response_time} minutes\")\n",
    "print(f\"Last incident: {last_incident_type}, responded in {last_response_time} minutes\")"
   ]
  },
  {
   "cell_type": "markdown",
   "id": "3b2cac55",
   "metadata": {
    "cell_marker": "\"\"\""
   },
   "source": [
    "## Part 2: Using Loops to Count\n",
    "*Using concepts from [2. Loops - Analyzing Many Things at Once](https://github.com/zjelveh/zjelveh.github.io/blob/master/files/cfc/2_loops.ipynb)*\n",
    "\n",
    "Now use loops to analyze the incident types."
   ]
  },
  {
   "cell_type": "markdown",
   "id": "8b034107",
   "metadata": {
    "cell_marker": "\"\"\""
   },
   "source": [
    "### Task 2.1: Count thefts"
   ]
  },
  {
   "cell_type": "code",
   "execution_count": null,
   "id": "5ed17731",
   "metadata": {},
   "outputs": [],
   "source": [
    "# Use a for loop with a counter variable\n",
    "theft_count = 0\n",
    "# YOUR LOOP HERE\n",
    "\n",
    "print(f\"Number of thefts: {theft_count}\")"
   ]
  },
  {
   "cell_type": "markdown",
   "id": "60db933a",
   "metadata": {
    "cell_marker": "\"\"\""
   },
   "source": [
    "### Task 2.2: Count thefts AND assaults"
   ]
  },
  {
   "cell_type": "code",
   "execution_count": null,
   "id": "315ff6d1",
   "metadata": {},
   "outputs": [],
   "source": [
    "# Use a for loop to count both\n",
    "theft_count = 0\n",
    "assault_count = 0\n",
    "# YOUR LOOP HERE\n",
    "\n",
    "print(f\"Thefts: {theft_count}\")\n",
    "print(f\"Assaults: {assault_count}\")"
   ]
  },
  {
   "cell_type": "markdown",
   "id": "9f16527f",
   "metadata": {
    "cell_marker": "\"\"\""
   },
   "source": [
    "### Task 2.3: Count all property crimes vs violent crimes"
   ]
  },
  {
   "cell_type": "code",
   "execution_count": null,
   "id": "96c3f084",
   "metadata": {},
   "outputs": [],
   "source": [
    "# Property crimes: theft, burglary, vandalism\n",
    "# Violent crimes: assault, robbery\n",
    "property_crimes = 0\n",
    "violent_crimes = 0\n",
    "# YOUR LOOP HERE\n",
    "\n",
    "print(f\"Property crimes: {property_crimes}\")\n",
    "print(f\"Violent crimes: {violent_crimes}\")"
   ]
  },
  {
   "cell_type": "markdown",
   "id": "c9e414c9",
   "metadata": {
    "cell_marker": "\"\"\""
   },
   "source": [
    "## Part 3: Loops with Conditionals and Lists\n",
    "*Using concepts from [3. Functions - Writing Reusable Code](https://github.com/zjelveh/zjelveh.github.io/blob/master/files/cfc/3_functions.ipynb)*\n",
    "\n",
    "Use loops to find patterns and build new lists."
   ]
  },
  {
   "cell_type": "markdown",
   "id": "f71a76ed",
   "metadata": {
    "cell_marker": "\"\"\""
   },
   "source": [
    "### Task 3.1: Find slow response times"
   ]
  },
  {
   "cell_type": "code",
   "execution_count": null,
   "id": "20285376",
   "metadata": {},
   "outputs": [],
   "source": [
    "# Find all response times over 10 minutes\n",
    "slow_responses = []\n",
    "# YOUR LOOP HERE\n",
    "\n",
    "print(f\"Slow responses: {slow_responses}\")\n",
    "print(f\"Number of slow responses: {len(slow_responses)}\")"
   ]
  },
  {
   "cell_type": "markdown",
   "id": "d39474b2",
   "metadata": {
    "cell_marker": "\"\"\""
   },
   "source": [
    "### Task 3.2: Calculate average using accumulator pattern"
   ]
  },
  {
   "cell_type": "code",
   "execution_count": null,
   "id": "5211b6f5",
   "metadata": {},
   "outputs": [],
   "source": [
    "# Calculate total response time using a loop (don't use sum())\n",
    "total_time = 0\n",
    "# YOUR LOOP HERE\n",
    "\n",
    "# Calculate average\n",
    "avg_time = # YOUR CODE HERE\n",
    "print(f\"Average response time: {avg_time:.1f} minutes\")"
   ]
  },
  {
   "cell_type": "markdown",
   "id": "2492dc8b",
   "metadata": {
    "cell_marker": "\"\"\""
   },
   "source": [
    "### Task 3.3: Find which incident types had slow responses"
   ]
  },
  {
   "cell_type": "code",
   "execution_count": null,
   "id": "06e23976",
   "metadata": {},
   "outputs": [],
   "source": [
    "# Find the incident types where response was over 10 minutes\n",
    "# Hint: You need to look at the same index in both lists\n",
    "slow_incident_types = []\n",
    "for i in range(len(response_times)):\n",
    "    # YOUR CODE HERE\n",
    "    pass\n",
    "\n",
    "print(f\"Types of incidents with slow response: {slow_incident_types}\")"
   ]
  },
  {
   "cell_type": "markdown",
   "id": "2845bb3c",
   "metadata": {
    "cell_marker": "\"\"\""
   },
   "source": [
    "### Task 3.4: Count incidents by day of week"
   ]
  },
  {
   "cell_type": "code",
   "execution_count": null,
   "id": "c4dce98d",
   "metadata": {},
   "outputs": [],
   "source": [
    "# Count how many incidents happened on weekends (Sat/Sun)\n",
    "weekend_count = 0\n",
    "weekday_count = 0\n",
    "# YOUR LOOP HERE\n",
    "\n",
    "print(f\"Weekend incidents: {weekend_count}\")\n",
    "print(f\"Weekday incidents: {weekday_count}\")"
   ]
  },
  {
   "cell_type": "markdown",
   "id": "dc8b9772",
   "metadata": {
    "cell_marker": "\"\"\""
   },
   "source": [
    "## Part 4: Writing Functions\n",
    "*Using concepts from Lecture 4: functions with parameters and return values*\n",
    "\n",
    "Write TWO functions to perform reusable analysis."
   ]
  },
  {
   "cell_type": "markdown",
   "id": "c7eb782e",
   "metadata": {
    "cell_marker": "\"\"\"",
    "lines_to_next_cell": 1
   },
   "source": [
    "### Task 4.1: Function to calculate percentage"
   ]
  },
  {
   "cell_type": "code",
   "execution_count": null,
   "id": "afc9f1d5",
   "metadata": {},
   "outputs": [],
   "source": [
    "def calculate_percentage(part, total):\n",
    "    \"\"\"\n",
    "    Calculate what percentage 'part' is of 'total'\n",
    "    \n",
    "    Parameters:\n",
    "    - part: the portion amount\n",
    "    - total: the total amount\n",
    "    \n",
    "    Returns:\n",
    "    - The percentage as a float\n",
    "    \"\"\"\n",
    "    # YOUR CODE HERE\n",
    "    pass\n",
    "\n",
    "# Test your function\n",
    "theft_percentage = calculate_percentage(theft_count, len(incident_types))\n",
    "print(f\"Thefts are {theft_percentage:.1f}% of all incidents\")"
   ]
  },
  {
   "cell_type": "markdown",
   "id": "82f325ab",
   "metadata": {
    "cell_marker": "\"\"\"",
    "lines_to_next_cell": 1
   },
   "source": [
    "### Task 4.2: Function to count specific incident type"
   ]
  },
  {
   "cell_type": "code",
   "execution_count": null,
   "id": "90a3e587",
   "metadata": {},
   "outputs": [],
   "source": [
    "def count_incident_type(incidents_list, target_type):\n",
    "    \"\"\"\n",
    "    Count how many times target_type appears in incidents_list\n",
    "    \n",
    "    Parameters:\n",
    "    - incidents_list: list of incident types\n",
    "    - target_type: the type to count (like \"theft\" or \"assault\")\n",
    "    \n",
    "    Returns:\n",
    "    - The count as an integer\n",
    "    \"\"\"\n",
    "    # YOUR CODE HERE - use a loop inside the function\n",
    "    pass\n",
    "\n",
    "# Test your function\n",
    "robbery_count = count_incident_type(incident_types, \"robbery\")\n",
    "vandalism_count = count_incident_type(incident_types, \"vandalism\")\n",
    "print(f\"Robberies: {robbery_count}\")\n",
    "print(f\"Vandalism: {vandalism_count}\")"
   ]
  },
  {
   "cell_type": "markdown",
   "id": "c0c03709",
   "metadata": {
    "cell_marker": "\"\"\""
   },
   "source": [
    "## Part 5: Summary Report\n",
    "*Combine your findings into a brief report*\n",
    "\n",
    "Use your results from above to create a simple summary."
   ]
  },
  {
   "cell_type": "code",
   "execution_count": null,
   "id": "e78dfd7c",
   "metadata": {},
   "outputs": [],
   "source": [
    "print(\"=\" * 50)\n",
    "print(\"COMMUNITY SAFETY ANALYSIS SUMMARY\")\n",
    "print(\"=\" * 50)\n",
    "print()\n",
    "\n",
    "# Write 5 print statements summarizing your findings\n",
    "# Example: print(f\"Total incidents analyzed: {total_incidents}\")\n",
    "\n",
    "# YOUR CODE HERE - Add 5 key findings:\n",
    "# 1. Report the total number of incidents\n",
    "# 2. Report the most common incident type (theft or assault)\n",
    "# 3. Report the average response time and whether it's over 10 minutes\n",
    "# 4. Report whether weekends or weekdays had more incidents\n",
    "# 5. Report what percentage of responses were slow (over 10 minutes)"
   ]
  },
  {
   "cell_type": "markdown",
   "id": "71042d10",
   "metadata": {
    "cell_marker": "\"\"\""
   },
   "source": [
    "## Preparing for Code Review\n",
    "\n",
    "During your code review, you'll be asked questions like:\n",
    "\n",
    "1. **\"Walk me through what happens in the third iteration of this loop\"**\n",
    "   - Be ready to trace through your code step by step\n",
    "\n",
    "2. **\"What would happen if we changed this threshold from 10 to 12?\"**\n",
    "   - Understand how changing values affects your output\n",
    "\n",
    "3. **\"What is the value of your counter variable at this point?\"**\n",
    "   - Know what your variables contain during execution\n",
    "\n",
    "4. **\"Can you modify this loop to also count robberies?\"**\n",
    "   - Be prepared to adjust your code on the spot\n",
    "\n",
    "5. **\"Why did you initialize this variable to 0 instead of an empty list?\"**\n",
    "   - Understand the difference between counting and collecting\n",
    "\n",
    "Be prepared to:\n",
    "- Explain what each line of your code does\n",
    "- Trace through your code's execution with specific values\n",
    "- Modify your code to handle different scenarios\n",
    "- Discuss why you made certain programming choices\n",
    "\n",
    "## Submission Checklist\n",
    "\n",
    "Before submitting, make sure:\n",
    "- [ ] All code cells run without errors\n",
    "- [ ] You've completed all tasks (1.1 through 5)\n",
    "- [ ] Your output shows reasonable results\n",
    "- [ ] You can explain what each section does\n",
    "- [ ] Your summary in Part 5 includes 5 real findings\n",
    "\n",
    "Remember: Using AI is fine, but you must understand every line you submit!"
   ]
  }
 ],
 "metadata": {
  "jupytext": {
   "cell_metadata_filter": "-all",
   "main_language": "python",
   "notebook_metadata_filter": "-all"
  },
  "language_info": {
   "name": "python"
  }
 },
 "nbformat": 4,
 "nbformat_minor": 5
}
