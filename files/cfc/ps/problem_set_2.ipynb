{
 "cells": [
  {
   "cell_type": "markdown",
   "id": "fc5bc4cc",
   "metadata": {
    "cell_marker": "\"\"\""
   },
   "source": [
    "[![Open In Colab](https://colab.research.google.com/assets/colab-badge.svg)](https://colab.research.google.com/github/zjelveh/zjelveh.github.io/blob/master/files/cfc/ps/problem_set_2.ipynb)\n",
    "\n",
    "**IMPORTANT**: Save your own copy!\n",
    "1. Click File → Save a copy in Drive\n",
    "2. Rename it with your name like: \"PS2_YourName\"\n",
    "3. Work in YOUR copy, not the original\n",
    "\n",
    "\n",
    "---\n",
    "\n",
    "\n",
    "# Problem Set 2: DC Crime Analysis with Pandas\n",
    "## CCJS 418E - Fall 2025\n",
    "\n",
    "**Due**: Sunday, October 26, 11:59pm\n",
    "\n",
    "**Submit**: If you are working on Colab, download your notebook **TWICE**. Once as .ipynb and once as .py. **UPLOAD BOTH FILES.** \n",
    "- [Submit here](https://umd.instructure.com/courses/1389501/assignments/7376099)\n",
    "\n",
    "**Code Review**: Tuesday, October 29 in class\n",
    "\n",
    "---\n",
    "\n",
    "## Scenario\n",
    "\n",
    "On August 7, 2025, the federal government initiated an emergency intervention in DC's public safety system, deploying federal resources to assist the Metropolitan Police Department. Local community organizations want to understand whether this \"Federal Surge\" has had any measurable impact on crime patterns.\n",
    "\n",
    "You've been asked to analyze DC crime data from 2025 to help these organizations understand:\n",
    "- What crime patterns looked like before the federal intervention\n",
    "- Whether there have been changes since August 7\n",
    "- Which wards have been most affected\n",
    "\n",
    "This analysis will inform community advocacy and help residents understand the effectiveness of the federal intervention.\n",
    "\n",
    "You may use AI tools to help write and debug your code. During the code review, you'll explain your logic and demonstrate you understand how pandas operations work.\n",
    "- [Link to TerpAI](https://terpai.umd.edu/chat)"
   ]
  },
  {
   "cell_type": "markdown",
   "id": "748aff5c",
   "metadata": {
    "cell_marker": "\"\"\""
   },
   "source": [
    "## Setup: Import Libraries and Load Data\n",
    "\n",
    "First, we need to import pandas and load the DC crime data. The dataset contains incidents reported from 30 days before to 30 days after Aug 7, 2025.\n",
    "\n",
    "**Note**: The dataset includes helpful pre-calculated columns:\n",
    "- `intervention_period`: Labels crimes as \"Pre-Intervention\" or \"Post-Intervention\" (before/after August 7)\n",
    "- `days_before_after`: Number of days from intervention (negative = before, positive = after)\n",
    "- `is_violent`, `is_property`, `is_weekend`: Boolean flags for crime types and timing"
   ]
  },
  {
   "cell_type": "code",
   "execution_count": null,
   "id": "423eb603",
   "metadata": {},
   "outputs": [],
   "source": [
    "# Import pandas\n",
    "import pandas as pd\n",
    "\n",
    "# Load the DC crime data\n",
    "# Dataset columns: report_dat, offense, ward, shift, day_of_week, \n",
    "# intervention_period, days_before_after, is_after_intervention,\n",
    "# is_violent, is_property, is_weekend\n",
    "\n",
    "url = \"https://raw.githubusercontent.com/zjelveh/zjelveh.github.io/refs/heads/master/files/cfc/ps/dc_crime_2025_sample.csv\"\n",
    "df = pd.read_csv(url)\n",
    "\n",
    "# Display basic information about the dataset\n",
    "print(\"DC Crime Data loaded successfully!\")\n",
    "print(f\"Shape of data: {df.shape}\")\n",
    "print(f\"\\nColumn names: {list(df.columns)}\")\n"
   ]
  },
  {
   "cell_type": "code",
   "execution_count": null,
   "id": "b0f65310",
   "metadata": {},
   "outputs": [],
   "source": [
    "\n",
    "# Important constants for calculating daily averages\n",
    "DAYS_BEFORE_INTERVENTION = 30  # The thirty days before Aug 7 \n",
    "DAYS_AFTER_INTERVENTION = 30    # The thirty days after Aug 7\n",
    "\n",
    "print(f\"\\nDays before intervention: {DAYS_BEFORE_INTERVENTION}\")\n",
    "print(f\"Days after intervention: {DAYS_AFTER_INTERVENTION}\")"
   ]
  },
  {
   "cell_type": "markdown",
   "id": "7ac8cc8c",
   "metadata": {
    "cell_marker": "\"\"\""
   },
   "source": [
    "## Part 1: Data Exploration and Basic Operations\n",
    "*Using concepts from lectures: Loading data, .head(), .info(), column operations*\n",
    "\n",
    "Let's explore the dataset to understand DC's crime landscape in 2025."
   ]
  },
  {
   "cell_type": "code",
   "execution_count": null,
   "id": "71efc7e2",
   "metadata": {
    "lines_to_next_cell": 2
   },
   "outputs": [],
   "source": [
    "# Task 1.1: Display the first 10 rows of the dataset\n",
    "# YOUR CODE HERE"
   ]
  },
  {
   "cell_type": "code",
   "execution_count": null,
   "id": "749a1204",
   "metadata": {
    "lines_to_next_cell": 2
   },
   "outputs": [],
   "source": [
    "# Task 1.2: Use .info() to understand the data types\n",
    "# YOUR CODE HERE"
   ]
  },
  {
   "cell_type": "code",
   "execution_count": null,
   "id": "59c48d9c",
   "metadata": {},
   "outputs": [],
   "source": [
    "# Task 1.3: Calculate basic statistics for the entire dataset\n",
    "# How many total crimes are in the dataset?\n",
    "# How many unique offense types are there?\n",
    "# How many unique wards?\n",
    "\n",
    "total_crimes = None  # YOUR CODE HERE\n",
    "unique_offenses = None  # YOUR CODE HERE\n",
    "unique_wards = None  # YOUR CODE HERE\n",
    "\n",
    "print(f\"Total crimes: {total_crimes}\")\n",
    "print(f\"Unique offense types: {unique_offenses}\")\n",
    "print(f\"Unique wards: {unique_wards}\")"
   ]
  },
  {
   "cell_type": "code",
   "execution_count": null,
   "id": "035e49f2",
   "metadata": {},
   "outputs": [],
   "source": [
    "# Task 1.4: What are the top 5 most common crime types in DC?\n",
    "# Use value_counts() to find out\n",
    "\n",
    "top_5_crimes = None  # YOUR CODE HERE\n",
    "\n",
    "print(\"Top 5 most common offenses in DC:\")\n",
    "print(top_5_crimes)"
   ]
  },
  {
   "cell_type": "code",
   "execution_count": null,
   "id": "13f20d2d",
   "metadata": {},
   "outputs": [],
   "source": [
    "# Task 1.5: How are crimes distributed across the intervention periods?\n",
    "# Count how many crimes occurred before vs after the intervention\n",
    "\n",
    "period_counts = None  # YOUR CODE HERE - use value_counts() on intervention_period\n",
    "\n",
    "print(\"Crimes by intervention period:\")\n",
    "print(period_counts)"
   ]
  },
  {
   "cell_type": "markdown",
   "id": "f4beeae8",
   "metadata": {
    "cell_marker": "\"\"\""
   },
   "source": [
    "## Part 2: Overall Impact - Filtering to Compare Before and After\n",
    "*Using concepts from lectures: Boolean filtering, multiple conditions*\n",
    "\n",
    "**Focus**: Use filtering to understand the city-wide impact of the intervention. Did crime decrease overall? Did violent and property crimes respond differently?"
   ]
  },
  {
   "cell_type": "code",
   "execution_count": null,
   "id": "68bd8108",
   "metadata": {},
   "outputs": [],
   "source": [
    "# Task 2.1: Filter the data to create separate DataFrames for before and after\n",
    "pre_intervention = None  # YOUR CODE HERE - filter where intervention_period == 'Pre-Intervention'\n",
    "post_intervention = None  # YOUR CODE HERE - filter where intervention_period == 'Post-Intervention'\n",
    "\n",
    "print(f\"Crimes before intervention: {len(pre_intervention)}\")\n",
    "print(f\"Crimes after intervention: {len(post_intervention)}\")\n",
    "\n",
    "# Calculate daily averages (total crimes divided by number of days)\n",
    "daily_pre = None  # YOUR CODE HERE - divide by DAYS_BEFORE_INTERVENTION\n",
    "daily_post = None  # YOUR CODE HERE - divide by DAYS_AFTER_INTERVENTION\n",
    "\n",
    "print(f\"\\nAverage daily crimes BEFORE: {daily_pre:.1f}\")\n",
    "print(f\"Average daily crimes AFTER: {daily_post:.1f}\")\n",
    "print(f\"Percent Change (new - old) / old: {((daily_post - daily_pre) / daily_pre * 100):+.1f}%\")"
   ]
  },
  {
   "cell_type": "code",
   "execution_count": null,
   "id": "ad17b03f",
   "metadata": {},
   "outputs": [],
   "source": [
    "# Task 2.2: Filter for violent crimes city-wide\n",
    "# The dataset includes an 'is_violent' column (True/False)\n",
    "\n",
    "violent_crimes = None  # YOUR CODE HERE - filter where is_violent == True\n",
    "\n",
    "print(f\"Total violent crimes: {len(violent_crimes)}\")\n",
    "print(f\"Percentage of all crimes that are violent: {len(violent_crimes)/len(df)*100:.1f}%\")"
   ]
  },
  {
   "cell_type": "code",
   "execution_count": null,
   "id": "20200817",
   "metadata": {},
   "outputs": [],
   "source": [
    "# Task 2.3: Compare violent crime rates before and after the intervention\n",
    "# What percentage of crimes were violent before vs after?\n",
    "\n",
    "violent_pre = None  # YOUR CODE HERE - filter for violent crimes AND pre-intervention\n",
    "violent_post = None  # YOUR CODE HERE - filter for violent crimes AND post-intervention\n",
    "\n",
    "# Calculate percentages\n",
    "violent_rate_pre = None  # YOUR CODE HERE - (violent_pre count / pre_intervention count) * 100\n",
    "violent_rate_post = None  # YOUR CODE HERE - (violent_post count / post_intervention count) * 100\n",
    "\n",
    "print(f\"Violent crime rate BEFORE intervention: {violent_rate_pre:.1f}%\")\n",
    "print(f\"Violent crime rate AFTER intervention: {violent_rate_post:.1f}%\")\n",
    "print(f\"Change: {violent_rate_post - violent_rate_pre:+.1f} percentage points\")"
   ]
  },
  {
   "cell_type": "code",
   "execution_count": null,
   "id": "3ed4c3f4",
   "metadata": {},
   "outputs": [],
   "source": [
    "# Task 2.4: Focus on property crimes city-wide\n",
    "# The dataset includes an 'is_property' column (True/False)\n",
    "# Have property crimes decreased since the intervention?\n",
    "\n",
    "property_pre = None  # YOUR CODE HERE - filter for property crimes AND pre-intervention\n",
    "property_post = None  # YOUR CODE HERE - filter for property crimes AND post-intervention\n",
    "\n",
    "# Calculate daily averages\n",
    "daily_property_pre = None  # YOUR CODE HERE\n",
    "daily_property_post = None  # YOUR CODE HERE\n",
    "\n",
    "print(f\"Average daily property crimes BEFORE: {daily_property_pre:.1f}\")\n",
    "print(f\"Average daily property crimes AFTER: {daily_property_post:.1f}\")\n",
    "print(f\"Change: {((daily_property_post - daily_property_pre) / daily_property_pre * 100):+.1f}%\")"
   ]
  },
  {
   "cell_type": "code",
   "execution_count": null,
   "id": "288a73ce",
   "metadata": {},
   "outputs": [],
   "source": [
    "# Task 2.5: Look at the immediate impact - the first week after intervention\n",
    "# Filter for crimes where days_before_after is in specific ranges\n",
    "\n",
    "week_before = None  # YOUR CODE HERE - filter where days_before_after between -7 and -1\n",
    "week_after = None  # YOUR CODE HERE - filter where days_before_after between 1 and 7\n",
    "\n",
    "print(f\"Crimes in week BEFORE intervention: {len(week_before)}\")\n",
    "print(f\"Crimes in week AFTER intervention: {len(week_after)}\")\n",
    "print(f\"Immediate change: {((len(week_after) - len(week_before)) / len(week_before) * 100):+.1f}%\")"
   ]
  },
  {
   "cell_type": "markdown",
   "id": "44203bcb",
   "metadata": {
    "cell_marker": "\"\"\""
   },
   "source": [
    "## Part 3: Geographic Analysis - Identifying High-Crime Wards\n",
    "*Using concepts from lectures: Groupby, creating columns, sorting*\n",
    "\n",
    "**Focus**: Crime isn't evenly distributed across DC. Identify which wards have the most crime and create a column to flag them for later analysis.\n",
    "\n",
    "<center>\n",
    "<img src='https://planning.dc.gov/sites/default/files/dc/sites/op/page_content/images/2022Wards_small.png'>"
   ]
  },
  {
   "cell_type": "code",
   "execution_count": null,
   "id": "1421d83e",
   "metadata": {},
   "outputs": [],
   "source": [
    "# Task 3.1: Identify the high-crime wards\n",
    "# Count how many crimes occurred in each ward\n",
    "\n",
    "ward_crime_counts = None  # YOUR CODE HERE - group by ward, use .size()\n",
    "\n",
    "print(\"Crimes by ward:\")\n",
    "print(ward_crime_counts.sort_values(ascending=False))\n",
    "\n",
    "# Now identify the top 3 wards with the most crime\n",
    "# The .index gives us the ward numbers (the labels) from the Series\n",
    "top_3_ward_numbers = ward_crime_counts.nlargest(3).index\n",
    "\n",
    "print(f\"\\nTop 3 high-crime wards: {list(top_3_ward_numbers)}\")"
   ]
  },
  {
   "cell_type": "code",
   "execution_count": null,
   "id": "81b365b8",
   "metadata": {},
   "outputs": [],
   "source": [
    "# Task 3.2: Create a flag column for high-crime wards\n",
    "# Use the top 3 ward numbers you just identified to create a True/False column\n",
    "\n",
    "df['is_high_crime_ward'] = None  # YOUR CODE HERE - use .isin() with top_3_ward_numbers\n",
    "\n",
    "# Verify it worked\n",
    "high_ward_crimes = None  # YOUR CODE HERE - count crimes where is_high_crime_ward == True\n",
    "print(f\"\\nCrimes in top 3 wards: {high_ward_crimes} ({high_ward_crimes / len(df) * 100:.1f}%)\")\n",
    "print(f\"This means {high_ward_crimes / len(df) * 100:.1f}% of DC's crime is concentrated in just 3 wards\")"
   ]
  },
  {
   "cell_type": "code",
   "execution_count": null,
   "id": "d7ef5bd9",
   "metadata": {},
   "outputs": [],
   "source": [
    "# Task 3.3: Which wards have the lowest crime?\n",
    "# Find the 3 wards with the fewest crimes\n",
    "\n",
    "bottom_3_wards = None  # YOUR CODE HERE - use .nsmallest() on ward_crime_counts\n",
    "\n",
    "print(\"3 wards with lowest crime:\")\n",
    "print(bottom_3_wards)"
   ]
  },
  {
   "cell_type": "markdown",
   "id": "ce6cd17c",
   "metadata": {
    "cell_marker": "\"\"\""
   },
   "source": [
    "## Part 4: Breaking Down the Impact - Using Groupby to Find Patterns\n",
    "*Using concepts from lectures: .groupby(), .size(), .sum(), .mean()*\n",
    "\n",
    "**Focus**: Now that we know what the intervention did overall, let's use groupby to break down the impact by different categories. Which wards saw the biggest changes? Which days of the week? Which offense types?"
   ]
  },
  {
   "cell_type": "code",
   "execution_count": null,
   "id": "aaf6346f",
   "metadata": {},
   "outputs": [],
   "source": [
    "# Task 4.1: Compare crime levels by intervention period using groupby\n",
    "# Group by intervention_period and count total crimes\n",
    "\n",
    "crimes_by_period = None  # YOUR CODE HERE - groupby intervention_period, use .size()\n",
    "\n",
    "print(\"Total crimes by intervention period:\")\n",
    "print(crimes_by_period)\n",
    "\n",
    "# Calculate daily averages for each period\n",
    "print(\"\\nDaily averages:\")\n",
    "print(f\"Pre-intervention: {crimes_by_period['Pre-Intervention'] / DAYS_BEFORE_INTERVENTION:.1f} crimes/day\")\n",
    "print(f\"Post-intervention: {crimes_by_period['Post-Intervention'] / DAYS_AFTER_INTERVENTION:.1f} crimes/day\")"
   ]
  },
  {
   "cell_type": "code",
   "execution_count": null,
   "id": "5501c5bf",
   "metadata": {},
   "outputs": [],
   "source": [
    "# Task 4.2: How many violent vs property crimes in each period?\n",
    "# Group by intervention_period and sum the is_violent and is_property columns\n",
    "\n",
    "violence_by_period = None  # YOUR CODE HERE - groupby intervention_period, sum is_violent\n",
    "property_by_period = None  # YOUR CODE HERE - groupby intervention_period, sum is_property\n",
    "\n",
    "print(\"Violent crimes by period:\")\n",
    "print(violence_by_period)\n",
    "print(\"\\nProperty crimes by period:\")\n",
    "print(property_by_period)"
   ]
  },
  {
   "cell_type": "code",
   "execution_count": null,
   "id": "8b99d381",
   "metadata": {},
   "outputs": [],
   "source": [
    "# Task 4.3: Which wards have the most crimes in each period?\n",
    "# This helps us see if crime shifted geographically after the intervention\n",
    "\n",
    "# For pre-intervention period\n",
    "wards_pre = None  # YOUR CODE HERE - filter for pre, group by ward, use .size()\n",
    "top_5_wards_pre = None  # YOUR CODE HERE - get top 5 using .nlargest()\n",
    "\n",
    "# For post-intervention period\n",
    "wards_post = None  # YOUR CODE HERE - filter for post, group by ward, use .size()\n",
    "top_5_wards_post = None  # YOUR CODE HERE - get top 5 using .nlargest()\n",
    "\n",
    "print(\"Top 5 wards by crime count:\")\n",
    "print(\"\\nPre-intervention:\")\n",
    "print(top_5_wards_pre)\n",
    "print(\"\\nPost-intervention:\")\n",
    "print(top_5_wards_post)"
   ]
  },
  {
   "cell_type": "code",
   "execution_count": null,
   "id": "bf2a837a",
   "metadata": {},
   "outputs": [],
   "source": [
    "# Task 4.4: Which specific offense types are most common in each period?\n",
    "# This shows whether the mix of crimes has changed\n",
    "\n",
    "# For pre-intervention period\n",
    "offenses_pre = None  # YOUR CODE HERE - filter for pre, group by offense, use .size()\n",
    "top_5_offenses_pre = None  # YOUR CODE HERE - get top 5 using .nlargest()\n",
    "\n",
    "# For post-intervention period\n",
    "offenses_post = None  # YOUR CODE HERE - filter for post, group by offense, use .size()\n",
    "top_5_offenses_post = None  # YOUR CODE HERE - get top 5 using .nlargest()\n",
    "\n",
    "print(\"Top 5 offense types:\")\n",
    "print(\"\\nPre-intervention:\")\n",
    "print(top_5_offenses_pre)\n",
    "print(\"\\nPost-intervention:\")\n",
    "print(top_5_offenses_post)"
   ]
  },
  {
   "cell_type": "code",
   "execution_count": null,
   "id": "03941d44",
   "metadata": {},
   "outputs": [],
   "source": [
    "# Task 4.5: Analyze day-of-week patterns before and after\n",
    "# Has the federal presence changed which days see the most crime?\n",
    "\n",
    "# For pre-intervention period\n",
    "dow_pre = None  # YOUR CODE HERE - filter pre, group by day_of_week, use .size()\n",
    "\n",
    "# For post-intervention period  \n",
    "dow_post = None  # YOUR CODE HERE - filter post, group by day_of_week, use .size()\n",
    "\n",
    "# Sort both to see which day is busiest\n",
    "dow_pre_sorted = None  # YOUR CODE HERE\n",
    "dow_post_sorted = None  # YOUR CODE HERE\n",
    "\n",
    "print(\"Crimes by day of week (sorted by count):\")\n",
    "print(\"\\nPre-intervention:\")\n",
    "print(dow_pre_sorted)\n",
    "print(\"\\nPost-intervention:\")\n",
    "print(dow_post_sorted)"
   ]
  },
  {
   "cell_type": "markdown",
   "id": "c48267b2",
   "metadata": {
    "cell_marker": "\"\"\""
   },
   "source": [
    "## Part 5: Advanced Comparisons\n",
    "*Combining filtering, grouping, and calculations*\n",
    "\n",
    "**Focus**: Answer more nuanced questions by combining the techniques you've learned."
   ]
  },
  {
   "cell_type": "code",
   "execution_count": null,
   "id": "6b6aa98f",
   "metadata": {},
   "outputs": [],
   "source": [
    "# Task 5.1: Compare violent crime rates across wards before and after\n",
    "# For each ward, what percentage of crimes are violent in each period?\n",
    "\n",
    "# Pre-intervention: for each ward, calculate percent violent\n",
    "pre_data = df[df['intervention_period'] == 'Pre-Intervention']\n",
    "ward_violent_pct_pre = None  # YOUR CODE HERE - group by ward, calculate mean of is_violent, multiply by 100\n",
    "\n",
    "# Post-intervention: for each ward, calculate percent violent\n",
    "post_data = df[df['intervention_period'] == 'Post-Intervention']\n",
    "ward_violent_pct_post = None  # YOUR CODE HERE - group by ward, calculate mean of is_violent, multiply by 100\n",
    "\n",
    "print(\"Violent crime percentage by ward:\")\n",
    "print(\"\\nPre-intervention:\")\n",
    "print(ward_violent_pct_pre)\n",
    "print(\"\\nPost-intervention:\")\n",
    "print(ward_violent_pct_post)"
   ]
  },
  {
   "cell_type": "code",
   "execution_count": null,
   "id": "0fdd08f6",
   "metadata": {},
   "outputs": [],
   "source": [
    "# Task 5.2: Weekend vs weekday crime patterns\n",
    "# Are there different offense types on weekends vs weekdays?\n",
    "\n",
    "weekend_crimes = None  # YOUR CODE HERE - filter where is_weekend == True\n",
    "weekday_crimes = None  # YOUR CODE HERE - filter where is_weekend == False\n",
    "\n",
    "# What are the top 5 offenses on weekends?\n",
    "weekend_offenses = None  # YOUR CODE HERE - group weekend_crimes by offense, use .size()\n",
    "top_5_weekend = None  # YOUR CODE HERE - get top 5\n",
    "\n",
    "# What are the top 5 offenses on weekdays?\n",
    "weekday_offenses = None  # YOUR CODE HERE - group weekday_crimes by offense, use .size()\n",
    "top_5_weekday = None  # YOUR CODE HERE - get top 5\n",
    "\n",
    "print(\"Top 5 weekend offenses:\")\n",
    "print(top_5_weekend)\n",
    "print(\"\\nTop 5 weekday offenses:\")\n",
    "print(top_5_weekday)"
   ]
  },
  {
   "cell_type": "code",
   "execution_count": null,
   "id": "eb14157e",
   "metadata": {},
   "outputs": [],
   "source": [
    "# Task 5.3: Compare high-crime wards to other wards\n",
    "# Did high-crime wards improve more or less than other wards?\n",
    "\n",
    "# High-crime wards (where is_high_crime_ward == True)\n",
    "high_ward_pre = None  # YOUR CODE HERE - filter for high crime wards AND pre-intervention\n",
    "high_ward_post = None  # YOUR CODE HERE - filter for high crime wards AND post-intervention\n",
    "\n",
    "# Other wards (where is_high_crime_ward == False)\n",
    "other_ward_pre = None  # YOUR CODE HERE\n",
    "other_ward_post = None  # YOUR CODE HERE\n",
    "\n",
    "# Calculate daily averages\n",
    "high_daily_pre = len(high_ward_pre) / DAYS_BEFORE_INTERVENTION\n",
    "high_daily_post = len(high_ward_post) / DAYS_AFTER_INTERVENTION\n",
    "other_daily_pre = len(other_ward_pre) / DAYS_BEFORE_INTERVENTION\n",
    "other_daily_post = len(other_ward_post) / DAYS_AFTER_INTERVENTION\n",
    "\n",
    "print(\"Daily crime rates:\")\n",
    "print(f\"\\nHigh-crime wards:\")\n",
    "print(f\"  Before: {high_daily_pre:.1f} crimes/day\")\n",
    "print(f\"  After: {high_daily_post:.1f} crimes/day\")\n",
    "print(f\"\\nOther wards:\")\n",
    "print(f\"  Before: {other_daily_pre:.1f} crimes/day\")\n",
    "print(f\"  After: {other_daily_post:.1f} crimes/day\")"
   ]
  },
  {
   "cell_type": "markdown",
   "id": "10d40b34",
   "metadata": {
    "cell_marker": "\"\"\""
   },
   "source": [
    "## Part 6: Policy Impact Summary\n",
    "\n",
    "Create a comprehensive summary that community organizations can use to understand the federal intervention's impact. Use specific numbers from your analysis above."
   ]
  },
  {
   "cell_type": "code",
   "execution_count": null,
   "id": "fd331efb",
   "metadata": {},
   "outputs": [],
   "source": [
    "# Create a data-driven summary of the federal intervention's impact\n",
    "# Include specific statistics from your analysis\n",
    "\n",
    "print(\"=\" * 70)\n",
    "print(\"FEDERAL INTERVENTION IMPACT ANALYSIS: DC CRIME DATA\")\n",
    "print(\"Intervention Date: August 7, 2025\")\n",
    "print(\"=\" * 70)\n",
    "print()\n",
    "\n",
    "# YOUR CODE HERE - Add 5-7 key findings that would matter to community organizations\n",
    "# Use SPECIFIC NUMBERS from your analysis above\n",
    "# Consider:\n",
    "# - Overall crime trends (daily averages before vs after from Task 2.1)\n",
    "# - Which crime types have been most affected (violent vs property from Task 2.3-2.4)\n",
    "# - Which wards have seen changes (from Task 4.3)\n",
    "# - Immediate impact (first week from Task 2.5) vs sustained impact (overall from Task 2.1)\n",
    "# - Day of week patterns that have changed (from Task 4.5)\n",
    "# - Geographic concentration findings (from Part 3)\n",
    "# - High-crime ward response (from Task 5.3)\n",
    "\n",
    "print(\"KEY FINDINGS:\")\n",
    "print()\n",
    "print(\"1. Overall Impact:\")\n",
    "### YOUR CODE HERE"
   ]
  },
  {
   "cell_type": "markdown",
   "id": "3f30dcef",
   "metadata": {
    "cell_marker": "\"\"\""
   },
   "source": [
    "## Submission Checklist\n",
    "\n",
    "Before submitting, make sure:\n",
    "- [ ] All code cells run without errors\n",
    "- [ ] All tasks are completed (look for `YOUR CODE HERE` markers)\n",
    "- [ ] Your results make sense (check for reasonable percentages and counts)\n",
    "- [ ] You've calculated daily averages correctly (dividing by the right number of days)\n",
    "- [ ] You've included the policy impact summary with specific numbers from your analysis\n",
    "- [ ] File is saved as PS2_YourFirstName_YourLastName.ipynb\n",
    "\n",
    "Remember: During code review, be prepared to:\n",
    "- Explain what any line of your code does\n",
    "- Modify filters or groupby operations when asked\n",
    "- Describe what the federal intervention analysis reveals\n",
    "- Calculate daily averages\n",
    "- Discuss whether your findings suggest the intervention is working\n",
    "- Explain the difference between .size(), .count(), and .sum()\n",
    "- Show how you combined multiple conditions with & and |\n",
    "- Explain why we use groupby for some questions and filtering for others"
   ]
  }
 ],
 "metadata": {
  "jupytext": {
   "cell_metadata_filter": "-all",
   "main_language": "python",
   "notebook_metadata_filter": "-all"
  },
  "language_info": {
   "name": "python"
  }
 },
 "nbformat": 4,
 "nbformat_minor": 5
}
