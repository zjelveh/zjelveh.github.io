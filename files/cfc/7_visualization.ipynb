{
  "cells": [
    {
      "cell_type": "markdown",
      "id": "e2fdf47e",
      "metadata": {
        "id": "e2fdf47e"
      },
      "source": [
        "[![Open In Colab](https://colab.research.google.com/assets/colab-badge.svg)](https://colab.research.google.com/github/zjelveh/zjelveh.github.io/blob/master/files/cfc/7_visualization.ipynb)\n",
        "\n",
        "**IMPORTANT**: Save your own copy!\n",
        "1. Click File → Save a copy in Drive\n",
        "2. Rename it\n",
        "3. Work in YOUR copy, not the original\n",
        "\n",
        "\n",
        "---\n",
        "\n",
        "# 7. Data Visualization - Telling Stories with Pretrial Data\n",
        "## CCJS 418E: Coding for Criminology\n",
        "\n",
        "\n",
        "**Today's Goals:**\n",
        "- Understand why visualization matters more than tables of numbers\n",
        "- Master four essential plot types: point plots, line plots, histograms, and scatter plots\n",
        "- Learn the language of seaborn (data, x, y, hue, and other key parameters)\n",
        "- Use pandas and visualization together to answer policy questions\n",
        "- Tell compelling stories about Maryland's pretrial reform using data\n",
        "\n",
        "**Today's Big Question:** Did Maryland's 2016 pretrial reform actually change how judges make decisions about releasing or detaining defendants?\n",
        "\n",
        "**The Policy Context:** In November 2016, Maryland implemented a major pretrial reform. Before this, judges could set cash bail (hDOB), which meant poor defendants stayed in jail awaiting trial while wealthy defendants could pay their way out. The reform pushed judges toward two clearer options:\n",
        "- either release people on their own recognizance (ROR - they promise to come back to court)\n",
        "- detain them because they're considered dangerous (HWOB - Held Without Bail). Today we'll use visualization to see if this policy actually changed judicial behavior.\n",
        "\n",
        "## Part 1: Why Visualize Data?\n",
        "\n",
        "### The Problem with Tables\n",
        "\n",
        "Imagine a policymaker asks you: \"Did the pretrial reform work?\" You could show them a table with 900 rows of numbers (24 counties × 36 months = 864+ rows). They would fall asleep, or worse, miss the story entirely.\n",
        "\n",
        "**Connection to Computational Thinking: PATTERN RECOGNITION** - Our brains are wired to spot visual patterns instantly but struggle with patterns in tables of numbers. Visualization turns data into insights.\n",
        "\n",
        "### The Three Questions Visualization Answers\n",
        "\n",
        "Every good visualization answers one of these questions:\n",
        "\n",
        "1. **How did something change over TIME?** → Use line plots or point plots\n",
        "2. **How are values DISTRIBUTED?** → Use histograms  \n",
        "3. **How do two variables RELATE?** → Use scatter plots\n",
        "\n",
        "Today we'll learn when to use each type and how to create them.\n",
        "\n",
        "### Loading Our Data\n",
        "\n",
        "First, let's load the Maryland pretrial decisions dataset. This contains monthly data from every county from 2016-2018."
      ]
    },
    {
      "cell_type": "code",
      "execution_count": null,
      "id": "6929257f",
      "metadata": {
        "id": "6929257f"
      },
      "outputs": [],
      "source": [
        "import pandas as pd\n",
        "import seaborn as sns\n",
        "import matplotlib.pyplot as plt\n",
        "\n",
        "# Load the pretrial decisions data\n",
        "df = pd.read_csv('https://raw.githubusercontent.com/zjelveh/zjelveh.github.io/refs/heads/master/files/cfc/bail_decisions_monthly.csv')\n",
        "df.drop(columns=['pct_felony'], inplace=True)\n",
        "df = df[df.county!='STATEWIDE']\n",
        "# Let's peek at what we have\n",
        "df.head()"
      ]
    },
    {
      "cell_type": "markdown",
      "id": "315f069b",
      "metadata": {
        "id": "315f069b"
      },
      "source": [
        "### Understanding Our Data Structure\n",
        "\n",
        "Before we visualize anything, we need to understand what each row represents and what each column means. This is crucial!"
      ]
    },
    {
      "cell_type": "code",
      "execution_count": null,
      "id": "58d4c243",
      "metadata": {
        "id": "58d4c243"
      },
      "outputs": [],
      "source": [
        "# Check the shape - how many rows and columns?\n",
        "print(f\"Dataset has {len(df)} rows and {len(df.columns)} columns\")\n",
        "\n",
        "# What are all the columns?\n",
        "print(\"\\nColumn names:\")\n",
        "print(df.columns.tolist())\n",
        "\n",
        "# How many counties do we have?\n",
        "print(f\"\\nNumber of unique counties: {df['county'].nunique()}\")\n",
        "print(f\"Counties: {df['county'].unique()}\")\n",
        "\n",
        "# What's the time range?\n",
        "print(f\"\\nData spans from {df['year'].min()} to {df['year'].max()}\")"
      ]
    },
    {
      "cell_type": "markdown",
      "id": "79b88821",
      "metadata": {
        "id": "79b88821"
      },
      "source": [
        "**Key Variables to Understand:**\n",
        "\n",
        "- `county`: Which Maryland county (24 total)\n",
        "- `year`, `month`: When this data is from  \n",
        "- `months_from_reform`: The key variable! Negative = before reform (Nov 2016), 0 = reform month, positive = after reform\n",
        "- `n_total_hearings`: How many bail hearings happened that month\n",
        "- `n_ror`: How many people were Released on Recognizance (ROR)\n",
        "- `n_hdob`: How many people were Held Detained on Bail (HDOB)\n",
        "- `n_hwob`: How many people were Held With Opportunity for Bail (HWOB - traditional cash bail)\n",
        "- `pct_ror`, `pct_hdob`, `pct_hwob`: The percentages (these are what we'll visualize most)\n",
        "\n",
        "**Quick Check 1:** Why might it be better to visualize percentages (`pct_ror`) rather than counts (`n_ror`)? Think about how county sizes differ.\n",
        "\n",
        "<details>\n",
        "<summary>Click for answer</summary>\n",
        "\n",
        "Percentages let us compare counties fairly. Prince George's County might have 400 ROR decisions and Allegany County might have 30, but that's because PG is way bigger! Looking at the *percentage* released tells us about judicial behavior regardless of county size.\n",
        "\n",
        "</details>\n",
        "\n",
        "## Part 2: Point Plots - Showing Trends with Confidence\n",
        "\n",
        "### Starting Simple: One County, One Variable\n",
        "\n",
        "**The Question:** How did Prince George's County's ROR rate change over time?\n",
        "\n",
        "**Why start with one county?** It's easier to understand patterns when we're not looking at all 24 counties at once. Prince George's is Maryland's second-largest county and shows interesting trends."
      ]
    },
    {
      "cell_type": "code",
      "execution_count": null,
      "id": "f9fc5264",
      "metadata": {
        "id": "f9fc5264"
      },
      "outputs": [],
      "source": [
        "# Filter to just Prince George's County\n",
        "# Remember this from Week 6 - filtering!\n",
        "pg_data = df[df['county'] == \"Prince George\"]\n",
        "\n",
        "# Let's see what we're working with\n",
        "print(f\"We have {len(pg_data)} months of data for PG County\")\n",
        "print(f\"From {pg_data['year'].min()}/{pg_data['month'].min()} to {pg_data['year'].max()}/{pg_data['month'].max()}\")"
      ]
    },
    {
      "cell_type": "markdown",
      "id": "05224b26",
      "metadata": {
        "id": "05224b26"
      },
      "source": [
        "### Practice: Create a pct_felony column"
      ]
    },
    {
      "cell_type": "code",
      "execution_count": null,
      "id": "e733bbb3",
      "metadata": {
        "id": "e733bbb3"
      },
      "outputs": [],
      "source": [
        "# create a column called pct_felony that is the share of initial hearings w/ a felony charge\n",
        "\n",
        "###CODE HERE"
      ]
    },
    {
      "cell_type": "markdown",
      "id": "6aea4f22",
      "metadata": {
        "id": "6aea4f22"
      },
      "source": [
        "### Creating Our First Point Plot"
      ]
    },
    {
      "cell_type": "code",
      "execution_count": null,
      "id": "8b472363",
      "metadata": {
        "id": "8b472363"
      },
      "outputs": [],
      "source": [
        "# Create a figure - this is like setting up a canvas\n",
        "plt.figure(figsize=(12, 6))  # Width=12 inches, height=6 inches\n",
        "\n",
        "# Create the point plot\n",
        "sns.pointplot(data=pg_data,           # Which DataFrame to use\n",
        "              x='months_from_reform',  # What goes on x-axis (time)\n",
        "              y='pct_ror')            # What goes on y-axis (outcome)\n",
        "\n",
        "# Add labels so people understand what they're seeing\n",
        "plt.title(\"Release on Recognizance Rate in Prince George's County\", fontsize=14)\n",
        "plt.xlabel(\"Months from Reform (0 = November 2016)\", fontsize=12)\n",
        "plt.ylabel(\"Percent Released on Recognizance\", fontsize=12)\n",
        "\n",
        "# Add a vertical line at the reform date\n",
        "plt.axvline(x=10, color='red', linestyle='--', linewidth=2, label='Reform Implementation')\n",
        "plt.legend()\n",
        "\n",
        "# Display the plot\n",
        "plt.show()"
      ]
    },
    {
      "cell_type": "markdown",
      "id": "db6d84be",
      "metadata": {
        "id": "db6d84be"
      },
      "source": [
        "### Understanding What You're Seeing\n",
        "\n",
        "Let's break down every element of this plot:\n",
        "\n",
        "**The dots:** Each dot represents the ROR rate for that month. In this case, since we only have one county, there's exactly one dot per month.\n",
        "\n",
        "**The vertical lines through each dot:** These show the spread of the data at each time point. With only one county, they're very short. Later when we plot all counties together, these will show how much variation exists across counties.\n",
        "\n",
        "**The x-axis:** `months_from_reform` lets us see before and after the reform. Negative numbers = before, positive = after.\n",
        "\n",
        "**The red dashed line:** This marks when the reform happened (month 0). It helps our eyes see the \"before\" and \"after\" story.\n",
        "\n",
        "**What's the story here?** The ROR rate jumps dramatically right at the reform! Before the reform, PG County released about 57% of people on recognizance. After the reform, it jumped to 68-70%. The reform worked in PG County!\n",
        "\n",
        "### Anatomy of a Seaborn Function Call\n",
        "\n",
        "Let's break down the `sns.pointplot()` function parameter by parameter:"
      ]
    },
    {
      "cell_type": "code",
      "execution_count": null,
      "id": "ccca8c4d",
      "metadata": {
        "id": "ccca8c4d"
      },
      "outputs": [],
      "source": [
        "sns.pointplot(\n",
        "    data=pg_data,            # Which DataFrame contains your data\n",
        "    x='months_from_reform',  # Column name for x-axis (usually time or categories)\n",
        "    y='pct_ror'             # Column name for y-axis (usually the outcome you're measuring)\n",
        ")"
      ]
    },
    {
      "cell_type": "markdown",
      "id": "d1937b33",
      "metadata": {
        "id": "d1937b33"
      },
      "source": [
        "**Every seaborn function follows this pattern:** `data=`, `x=`, and `y=` are the three core parameters you'll use again and again.\n",
        "\n",
        "### Quick Check 2\n",
        "\n",
        "Before running this code, predict what you'll see:"
      ]
    },
    {
      "cell_type": "code",
      "execution_count": null,
      "id": "947a5664",
      "metadata": {
        "id": "947a5664"
      },
      "outputs": [],
      "source": [
        "plt.figure(figsize=(12, 6))\n",
        "sns.pointplot(data=pg_data,\n",
        "              x='months_from_reform',\n",
        "              y='pct_hdob')  # Detention rate instead of ROR\n",
        "\n",
        "plt.title(\"Detention Rate in Prince George's County\")\n",
        "plt.xlabel(\"Months from Reform\")\n",
        "plt.ylabel(\"Percent Held Detained on Bail\")\n",
        "plt.axvline(x=10, color='red', linestyle='--', label='Reform')\n",
        "plt.legend()\n",
        "plt.show()"
      ]
    },
    {
      "cell_type": "markdown",
      "id": "7033c06a",
      "metadata": {
        "id": "7033c06a"
      },
      "source": [
        "What do you expect? Will detention go up or down when ROR goes up?\n",
        "\n",
        "<details>\n",
        "<summary>Click for answer</summary>\n",
        "\n",
        "Detention should go DOWN when ROR goes up! If more people are being released (ROR going up), fewer must be detained. These two outcomes are related - they have to add up (along with HWOB) to roughly 100%.\n",
        "\n",
        "</details>\n",
        "\n",
        "## Part 3: Line Plots - Emphasizing Continuous Trends\n",
        "\n",
        "### Line Plots vs Point Plots\n",
        "\n",
        "Both line plots and point plots show trends over time, but they emphasize different things:\n",
        "\n",
        "- **Point plots:** Emphasize individual time points and their uncertainty. Better for discrete time periods.\n",
        "- **Line plots:** Emphasize the continuous flow and trajectory. Better when you want viewers to follow the trend smoothly.\n",
        "\n",
        "### Creating a Line Plot"
      ]
    },
    {
      "cell_type": "code",
      "execution_count": null,
      "id": "eb771692",
      "metadata": {
        "id": "eb771692"
      },
      "outputs": [],
      "source": [
        "# Same data, different plot type\n",
        "plt.figure(figsize=(12, 6))\n",
        "\n",
        "sns.lineplot(data=pg_data,           # Same parameters as before\n",
        "             x='months_from_reform',\n",
        "             y='pct_hdob',\n",
        "             marker='o')              # This adds dots at each data point\n",
        "\n",
        "plt.title(\"Detention Rate in Prince George's County\", fontsize=14)\n",
        "plt.xlabel(\"Months from Reform\", fontsize=12)\n",
        "plt.ylabel(\"Percent Held Detained on Bail\", fontsize=12)\n",
        "plt.axvline(x=10, color='red', linestyle='--', label='Reform')\n",
        "plt.legend()\n",
        "plt.show()"
      ]
    },
    {
      "cell_type": "markdown",
      "id": "8d33379a",
      "metadata": {
        "id": "8d33379a"
      },
      "source": [
        "### New Parameter: `marker`\n",
        "\n",
        "The `marker='o'` parameter adds small circles at each actual data point. This is helpful because:\n",
        "- It shows you where you actually have data (vs the line just connecting them)\n",
        "- It makes the plot more readable\n",
        "- Other marker options: `'s'` (square), `'^'` (triangle), `'D'` (diamond)\n",
        "\n",
        "### The Visual Difference\n",
        "\n",
        "With a **line plot**, your eye follows the line and sees the trajectory. With a **point plot**, your eye focuses on each individual point. For monthly data like this, where we want to see the trend over time, line plots often work better.\n",
        "\n",
        "**Rule of thumb:** Use line plots when time is continuous and you want to emphasize the trend. Use point plots when you want to emphasize individual measurements or compare groups (which we'll do next!).\n",
        "\n",
        "## Part 4: The Power of Hue - Comparing Groups\n",
        "\n",
        "### What is \"Hue\"?\n",
        "\n",
        "`hue` is one of the most powerful parameters in seaborn. It means \"color\" - but more importantly, it means **split your data into groups and show each group in a different color**.\n",
        "\n",
        "Think of it like this:\n",
        "- Without `hue`: One line showing all the data\n",
        "- With `hue`: Multiple lines, one for each group, each in a different color\n",
        "\n",
        "### Creating Groups: Large vs Small Counties\n",
        "\n",
        "Before we can use `hue`, we need to create a grouping variable. Let's classify counties as \"large\" or \"small\" based on how many hearings they have."
      ]
    },
    {
      "cell_type": "code",
      "execution_count": null,
      "id": "639a6bd9",
      "metadata": {
        "id": "639a6bd9"
      },
      "outputs": [],
      "source": [
        "# Step 1: Calculate total hearings per county across all time\n",
        "# This uses groupby from Week 7!\n",
        "county_sizes = df.groupby('county')['n_total_hearings'].sum().reset_index()\n",
        "county_sizes.columns = ['county', 'total_hearings']\n",
        "\n",
        "# Let's peek at this\n",
        "print(\"Counties ranked by total hearings:\")\n",
        "print(county_sizes.sort_values('total_hearings', ascending=False))"
      ]
    },
    {
      "cell_type": "code",
      "execution_count": null,
      "id": "faaa4e48",
      "metadata": {
        "id": "faaa4e48"
      },
      "outputs": [],
      "source": [
        "df['large_county'] = df.county.isin(['Baltimore City', 'Prince George', 'Baltimore', 'Anne Arundel',\n",
        "'Montgomery'])\n",
        "\n"
      ]
    },
    {
      "cell_type": "markdown",
      "id": "95dfa2ed",
      "metadata": {
        "id": "95dfa2ed"
      },
      "source": [
        "### Using Hue to Compare Groups\n",
        "\n",
        "Now comes the magic! We'll plot ROR trends for ALL counties, but color them by size."
      ]
    },
    {
      "cell_type": "code",
      "execution_count": null,
      "id": "05e3128e",
      "metadata": {
        "id": "05e3128e"
      },
      "outputs": [],
      "source": [
        "sns.lineplot(data=df,                    # Now using full dataset, not just PG\n",
        "             x='months_from_reform',\n",
        "             y='pct_ror',\n",
        "             hue='large_county')        #  split by county size\n",
        "\n"
      ]
    },
    {
      "cell_type": "markdown",
      "id": "4c4fdf50",
      "metadata": {
        "id": "4c4fdf50"
      },
      "source": [
        "\n",
        "## Part 5: Histograms - Understanding Distributions\n",
        "\n",
        "### A Different Kind of Question\n",
        "\n",
        "So far we've looked at **trends over time**. Now let's ask a different question: **How are values distributed?**\n",
        "\n",
        "**Example question:** How much do counties vary in their felony rates? Do most counties see similar percentages of felony cases, or is there huge variation?\n",
        "\n",
        "A histogram answers this question by showing us the **distribution** - how many observations fall into different ranges.\n",
        "\n",
        "### Creating a Basic Histogram"
      ]
    },
    {
      "cell_type": "code",
      "execution_count": null,
      "id": "52bf4ac4",
      "metadata": {
        "id": "52bf4ac4"
      },
      "outputs": [],
      "source": [
        "plt.figure(figsize=(10, 6))\n",
        "\n",
        "sns.histplot(data=df,              # Our full dataset\n",
        "             x='pct_felony',        # What variable to show the distribution of\n",
        "             bins=30,               # How many bars (bins) to create\n",
        "             kde=True)              # Add a smooth curve\n",
        "\n",
        "plt.title(\"Distribution of Felony Rates Across All County-Months\", fontsize=14)\n",
        "plt.xlabel(\"Percent Felony Cases\", fontsize=12)\n",
        "plt.ylabel(\"Count of County-Months\", fontsize=12)\n",
        "plt.show()"
      ]
    },
    {
      "cell_type": "markdown",
      "id": "69051b06",
      "metadata": {
        "id": "69051b06"
      },
      "source": [
        "### Understanding Histograms\n",
        "\n",
        "**What each bar represents:** Each bar shows how many county-month observations fall in that range. For example, the tallest bar might be around 10-15% felonies, meaning \"most county-months have felony rates between 10-15%.\"\n",
        "\n",
        "**The x-axis:** Shows the possible values of felony percentage (from 0% to 30% in our data).\n",
        "\n",
        "**The y-axis:** Shows the COUNT - how many observations fall in each range. Higher bars = more common values.\n",
        "\n",
        "**The blue curve (KDE):** Stands for \"Kernel Density Estimate.\" It's a smooth version of the histogram. Think of it as smoothing out the jagged bars to show the overall shape of the distribution.\n",
        "\n",
        "### Key Parameters Explained\n",
        "\n",
        "**`bins=30`:** How many bars to create. This is crucial!\n",
        "- Too few bins (like 5): You lose detail, everything gets lumped together  \n",
        "- Too many bins (like 100): Each bar is too narrow, looks choppy\n",
        "- Rule of thumb: Start with 20-30 for most data\n",
        "\n",
        "Let's see the difference:"
      ]
    },
    {
      "cell_type": "code",
      "execution_count": null,
      "id": "cae04db4",
      "metadata": {
        "id": "cae04db4"
      },
      "outputs": [],
      "source": [
        "# Compare different bin sizes\n",
        "fig, axes = plt.subplots(1, 3, figsize=(15, 4))\n",
        "\n",
        "# Too few bins\n",
        "sns.histplot(data=df, x='pct_felony', bins=5, kde=True, ax=axes[0])\n",
        "axes[0].set_title('Too Few Bins (5)')\n",
        "\n",
        "# Just right\n",
        "sns.histplot(data=df, x='pct_felony', bins=30, kde=True, ax=axes[1])\n",
        "axes[1].set_title('Good Number of Bins (30)')\n",
        "\n",
        "# Too many bins\n",
        "sns.histplot(data=df, x='pct_felony', bins=100, kde=True, ax=axes[2])\n",
        "axes[2].set_title('Too Many Bins (100)')\n",
        "\n",
        "plt.tight_layout()\n",
        "plt.show()"
      ]
    },
    {
      "cell_type": "markdown",
      "id": "2657a3ea",
      "metadata": {
        "id": "2657a3ea"
      },
      "source": [
        "**`kde=True`:** Whether to add the smooth curve. KDE stands for Kernel Density Estimate.\n",
        "- `kde=True`: Shows the smooth curve (usually helpful)\n",
        "- `kde=False`: Just bars, no curve\n",
        "\n",
        "### What Does This Distribution Tell Us?\n",
        "\n",
        "Looking at the felony distribution, we can see:\n",
        "- **Most county-months are in the 8-15% range** - this is typical\n",
        "- **Some counties go as high as 25-30%** - these are outliers worth investigating  \n",
        "- **The distribution is roughly bell-shaped** but with a longer tail on the right (called \"right-skewed\")\n",
        "\n",
        "**Why this matters for policy:** If we know most counties see 10% felonies, and suddenly a county jumps to 25%, that's a red flag worth investigating. Are they charging more serious crimes? Is there a crime spike?\n",
        "\n",
        "### Quick Check 4\n",
        "\n",
        "What would a histogram of `pct_ror` look like? Before running the code, predict:\n",
        "- Will it be bell-shaped or have two peaks?  \n",
        "- What range will most counties fall in?"
      ]
    },
    {
      "cell_type": "code",
      "execution_count": null,
      "id": "3694e05a",
      "metadata": {
        "id": "3694e05a"
      },
      "outputs": [],
      "source": [
        "plt.figure(figsize=(10, 6))\n",
        "sns.histplot(data=df, x='pct_ror', bins=30, kde=True)\n",
        "plt.title(\"Distribution of ROR Rates\")\n",
        "plt.xlabel(\"Percent Released on Recognizance\")\n",
        "plt.show()"
      ]
    },
    {
      "cell_type": "markdown",
      "id": "663f1ffb",
      "metadata": {
        "id": "663f1ffb"
      },
      "source": [
        "<details>\n",
        "<summary>Click for answer</summary>\n",
        "\n",
        "You might see TWO peaks (called \"bimodal\")! This happens because there was a reform - counties before the reform clustered around one ROR rate, and counties after the reform clustered around a higher rate. This is a visual sign of the policy change!\n",
        "\n",
        "</details>\n"
      ]
    },
    {
      "cell_type": "markdown",
      "id": "7a33481a",
      "metadata": {
        "id": "7a33481a"
      },
      "source": [
        "## Part 8: Bar Charts - Comparing Categories\n",
        "\n",
        "### A New Kind of Comparison\n",
        "\n",
        "So far we've looked at trends over time and distributions of values. Now let's tackle a different question that requires a different visualization approach.\n",
        "\n",
        "**The Question:** For each county, what was the average ROR rate before the reform versus after the reform? We want to see which counties changed the most.\n",
        "\n",
        "This question is asking us to **compare categories** (counties) across **groups** (pre vs post). Bar charts are perfect for this! They let us line up categories side by side and compare their values visually.\n",
        "\n",
        "**When to use bar charts:**\n",
        "- Comparing values across categories (like counties, crime types, policy periods)\n",
        "- When you want to show the magnitude of something for different groups\n",
        "- When categories are discrete (not continuous like time)\n",
        "\n",
        "**When NOT to use bar charts:**\n",
        "- For trends over many time points (use line plots instead)\n",
        "- For distributions of continuous variables (use histograms instead)\n",
        "\n",
        "### Preparing Data with Groupby\n",
        "\n",
        "Before we can make a bar chart comparing pre and post reform rates by county, we need to aggregate our data. This is where your Week 7 groupby skills become essential!\n",
        "\n",
        "We need to group by TWO things: county AND period, then calculate the average ROR rate for each combination."
      ]
    },
    {
      "cell_type": "code",
      "execution_count": null,
      "id": "b01a8326",
      "metadata": {
        "id": "b01a8326"
      },
      "outputs": [],
      "source": [
        "# Step 1: Make sure we have the period column (we created this earlier)\n",
        "# If you're starting fresh, uncomment this:\n",
        "df['period'] = df['months_from_reform'].apply(\n",
        "    lambda x: 'Pre-Reform' if x < 0 else 'Post-Reform'\n",
        ")\n",
        "\n",
        "# Step 2: Group by county AND period, calculate average ROR\n",
        "county_period_avg = df.groupby(['county', 'period'])['pct_ror'].mean().reset_index()\n",
        "\n",
        "# Let's look at what we created\n",
        "print(\"First 10 rows of our aggregated data:\")\n",
        "print(county_period_avg.head(10))\n",
        "print(f\"\\nTotal rows: {len(county_period_avg)}\")\n",
        "print(\"(Should be about 48 rows: 24 counties × 2 periods)\")"
      ]
    },
    {
      "cell_type": "markdown",
      "id": "231d5e2d",
      "metadata": {
        "id": "231d5e2d"
      },
      "source": [
        "### Understanding This Groupby\n",
        "\n",
        "Let's break down what `df.groupby(['county', 'period'])['pct_ror'].mean()` does step by step:\n",
        "\n",
        "**Step 1:** `groupby(['county', 'period'])` splits our data into groups. Each unique combination of county and period gets its own group. So we get groups like:\n",
        "- Allegany + Pre-Reform\n",
        "- Allegany + Post-Reform  \n",
        "- Anne Arundel + Pre-Reform\n",
        "- Anne Arundel + Post-Reform\n",
        "- ... and so on for all 24 counties\n",
        "\n",
        "**Step 2:** `['pct_ror']` says \"we only care about the ROR percentage column\"\n",
        "\n",
        "**Step 3:** `.mean()` calculates the average ROR rate within each group. For example, it takes all the Allegany Pre-Reform months (10 months of data) and averages them to get one number: \"Allegany's average pre-reform ROR rate was X%\"\n",
        "\n",
        "**Step 4:** `.reset_index()` converts the result back into a normal DataFrame with columns we can easily work with\n",
        "\n",
        "The result is a clean DataFrame where each row represents one county-period combination with its average ROR rate.\n",
        "\n",
        "### Creating Our First Bar Chart - Hued by Period\n",
        "\n",
        "Now let's visualize this data! We'll create a bar chart where each county gets TWO bars: one for pre-reform and one for post-reform."
      ]
    },
    {
      "cell_type": "code",
      "execution_count": null,
      "id": "0b5deb26",
      "metadata": {
        "id": "0b5deb26"
      },
      "outputs": [],
      "source": [
        "plt.figure(figsize=(14, 6))\n",
        "\n",
        "sns.barplot(data=county_period_avg,\n",
        "            x='county',\n",
        "            y='pct_ror',\n",
        "            hue='period',           # This creates two bars per county\n",
        "            palette='Set2')         # A nice color scheme\n",
        "\n",
        "plt.title(\"Average ROR Rates by County: Before vs After Reform\", fontsize=14, fontweight='bold')\n",
        "plt.xlabel(\"County\", fontsize=12)\n",
        "plt.ylabel(\"Average ROR Rate (%)\", fontsize=12)\n",
        "plt.xticks(rotation=45, ha='right')  # Rotate county names so they don't overlap\n",
        "plt.legend(title='Period', fontsize=11)\n",
        "plt.tight_layout()\n",
        "plt.show()"
      ]
    },
    {
      "cell_type": "markdown",
      "id": "f603bcd8",
      "metadata": {
        "id": "f603bcd8"
      },
      "source": [
        "### Understanding Bar Charts with Hue\n",
        "\n",
        "Let's break down what you're seeing in this plot:\n",
        "\n",
        "**The x-axis:** Each position along the x-axis represents one county. You'll see all 24 Maryland counties listed.\n",
        "\n",
        "**The bars:** At each county position, you see TWO bars standing side by side. One bar shows the pre-reform average (in one color), and the other shows the post-reform average (in another color). The height of each bar represents the average ROR rate.\n",
        "\n",
        "**The hue parameter magic:** By setting `hue='period'`, seaborn automatically:\n",
        "- Creates two bars per county (one per period)\n",
        "- Colors them differently so you can tell them apart\n",
        "- Creates a legend showing which color means what\n",
        "- Places them side by side so you can easily compare\n",
        "\n",
        "**Reading the story:** Your eyes can quickly scan across and see which counties have big gaps between the two bars (big reform effect) versus counties where the bars are similar heights (smaller reform effect). This is the power of bar charts - they make comparisons immediate and visual!\n",
        "\n",
        "### New Parameters Explained\n",
        "\n",
        "**`palette='Set2'`:** This controls the color scheme. Seaborn has built-in palettes with nice color combinations:\n",
        "- `'Set2'`: Soft, muted colors (good for publication)\n",
        "- `'deep'`: Rich, saturated colors (default)\n",
        "- `'pastel'`: Very light colors\n",
        "- `'colorblind'`: Designed to be distinguishable for colorblind viewers (highly recommended!)\n",
        "\n",
        "Try changing this to see different color schemes!\n",
        "\n",
        "**`plt.xticks(rotation=45, ha='right')`:** This rotates the county names 45 degrees so they don't overlap. The `ha='right'` means \"horizontal alignment = right\" which makes the rotated text line up nicely with the bars.\n",
        "\n",
        "Without this rotation, county names would pile on top of each other and become unreadable. This is a common issue when you have many categories on the x-axis!\n",
        "\n",
        "### Alternative Visualization - Hued by County\n",
        "\n",
        "Now let's flip our perspective! Instead of showing all counties with pre/post bars, let's show just pre and post with county bars. This helps us see which counties dominate the averages.\n",
        "\n",
        "But wait - with 24 counties, we'd have 24 different colored bars, which would be chaos! Let's be smarter and pick just the largest counties to compare."
      ]
    },
    {
      "cell_type": "code",
      "execution_count": null,
      "id": "0df42dc7",
      "metadata": {
        "id": "0df42dc7"
      },
      "outputs": [],
      "source": [
        "# First, let's identify the 5 largest counties by total hearings\n",
        "largest_counties = df.groupby('county')['n_total_hearings'].sum().nlargest(5).index.tolist()\n",
        "print(f\"Five largest counties: {largest_counties}\")\n",
        "\n",
        "# Filter our aggregated data to just these counties\n",
        "large_county_data = county_period_avg[county_period_avg['county'].isin(largest_counties)]\n",
        "\n",
        "# Now create a bar chart with counties as different colors\n",
        "plt.figure(figsize=(10, 6))\n",
        "\n",
        "sns.barplot(data=large_county_data,\n",
        "            x='period',\n",
        "            y='pct_ror',\n",
        "            hue='county',            # Now county is the hue!\n",
        "            palette='colorblind')     # Good for accessibility\n",
        "\n",
        "plt.title(\"ROR Rates in Maryland's 5 Largest Counties: Pre vs Post Reform\",\n",
        "          fontsize=14, fontweight='bold')\n",
        "plt.xlabel(\"Period\", fontsize=12)\n",
        "plt.ylabel(\"Average ROR Rate (%)\", fontsize=12)\n",
        "plt.legend(title='County', fontsize=10, loc='best')\n",
        "plt.tight_layout()\n",
        "plt.show()"
      ]
    },
    {
      "cell_type": "markdown",
      "id": "592dec56",
      "metadata": {
        "id": "592dec56"
      },
      "source": [
        "### Understanding This Alternative View\n",
        "\n",
        "This flipped perspective reveals different insights:\n",
        "\n",
        "**The x-axis:** Now we just have two positions: Pre-Reform and Post-Reform\n",
        "\n",
        "**The bars:** At each period, we see FIVE bars (one for each of our largest counties), each in a different color\n",
        "\n",
        "**What this reveals:** Instead of asking \"how did each county change?\", we're asking \"which counties had the highest ROR rates before the reform? Which had the highest after? Did the rankings change?\"\n",
        "\n",
        "**The story:** You might notice that some counties were high-ROR counties even before the reform, while others started low and jumped up. This tells us that counties had different baseline practices, and the reform affected them differently.\n",
        "\n",
        "### The Power of Perspective\n",
        "\n",
        "These two bar charts show the SAME DATA but tell different stories:\n",
        "\n",
        "**First chart (hue='period'):** Best for answering \"Which counties changed the most after the reform?\" Your eyes scan horizontally across counties and look for big gaps between the two bars.\n",
        "\n",
        "**Second chart (hue='county'):** Best for answering \"Which counties were already releasing people frequently? Which counties changed their ranking?\" Your eyes compare bar heights within each period.\n",
        "\n",
        "This is an important lesson in data visualization: the same data can be arranged different ways to highlight different insights. Always think about what question you're trying to answer, then choose the arrangement that makes that answer most obvious.\n",
        "\n",
        "### Sorting Bars for Better Insights\n",
        "\n",
        "One problem with our first bar chart is that counties appear in alphabetical order, which doesn't reveal much. Let's sort them by how much they changed!"
      ]
    },
    {
      "cell_type": "code",
      "execution_count": null,
      "id": "4cc9ae39",
      "metadata": {
        "id": "4cc9ae39"
      },
      "outputs": [],
      "source": [
        "# Calculate the change in ROR rate for each county\n",
        "# First, pivot so we have pre and post as separate columns\n",
        "county_change = county_period_avg.pivot(index='county',\n",
        "                                         columns='period',\n",
        "                                         values='pct_ror').reset_index()\n",
        "county_change.columns.name = None  # Remove the column index name\n",
        "\n",
        "# Calculate the change\n",
        "county_change['change'] = county_change['Post-Reform'] - county_change['Pre-Reform']\n",
        "\n",
        "# Sort by change (biggest increase first)\n",
        "county_change_sorted = county_change.sort_values('change', ascending=False)\n",
        "\n",
        "print(\"Counties ranked by ROR increase:\")\n",
        "print(county_change_sorted[['county', 'Pre-Reform', 'Post-Reform', 'change']].head(10))"
      ]
    },
    {
      "cell_type": "markdown",
      "id": "7008a423",
      "metadata": {
        "id": "7008a423"
      },
      "source": [
        "This is advanced pandas manipulation! Let's understand what `.pivot()` does:\n",
        "\n",
        "**Before pivot:** Our data has rows like:\n",
        "```\n",
        "Allegany, Pre-Reform, 30.5\n",
        "Allegany, Post-Reform, 38.2\n",
        "Anne Arundel, Pre-Reform, 57.1\n",
        "Anne Arundel, Post-Reform, 65.3\n",
        "```\n",
        "\n",
        "**After pivot:** We reshape it to have pre and post as columns:\n",
        "```\n",
        "Allegany,     30.5,         38.2,       7.7\n",
        "Anne Arundel, 57.1,         65.3,       8.2\n",
        "```\n",
        "\n",
        "Now we can easily calculate the change by subtracting columns!\n",
        "\n",
        "### Creating a Sorted Bar Chart\n",
        "\n",
        "Now let's plot this, sorted by change:"
      ]
    },
    {
      "cell_type": "code",
      "execution_count": null,
      "id": "78d757fe",
      "metadata": {
        "id": "78d757fe"
      },
      "outputs": [],
      "source": [
        "plt.figure(figsize=(14, 6))\n",
        "\n",
        "# We need to reshape back for plotting\n",
        "county_change_long = county_change_sorted.melt(id_vars=['county', 'change'],\n",
        "                                                value_vars=['Pre-Reform', 'Post-Reform'],\n",
        "                                                var_name='period',\n",
        "                                                value_name='pct_ror')\n",
        "\n",
        "sns.barplot(data=county_change_long,\n",
        "            x='county',\n",
        "            y='pct_ror',\n",
        "            hue='period',\n",
        "            palette='Set2',\n",
        "            order=county_change_sorted['county'])  # This controls the order!\n",
        "\n",
        "plt.title(\"Counties Ranked by Reform Impact (Largest Increase First)\",\n",
        "          fontsize=14, fontweight='bold')\n",
        "plt.xlabel(\"County\", fontsize=12)\n",
        "plt.ylabel(\"Average ROR Rate (%)\", fontsize=12)\n",
        "plt.xticks(rotation=45, ha='right')\n",
        "plt.legend(title='Period', fontsize=11)\n",
        "plt.tight_layout()\n",
        "plt.show()"
      ]
    },
    {
      "cell_type": "markdown",
      "id": "3014b0cc",
      "metadata": {
        "id": "3014b0cc"
      },
      "source": [
        "### The `order` Parameter\n",
        "\n",
        "The `order` parameter is incredibly useful! It lets you control exactly what order categories appear in on your x-axis. Here we're ordering counties by their reform impact, so counties with the biggest increases appear first.\n",
        "\n",
        "Without `order`, seaborn would put counties in alphabetical order (the default). With `order`, we can arrange them by any logic we want: biggest to smallest, smallest to biggest, or any custom ordering.\n",
        "\n",
        "This makes the chart tell a much clearer story: you can immediately see which counties were most affected by the reform!\n",
        "\n",
        "### Quick Check 5\n",
        "\n",
        "Looking at the sorted bar chart, answer these questions:\n",
        "1. Which county had the biggest increase in ROR after the reform?\n",
        "2. Did any counties actually DECREASE their ROR rate after the reform?\n",
        "3. What might explain why some counties changed more than others?\n",
        "\n",
        "### When to Choose Bar Charts vs Other Plot Types\n",
        "\n",
        "Let's solidify your understanding of when bar charts are the right choice:\n",
        "\n",
        "**Use BAR CHARTS when:**\n",
        "- You have discrete categories to compare (counties, crime types, departments)\n",
        "- You want to show magnitude/size for each category\n",
        "- You have a small-to-medium number of categories (works well with 2-20 categories)\n",
        "- You want to compare groups within each category (using hue)\n",
        "\n",
        "**Use LINE PLOTS when:**\n",
        "- Your x-axis is time or another continuous variable\n",
        "- You want to show trends or trajectories\n",
        "- You have many time points (more than about 10)\n",
        "\n",
        "**Use HISTOGRAMS when:**\n",
        "- You want to show the distribution of a continuous variable\n",
        "- You're asking \"how are values spread out?\"\n",
        "- You want to see the shape (normal, skewed, bimodal, etc.)\n",
        "\n",
        "**Use SCATTER PLOTS when:**\n",
        "- You want to see the relationship between two continuous variables\n",
        "- Each point represents one observation\n",
        "- You're asking \"do these two things move together?\"\n",
        "\n",
        "The key difference: bar charts are for comparing CATEGORIES, while the others handle continuous data or relationships between variables.\n",
        "\n",
        "## Part 9: Scatter Plots - Relationships Between Variables\n",
        "\n",
        "### A New Question: Do Variables Move Together?\n",
        "\n",
        "So far we've looked at:\n",
        "- **One variable over time** (line plots, point plots)\n",
        "- **Distribution of one variable** (histograms)\n",
        "\n",
        "Now: **How do TWO variables relate?** Do they move together or move opposite?\n",
        "\n",
        "**Example question:** Do counties with more felony cases tend to have lower ROR rates? (This makes intuitive sense - felonies are more serious, so judges might be less likely to release defendants.)\n",
        "\n",
        "### Creating a Basic Scatter Plot"
      ]
    },
    {
      "cell_type": "code",
      "execution_count": null,
      "id": "6757661c",
      "metadata": {
        "id": "6757661c"
      },
      "outputs": [],
      "source": [
        "plt.figure(figsize=(10, 8))\n",
        "\n",
        "sns.scatterplot(data=df,              # Our full dataset\n",
        "                x='pct_felony',        # First variable\n",
        "                y='pct_ror',           # Second variable\n",
        "                alpha=0.5,             # Semi-transparent\n",
        "                s=50)                  # Size of each dot\n",
        "\n",
        "plt.title(\"Relationship Between Felony Rate and ROR Rate\", fontsize=14)\n",
        "plt.xlabel(\"Percent Felony Cases\", fontsize=12)\n",
        "plt.ylabel(\"Percent Released on Recognizance\", fontsize=12)\n",
        "plt.show()"
      ]
    },
    {
      "cell_type": "markdown",
      "id": "2d921c17",
      "metadata": {
        "id": "2d921c17"
      },
      "source": [
        "### Understanding Scatter Plots\n",
        "\n",
        "**Each dot** represents one observation - in our case, one county-month. So if we have 900 rows in our data, we'll have 900 dots!\n",
        "\n",
        "**The x-position** of each dot shows its felony percentage.  \n",
        "**The y-position** of each dot shows its ROR percentage.\n",
        "\n",
        "**What patterns to look for:**\n",
        "\n",
        "1. **Positive relationship:** As x increases, y increases (dots go up and to the right)\n",
        "2. **Negative relationship:** As x increases, y decreases (dots go down and to the right)  \n",
        "3. **No relationship:** Dots are scattered randomly with no clear pattern\n",
        "\n",
        "### New Parameter: `s` (size)\n",
        "\n",
        "**`s=50`** controls the size of each dot:\n",
        "- Smaller values (like 20): Tiny dots, good when you have LOTS of points\n",
        "- Larger values (like 100): Big dots, good when you have fewer points  \n",
        "- Default is usually fine, but adjusting helps with readability\n",
        "\n",
        "Try different sizes to see the difference:"
      ]
    },
    {
      "cell_type": "code",
      "execution_count": null,
      "id": "ccf7dd71",
      "metadata": {
        "id": "ccf7dd71"
      },
      "outputs": [],
      "source": [
        "fig, axes = plt.subplots(1, 3, figsize=(15, 4))\n",
        "\n",
        "sns.scatterplot(data=df, x='pct_felony', y='pct_ror', alpha=0.5, s=10, ax=axes[0])\n",
        "axes[0].set_title('Small Dots (s=10)')\n",
        "\n",
        "sns.scatterplot(data=df, x='pct_felony', y='pct_ror', alpha=0.5, s=50, ax=axes[1])\n",
        "axes[1].set_title('Medium Dots (s=50)')\n",
        "\n",
        "sns.scatterplot(data=df, x='pct_felony', y='pct_ror', alpha=0.5, s=100, ax=axes[2])\n",
        "axes[2].set_title('Large Dots (s=100)')\n",
        "\n",
        "plt.tight_layout()\n",
        "plt.show()"
      ]
    },
    {
      "cell_type": "markdown",
      "id": "69e4ad92",
      "metadata": {
        "id": "69e4ad92"
      },
      "source": [
        "### Adding Hue to See Pre/Post Differences\n",
        "\n",
        "Here's where scatter plots get powerful - we can add `hue` to color points by group:"
      ]
    },
    {
      "cell_type": "code",
      "execution_count": null,
      "id": "450b0eed",
      "metadata": {
        "id": "450b0eed"
      },
      "outputs": [],
      "source": [
        "plt.figure(figsize=(10, 8))\n",
        "\n",
        "sns.scatterplot(data=df,\n",
        "                x='pct_felony',\n",
        "                y='pct_ror',\n",
        "                hue='period',        # Color by pre/post reform\n",
        "                alpha=0.4,           # More transparency since we have two groups\n",
        "                s=60)\n",
        "\n",
        "plt.title(\"Felony Rate vs ROR Rate: Before and After Reform\", fontsize=14)\n",
        "plt.xlabel(\"Percent Felony Cases\", fontsize=12)\n",
        "plt.ylabel(\"Percent Released on Recognizance\", fontsize=12)\n",
        "plt.legend(title='Period', fontsize=11)\n",
        "plt.show()"
      ]
    },
    {
      "cell_type": "markdown",
      "id": "51e74df6",
      "metadata": {
        "id": "51e74df6"
      },
      "source": [
        "**What this reveals:**\n",
        "- Pre-reform dots cluster in one part of the plot\n",
        "- Post-reform dots cluster higher (higher ROR rates)  \n",
        "- The relationship between felony rate and ROR appears similar in both periods\n",
        "\n",
        "This is powerful! We can see BOTH the relationship between two variables AND how that relationship changed after a policy.\n",
        "\n",
        "### Adding a Trend Line\n",
        "\n",
        "Sometimes we want to see the relationship more clearly. We can add a line that \"best fits\" the data:"
      ]
    },
    {
      "cell_type": "code",
      "execution_count": null,
      "id": "1da39bbd",
      "metadata": {
        "id": "1da39bbd"
      },
      "outputs": [],
      "source": [
        "plt.figure(figsize=(10, 8))\n",
        "\n",
        "sns.regplot(data=df,\n",
        "            x='pct_felony',\n",
        "            y='pct_ror',\n",
        "            scatter_kws={'alpha':0.3, 's':40},    # Options for scatter points\n",
        "            line_kws={'color':'red', 'linewidth':2})  # Options for the line\n",
        "\n",
        "plt.title(\"Felony Rate vs ROR Rate (with trend line)\", fontsize=14)\n",
        "plt.xlabel(\"Percent Felony Cases\", fontsize=12)\n",
        "plt.ylabel(\"Percent Released on Recognizance\", fontsize=12)\n",
        "plt.show()"
      ]
    },
    {
      "cell_type": "markdown",
      "id": "9a343526",
      "metadata": {
        "id": "9a343526"
      },
      "source": [
        "### Understanding `regplot`\n",
        "\n",
        "**`regplot`** = **reg**ression **plot**. It creates a scatter plot AND adds a best-fit line.\n",
        "\n",
        "**`scatter_kws`:** A dictionary of options for the scatter points:\n",
        "- `'alpha': 0.3` makes points very transparent\n",
        "- `'s': 40` makes points size 40\n",
        "\n",
        "**`line_kws`:** A dictionary of options for the line:\n",
        "- `'color': 'red'` makes the line red\n",
        "- `'linewidth': 2` makes it thicker\n",
        "\n",
        "**The line itself:** This is the \"best fit\" line calculated using linear regression. The line shows the overall trend - in this case, a negative relationship (higher felony % = slightly lower ROR %).\n",
        "\n",
        "### Another Important Relationship: ROR vs Detention\n",
        "\n",
        "These should be negatively related - when one goes up, the other goes down (they're competing outcomes):"
      ]
    },
    {
      "cell_type": "code",
      "execution_count": null,
      "id": "50edc913",
      "metadata": {
        "id": "50edc913"
      },
      "outputs": [],
      "source": [
        "plt.figure(figsize=(10, 8))\n",
        "\n",
        "sns.scatterplot(data=df,\n",
        "                x='pct_ror',\n",
        "                y='pct_hdob',\n",
        "                hue='period',\n",
        "                alpha=0.4,\n",
        "                s=50)\n",
        "\n",
        "plt.title(\"ROR vs Detention: A Trade-off?\", fontsize=14)\n",
        "plt.xlabel(\"Percent Released on Recognizance\", fontsize=12)\n",
        "plt.ylabel(\"Percent Held Detained on Bail\", fontsize=12)\n",
        "plt.legend(title='Period')\n",
        "plt.show()"
      ]
    },
    {
      "cell_type": "markdown",
      "id": "738acf8d",
      "metadata": {
        "lines_to_next_cell": 0,
        "id": "738acf8d"
      },
      "source": [
        "**What you should see:** A negative relationship! Counties with high ROR rates tend to have low detention rates, and vice versa. This makes sense - these are competing outcomes for the same pool of defendants.\n",
        "\n",
        "**The pre/post coloring** reveals something subtle: Post-reform, the relationship stays negative but the entire cloud shifts (higher ROR, similar detention), confirming that the reform reduced bail without increasing detention.\n",
        "\n",
        "## Part 10: Choosing the Right Plot\n",
        "\n",
        "### The Decision Tree\n",
        "\n",
        "Here's how to choose which plot type to use:\n",
        "\n",
        "**Start with: What question am I asking?**\n",
        "\n",
        "1. **\"How did [something] change over TIME?\"**\n",
        "   → Use **line plot** or **point plot**\n",
        "   - Line plot: Emphasizes continuous trend\n",
        "   - Point plot: Emphasizes individual time points and uncertainty\n",
        "\n",
        "2. **\"How do different CATEGORIES compare?\"**\n",
        "   → Use **bar chart**\n",
        "   - Best when comparing discrete groups (counties, crime types, policy periods)\n",
        "   - Use `hue` to add a second dimension of comparison\n",
        "   - Great for showing before/after comparisons\n",
        "\n",
        "3. **\"How are values DISTRIBUTED? What's typical? What's unusual?\"**\n",
        "   → Use **histogram**\n",
        "   - Add `hue=` to compare distributions across groups\n",
        "\n",
        "4. **\"How do TWO variables RELATE to each other?\"**\n",
        "   → Use **scatter plot**\n",
        "   - Add trend line with `regplot` to emphasize relationship\n",
        "   - Add `hue=` to see if relationship differs across groups\n",
        "\n",
        "### Common Mistakes\n",
        "\n",
        "**Mistake 1: Using scatter plot for time trends**"
      ]
    },
    {
      "cell_type": "code",
      "execution_count": null,
      "id": "e0b8b25f",
      "metadata": {
        "lines_to_next_cell": 0,
        "id": "e0b8b25f"
      },
      "outputs": [],
      "source": [
        "# DON'T do this for time series:\n",
        "sns.scatterplot(data=pg_data, x='months_from_reform', y='pct_ror')"
      ]
    },
    {
      "cell_type": "markdown",
      "id": "77da1270",
      "metadata": {
        "lines_to_next_cell": 0,
        "id": "77da1270"
      },
      "source": [
        "Use line plot instead! Scatter plots don't connect the dots to show the trend.\n",
        "\n",
        "**Mistake 2: Using line plot for relationship between two variables**"
      ]
    },
    {
      "cell_type": "code",
      "execution_count": null,
      "id": "5134f6d1",
      "metadata": {
        "lines_to_next_cell": 0,
        "id": "5134f6d1"
      },
      "outputs": [],
      "source": [
        "# DON'T do this for relationships:\n",
        "sns.lineplot(data=df, x='pct_felony', y='pct_ror')"
      ]
    },
    {
      "cell_type": "markdown",
      "id": "505fcff9",
      "metadata": {
        "lines_to_next_cell": 0,
        "id": "505fcff9"
      },
      "source": [
        "Use scatter plot instead! Line plots assume x-axis is ordered (like time).\n",
        "\n",
        "**Mistake 3: Too many groups in `hue`**"
      ]
    },
    {
      "cell_type": "code",
      "execution_count": null,
      "id": "784f4d9c",
      "metadata": {
        "lines_to_next_cell": 0,
        "id": "784f4d9c"
      },
      "outputs": [],
      "source": [
        "# DON'T do this - 24 different colors is unreadable:\n",
        "sns.lineplot(data=df, x='months_from_reform', y='pct_ror', hue='county')"
      ]
    },
    {
      "cell_type": "markdown",
      "id": "367d0d19",
      "metadata": {
        "lines_to_next_cell": 0,
        "id": "367d0d19"
      },
      "source": [
        "Create meaningful groupings (like size_category) instead!\n",
        "\n",
        "## Part 11: Universal Seaborn Parameters\n",
        "\n",
        "### Parameters That Work in Most Plots\n",
        "\n",
        "These parameters appear in nearly every seaborn plotting function. Master these and you can create great visualizations!\n",
        "\n",
        "**The Core Three (always required):**\n",
        "- `data=` - Which DataFrame contains your data\n",
        "- `x=` - Column name for x-axis  \n",
        "- `y=` - Column name for y-axis\n",
        "\n",
        "**The Magic One (for grouping):**\n",
        "- `hue=` - Column name to split by color/groups\n",
        "\n",
        "**Appearance:**\n",
        "- `alpha=` - Transparency (0=invisible, 1=solid)\n",
        "  - Used in: All plot types\n",
        "- `color=` - Single color for everything\n",
        "  - Example: `color='red'`, `color='#FF5733'`\n",
        "- `palette=` - Color scheme when using hue\n",
        "  - Options: 'deep', 'muted', 'bright', 'pastel', 'dark', 'colorblind'\n",
        "  - Example: `palette='colorblind'` for accessibility\n",
        "\n",
        "**Plot-specific:**\n",
        "- `marker=` - Shape of points ('o', 's', '^', 'D')\n",
        "  - Used in: lineplot, pointplot\n",
        "- `bins=` - Number of bars (usually 20-40)\n",
        "  - Used in: histplot  \n",
        "- `kde=` - Add smooth density curve (True/False)\n",
        "  - Used in: histplot\n",
        "- `s=` - Size of points (default ~50)\n",
        "  - Used in: scatterplot\n",
        "\n",
        "### Matplotlib vs Seaborn\n",
        "\n",
        "You might notice we use both `plt` (matplotlib) and `sns` (seaborn). Here's the relationship:\n",
        "\n",
        "**Seaborn:** High-level functions that create entire plots easily\n",
        "- `sns.lineplot()`, `sns.histplot()`, etc.\n",
        "- Smart defaults, automatic legends, built-in `hue` support\n",
        "\n",
        "**Matplotlib:** Lower-level control for customization\n",
        "- `plt.title()`, `plt.xlabel()`, `plt.show()`\n",
        "- `plt.figure()` to create canvas\n",
        "- `plt.axvline()` to add reference lines\n",
        "\n",
        "**The pattern:**"
      ]
    },
    {
      "cell_type": "code",
      "execution_count": null,
      "id": "f615529f",
      "metadata": {
        "id": "f615529f"
      },
      "outputs": [],
      "source": [
        "plt.figure(figsize=(12, 6))     # Matplotlib: Create canvas\n",
        "sns.lineplot(data=df, ...)      # Seaborn: Create plot\n",
        "plt.title(\"My Title\")            # Matplotlib: Add labels\n",
        "plt.xlabel(\"X Label\")\n",
        "plt.show()                       # Matplotlib: Display it"
      ]
    },
    {
      "cell_type": "markdown",
      "id": "90c82b03",
      "metadata": {
        "id": "90c82b03"
      },
      "source": [
        "## Quick Reference Card\n",
        "\n",
        "### Essential Plotting Patterns"
      ]
    },
    {
      "cell_type": "code",
      "execution_count": null,
      "id": "cb8b3156",
      "metadata": {
        "id": "cb8b3156"
      },
      "outputs": [],
      "source": [
        "# LINE PLOT - Trends over time\n",
        "plt.figure(figsize=(12, 6))\n",
        "sns.lineplot(data=df, x='time_column', y='outcome_column', hue='group_column')\n",
        "plt.title(\"Your Title\")\n",
        "plt.xlabel(\"Time\")\n",
        "plt.ylabel(\"Outcome\")\n",
        "plt.show()\n",
        "\n",
        "# POINT PLOT - Trends with emphasis on individual points\n",
        "plt.figure(figsize=(12, 6))\n",
        "sns.pointplot(data=df, x='time_column', y='outcome_column', hue='group_column')\n",
        "plt.title(\"Your Title\")\n",
        "plt.show()\n",
        "\n",
        "# BAR CHART - Comparing categories\n",
        "plt.figure(figsize=(12, 6))\n",
        "sns.barplot(data=df, x='category_column', y='value_column', hue='group_column', palette='Set2')\n",
        "plt.title(\"Comparing Categories\")\n",
        "plt.xticks(rotation=45, ha='right')  # If you have many categories\n",
        "plt.show()\n",
        "\n",
        "# HISTOGRAM - Distribution of one variable\n",
        "plt.figure(figsize=(10, 6))\n",
        "sns.histplot(data=df, x='variable', bins=30, kde=True, hue='group_column', alpha=0.6)\n",
        "plt.title(\"Distribution of Variable\")\n",
        "plt.show()\n",
        "\n",
        "# SCATTER PLOT - Relationship between two variables\n",
        "plt.figure(figsize=(10, 8))\n",
        "sns.scatterplot(data=df, x='variable1', y='variable2', hue='group', alpha=0.5, s=50)\n",
        "plt.title(\"Variable1 vs Variable2\")\n",
        "plt.show()\n",
        "\n",
        "# SCATTER WITH TREND LINE\n",
        "plt.figure(figsize=(10, 8))\n",
        "sns.regplot(data=df, x='variable1', y='variable2',\n",
        "            scatter_kws={'alpha':0.3}, line_kws={'color':'red'})\n",
        "plt.show()"
      ]
    },
    {
      "cell_type": "markdown",
      "id": "5a4c1425",
      "metadata": {
        "id": "5a4c1425"
      },
      "source": [
        "### Common Parameters"
      ]
    },
    {
      "cell_type": "code",
      "execution_count": null,
      "id": "1f3ae7c5",
      "metadata": {
        "id": "1f3ae7c5"
      },
      "outputs": [],
      "source": [
        "# Universal parameters (work in most plots)\n",
        "data = df                    # Your DataFrame\n",
        "x = 'column_name'           # X-axis column\n",
        "y = 'column_name'           # Y-axis column\n",
        "hue = 'group_column'        # Split by groups (different colors)\n",
        "alpha = 0.6                 # Transparency (0-1)\n",
        "\n",
        "# Plot-specific parameters\n",
        "marker = 'o'                # Point shape (lineplot, pointplot)\n",
        "bins = 30                   # Number of bars (histogram)\n",
        "kde = True                  # Add smooth curve (histogram)\n",
        "s = 50                      # Point size (scatterplot)"
      ]
    },
    {
      "cell_type": "markdown",
      "id": "e53a239f",
      "metadata": {
        "id": "e53a239f"
      },
      "source": [
        "### Matplotlib Customization"
      ]
    },
    {
      "cell_type": "code",
      "execution_count": null,
      "id": "f1a99f64",
      "metadata": {
        "id": "f1a99f64"
      },
      "outputs": [],
      "source": [
        "# Before creating plot\n",
        "plt.figure(figsize=(width, height))  # Canvas size in inches\n",
        "\n",
        "# After creating plot\n",
        "plt.title(\"Title\", fontsize=14, fontweight='bold')\n",
        "plt.xlabel(\"X Label\", fontsize=12)\n",
        "plt.ylabel(\"Y Label\", fontsize=12)\n",
        "plt.legend(title='Legend Title', fontsize=11)\n",
        "plt.grid(True, alpha=0.3)           # Add light grid\n",
        "plt.axvline(x=value, color='red', linestyle='--')  # Vertical line\n",
        "plt.axhline(y=value, color='red', linestyle='--')  # Horizontal line\n",
        "plt.tight_layout()                   # Prevent label cutoff\n",
        "\n",
        "# Display\n",
        "plt.show()"
      ]
    },
    {
      "cell_type": "markdown",
      "id": "f40f9779",
      "metadata": {
        "id": "f40f9779"
      },
      "source": [
        "## Hands-On Exercises\n",
        "\n",
        "Now it's your turn! Use the pretrial dataset to answer these questions with visualizations.\n",
        "\n",
        "### Exercise 1: County Comparison (Line Plot with Hue)\n",
        "\n",
        "Compare ROR trends over time for three specific large counties: Prince Georges, Baltimore County, and Anne Arundel.\n",
        "\n",
        "**Steps:**\n",
        "1. Filter the data to just these three counties\n",
        "2. Create a line plot with `hue='county'`\n",
        "3. Add appropriate labels and a reform reference line\n",
        "4. Write 2-3 sentences interpreting what you see"
      ]
    },
    {
      "cell_type": "code",
      "execution_count": null,
      "id": "e58fb5ad",
      "metadata": {
        "id": "e58fb5ad"
      },
      "outputs": [],
      "source": [
        "# Your code here"
      ]
    },
    {
      "cell_type": "markdown",
      "id": "aad2ea88",
      "metadata": {
        "id": "aad2ea88"
      },
      "source": [
        "### Exercise 2: Understanding Distributions (Histograms)\n",
        "\n",
        "Create two histograms to explore the distribution of `pct_hwob` (traditional bail):\n",
        "\n",
        "**Part A:** Show the distribution for all county-months with `kde=True`\n",
        "\n",
        "**Part B:** Add `hue='period'` to compare pre and post-reform distributions\n",
        "\n",
        "**Question to answer:** Did the reform significantly change how often judges set traditional bail? How can you tell from the histograms?"
      ]
    },
    {
      "cell_type": "code",
      "execution_count": null,
      "id": "bc2874db",
      "metadata": {
        "id": "bc2874db"
      },
      "outputs": [],
      "source": [
        "# Your code here"
      ]
    },
    {
      "cell_type": "markdown",
      "id": "97151e17",
      "metadata": {
        "id": "97151e17"
      },
      "source": [
        "### Exercise 3: Exploring Relationships (Scatter Plots)\n",
        "\n",
        "Investigate whether there's a relationship between `pct_felony` and `pct_hdob` (detention rate).\n",
        "\n",
        "**Steps:**\n",
        "1. Create a scatter plot with these two variables\n",
        "2. Add `hue='size_category'` to color by county size\n",
        "3. Add a trend line using `regplot`\n",
        "\n",
        "**Question to answer:** Do counties with more felony cases tend to detain more people? Does this relationship differ between large and small counties?"
      ]
    },
    {
      "cell_type": "code",
      "execution_count": null,
      "id": "5e1a4b9d",
      "metadata": {
        "id": "5e1a4b9d"
      },
      "outputs": [],
      "source": [
        "# Your code here"
      ]
    },
    {
      "cell_type": "markdown",
      "id": "c93ecb5d",
      "metadata": {
        "id": "c93ecb5d"
      },
      "source": [
        "### Exercise 4: Before and After Analysis (Your Choice of Plot Type)\n",
        "\n",
        "**The question:** Did the reform have an immediate effect, or did it take time for judges to change their behavior?\n",
        "\n",
        "**Hint:** You'll want to compare the first 3 months after reform (months_from_reform 0, 1, 2) to the period 6-9 months after reform (months 6, 7, 8, 9).\n",
        "\n",
        "**Your job:**\n",
        "1. Decide which plot type best answers this question\n",
        "2. Filter the data appropriately  \n",
        "3. Create the visualization\n",
        "4. Write a paragraph explaining what you found"
      ]
    },
    {
      "cell_type": "code",
      "execution_count": null,
      "id": "69c505f3",
      "metadata": {
        "id": "69c505f3"
      },
      "outputs": [],
      "source": [
        "# Your code here"
      ]
    },
    {
      "cell_type": "markdown",
      "id": "7de635e9",
      "metadata": {
        "id": "7de635e9"
      },
      "source": [
        "### Exercise 5: County-Level Deep Dive\n",
        "\n",
        "Pick ANY Maryland county that interests you and create a comprehensive visualization report:\n",
        "\n",
        "**Required plots:**\n",
        "1. Line plot showing how ROR, HDOB, and HWOB changed over time in this county (three lines on one plot)\n",
        "2. Histogram showing the distribution of one outcome variable (your choice)\n",
        "3. One additional plot that reveals something interesting about this county\n",
        "\n",
        "**Write:** A 3-4 sentence summary of what makes this county's pattern interesting or unusual."
      ]
    },
    {
      "cell_type": "code",
      "execution_count": null,
      "id": "761d4014",
      "metadata": {
        "id": "761d4014"
      },
      "outputs": [],
      "source": [
        "# Your code here"
      ]
    },
    {
      "cell_type": "markdown",
      "id": "7c945e08",
      "metadata": {
        "id": "7c945e08"
      },
      "source": [
        "### Exercise 6: Bar Chart Comparison (Groupby and Visualization)\n",
        "\n",
        "**The question:** How did the average detention rate (HDOB) change across different county sizes?\n",
        "\n",
        "**Your tasks:**\n",
        "1. Use groupby to calculate the average `pct_hdob` for each combination of `size_category` (Large County vs Small County) and `period` (Pre-Reform vs Post-Reform)\n",
        "2. Create a bar chart with `size_category` on the x-axis and `hue='period'`\n",
        "3. Add appropriate labels, title, and formatting\n",
        "4. Write 2-3 sentences interpreting: Did large counties change their detention practices differently than small counties after the reform?"
      ]
    },
    {
      "cell_type": "code",
      "execution_count": null,
      "id": "f6d13ec4",
      "metadata": {
        "id": "f6d13ec4"
      },
      "outputs": [],
      "source": [
        "# Your code here"
      ]
    },
    {
      "cell_type": "markdown",
      "id": "fc491cd7",
      "metadata": {
        "id": "fc491cd7"
      },
      "source": [
        "**Bonus challenge:** Create a second bar chart that shows the same data but with `period` on the x-axis and `hue='size_category'`. Which perspective tells the story more clearly?\n",
        "\n",
        "### Exercise 7: Advanced Challenge - Multiple Subplots\n",
        "\n",
        "Create a figure with 4 subplots arranged in a 2x2 grid:\n",
        "- Top left: ROR trends for large vs small counties  \n",
        "- Top right: HDOB trends for large vs small counties\n",
        "- Bottom left: Distribution of ROR rates pre-reform\n",
        "- Bottom right: Distribution of ROR rates post-reform\n",
        "\n",
        "**Hint:** Use `plt.subplot()` or search for \"matplotlib subplots\" with AI assistance!"
      ]
    },
    {
      "cell_type": "code",
      "execution_count": null,
      "id": "d467bba9",
      "metadata": {
        "id": "d467bba9"
      },
      "outputs": [],
      "source": [
        "# Your code here"
      ]
    },
    {
      "cell_type": "markdown",
      "id": "024db160",
      "metadata": {
        "id": "024db160"
      },
      "source": [
        "## Before Next Class\n",
        "\n",
        "**1. Practice with Your Own Questions:**\n",
        "   - Think of a question about the pretrial data\n",
        "   - Decide which plot type would answer it\n",
        "   - Create the visualization\n",
        "   - Write what story it tells\n",
        "\n",
        "**2. Experiment with Parameters:**\n",
        "   - Try different values for `bins`, `alpha`, `s`\n",
        "   - Try different color palettes: `palette='colorblind'`, `palette='pastel'`\n",
        "   - See what happens when you add or remove `kde=True`\n",
        "\n",
        "**3. Use AI for Learning:**\n",
        "   - When you get stuck, copy your code and ask: \"Why isn't this working?\"\n",
        "   - Try: \"How would I modify this plot to show X instead of Y?\"\n",
        "   - Ask: \"What does the [parameter name] parameter do in this function?\"\n",
        "\n",
        "**4. Prepare for Code Review:**\n",
        "\n",
        "You should be able to:\n",
        "- Explain why you chose a specific plot type\n",
        "- Describe what each parameter in your code does\n",
        "- Interpret what your visualization reveals\n",
        "- Modify your code when asked (e.g., \"change the hue to period instead of county\")\n",
        "- Explain the difference between line plots, point plots, bar charts, histograms, and scatter plots\n",
        "- Use groupby to prepare data for bar charts\n",
        "- Explain when to use `order=` to sort categories in bar charts\n",
        "\n",
        "**5. Read About Visualization:**\n",
        "   - [Data Visualization Guide](https://clauswilke.com/dataviz/) - Excellent free online book\n",
        "   - Seaborn Gallery: https://seaborn.pydata.org/examples/index.html - Browse examples!\n",
        "\n",
        "## Common Errors and How to Fix Them\n",
        "\n",
        "### Error 1: \"NameError: name 'df' is not defined\"\n",
        "**Cause:** Forgot to load the data or ran cells out of order\n",
        "**Fix:** Run the cell that loads the data first!\n",
        "\n",
        "### Error 2: \"KeyError: 'column_name'\"\n",
        "**Cause:** Misspelled column name or it doesn't exist\n",
        "**Fix:** Check `df.columns` to see exact column names, copy-paste them\n",
        "\n",
        "### Error 3: Overlapping labels or cut-off text\n",
        "**Cause:** Matplotlib didn't auto-adjust spacing\n",
        "**Fix:** Add `plt.tight_layout()` before `plt.show()`\n",
        "\n",
        "### Error 4: Plot appears but is tiny/huge\n",
        "**Cause:** Didn't set figure size\n",
        "**Fix:** Add `plt.figure(figsize=(12, 6))` before the plot command\n",
        "\n",
        "### Error 5: \"ValueError: could not convert string to float\"\n",
        "**Cause:** Trying to plot a text column as numbers\n",
        "**Fix:** Check that your x and y columns actually contain numbers\n",
        "\n",
        "### Error 6: Too many colors in legend\n",
        "**Cause:** Used `hue` with a column that has too many unique values\n",
        "**Fix:** Create a grouping variable with fewer categories first\n",
        "\n",
        "## Key Takeaways\n",
        "\n",
        "Today you learned:\n",
        "\n",
        "1. **Visualization reveals patterns** that tables of numbers hide - our brains are wired for visual pattern recognition\n",
        "\n",
        "2. **Different plot types answer different questions:**\n",
        "   - Line/point plots → trends over time\n",
        "   - Bar charts → comparing categories and groups\n",
        "   - Histograms → distributions of values\n",
        "   - Scatter plots → relationships between variables\n",
        "\n",
        "3. **The `hue` parameter is magical** - it splits your data into colored groups automatically\n",
        "\n",
        "4. **Seaborn has consistent patterns** - data, x, y, hue appear in most functions\n",
        "\n",
        "5. **Good visualizations need context** - always add titles, axis labels, legends, and reference lines\n",
        "\n",
        "6. **The bail reform story emerges clearly** from these visualizations - ROR increased, traditional bail decreased, detention stayed stable\n",
        "\n",
        "7. **Groupby and visualization work together** - use groupby to prepare aggregated data, then visualize it to reveal patterns\n",
        "\n",
        "Remember: The goal isn't to make pretty pictures. The goal is to **tell a story** that helps people understand patterns in data and make better policy decisions!"
      ]
    }
  ],
  "metadata": {
    "jupytext": {
      "cell_metadata_filter": "-all",
      "main_language": "python",
      "notebook_metadata_filter": "-all"
    },
    "kernelspec": {
      "display_name": "clue",
      "language": "python",
      "name": "clue"
    },
    "language_info": {
      "codemirror_mode": {
        "name": "ipython",
        "version": 3
      },
      "file_extension": ".py",
      "mimetype": "text/x-python",
      "name": "python",
      "nbconvert_exporter": "python",
      "pygments_lexer": "ipython3",
      "version": "3.10.18"
    },
    "colab": {
      "provenance": []
    }
  },
  "nbformat": 4,
  "nbformat_minor": 5
}