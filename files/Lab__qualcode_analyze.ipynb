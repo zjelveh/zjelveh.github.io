{
 "cells": [
  {
   "cell_type": "code",
   "execution_count": null,
   "id": "95d48850-b204-419b-aa69-f22edd22f0f6",
   "metadata": {},
   "outputs": [],
   "source": [
    "# Import required libraries\n",
    "import pandas as pd\n",
    "import numpy as np\n",
    "import matplotlib.pyplot as plt\n",
    "import seaborn as sns\n",
    "from sklearn.manifold import TSNE\n",
    "from sentence_transformers import SentenceTransformer\n",
    "from IPython.core.interactiveshell import InteractiveShell\n",
    "InteractiveShell.ast_node_interactivity = \"all\""
   ]
  },
  {
   "cell_type": "code",
   "execution_count": null,
   "id": "7ab4b4b5-85f9-427b-8ed4-c892726773e9",
   "metadata": {},
   "outputs": [],
   "source": [
    "# Set seaborn style for all plots\n",
    "sns.set(style=\"whitegrid\")"
   ]
  },
  {
   "cell_type": "code",
   "execution_count": null,
   "id": "a96d6ca1-5916-4ee1-91c2-14b012ab7fcb",
   "metadata": {},
   "outputs": [],
   "source": [
    "# Load the datasets for all models\n",
    "df_70b = pd.read_csv('https://zjelveh.github.io/files/llm_coded_sample_deepseek-r1-distill-llama-70b.csv')\n",
    "df_8b = pd.read_csv('https://zjelveh.github.io/files/llm_coded_sample_llama-3.1-8b-instant.csv')\n",
    "df_1b = pd.read_csv('https://zjelveh.github.io/files/llm_coded_sample_llama-3.2-1b-preview.csv')\n"
   ]
  },
  {
   "cell_type": "code",
   "execution_count": null,
   "id": "af82e411-aafe-4e0a-be21-a49075cbf34b",
   "metadata": {},
   "outputs": [],
   "source": [
    "# Add model identifiers\n",
    "df_70b['model'] = 'DeepSeek-70B'\n",
    "df_8b['model'] = 'Llama-3.1-8B'\n",
    "df_1b['model'] = 'Llama-3.2-1B'"
   ]
  },
  {
   "cell_type": "code",
   "execution_count": null,
   "id": "aeee74fa-7bd9-42a1-bbde-91d2969d646c",
   "metadata": {},
   "outputs": [],
   "source": [
    "df_8b.shape\n",
    "\n",
    "keep_1b_codes = df_8b.code.value_counts()[(df_8b.code.value_counts()>20)].index\n",
    "df_8b = df_8b[df_8b.code.isin(keep_1b_codes)]\n",
    "df_8b.shape"
   ]
  },
  {
   "cell_type": "code",
   "execution_count": null,
   "id": "d4493f70-8998-4e1e-b881-0269b94ec90f",
   "metadata": {},
   "outputs": [],
   "source": [
    "# Merge datasets for comparison\n",
    "all_data = pd.concat([df_70b, df_8b])\n",
    "\n",
    "# 1. Basic Stats - Code Count by Model\n",
    "code_counts = all_data.groupby(['model', 'code']).size().reset_index(name='count')\n",
    "\n",
    "plt.figure(figsize=(14, 8))\n",
    "sns.barplot(\n",
    "    data=code_counts, \n",
    "    x=\"code\", y=\"count\", hue=\"model\",\n",
    "    palette=\"deep\", alpha=.8\n",
    ")\n",
    "plt.xticks(rotation=45, ha=\"right\")\n",
    "plt.title('Code Assignment Frequency by Model')\n",
    "plt.tight_layout()\n",
    "# plt.savefig('code_distribution.png')"
   ]
  },
  {
   "cell_type": "code",
   "execution_count": null,
   "id": "767a3bc3-3f4a-42f6-ac6c-d6c3cdfdb39b",
   "metadata": {},
   "outputs": [],
   "source": [
    "# 2. Compare Codes \n",
    "\n",
    "both = df_8b.merge(df_70b, on=['uid'], suffixes=['_llama', '_deepseek'])\n",
    "\n",
    "crosstab = pd.crosstab(both.code_llama, both.code_deepseek, normalize='index')\n",
    "\n",
    "# Apply styling with a colormap\n",
    "styled_crosstab = crosstab.style.background_gradient(\n",
    "    cmap='YlGnBu',       # Yellow-Green-Blue color palette\n",
    "    axis=None,           # Apply across the entire table\n",
    "    vmin=0,              # Minimum value for color scale\n",
    "    vmax=crosstab.max().max(),  # Maximum value for color scale\n",
    "    text_color_threshold=0.5    # Use white text for dark backgrounds\n",
    ").format(\"{:.2f}\")       # Format as 2 decimal places\n",
    "\n",
    "# Display the styled DataFrame\n",
    "styled_crosstab\n",
    "\n",
    "crosstab = pd.crosstab(both.code_deepseek, both.code_llama, normalize='index')\n",
    "\n",
    "# Apply styling with a colormap\n",
    "styled_crosstab = crosstab.style.background_gradient(\n",
    "    cmap='YlGnBu',       # Yellow-Green-Blue color palette\n",
    "    axis=None,           # Apply across the entire table\n",
    "    vmin=0,              # Minimum value for color scale\n",
    "    vmax=crosstab.max().max(),  # Maximum value for color scale\n",
    "    text_color_threshold=0.5    # Use white text for dark backgrounds\n",
    ").format(\"{:.2f}\")       # Format as 2 decimal places\n",
    "\n",
    "# Display the styled DataFrame\n",
    "styled_crosstab"
   ]
  },
  {
   "cell_type": "code",
   "execution_count": null,
   "id": "c1682fb0-cf05-4e80-8bb6-707fa2a297ea",
   "metadata": {},
   "outputs": [],
   "source": [
    "# 3. Confidence Analysis by Code\n",
    "plt.figure(figsize=(10, 6))\n",
    "sns.boxplot(\n",
    "    data=all_data, \n",
    "    x=\"code\", y=\"confidence\", hue=\"model\",\n",
    "    palette=\"Set2\",\n",
    "    order=sorted(all_data['code'].unique())  # Explicitly set order\n",
    ")\n",
    "plt.title('Confidence Distribution by Code and Model')\n",
    "plt.xticks(rotation=45, ha=\"right\")\n",
    "plt.tight_layout();\n",
    "# plt.savefig('confidence_boxplot.png')"
   ]
  },
  {
   "cell_type": "code",
   "execution_count": null,
   "id": "5ae0cabb-1f9b-43cb-802f-0a81bde112aa",
   "metadata": {},
   "outputs": [],
   "source": [
    "# 4. Reasoning Content Similarity - Embedding Analysis with all data\n",
    "# Create embeddings\n",
    "model = SentenceTransformer('all-MiniLM-L6-v2')\n",
    "embeddings_70b = model.encode(df_70b['reasoning'].tolist())\n",
    "embeddings_1b = model.encode(df_8b['reasoning'].tolist())\n",
    "\n",
    "\n",
    "# Compute cosine similarity\n",
    "df_emb_70b = pd.DataFrame(embeddings_70b)\n",
    "df_emb_1b = pd.DataFrame(embeddings_1b)\n",
    "\n",
    "df_emb_70b['uid'] = df_70b.uid\n",
    "df_emb_1b['uid'] = df_8b.uid\n",
    "\n",
    "df_emb_70b = df_emb_70b.groupby(['uid']).mean().reset_index()\n",
    "df_emb_1b = df_emb_1b.groupby(['uid']).mean().reset_index()\n",
    "\n",
    "df_emb_70b = df_emb_70b[df_emb_70b.uid.isin(df_emb_1b.uid)]\n",
    "df_emb_1b = df_emb_1b[df_emb_1b.uid.isin(df_emb_70b.uid)]\n",
    "\n",
    "numerator = (df_emb_70b.iloc[:, 1:].values * df_emb_1b.iloc[:, 1:].values).sum(1)\n",
    "denominator = (df_emb_70b.iloc[:, 1:]**2).values.sum(1) *(df_emb_1b.iloc[:, 1:]**2).values.sum(1)\n",
    "denominator = denominator ** .5\n",
    "\n",
    "cos_sim = pd.DataFrame({'uid' : df_emb_70b.uid,\n",
    "                        'cos_sim' : numerator / denominator})\n",
    "\n",
    "\n",
    "df_70b_cs = df_70b.merge(cos_sim, on=['uid'])\n",
    "df_8b_cs = df_8b.merge(cos_sim, on=['uid'])\n",
    "\n",
    "df_70b_cs.groupby(['code']).cos_sim.mean().reset_index()\n",
    "df_8b_cs.groupby(['code']).cos_sim.mean().reset_index()"
   ]
  },
  {
   "cell_type": "code",
   "execution_count": null,
   "id": "ea67b6bd-14ae-411c-ac9d-4520bc684c89",
   "metadata": {},
   "outputs": [],
   "source": [
    "# 5 Coherence\n",
    "from sklearn.metrics.pairwise import cosine_similarity\n",
    "\n",
    "# For each code assigned by a model, measure the semantic similarity \n",
    "# between all posts assigned that code\n",
    "\n",
    "def measure_code_coherence(df, model_name):\n",
    "    \"\"\"Measure how semantically similar posts within each code are\"\"\"\n",
    "    codes = df['code'].unique()\n",
    "    results = []\n",
    "    \n",
    "    for code in codes:\n",
    "        # Get embeddings for all posts with this code\n",
    "        code_posts = df[df['code'] == code]['reasoning'].tolist()\n",
    "        if len(code_posts) < 2:\n",
    "            continue\n",
    "            \n",
    "        # Generate embeddings\n",
    "        embeddings = model.encode(code_posts)\n",
    "        \n",
    "        # Calculate pairwise similarities\n",
    "        similarities = []\n",
    "        for i in range(len(embeddings)):\n",
    "            for j in range(i+1, len(embeddings)):\n",
    "                sim = cosine_similarity([embeddings[i]], [embeddings[j]])[0][0]\n",
    "                similarities.append(sim)\n",
    "        \n",
    "        avg_similarity = np.mean(similarities)\n",
    "        results.append({\n",
    "            'model': model_name,\n",
    "            'code': code,\n",
    "            'coherence': avg_similarity,\n",
    "            'n_posts': len(code_posts)\n",
    "        })\n",
    "    \n",
    "    return pd.DataFrame(results)\n",
    "\n",
    "# Compare thematic coherence within each model's codes\n",
    "deepseek_coherence = measure_code_coherence(df_70b, 'DeepSeek-70B')\n",
    "llama_coherence = measure_code_coherence(df_8b, 'Llama-8B')"
   ]
  },
  {
   "cell_type": "code",
   "execution_count": null,
   "id": "c1fd0cf6-97dd-4b7d-a348-45513883d458",
   "metadata": {},
   "outputs": [],
   "source": [
    "deepseek_coherence.sort_values('coherence')\n",
    "llama_coherence.sort_values('coherence')"
   ]
  }
 ],
 "metadata": {
  "kernelspec": {
   "display_name": "Python 3 (ipykernel)",
   "language": "python",
   "name": "python3"
  },
  "language_info": {
   "codemirror_mode": {
    "name": "ipython",
    "version": 3
   },
   "file_extension": ".py",
   "mimetype": "text/x-python",
   "name": "python",
   "nbconvert_exporter": "python",
   "pygments_lexer": "ipython3",
   "version": "3.8.10"
  }
 },
 "nbformat": 4,
 "nbformat_minor": 5
}
